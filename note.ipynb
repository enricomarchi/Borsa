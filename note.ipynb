{
 "cells": [
  {
   "cell_type": "code",
   "execution_count": null,
   "id": "611bb4ab",
   "metadata": {},
   "outputs": [],
   "source": [
    "print(\"Scrittura risultati su file parquet\")\n",
    "import os\n",
    "test_loss, test_mae = model.evaluate(X_test, Y_test)\n",
    "if os.path.exists('metriche.parquet'):\n",
    "    metriche = pd.read_parquet(\"metriche.parquet\")\n",
    "else:\n",
    "    metriche = pd.DataFrame()\n",
    "nuova_riga_metriche = pd.DataFrame([{\n",
    "    \"epochs\": epochs,\n",
    "    \"batch_size\": batch_size,\n",
    "    \"learning_rate\": learning_rate,\n",
    "    \"n_timesteps\": n_timesteps,\n",
    "    \"giorni_previsione\": giorni_previsione,\n",
    "    \"test_loss\": test_loss,\n",
    "    \"test_mae\": test_mae\n",
    "}])\n",
    "for i, layer in enumerate(model.layers):\n",
    "    config = layer.get_config()\n",
    "    kernel_regularizer_config = config.get('kernel_regularizer', None)\n",
    "    str_temp = f\"{type(layer).__name__}\"    \n",
    "    if 'units' in config:\n",
    "        str_temp += f\", units({config['units']})\"\n",
    "    if 'rate' in config:\n",
    "        str_temp += f\", rate({config['rate']})\" \n",
    "    if kernel_regularizer_config:\n",
    "        class_name = kernel_regularizer_config.get('class_name', None)\n",
    "        if class_name:\n",
    "            str_temp += f\", reg({class_name})\" \n",
    "    nuova_riga_metriche[f\"Layer_{i+1}\"] = str_temp\n",
    "metriche = pd.concat([metriche, nuova_riga_metriche], ignore_index=True)\n",
    "metriche.to_parquet(\"metriche.parquet\")"
   ]
  },
  {
   "cell_type": "code",
   "execution_count": null,
   "id": "0a93139e",
   "metadata": {},
   "outputs": [],
   "source": [
    "metriche"
   ]
  }
 ],
 "metadata": {
  "kernelspec": {
   "display_name": "Python 3 (ipykernel)",
   "language": "python",
   "name": "python3"
  },
  "language_info": {
   "codemirror_mode": {
    "name": "ipython",
    "version": 3
   },
   "file_extension": ".py",
   "mimetype": "text/x-python",
   "name": "python",
   "nbconvert_exporter": "python",
   "pygments_lexer": "ipython3",
   "version": "3.11.3"
  }
 },
 "nbformat": 4,
 "nbformat_minor": 5
}
