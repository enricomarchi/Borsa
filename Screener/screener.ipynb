{
 "cells": [
  {
   "cell_type": "code",
   "execution_count": 1,
   "id": "eb9c112d",
   "metadata": {
    "scrolled": true
   },
   "outputs": [],
   "source": [
    "import pandas as pd\n",
    "import funzioni as fx\n",
    "import numpy as np\n",
    "import yfinance as yf\n",
    "import logging\n",
    "\n",
    "# Ottieni il logger per 'yfinance' e imposta il suo livello a ERROR\n",
    "yf_logger = logging.getLogger('yfinance')\n",
    "yf_logger.setLevel(logging.ERROR)\n",
    "\n",
    "model = fx.importa_modello(\"../Dati_borsa/Dati_addestramento/RF_est1000/Modello_RF_est1000.joblib\")\n",
    "model.verbose = 0"
   ]
  },
  {
   "cell_type": "code",
   "execution_count": 6,
   "id": "8837be38",
   "metadata": {
    "scrolled": true
   },
   "outputs": [
    {
     "name": "stdout",
     "output_type": "stream",
     "text": [
      "441 di 5220) Caricamento ticker AHL^PRC   "
     ]
    },
    {
     "name": "stderr",
     "output_type": "stream",
     "text": [
      "\n",
      "1 Failed download:\n",
      "['AHL^PRC']: Exception('%ticker%: No data found, symbol may be delisted')\n"
     ]
    },
    {
     "name": "stdout",
     "output_type": "stream",
     "text": [
      "477 di 5220) Caricamento ticker ATCO^PRH "
     ]
    },
    {
     "name": "stderr",
     "output_type": "stream",
     "text": [
      "\n",
      "1 Failed download:\n",
      "['ATCO^PRH']: Exception('%ticker%: No data found, symbol may be delisted')\n"
     ]
    },
    {
     "name": "stdout",
     "output_type": "stream",
     "text": [
      "\r",
      "478 di 5220) Caricamento ticker ATCO^PRD "
     ]
    },
    {
     "name": "stderr",
     "output_type": "stream",
     "text": [
      "\n",
      "1 Failed download:\n",
      "['ATCO^PRD']: Exception('%ticker%: No data found, symbol may be delisted')\n"
     ]
    },
    {
     "name": "stdout",
     "output_type": "stream",
     "text": [
      "480 di 5220) Caricamento ticker AFH  "
     ]
    },
    {
     "name": "stderr",
     "output_type": "stream",
     "text": [
      "\n",
      "1 Failed download:\n",
      "['AFH']: Exception('%ticker%: No data found, symbol may be delisted')\n"
     ]
    },
    {
     "name": "stdout",
     "output_type": "stream",
     "text": [
      "497 di 5220) Caricamento ticker DPW  "
     ]
    },
    {
     "name": "stderr",
     "output_type": "stream",
     "text": [
      "\n",
      "1 Failed download:\n",
      "['DPW']: Exception('%ticker%: No data found, symbol may be delisted')\n"
     ]
    },
    {
     "name": "stdout",
     "output_type": "stream",
     "text": [
      "530 di 5220) Caricamento ticker AVA  "
     ]
    },
    {
     "name": "stderr",
     "output_type": "stream",
     "text": [
      "\n",
      "1 Failed download:\n",
      "['AVA']: Exception(\"The following 'Dividends' events are out-of-range, did not expect with interval 1d: DatetimeIndex(['2022-08-18 00:00:00-04:00', '2022-11-17 00:00:00-05:00',\\n               '2023-02-16 00:00:00-05:00', '2023-05-25 00:00:00-04:00',\\n               '2023-08-17 00:00:00-04:00'],\\n              dtype='datetime64[ns, America/New_York]', freq=None)\")\n"
     ]
    },
    {
     "name": "stdout",
     "output_type": "stream",
     "text": [
      "571 di 5220) Caricamento ticker BBAR   "
     ]
    },
    {
     "name": "stderr",
     "output_type": "stream",
     "text": [
      "\n",
      "1 Failed download:\n",
      "['BBAR']: Exception(\"The following 'Dividends' events are out-of-range, did not expect with interval 1d: DatetimeIndex(['2022-08-18 00:00:00-04:00', '2022-09-23 00:00:00-04:00',\\n               '2022-10-21 00:00:00-04:00', '2022-11-23 00:00:00-05:00',\\n               '2022-12-23 00:00:00-05:00', '2023-07-21 00:00:00-04:00',\\n               '2023-08-11 00:00:00-04:00'],\\n              dtype='datetime64[ns, America/New_York]', freq=None)\")\n"
     ]
    },
    {
     "name": "stdout",
     "output_type": "stream",
     "text": [
      "577 di 5220) Caricamento ticker BMA  "
     ]
    },
    {
     "name": "stderr",
     "output_type": "stream",
     "text": [
      "\n",
      "1 Failed download:\n",
      "['BMA']: Exception(\"The following 'Dividends' events are out-of-range, did not expect with interval 1d: DatetimeIndex(['2022-08-18 00:00:00-04:00', '2022-09-23 00:00:00-04:00',\\n               '2022-10-21 00:00:00-04:00', '2022-11-23 00:00:00-05:00',\\n               '2022-12-23 00:00:00-05:00', '2023-07-17 00:00:00-04:00',\\n               '2023-07-19 00:00:00-04:00', '2023-08-04 00:00:00-04:00',\\n               '2023-08-17 00:00:00-04:00'],\\n              dtype='datetime64[ns, America/New_York]', freq=None)\")\n"
     ]
    },
    {
     "name": "stdout",
     "output_type": "stream",
     "text": [
      "606 di 5220) Caricamento ticker BBSI  "
     ]
    },
    {
     "name": "stderr",
     "output_type": "stream",
     "text": [
      "\n",
      "1 Failed download:\n",
      "['BBSI']: Exception(\"The following 'Dividends' events are out-of-range, did not expect with interval 1d: DatetimeIndex(['2022-08-18 00:00:00-04:00', '2022-11-17 00:00:00-05:00',\\n               '2023-03-16 00:00:00-04:00', '2023-05-18 00:00:00-04:00',\\n               '2023-08-17 00:00:00-04:00'],\\n              dtype='datetime64[ns, America/New_York]', freq=None)\")\n"
     ]
    },
    {
     "name": "stdout",
     "output_type": "stream",
     "text": [
      "609 di 5220) Caricamento ticker BBWI "
     ]
    },
    {
     "name": "stderr",
     "output_type": "stream",
     "text": [
      "\n",
      "1 Failed download:\n",
      "['BBWI']: Exception(\"The following 'Dividends' events are out-of-range, did not expect with interval 1d: DatetimeIndex(['2022-08-18 00:00:00-04:00', '2022-11-17 00:00:00-05:00',\\n               '2023-02-16 00:00:00-05:00', '2023-06-01 00:00:00-04:00',\\n               '2023-08-17 00:00:00-04:00'],\\n              dtype='datetime64[ns, America/New_York]', freq=None)\")\n"
     ]
    },
    {
     "name": "stdout",
     "output_type": "stream",
     "text": [
      "638 di 5220) Caricamento ticker BRK^B "
     ]
    },
    {
     "name": "stderr",
     "output_type": "stream",
     "text": [
      "\n",
      "1 Failed download:\n",
      "['BRK^B']: Exception('%ticker%: No data found, symbol may be delisted')\n"
     ]
    },
    {
     "name": "stdout",
     "output_type": "stream",
     "text": [
      "666 di 5220) Caricamento ticker BIO^B "
     ]
    },
    {
     "name": "stderr",
     "output_type": "stream",
     "text": [
      "\n",
      "1 Failed download:\n",
      "['BIO^B']: Exception('%ticker%: No data found, symbol may be delisted')\n"
     ]
    },
    {
     "name": "stdout",
     "output_type": "stream",
     "text": [
      "800 di 5220) Caricamento ticker BF^B      "
     ]
    },
    {
     "name": "stderr",
     "output_type": "stream",
     "text": [
      "\n",
      "1 Failed download:\n",
      "['BF^B']: Exception('%ticker%: No data found, symbol may be delisted')\n"
     ]
    },
    {
     "name": "stdout",
     "output_type": "stream",
     "text": [
      "\r",
      "801 di 5220) Caricamento ticker BF^A "
     ]
    },
    {
     "name": "stderr",
     "output_type": "stream",
     "text": [
      "\n",
      "1 Failed download:\n",
      "['BF^A']: Exception('%ticker%: No data found, symbol may be delisted')\n"
     ]
    },
    {
     "name": "stdout",
     "output_type": "stream",
     "text": [
      "813 di 5220) Caricamento ticker BG   "
     ]
    },
    {
     "name": "stderr",
     "output_type": "stream",
     "text": [
      "\n",
      "1 Failed download:\n",
      "['BG']: Exception(\"The following 'Dividends' events are out-of-range, did not expect with interval 1d: DatetimeIndex(['2022-08-18 00:00:00-04:00', '2022-11-17 00:00:00-05:00',\\n               '2023-02-15 00:00:00-05:00', '2023-05-18 00:00:00-04:00',\\n               '2023-08-17 00:00:00-04:00'],\\n              dtype='datetime64[ns, America/New_York]', freq=None)\")\n"
     ]
    },
    {
     "name": "stdout",
     "output_type": "stream",
     "text": [
      "821 di 5220) Caricamento ticker BWXT "
     ]
    },
    {
     "name": "stderr",
     "output_type": "stream",
     "text": [
      "\n",
      "1 Failed download:\n",
      "['BWXT']: Exception(\"The following 'Dividends' events are out-of-range, did not expect with interval 1d: DatetimeIndex(['2022-08-18 00:00:00-04:00', '2022-11-18 00:00:00-05:00',\\n               '2023-03-09 00:00:00-05:00', '2023-05-18 00:00:00-04:00',\\n               '2023-08-16 00:00:00-04:00'],\\n              dtype='datetime64[ns, America/New_York]', freq=None)\")\n"
     ]
    },
    {
     "name": "stdout",
     "output_type": "stream",
     "text": [
      "918 di 5220) Caricamento ticker CPAR   "
     ]
    },
    {
     "name": "stderr",
     "output_type": "stream",
     "text": [
      "\n",
      "1 Failed download:\n",
      "['CPAR']: Exception('%ticker%: No data found, symbol may be delisted')\n"
     ]
    },
    {
     "name": "stdout",
     "output_type": "stream",
     "text": [
      "925 di 5220) Caricamento ticker CBFV "
     ]
    },
    {
     "name": "stderr",
     "output_type": "stream",
     "text": [
      "\n",
      "1 Failed download:\n",
      "['CBFV']: Exception(\"The following 'Dividends' events are out-of-range, did not expect with interval 1d: DatetimeIndex(['2022-08-18 00:00:00-04:00', '2022-11-17 00:00:00-05:00',\\n               '2023-02-14 00:00:00-05:00', '2023-05-12 00:00:00-04:00',\\n               '2023-08-14 00:00:00-04:00'],\\n              dtype='datetime64[ns, America/New_York]', freq=None)\")\n"
     ]
    },
    {
     "name": "stdout",
     "output_type": "stream",
     "text": [
      "932 di 5220) Caricamento ticker CBTX "
     ]
    },
    {
     "name": "stderr",
     "output_type": "stream",
     "text": [
      "\n",
      "1 Failed download:\n",
      "['CBTX']: Exception('%ticker%: No data found, symbol may be delisted')\n"
     ]
    },
    {
     "name": "stdout",
     "output_type": "stream",
     "text": [
      "949 di 5220) Caricamento ticker CIG^C "
     ]
    },
    {
     "name": "stderr",
     "output_type": "stream",
     "text": [
      "\n",
      "1 Failed download:\n",
      "['CIG^C']: Exception('%ticker%: No data found, symbol may be delisted')\n"
     ]
    },
    {
     "name": "stdout",
     "output_type": "stream",
     "text": [
      "957 di 5220) Caricamento ticker EBR^B "
     ]
    },
    {
     "name": "stderr",
     "output_type": "stream",
     "text": [
      "\n",
      "1 Failed download:\n",
      "['EBR^B']: Exception('%ticker%: No data found, symbol may be delisted')\n"
     ]
    },
    {
     "name": "stdout",
     "output_type": "stream",
     "text": [
      "1003 di 5220) Caricamento ticker CVX   "
     ]
    },
    {
     "name": "stderr",
     "output_type": "stream",
     "text": [
      "\n",
      "1 Failed download:\n",
      "['CVX']: Exception(\"The following 'Dividends' events are out-of-range, did not expect with interval 1d: DatetimeIndex(['2022-08-18 00:00:00-04:00', '2022-11-17 00:00:00-05:00',\\n               '2023-02-15 00:00:00-05:00', '2023-05-18 00:00:00-04:00',\\n               '2023-08-17 00:00:00-04:00'],\\n              dtype='datetime64[ns, America/New_York]', freq=None)\")\n"
     ]
    },
    {
     "name": "stdout",
     "output_type": "stream",
     "text": [
      "1081 di 5220) Caricamento ticker CWEN^A  "
     ]
    },
    {
     "name": "stderr",
     "output_type": "stream",
     "text": [
      "\n",
      "1 Failed download:\n",
      "['CWEN^A']: Exception('%ticker%: No data found, symbol may be delisted')\n"
     ]
    },
    {
     "name": "stdout",
     "output_type": "stream",
     "text": [
      "1085 di 5220) Caricamento ticker CLPR  "
     ]
    },
    {
     "name": "stderr",
     "output_type": "stream",
     "text": [
      "\n",
      "1 Failed download:\n",
      "['CLPR']: Exception(\"The following 'Dividends' events are out-of-range, did not expect with interval 1d: DatetimeIndex(['2022-08-18 00:00:00-04:00', '2022-11-18 00:00:00-05:00',\\n               '2023-03-24 00:00:00-04:00', '2023-05-12 00:00:00-04:00',\\n               '2023-08-14 00:00:00-04:00'],\\n              dtype='datetime64[ns, America/New_York]', freq=None)\")\n"
     ]
    },
    {
     "name": "stdout",
     "output_type": "stream",
     "text": [
      "\r",
      "1086 di 5220) Caricamento ticker RAAS "
     ]
    },
    {
     "name": "stderr",
     "output_type": "stream",
     "text": [
      "\n",
      "1 Failed download:\n",
      "['RAAS']: Exception('%ticker%: No data found, symbol may be delisted')\n"
     ]
    },
    {
     "name": "stdout",
     "output_type": "stream",
     "text": [
      "1114 di 5220) Caricamento ticker CGNX   "
     ]
    },
    {
     "name": "stderr",
     "output_type": "stream",
     "text": [
      "\n",
      "1 Failed download:\n",
      "['CGNX']: Exception(\"The following 'Dividends' events are out-of-range, did not expect with interval 1d: DatetimeIndex(['2022-08-18 00:00:00-04:00', '2022-11-17 00:00:00-05:00',\\n               '2023-03-02 00:00:00-05:00', '2023-05-18 00:00:00-04:00',\\n               '2023-08-17 00:00:00-04:00'],\\n              dtype='datetime64[ns, America/New_York]', freq=None)\")\n"
     ]
    },
    {
     "name": "stdout",
     "output_type": "stream",
     "text": [
      "\r",
      "1115 di 5220) Caricamento ticker CTSH "
     ]
    },
    {
     "name": "stderr",
     "output_type": "stream",
     "text": [
      "\n",
      "1 Failed download:\n",
      "['CTSH']: Exception(\"The following 'Dividends' events are out-of-range, did not expect with interval 1d: DatetimeIndex(['2022-08-18 00:00:00-04:00', '2022-11-17 00:00:00-05:00',\\n               '2023-02-16 00:00:00-05:00', '2023-05-18 00:00:00-04:00',\\n               '2023-08-18 00:00:00-04:00'],\\n              dtype='datetime64[ns, America/New_York]', freq=None)\")\n"
     ]
    },
    {
     "name": "stdout",
     "output_type": "stream",
     "text": [
      "1117 di 5220) Previsione ticker CWBR  \n",
      "1117 di 5220) Aggiunta ticker CWBR allo screener\n",
      "1216 di 5220) Caricamento ticker KOR      "
     ]
    },
    {
     "name": "stderr",
     "output_type": "stream",
     "text": [
      "\n",
      "1 Failed download:\n",
      "['KOR']: Exception('%ticker%: No price data found, symbol may be delisted (period=1y)')\n"
     ]
    },
    {
     "name": "stdout",
     "output_type": "stream",
     "text": [
      "1221 di 5220) Caricamento ticker CMRE^PRC "
     ]
    },
    {
     "name": "stderr",
     "output_type": "stream",
     "text": [
      "\n",
      "1 Failed download:\n",
      "['CMRE^PRC']: Exception('%ticker%: No data found, symbol may be delisted')\n"
     ]
    },
    {
     "name": "stdout",
     "output_type": "stream",
     "text": [
      "\r",
      "1222 di 5220) Caricamento ticker CMRE^PRB "
     ]
    },
    {
     "name": "stderr",
     "output_type": "stream",
     "text": [
      "\n",
      "1 Failed download:\n",
      "['CMRE^PRB']: Exception('%ticker%: No data found, symbol may be delisted')\n"
     ]
    },
    {
     "name": "stdout",
     "output_type": "stream",
     "text": [
      "\r",
      "1223 di 5220) Caricamento ticker CMRE^PRD "
     ]
    },
    {
     "name": "stderr",
     "output_type": "stream",
     "text": [
      "\n",
      "1 Failed download:\n",
      "['CMRE^PRD']: Exception('%ticker%: No data found, symbol may be delisted')\n"
     ]
    },
    {
     "name": "stdout",
     "output_type": "stream",
     "text": [
      "1240 di 5220) Caricamento ticker CRD^A "
     ]
    },
    {
     "name": "stderr",
     "output_type": "stream",
     "text": [
      "\n",
      "1 Failed download:\n",
      "['CRD^A']: Exception('%ticker%: No data found, symbol may be delisted')\n"
     ]
    },
    {
     "name": "stdout",
     "output_type": "stream",
     "text": [
      "\r",
      "1241 di 5220) Caricamento ticker CRD^B "
     ]
    },
    {
     "name": "stderr",
     "output_type": "stream",
     "text": [
      "\n",
      "1 Failed download:\n",
      "['CRD^B']: Exception('%ticker%: No data found, symbol may be delisted')\n"
     ]
    },
    {
     "name": "stdout",
     "output_type": "stream",
     "text": [
      "1245 di 5220) Caricamento ticker CS   "
     ]
    },
    {
     "name": "stderr",
     "output_type": "stream",
     "text": [
      "\n",
      "1 Failed download:\n",
      "['CS']: Exception('%ticker%: No data found, symbol may be delisted')\n"
     ]
    },
    {
     "name": "stdout",
     "output_type": "stream",
     "text": [
      "1279 di 5220) Caricamento ticker CMI    "
     ]
    },
    {
     "name": "stderr",
     "output_type": "stream",
     "text": [
      "\n",
      "1 Failed download:\n",
      "['CMI']: Exception(\"The following 'Dividends' events are out-of-range, did not expect with interval 1d: DatetimeIndex(['2022-08-18 00:00:00-04:00', '2022-11-17 00:00:00-05:00',\\n               '2023-02-23 00:00:00-05:00', '2023-05-18 00:00:00-04:00'],\\n              dtype='datetime64[ns, America/New_York]', freq=None)\")\n"
     ]
    },
    {
     "name": "stdout",
     "output_type": "stream",
     "text": [
      "1292 di 5220) Caricamento ticker CVT  "
     ]
    },
    {
     "name": "stderr",
     "output_type": "stream",
     "text": [
      "\n",
      "1 Failed download:\n",
      "['CVT']: Exception('%ticker%: No data found, symbol may be delisted')\n"
     ]
    },
    {
     "name": "stdout",
     "output_type": "stream",
     "text": [
      "1309 di 5220) Caricamento ticker CYXT  "
     ]
    },
    {
     "name": "stderr",
     "output_type": "stream",
     "text": [
      "\n",
      "1 Failed download:\n",
      "['CYXT']: Exception('%ticker%: No data found, symbol may be delisted')\n"
     ]
    },
    {
     "name": "stdout",
     "output_type": "stream",
     "text": [
      "1377 di 5220) Caricamento ticker DSX^PRB "
     ]
    },
    {
     "name": "stderr",
     "output_type": "stream",
     "text": [
      "\n",
      "1 Failed download:\n",
      "['DSX^PRB']: Exception('%ticker%: No data found, symbol may be delisted')\n"
     ]
    },
    {
     "name": "stdout",
     "output_type": "stream",
     "text": [
      "1380 di 5220) Caricamento ticker DBD  "
     ]
    },
    {
     "name": "stderr",
     "output_type": "stream",
     "text": [
      "\n",
      "1 Failed download:\n",
      "['DBD']: Exception('%ticker%: No data found, symbol may be delisted')\n"
     ]
    },
    {
     "name": "stdout",
     "output_type": "stream",
     "text": [
      "1436 di 5220) Caricamento ticker XPOA  "
     ]
    },
    {
     "name": "stderr",
     "output_type": "stream",
     "text": [
      "\n",
      "1 Failed download:\n",
      "['XPOA']: Exception('%ticker%: No data found, symbol may be delisted')\n"
     ]
    },
    {
     "name": "stdout",
     "output_type": "stream",
     "text": [
      "1537 di 5220) Caricamento ticker AKO^A  "
     ]
    },
    {
     "name": "stderr",
     "output_type": "stream",
     "text": [
      "\n",
      "1 Failed download:\n",
      "['AKO^A']: Exception('%ticker%: No data found, symbol may be delisted')\n"
     ]
    },
    {
     "name": "stdout",
     "output_type": "stream",
     "text": [
      "\r",
      "1538 di 5220) Caricamento ticker AKO^B "
     ]
    },
    {
     "name": "stderr",
     "output_type": "stream",
     "text": [
      "\n",
      "1 Failed download:\n",
      "['AKO^B']: Exception('%ticker%: No data found, symbol may be delisted')\n"
     ]
    },
    {
     "name": "stdout",
     "output_type": "stream",
     "text": [
      "1569 di 5220) Caricamento ticker NETI  "
     ]
    },
    {
     "name": "stderr",
     "output_type": "stream",
     "text": [
      "\n",
      "1 Failed download:\n",
      "['NETI']: Exception(\"The following 'Dividends' events are out-of-range, did not expect with interval 1d: DatetimeIndex(['2022-08-18 00:00:00-04:00', '2022-11-18 00:00:00-05:00',\\n               '2023-02-28 00:00:00-05:00', '2023-05-09 00:00:00-04:00'],\\n              dtype='datetime64[ns, America/New_York]', freq=None)\")\n"
     ]
    },
    {
     "name": "stdout",
     "output_type": "stream",
     "text": [
      "1600 di 5220) Previsione ticker NVST    \n",
      "1600 di 5220) Aggiunta ticker NVST allo screener\n",
      "1609 di 5220) Caricamento ticker EPR^PRE "
     ]
    },
    {
     "name": "stderr",
     "output_type": "stream",
     "text": [
      "\n",
      "1 Failed download:\n",
      "['EPR^PRE']: Exception('%ticker%: No data found, symbol may be delisted')\n"
     ]
    },
    {
     "name": "stdout",
     "output_type": "stream",
     "text": [
      "1662 di 5220) Caricamento ticker EVRG "
     ]
    },
    {
     "name": "stderr",
     "output_type": "stream",
     "text": [
      "\n",
      "1 Failed download:\n",
      "['EVRG']: Exception(\"The following 'Dividends' events are out-of-range, did not expect with interval 1d: DatetimeIndex(['2022-08-18 00:00:00-04:00', '2022-11-17 00:00:00-05:00',\\n               '2023-03-08 00:00:00-05:00', '2023-05-18 00:00:00-04:00',\\n               '2023-08-18 00:00:00-04:00'],\\n              dtype='datetime64[ns, America/New_York]', freq=None)\")\n"
     ]
    },
    {
     "name": "stdout",
     "output_type": "stream",
     "text": [
      "1679 di 5220) Caricamento ticker EE    "
     ]
    },
    {
     "name": "stderr",
     "output_type": "stream",
     "text": [
      "\n",
      "1 Failed download:\n",
      "['EE']: Exception(\"The following 'Dividends' events are out-of-range, did not expect with interval 1d: DatetimeIndex(['2022-08-18 00:00:00-04:00', '2022-11-21 00:00:00-05:00',\\n               '2023-04-11 00:00:00-04:00', '2023-05-23 00:00:00-04:00'],\\n              dtype='datetime64[ns, America/New_York]', freq=None)\")\n"
     ]
    },
    {
     "name": "stdout",
     "output_type": "stream",
     "text": [
      "1717 di 5220) Previsione ticker FATE   \n",
      "1717 di 5220) Aggiunta ticker FATE allo screener\n",
      "1723 di 5220) Caricamento ticker AGM^A "
     ]
    },
    {
     "name": "stderr",
     "output_type": "stream",
     "text": [
      "\n",
      "1 Failed download:\n",
      "['AGM^A']: Exception('%ticker%: No data found, symbol may be delisted')\n"
     ]
    },
    {
     "name": "stdout",
     "output_type": "stream",
     "text": [
      "\r",
      "1724 di 5220) Caricamento ticker FSS "
     ]
    },
    {
     "name": "stderr",
     "output_type": "stream",
     "text": [
      "\n",
      "1 Failed download:\n",
      "['FSS']: Exception(\"The following 'Dividends' events are out-of-range, did not expect with interval 1d: DatetimeIndex(['2022-08-18 00:00:00-04:00', '2022-11-17 00:00:00-05:00',\\n               '2023-03-16 00:00:00-04:00', '2023-05-18 00:00:00-04:00',\\n               '2023-08-17 00:00:00-04:00'],\\n              dtype='datetime64[ns, America/New_York]', freq=None)\")\n"
     ]
    },
    {
     "name": "stdout",
     "output_type": "stream",
     "text": [
      "1782 di 5220) Caricamento ticker FISV  "
     ]
    },
    {
     "name": "stderr",
     "output_type": "stream",
     "text": [
      "\n",
      "1 Failed download:\n",
      "['FISV']: Exception('%ticker%: No data found, symbol may be delisted')\n"
     ]
    },
    {
     "name": "stdout",
     "output_type": "stream",
     "text": [
      "1816 di 5220) Caricamento ticker FORE  "
     ]
    },
    {
     "name": "stderr",
     "output_type": "stream",
     "text": [
      "\n",
      "1 Failed download:\n",
      "['FORE']: Exception('%ticker%: No data found, symbol may be delisted')\n"
     ]
    },
    {
     "name": "stdout",
     "output_type": "stream",
     "text": [
      "1827 di 5220) Caricamento ticker FTS   "
     ]
    },
    {
     "name": "stderr",
     "output_type": "stream",
     "text": [
      "\n",
      "1 Failed download:\n",
      "['FTS']: Exception(\"The following 'Dividends' events are out-of-range, did not expect with interval 1d: DatetimeIndex(['2022-08-18 00:00:00-04:00', '2022-11-16 00:00:00-05:00',\\n               '2023-02-14 00:00:00-05:00', '2023-05-16 00:00:00-04:00',\\n               '2023-08-18 00:00:00-04:00'],\\n              dtype='datetime64[ns, America/New_York]', freq=None)\")\n"
     ]
    },
    {
     "name": "stdout",
     "output_type": "stream",
     "text": [
      "1833 di 5220) Previsione ticker FWRD  \n",
      "1833 di 5220) Aggiunta ticker FWRD allo screener\n",
      "1907 di 5220) Caricamento ticker GLOG^PRA "
     ]
    },
    {
     "name": "stderr",
     "output_type": "stream",
     "text": [
      "\n",
      "1 Failed download:\n",
      "['GLOG^PRA']: Exception('%ticker%: No data found, symbol may be delisted')\n"
     ]
    },
    {
     "name": "stdout",
     "output_type": "stream",
     "text": [
      "1956 di 5220) Caricamento ticker GIG  "
     ]
    },
    {
     "name": "stderr",
     "output_type": "stream",
     "text": [
      "\n",
      "1 Failed download:\n",
      "['GIG']: Exception('%ticker%: No data found, symbol may be delisted')\n"
     ]
    },
    {
     "name": "stdout",
     "output_type": "stream",
     "text": [
      "2026 di 5220) Caricamento ticker GTN^A "
     ]
    },
    {
     "name": "stderr",
     "output_type": "stream",
     "text": [
      "\n",
      "1 Failed download:\n",
      "['GTN^A']: Exception('%ticker%: No data found, symbol may be delisted')\n"
     ]
    },
    {
     "name": "stdout",
     "output_type": "stream",
     "text": [
      "2039 di 5220) Caricamento ticker GRCY "
     ]
    },
    {
     "name": "stderr",
     "output_type": "stream",
     "text": [
      "\n",
      "1 Failed download:\n",
      "['GRCY']: Exception('%ticker%: No data found, symbol may be delisted')\n"
     ]
    },
    {
     "name": "stdout",
     "output_type": "stream",
     "text": [
      "2051 di 5220) Caricamento ticker GEF^B "
     ]
    },
    {
     "name": "stderr",
     "output_type": "stream",
     "text": [
      "\n",
      "1 Failed download:\n",
      "['GEF^B']: Exception('%ticker%: No data found, symbol may be delisted')\n"
     ]
    },
    {
     "name": "stdout",
     "output_type": "stream",
     "text": [
      "2073 di 5220) Caricamento ticker GSK   "
     ]
    },
    {
     "name": "stderr",
     "output_type": "stream",
     "text": [
      "\n",
      "1 Failed download:\n",
      "['GSK']: Exception(\"The following 'Dividends' events are out-of-range, did not expect with interval 1d: DatetimeIndex(['2022-08-18 00:00:00-04:00', '2022-11-17 00:00:00-05:00',\\n               '2023-02-23 00:00:00-05:00', '2023-05-18 00:00:00-04:00',\\n               '2023-08-17 00:00:00-04:00'],\\n              dtype='datetime64[ns, America/New_York]', freq=None)\")\n"
     ]
    },
    {
     "name": "stdout",
     "output_type": "stream",
     "text": [
      "2113 di 5220) Caricamento ticker HSC   "
     ]
    },
    {
     "name": "stderr",
     "output_type": "stream",
     "text": [
      "\n",
      "1 Failed download:\n",
      "['HSC']: Exception('%ticker%: No data found, symbol may be delisted')\n"
     ]
    },
    {
     "name": "stdout",
     "output_type": "stream",
     "text": [
      "2119 di 5220) Caricamento ticker HVT^A "
     ]
    },
    {
     "name": "stderr",
     "output_type": "stream",
     "text": [
      "\n",
      "1 Failed download:\n",
      "['HVT^A']: Exception('%ticker%: No data found, symbol may be delisted')\n"
     ]
    },
    {
     "name": "stdout",
     "output_type": "stream",
     "text": [
      "2123 di 5220) Caricamento ticker HWKN "
     ]
    },
    {
     "name": "stderr",
     "output_type": "stream",
     "text": [
      "\n",
      "1 Failed download:\n",
      "['HWKN']: Exception(\"The following 'Dividends' events are out-of-range, did not expect with interval 1d: DatetimeIndex(['2022-08-18 00:00:00-04:00', '2022-11-17 00:00:00-05:00',\\n               '2023-02-16 00:00:00-05:00', '2023-06-01 00:00:00-04:00',\\n               '2023-08-17 00:00:00-04:00'],\\n              dtype='datetime64[ns, America/New_York]', freq=None)\")\n"
     ]
    },
    {
     "name": "stdout",
     "output_type": "stream",
     "text": [
      "2129 di 5220) Caricamento ticker HCI  "
     ]
    },
    {
     "name": "stderr",
     "output_type": "stream",
     "text": [
      "\n",
      "1 Failed download:\n",
      "['HCI']: Exception(\"The following 'Dividends' events are out-of-range, did not expect with interval 1d: DatetimeIndex(['2022-08-18 00:00:00-04:00', '2022-11-17 00:00:00-05:00',\\n               '2023-02-16 00:00:00-05:00', '2023-05-18 00:00:00-04:00',\\n               '2023-08-17 00:00:00-04:00'],\\n              dtype='datetime64[ns, America/New_York]', freq=None)\")\n"
     ]
    },
    {
     "name": "stdout",
     "output_type": "stream",
     "text": [
      "2133 di 5220) Caricamento ticker HCSG "
     ]
    },
    {
     "name": "stderr",
     "output_type": "stream",
     "text": [
      "\n",
      "1 Failed download:\n",
      "['HCSG']: Exception(\"The following 'Dividends' events are out-of-range, did not expect with interval 1d: DatetimeIndex(['2022-08-18 00:00:00-04:00', '2022-11-17 00:00:00-05:00'], dtype='datetime64[ns, America/New_York]', freq=None)\")\n"
     ]
    },
    {
     "name": "stdout",
     "output_type": "stream",
     "text": [
      "2141 di 5220) Caricamento ticker HL   "
     ]
    },
    {
     "name": "stderr",
     "output_type": "stream",
     "text": [
      "\n",
      "1 Failed download:\n",
      "['HL']: Exception(\"The following 'Dividends' events are out-of-range, did not expect with interval 1d: DatetimeIndex(['2022-08-18 00:00:00-04:00', '2022-11-23 00:00:00-05:00',\\n               '2023-03-08 00:00:00-05:00', '2023-05-19 00:00:00-04:00',\\n               '2023-06-14 00:00:00-04:00'],\\n              dtype='datetime64[ns, America/New_York]', freq=None)\")\n"
     ]
    },
    {
     "name": "stdout",
     "output_type": "stream",
     "text": [
      "2155 di 5220) Caricamento ticker HRI  "
     ]
    },
    {
     "name": "stderr",
     "output_type": "stream",
     "text": [
      "\n",
      "1 Failed download:\n",
      "['HRI']: Exception(\"The following 'Dividends' events are out-of-range, did not expect with interval 1d: DatetimeIndex(['2022-08-18 00:00:00-04:00', '2022-12-09 00:00:00-05:00',\\n               '2023-02-21 00:00:00-05:00', '2023-05-25 00:00:00-04:00',\\n               '2023-08-17 00:00:00-04:00'],\\n              dtype='datetime64[ns, America/New_York]', freq=None)\")\n"
     ]
    },
    {
     "name": "stdout",
     "output_type": "stream",
     "text": [
      "2163 di 5220) Caricamento ticker HSY  "
     ]
    },
    {
     "name": "stderr",
     "output_type": "stream",
     "text": [
      "\n",
      "1 Failed download:\n",
      "['HSY']: Exception(\"The following 'Dividends' events are out-of-range, did not expect with interval 1d: DatetimeIndex(['2022-08-18 00:00:00-04:00', '2022-11-17 00:00:00-05:00',\\n               '2023-02-16 00:00:00-05:00', '2023-05-18 00:00:00-04:00',\\n               '2023-08-17 00:00:00-04:00'],\\n              dtype='datetime64[ns, America/New_York]', freq=None)\")\n"
     ]
    },
    {
     "name": "stdout",
     "output_type": "stream",
     "text": [
      "2165 di 5220) Caricamento ticker HSKA "
     ]
    },
    {
     "name": "stderr",
     "output_type": "stream",
     "text": [
      "\n",
      "1 Failed download:\n",
      "['HSKA']: Exception('%ticker%: No data found, symbol may be delisted')\n"
     ]
    },
    {
     "name": "stdout",
     "output_type": "stream",
     "text": [
      "2209 di 5220) Caricamento ticker HZAC "
     ]
    },
    {
     "name": "stderr",
     "output_type": "stream",
     "text": [
      "\n",
      "1 Failed download:\n",
      "['HZAC']: Exception('%ticker%: No data found, symbol may be delisted')\n"
     ]
    },
    {
     "name": "stdout",
     "output_type": "stream",
     "text": [
      "2224 di 5220) Caricamento ticker HSBC  "
     ]
    },
    {
     "name": "stderr",
     "output_type": "stream",
     "text": [
      "\n",
      "1 Failed download:\n",
      "['HSBC']: Exception(\"The following 'Dividends' events are out-of-range, did not expect with interval 1d: DatetimeIndex(['2022-08-18 00:00:00-04:00', '2023-03-02 00:00:00-05:00',\\n               '2023-05-11 00:00:00-04:00', '2023-08-10 00:00:00-04:00'],\\n              dtype='datetime64[ns, America/New_York]', freq=None)\")\n"
     ]
    },
    {
     "name": "stdout",
     "output_type": "stream",
     "text": [
      "\r",
      "2225 di 5220) Caricamento ticker HTGM "
     ]
    },
    {
     "name": "stderr",
     "output_type": "stream",
     "text": [
      "\n",
      "1 Failed download:\n",
      "['HTGM']: Exception('%ticker%: No data found, symbol may be delisted')\n"
     ]
    },
    {
     "name": "stdout",
     "output_type": "stream",
     "text": [
      "2245 di 5220) Caricamento ticker HVBC "
     ]
    },
    {
     "name": "stderr",
     "output_type": "stream",
     "text": [
      "\n",
      "1 Failed download:\n",
      "['HVBC']: Exception('%ticker%: No data found, symbol may be delisted')\n"
     ]
    },
    {
     "name": "stdout",
     "output_type": "stream",
     "text": [
      "2545 di 5220) Caricamento ticker KIM^PRL  "
     ]
    },
    {
     "name": "stderr",
     "output_type": "stream",
     "text": [
      "\n",
      "1 Failed download:\n",
      "['KIM^PRL']: Exception('%ticker%: No data found, symbol may be delisted')\n"
     ]
    },
    {
     "name": "stdout",
     "output_type": "stream",
     "text": [
      "2648 di 5220) Caricamento ticker LEN^B  "
     ]
    },
    {
     "name": "stderr",
     "output_type": "stream",
     "text": [
      "\n",
      "1 Failed download:\n",
      "['LEN^B']: Exception('%ticker%: No data found, symbol may be delisted')\n"
     ]
    },
    {
     "name": "stdout",
     "output_type": "stream",
     "text": [
      "2650 di 5220) Previsione ticker LNSR  \n",
      "2650 di 5220) Aggiunta ticker LNSR allo screener\n",
      "2748 di 5220) Caricamento ticker LEN^B "
     ]
    },
    {
     "name": "stderr",
     "output_type": "stream",
     "text": [
      "\n",
      "1 Failed download:\n",
      "['LEN^B']: Exception('%ticker%: No data found, symbol may be delisted')\n"
     ]
    },
    {
     "name": "stdout",
     "output_type": "stream",
     "text": [
      "2750 di 5220) Previsione ticker LNSR  \n",
      "2750 di 5220) Aggiunta ticker LNSR allo screener\n",
      "2810 di 5220) Previsione ticker MTW    \n",
      "2810 di 5220) Aggiunta ticker MTW allo screener\n",
      "2863 di 5220) Caricamento ticker MKC^V "
     ]
    },
    {
     "name": "stderr",
     "output_type": "stream",
     "text": [
      "\n",
      "1 Failed download:\n",
      "['MKC^V']: Exception('%ticker%: No data found, symbol may be delisted')\n"
     ]
    },
    {
     "name": "stdout",
     "output_type": "stream",
     "text": [
      "2891 di 5220) Caricamento ticker MEKA "
     ]
    },
    {
     "name": "stderr",
     "output_type": "stream",
     "text": [
      "\n",
      "1 Failed download:\n",
      "['MEKA']: Exception('%ticker%: No data found, symbol may be delisted')\n"
     ]
    },
    {
     "name": "stdout",
     "output_type": "stream",
     "text": [
      "\r",
      "2892 di 5220) Caricamento ticker MELR "
     ]
    },
    {
     "name": "stderr",
     "output_type": "stream",
     "text": [
      "\n",
      "1 Failed download:\n",
      "['MELR']: Exception('%ticker%: No data found, symbol may be delisted')\n"
     ]
    },
    {
     "name": "stdout",
     "output_type": "stream",
     "text": [
      "2930 di 5220) Caricamento ticker MGPI "
     ]
    },
    {
     "name": "stderr",
     "output_type": "stream",
     "text": [
      "\n",
      "1 Failed download:\n",
      "['MGPI']: Exception(\"The following 'Dividends' events are out-of-range, did not expect with interval 1d: DatetimeIndex(['2022-08-18 00:00:00-04:00', '2022-11-17 00:00:00-05:00',\\n               '2023-03-09 00:00:00-05:00', '2023-05-18 00:00:00-04:00',\\n               '2023-08-17 00:00:00-04:00'],\\n              dtype='datetime64[ns, America/New_York]', freq=None)\")\n"
     ]
    },
    {
     "name": "stdout",
     "output_type": "stream",
     "text": [
      "2932 di 5220) Caricamento ticker MCHP "
     ]
    },
    {
     "name": "stderr",
     "output_type": "stream",
     "text": [
      "\n",
      "1 Failed download:\n",
      "['MCHP']: Exception(\"The following 'Dividends' events are out-of-range, did not expect with interval 1d: DatetimeIndex(['2022-08-18 00:00:00-04:00', '2022-11-21 00:00:00-05:00',\\n               '2023-02-17 00:00:00-05:00', '2023-05-19 00:00:00-04:00'],\\n              dtype='datetime64[ns, America/New_York]', freq=None)\")\n"
     ]
    },
    {
     "name": "stdout",
     "output_type": "stream",
     "text": [
      "2946 di 5220) Caricamento ticker MSBI "
     ]
    },
    {
     "name": "stderr",
     "output_type": "stream",
     "text": [
      "\n",
      "1 Failed download:\n",
      "['MSBI']: Exception(\"The following 'Dividends' events are out-of-range, did not expect with interval 1d: DatetimeIndex(['2022-08-18 00:00:00-04:00', '2022-11-10 00:00:00-05:00',\\n               '2023-02-16 00:00:00-05:00', '2023-05-11 00:00:00-04:00',\\n               '2023-08-10 00:00:00-04:00'],\\n              dtype='datetime64[ns, America/New_York]', freq=None)\")\n"
     ]
    },
    {
     "name": "stdout",
     "output_type": "stream",
     "text": [
      "2956 di 5220) Caricamento ticker MTX  "
     ]
    },
    {
     "name": "stderr",
     "output_type": "stream",
     "text": [
      "\n",
      "1 Failed download:\n",
      "['MTX']: Exception(\"The following 'Dividends' events are out-of-range, did not expect with interval 1d: DatetimeIndex(['2022-08-18 00:00:00-04:00', '2022-11-01 00:00:00-04:00',\\n               '2023-02-15 00:00:00-05:00', '2023-05-31 00:00:00-04:00',\\n               '2023-08-17 00:00:00-04:00'],\\n              dtype='datetime64[ns, America/New_York]', freq=None)\")\n"
     ]
    },
    {
     "name": "stdout",
     "output_type": "stream",
     "text": [
      "2971 di 5220) Caricamento ticker MIXT "
     ]
    },
    {
     "name": "stderr",
     "output_type": "stream",
     "text": [
      "\n",
      "1 Failed download:\n",
      "['MIXT']: Exception(\"The following 'Dividends' events are out-of-range, did not expect with interval 1d: DatetimeIndex(['2022-08-18 00:00:00-04:00', '2022-11-17 00:00:00-05:00',\\n               '2023-02-16 00:00:00-05:00', '2023-06-15 00:00:00-04:00'],\\n              dtype='datetime64[ns, America/New_York]', freq=None)\")\n"
     ]
    },
    {
     "name": "stdout",
     "output_type": "stream",
     "text": [
      "2989 di 5220) Caricamento ticker TAP^A "
     ]
    },
    {
     "name": "stderr",
     "output_type": "stream",
     "text": [
      "\n",
      "1 Failed download:\n",
      "['TAP^A']: Exception('%ticker%: No data found, symbol may be delisted')\n"
     ]
    },
    {
     "name": "stdout",
     "output_type": "stream",
     "text": [
      "2991 di 5220) Caricamento ticker MNTV "
     ]
    },
    {
     "name": "stderr",
     "output_type": "stream",
     "text": [
      "\n",
      "1 Failed download:\n",
      "['MNTV']: Exception('%ticker%: No data found, symbol may be delisted')\n"
     ]
    },
    {
     "name": "stdout",
     "output_type": "stream",
     "text": [
      "2996 di 5220) Caricamento ticker MGI  "
     ]
    },
    {
     "name": "stderr",
     "output_type": "stream",
     "text": [
      "\n",
      "1 Failed download:\n",
      "['MGI']: Exception('%ticker%: No data found, symbol may be delisted')\n"
     ]
    },
    {
     "name": "stdout",
     "output_type": "stream",
     "text": [
      "3007 di 5220) Caricamento ticker MCO  "
     ]
    },
    {
     "name": "stderr",
     "output_type": "stream",
     "text": [
      "\n",
      "1 Failed download:\n",
      "['MCO']: Exception(\"The following 'Dividends' events are out-of-range, did not expect with interval 1d: DatetimeIndex(['2022-08-18 00:00:00-04:00', '2022-11-22 00:00:00-05:00',\\n               '2023-02-23 00:00:00-05:00', '2023-05-18 00:00:00-04:00',\\n               '2023-08-17 00:00:00-04:00'],\\n              dtype='datetime64[ns, America/New_York]', freq=None)\")\n"
     ]
    },
    {
     "name": "stdout",
     "output_type": "stream",
     "text": [
      "\r",
      "3008 di 5220) Caricamento ticker MOG^A "
     ]
    },
    {
     "name": "stderr",
     "output_type": "stream",
     "text": [
      "\n",
      "1 Failed download:\n",
      "['MOG^A']: Exception('%ticker%: No data found, symbol may be delisted')\n"
     ]
    },
    {
     "name": "stdout",
     "output_type": "stream",
     "text": [
      "\r",
      "3009 di 5220) Caricamento ticker MOG^B "
     ]
    },
    {
     "name": "stderr",
     "output_type": "stream",
     "text": [
      "\n",
      "1 Failed download:\n",
      "['MOG^B']: Exception('%ticker%: No data found, symbol may be delisted')\n"
     ]
    },
    {
     "name": "stdout",
     "output_type": "stream",
     "text": [
      "3187 di 5220) Caricamento ticker NRT   "
     ]
    },
    {
     "name": "stderr",
     "output_type": "stream",
     "text": [
      "\n",
      "1 Failed download:\n",
      "['NRT']: Exception(\"The following 'Dividends' events are out-of-range, did not expect with interval 1d: DatetimeIndex(['2022-08-18 00:00:00-04:00', '2022-11-17 00:00:00-05:00',\\n               '2023-02-16 00:00:00-05:00', '2023-05-18 00:00:00-04:00',\\n               '2023-08-17 00:00:00-04:00'],\\n              dtype='datetime64[ns, America/New_York]', freq=None)\")\n"
     ]
    },
    {
     "name": "stdout",
     "output_type": "stream",
     "text": [
      "3251 di 5220) Previsione ticker OCEA   \n",
      "3251 di 5220) Aggiunta ticker OCEA allo screener\n",
      "3261 di 5220) Caricamento ticker ODT  "
     ]
    },
    {
     "name": "stderr",
     "output_type": "stream",
     "text": [
      "\n",
      "1 Failed download:\n",
      "['ODT']: Exception('%ticker%: No data found, symbol may be delisted')\n"
     ]
    },
    {
     "name": "stdout",
     "output_type": "stream",
     "text": [
      "3346 di 5220) Caricamento ticker OBNK  "
     ]
    },
    {
     "name": "stderr",
     "output_type": "stream",
     "text": [
      "\n",
      "1 Failed download:\n",
      "['OBNK']: Exception('%ticker%: No data found, symbol may be delisted')\n"
     ]
    },
    {
     "name": "stdout",
     "output_type": "stream",
     "text": [
      "3363 di 5220) Caricamento ticker OTIS "
     ]
    },
    {
     "name": "stderr",
     "output_type": "stream",
     "text": [
      "\n",
      "1 Failed download:\n",
      "['OTIS']: Exception(\"The following 'Dividends' events are out-of-range, did not expect with interval 1d: DatetimeIndex(['2022-08-18 00:00:00-04:00', '2022-11-17 00:00:00-05:00',\\n               '2023-02-16 00:00:00-05:00', '2023-05-18 00:00:00-04:00',\\n               '2023-08-17 00:00:00-04:00'],\\n              dtype='datetime64[ns, America/New_York]', freq=None)\")\n"
     ]
    },
    {
     "name": "stdout",
     "output_type": "stream",
     "text": [
      "3382 di 5220) Caricamento ticker OXSQR "
     ]
    },
    {
     "name": "stderr",
     "output_type": "stream",
     "text": [
      "\n",
      "1 Failed download:\n",
      "['OXSQR']: Exception('%ticker%: No data found, symbol may be delisted')\n"
     ]
    },
    {
     "name": "stdout",
     "output_type": "stream",
     "text": [
      "3409 di 5220) Caricamento ticker PRBM "
     ]
    },
    {
     "name": "stderr",
     "output_type": "stream",
     "text": [
      "\n",
      "1 Failed download:\n",
      "['PRBM']: Exception('%ticker%: No data found, symbol may be delisted')\n"
     ]
    },
    {
     "name": "stdout",
     "output_type": "stream",
     "text": [
      "3418 di 5220) Caricamento ticker PRK   "
     ]
    },
    {
     "name": "stderr",
     "output_type": "stream",
     "text": [
      "\n",
      "1 Failed download:\n",
      "['PRK']: Exception(\"The following 'Dividends' events are out-of-range, did not expect with interval 1d: DatetimeIndex(['2022-08-18 00:00:00-04:00', '2022-11-17 00:00:00-05:00',\\n               '2023-02-16 00:00:00-05:00', '2023-05-18 00:00:00-04:00',\\n               '2023-08-17 00:00:00-04:00'],\\n              dtype='datetime64[ns, America/New_York]', freq=None)\")\n"
     ]
    },
    {
     "name": "stdout",
     "output_type": "stream",
     "text": [
      "3460 di 5220) Caricamento ticker ROCC   "
     ]
    },
    {
     "name": "stderr",
     "output_type": "stream",
     "text": [
      "\n",
      "1 Failed download:\n",
      "['ROCC']: Exception('%ticker%: No data found, symbol may be delisted')\n"
     ]
    },
    {
     "name": "stdout",
     "output_type": "stream",
     "text": [
      "3492 di 5220) Caricamento ticker PBR^A "
     ]
    },
    {
     "name": "stderr",
     "output_type": "stream",
     "text": [
      "\n",
      "1 Failed download:\n",
      "['PBR^A']: Exception('%ticker%: No data found, symbol may be delisted')\n"
     ]
    },
    {
     "name": "stdout",
     "output_type": "stream",
     "text": [
      "3506 di 5220) Previsione ticker PSX   \n",
      "3506 di 5220) Aggiunta ticker PSX allo screener\n",
      "3552 di 5220) Caricamento ticker PCOM  "
     ]
    },
    {
     "name": "stderr",
     "output_type": "stream",
     "text": [
      "\n",
      "1 Failed download:\n",
      "['PCOM']: Exception('%ticker%: No data found, symbol may be delisted')\n"
     ]
    },
    {
     "name": "stdout",
     "output_type": "stream",
     "text": [
      "3559 di 5220) Caricamento ticker PNTM "
     ]
    },
    {
     "name": "stderr",
     "output_type": "stream",
     "text": [
      "\n",
      "1 Failed download:\n",
      "['PNTM']: Exception('%ticker%: No data found, symbol may be delisted')\n"
     ]
    },
    {
     "name": "stdout",
     "output_type": "stream",
     "text": [
      "3571 di 5220) Caricamento ticker PSPC  "
     ]
    },
    {
     "name": "stderr",
     "output_type": "stream",
     "text": [
      "\n",
      "1 Failed download:\n",
      "['PSPC']: Exception('%ticker%: No data found, symbol may be delisted')\n"
     ]
    },
    {
     "name": "stdout",
     "output_type": "stream",
     "text": [
      "3622 di 5220) Caricamento ticker RXDX  "
     ]
    },
    {
     "name": "stderr",
     "output_type": "stream",
     "text": [
      "\n",
      "1 Failed download:\n",
      "['RXDX']: Exception('%ticker%: No data found, symbol may be delisted')\n"
     ]
    },
    {
     "name": "stdout",
     "output_type": "stream",
     "text": [
      "3640 di 5220) Caricamento ticker PUK  "
     ]
    },
    {
     "name": "stderr",
     "output_type": "stream",
     "text": [
      "\n",
      "1 Failed download:\n",
      "['PUK']: Exception(\"The following 'Dividends' events are out-of-range, did not expect with interval 1d: DatetimeIndex(['2022-08-18 00:00:00-04:00', '2023-03-23 00:00:00-04:00'], dtype='datetime64[ns, America/New_York]', freq=None)\")\n"
     ]
    },
    {
     "name": "stdout",
     "output_type": "stream",
     "text": [
      "3646 di 5220) Caricamento ticker PSA^PRF "
     ]
    },
    {
     "name": "stderr",
     "output_type": "stream",
     "text": [
      "\n",
      "1 Failed download:\n",
      "['PSA^PRF']: Exception('%ticker%: No data found, symbol may be delisted')\n"
     ]
    },
    {
     "name": "stdout",
     "output_type": "stream",
     "text": [
      "3678 di 5220) Caricamento ticker QMCO   "
     ]
    },
    {
     "name": "stderr",
     "output_type": "stream",
     "text": [
      "\n",
      "1 Failed download:\n",
      "['QMCO']: Exception('%ticker%: No price data found, symbol may be delisted (period=1y)')\n"
     ]
    },
    {
     "name": "stdout",
     "output_type": "stream",
     "text": [
      "\r",
      "3679 di 5220) Caricamento ticker QFTA "
     ]
    },
    {
     "name": "stderr",
     "output_type": "stream",
     "text": [
      "\n",
      "1 Failed download:\n",
      "['QFTA']: Exception('%ticker%: No price data found, symbol may be delisted (period=1y)')\n"
     ]
    },
    {
     "name": "stdout",
     "output_type": "stream",
     "text": [
      "\r",
      "3680 di 5220) Caricamento ticker QSI "
     ]
    },
    {
     "name": "stderr",
     "output_type": "stream",
     "text": [
      "\n",
      "1 Failed download:\n",
      "['QSI']: Exception('%ticker%: No price data found, symbol may be delisted (period=1y)')\n"
     ]
    },
    {
     "name": "stdout",
     "output_type": "stream",
     "text": [
      "\r",
      "3681 di 5220) Caricamento ticker QS "
     ]
    },
    {
     "name": "stderr",
     "output_type": "stream",
     "text": [
      "\n",
      "1 Failed download:\n",
      "['QS']: Exception('%ticker%: No price data found, symbol may be delisted (period=1y)')\n"
     ]
    },
    {
     "name": "stdout",
     "output_type": "stream",
     "text": [
      "\r",
      "3682 di 5220) Caricamento ticker QD "
     ]
    },
    {
     "name": "stderr",
     "output_type": "stream",
     "text": [
      "\n",
      "1 Failed download:\n",
      "['QD']: Exception('%ticker%: No price data found, symbol may be delisted (period=1y)')\n"
     ]
    },
    {
     "name": "stdout",
     "output_type": "stream",
     "text": [
      "\r",
      "3683 di 5220) Caricamento ticker DGX "
     ]
    },
    {
     "name": "stderr",
     "output_type": "stream",
     "text": [
      "\n",
      "1 Failed download:\n",
      "['DGX']: Exception('%ticker%: No price data found, symbol may be delisted (period=1y)')\n"
     ]
    },
    {
     "name": "stdout",
     "output_type": "stream",
     "text": [
      "\r",
      "3684 di 5220) Caricamento ticker QRHC "
     ]
    },
    {
     "name": "stderr",
     "output_type": "stream",
     "text": [
      "\n",
      "1 Failed download:\n",
      "['QRHC']: Exception('%ticker%: No price data found, symbol may be delisted (period=1y)')\n"
     ]
    },
    {
     "name": "stdout",
     "output_type": "stream",
     "text": [
      "\r",
      "3685 di 5220) Caricamento ticker QH "
     ]
    },
    {
     "name": "stderr",
     "output_type": "stream",
     "text": [
      "\n",
      "1 Failed download:\n",
      "['QH']: Exception('%ticker%: No price data found, symbol may be delisted (period=1y)')\n"
     ]
    },
    {
     "name": "stdout",
     "output_type": "stream",
     "text": [
      "\r",
      "3686 di 5220) Caricamento ticker QUIK "
     ]
    },
    {
     "name": "stderr",
     "output_type": "stream",
     "text": [
      "\n",
      "1 Failed download:\n",
      "['QUIK']: Exception('%ticker%: No price data found, symbol may be delisted (period=1y)')\n"
     ]
    },
    {
     "name": "stdout",
     "output_type": "stream",
     "text": [
      "3722 di 5220) Caricamento ticker RTX   "
     ]
    },
    {
     "name": "stderr",
     "output_type": "stream",
     "text": [
      "\n",
      "1 Failed download:\n",
      "['RTX']: Exception(\"The following 'Dividends' events are out-of-range, did not expect with interval 1d: DatetimeIndex(['2022-08-18 00:00:00-04:00', '2022-11-17 00:00:00-05:00',\\n               '2023-02-23 00:00:00-05:00', '2023-05-18 00:00:00-04:00',\\n               '2023-08-17 00:00:00-04:00'],\\n              dtype='datetime64[ns, America/New_York]', freq=None)\")\n"
     ]
    },
    {
     "name": "stdout",
     "output_type": "stream",
     "text": [
      "3761 di 5220) Caricamento ticker RS   "
     ]
    },
    {
     "name": "stderr",
     "output_type": "stream",
     "text": [
      "\n",
      "1 Failed download:\n",
      "['RS']: Exception(\"The following 'Dividends' events are out-of-range, did not expect with interval 1d: DatetimeIndex(['2022-08-18 00:00:00-04:00', '2022-11-17 00:00:00-05:00',\\n               '2023-03-09 00:00:00-05:00', '2023-05-25 00:00:00-04:00',\\n               '2023-08-17 00:00:00-04:00'],\\n              dtype='datetime64[ns, America/New_York]', freq=None)\")\n"
     ]
    },
    {
     "name": "stdout",
     "output_type": "stream",
     "text": [
      "3807 di 5220) Caricamento ticker RONI  "
     ]
    },
    {
     "name": "stderr",
     "output_type": "stream",
     "text": [
      "\n",
      "1 Failed download:\n",
      "['RONI']: Exception('%ticker%: No data found, symbol may be delisted')\n"
     ]
    },
    {
     "name": "stdout",
     "output_type": "stream",
     "text": [
      "3850 di 5220) Caricamento ticker RPRX "
     ]
    },
    {
     "name": "stderr",
     "output_type": "stream",
     "text": [
      "\n",
      "1 Failed download:\n",
      "['RPRX']: Exception(\"The following 'Dividends' events are out-of-range, did not expect with interval 1d: DatetimeIndex(['2022-08-18 00:00:00-04:00', '2022-11-17 00:00:00-05:00',\\n               '2023-02-15 00:00:00-05:00', '2023-05-18 00:00:00-04:00',\\n               '2023-08-17 00:00:00-04:00'],\\n              dtype='datetime64[ns, America/New_York]', freq=None)\")\n"
     ]
    },
    {
     "name": "stdout",
     "output_type": "stream",
     "text": [
      "3861 di 5220) Caricamento ticker RUTH  "
     ]
    },
    {
     "name": "stderr",
     "output_type": "stream",
     "text": [
      "\n",
      "1 Failed download:\n",
      "['RUTH']: Exception('%ticker%: No data found, symbol may be delisted')\n"
     ]
    },
    {
     "name": "stdout",
     "output_type": "stream",
     "text": [
      "3877 di 5220) Caricamento ticker SB^PRD "
     ]
    },
    {
     "name": "stderr",
     "output_type": "stream",
     "text": [
      "\n",
      "1 Failed download:\n",
      "['SB^PRD']: Exception('%ticker%: No data found, symbol may be delisted')\n"
     ]
    },
    {
     "name": "stdout",
     "output_type": "stream",
     "text": [
      "\r",
      "3878 di 5220) Caricamento ticker SB^PRC "
     ]
    },
    {
     "name": "stderr",
     "output_type": "stream",
     "text": [
      "\n",
      "1 Failed download:\n",
      "['SB^PRC']: Exception('%ticker%: No data found, symbol may be delisted')\n"
     ]
    },
    {
     "name": "stdout",
     "output_type": "stream",
     "text": [
      "3880 di 5220) Previsione ticker SFE  \n",
      "3880 di 5220) Aggiunta ticker SFE allo screener\n",
      "3908 di 5220) Caricamento ticker STSA   "
     ]
    },
    {
     "name": "stderr",
     "output_type": "stream",
     "text": [
      "\n",
      "1 Failed download:\n",
      "['STSA']: Exception('%ticker%: No data found, symbol may be delisted')\n"
     ]
    },
    {
     "name": "stdout",
     "output_type": "stream",
     "text": [
      "3920 di 5220) Caricamento ticker MATV "
     ]
    },
    {
     "name": "stderr",
     "output_type": "stream",
     "text": [
      "\n",
      "1 Failed download:\n",
      "['MATV']: Exception(\"The following 'Dividends' events are out-of-range, did not expect with interval 1d: DatetimeIndex(['2022-08-18 00:00:00-04:00', '2022-11-23 00:00:00-05:00',\\n               '2023-03-06 00:00:00-05:00', '2023-05-25 00:00:00-04:00'],\\n              dtype='datetime64[ns, America/New_York]', freq=None)\")\n"
     ]
    },
    {
     "name": "stdout",
     "output_type": "stream",
     "text": [
      "3925 di 5220) Previsione ticker SMG   \n",
      "3925 di 5220) Aggiunta ticker SMG allo screener\n",
      "3994 di 5220) Caricamento ticker SHW   "
     ]
    },
    {
     "name": "stderr",
     "output_type": "stream",
     "text": [
      "\n",
      "1 Failed download:\n",
      "['SHW']: Exception(\"The following 'Dividends' events are out-of-range, did not expect with interval 1d: DatetimeIndex(['2022-08-18 00:00:00-04:00', '2022-11-17 00:00:00-05:00',\\n               '2023-02-24 00:00:00-05:00', '2023-05-18 00:00:00-04:00',\\n               '2023-08-17 00:00:00-04:00'],\\n              dtype='datetime64[ns, America/New_York]', freq=None)\")\n"
     ]
    },
    {
     "name": "stdout",
     "output_type": "stream",
     "text": [
      "4015 di 5220) Caricamento ticker SWIR "
     ]
    },
    {
     "name": "stderr",
     "output_type": "stream",
     "text": [
      "\n",
      "1 Failed download:\n",
      "['SWIR']: Exception('%ticker%: No data found, symbol may be delisted')\n"
     ]
    },
    {
     "name": "stdout",
     "output_type": "stream",
     "text": [
      "4067 di 5220) Caricamento ticker SLG^PRI "
     ]
    },
    {
     "name": "stderr",
     "output_type": "stream",
     "text": [
      "\n",
      "1 Failed download:\n",
      "['SLG^PRI']: Exception('%ticker%: No data found, symbol may be delisted')\n"
     ]
    },
    {
     "name": "stdout",
     "output_type": "stream",
     "text": [
      "4084 di 5220) Caricamento ticker SNA  "
     ]
    },
    {
     "name": "stderr",
     "output_type": "stream",
     "text": [
      "\n",
      "1 Failed download:\n",
      "['SNA']: Exception(\"The following 'Dividends' events are out-of-range, did not expect with interval 1d: DatetimeIndex(['2022-08-18 00:00:00-04:00', '2022-11-18 00:00:00-05:00',\\n               '2023-02-22 00:00:00-05:00', '2023-05-18 00:00:00-04:00',\\n               '2023-08-17 00:00:00-04:00'],\\n              dtype='datetime64[ns, America/New_York]', freq=None)\")\n"
     ]
    },
    {
     "name": "stdout",
     "output_type": "stream",
     "text": [
      "4091 di 5220) Caricamento ticker DNAC "
     ]
    },
    {
     "name": "stderr",
     "output_type": "stream",
     "text": [
      "\n",
      "1 Failed download:\n",
      "['DNAC']: Exception('%ticker%: No data found, symbol may be delisted')\n"
     ]
    },
    {
     "name": "stdout",
     "output_type": "stream",
     "text": [
      "4124 di 5220) Caricamento ticker SOHOM   "
     ]
    },
    {
     "name": "stderr",
     "output_type": "stream",
     "text": [
      "\n",
      "1 Failed download:\n",
      "['SOHOM']: Exception('%ticker%: No data found, symbol may be delisted')\n"
     ]
    },
    {
     "name": "stdout",
     "output_type": "stream",
     "text": [
      "4247 di 5220) Caricamento ticker SGC  "
     ]
    },
    {
     "name": "stderr",
     "output_type": "stream",
     "text": [
      "\n",
      "1 Failed download:\n",
      "['SGC']: Exception(\"The following 'Dividends' events are out-of-range, did not expect with interval 1d: DatetimeIndex(['2022-08-18 00:00:00-04:00', '2022-11-17 00:00:00-05:00',\\n               '2023-02-13 00:00:00-05:00', '2023-05-18 00:00:00-04:00'],\\n              dtype='datetime64[ns, America/New_York]', freq=None)\")\n"
     ]
    },
    {
     "name": "stdout",
     "output_type": "stream",
     "text": [
      "4347 di 5220) Caricamento ticker SGC    "
     ]
    },
    {
     "name": "stderr",
     "output_type": "stream",
     "text": [
      "\n",
      "1 Failed download:\n",
      "['SGC']: Exception(\"The following 'Dividends' events are out-of-range, did not expect with interval 1d: DatetimeIndex(['2022-08-18 00:00:00-04:00', '2022-11-17 00:00:00-05:00',\\n               '2023-02-13 00:00:00-05:00', '2023-05-18 00:00:00-04:00'],\\n              dtype='datetime64[ns, America/New_York]', freq=None)\")\n"
     ]
    },
    {
     "name": "stdout",
     "output_type": "stream",
     "text": [
      "4417 di 5220) Caricamento ticker TEL   "
     ]
    },
    {
     "name": "stderr",
     "output_type": "stream",
     "text": [
      "\n",
      "1 Failed download:\n",
      "['TEL']: Exception(\"The following 'Dividends' events are out-of-range, did not expect with interval 1d: DatetimeIndex(['2022-08-18 00:00:00-04:00', '2022-11-17 00:00:00-05:00',\\n               '2023-02-16 00:00:00-05:00', '2023-05-18 00:00:00-04:00',\\n               '2023-08-17 00:00:00-04:00'],\\n              dtype='datetime64[ns, America/New_York]', freq=None)\")\n"
     ]
    },
    {
     "name": "stdout",
     "output_type": "stream",
     "text": [
      "4520 di 5220) Caricamento ticker UHAL^B  "
     ]
    },
    {
     "name": "stderr",
     "output_type": "stream",
     "text": [
      "\n",
      "1 Failed download:\n",
      "['UHAL^B']: Exception('%ticker%: No data found, symbol may be delisted')\n"
     ]
    },
    {
     "name": "stdout",
     "output_type": "stream",
     "text": [
      "4539 di 5220) Caricamento ticker UGP  "
     ]
    },
    {
     "name": "stderr",
     "output_type": "stream",
     "text": [
      "\n",
      "1 Failed download:\n",
      "['UGP']: Exception('%ticker%: No price data found, symbol may be delisted (period=1y)')\n"
     ]
    },
    {
     "name": "stdout",
     "output_type": "stream",
     "text": [
      "4664 di 5220) Previsione ticker VERY   \n",
      "4664 di 5220) Aggiunta ticker VERY allo screener\n",
      "4747 di 5220) Caricamento ticker VNO^PRL "
     ]
    },
    {
     "name": "stderr",
     "output_type": "stream",
     "text": [
      "\n",
      "1 Failed download:\n",
      "['VNO^PRL']: Exception('%ticker%: No data found, symbol may be delisted')\n"
     ]
    },
    {
     "name": "stdout",
     "output_type": "stream",
     "text": [
      "4764 di 5220) Caricamento ticker WBA  "
     ]
    },
    {
     "name": "stderr",
     "output_type": "stream",
     "text": [
      "\n",
      "1 Failed download:\n",
      "['WBA']: Exception(\"The following 'Dividends' events are out-of-range, did not expect with interval 1d: DatetimeIndex(['2022-08-18 00:00:00-04:00', '2022-11-14 00:00:00-05:00',\\n               '2023-02-15 00:00:00-05:00', '2023-05-18 00:00:00-04:00',\\n               '2023-08-18 00:00:00-04:00'],\\n              dtype='datetime64[ns, America/New_York]', freq=None)\")\n"
     ]
    },
    {
     "name": "stdout",
     "output_type": "stream",
     "text": [
      "4773 di 5220) Caricamento ticker WAFD "
     ]
    },
    {
     "name": "stderr",
     "output_type": "stream",
     "text": [
      "\n",
      "1 Failed download:\n",
      "['WAFD']: Exception(\"The following 'Dividends' events are out-of-range, did not expect with interval 1d: DatetimeIndex(['2022-08-18 00:00:00-04:00', '2022-11-17 00:00:00-05:00',\\n               '2023-02-23 00:00:00-05:00', '2023-05-18 00:00:00-04:00'],\\n              dtype='datetime64[ns, America/New_York]', freq=None)\")\n"
     ]
    },
    {
     "name": "stdout",
     "output_type": "stream",
     "text": [
      "4780 di 5220) Caricamento ticker WSO^B "
     ]
    },
    {
     "name": "stderr",
     "output_type": "stream",
     "text": [
      "\n",
      "1 Failed download:\n",
      "['WSO^B']: Exception('%ticker%: No data found, symbol may be delisted')\n"
     ]
    },
    {
     "name": "stdout",
     "output_type": "stream",
     "text": [
      "4793 di 5220) Caricamento ticker WEJO "
     ]
    },
    {
     "name": "stderr",
     "output_type": "stream",
     "text": [
      "\n",
      "1 Failed download:\n",
      "['WEJO']: Exception('%ticker%: No data found, symbol may be delisted')\n"
     ]
    },
    {
     "name": "stdout",
     "output_type": "stream",
     "text": [
      "4862 di 5220) Caricamento ticker INT  "
     ]
    },
    {
     "name": "stderr",
     "output_type": "stream",
     "text": [
      "\n",
      "1 Failed download:\n",
      "['INT']: Exception('%ticker%: No data found, symbol may be delisted')\n"
     ]
    },
    {
     "name": "stdout",
     "output_type": "stream",
     "text": [
      "4948 di 5220) Caricamento ticker ZWS    "
     ]
    },
    {
     "name": "stderr",
     "output_type": "stream",
     "text": [
      "\n",
      "1 Failed download:\n",
      "['ZWS']: Exception(\"The following 'Dividends' events are out-of-range, did not expect with interval 1d: DatetimeIndex(['2022-08-18 00:00:00-04:00', '2022-11-17 00:00:00-05:00',\\n               '2023-02-17 00:00:00-05:00', '2023-05-18 00:00:00-04:00',\\n               '2023-08-17 00:00:00-04:00'],\\n              dtype='datetime64[ns, America/New_York]', freq=None)\")\n"
     ]
    },
    {
     "name": "stdout",
     "output_type": "stream",
     "text": [
      "4953 di 5220) Caricamento ticker A2A   "
     ]
    },
    {
     "name": "stderr",
     "output_type": "stream",
     "text": [
      "\n",
      "1 Failed download:\n",
      "['A2A']: Exception('%ticker%: No data found, symbol may be delisted')\n"
     ]
    },
    {
     "name": "stdout",
     "output_type": "stream",
     "text": [
      "4955 di 5220) Caricamento ticker ACE "
     ]
    },
    {
     "name": "stderr",
     "output_type": "stream",
     "text": [
      "\n",
      "1 Failed download:\n",
      "['ACE']: Exception('%ticker%: No price data found, symbol may be delisted (period=1y)')\n"
     ]
    },
    {
     "name": "stdout",
     "output_type": "stream",
     "text": [
      "\r",
      "4956 di 5220) Caricamento ticker AC5 "
     ]
    },
    {
     "name": "stderr",
     "output_type": "stream",
     "text": [
      "\n",
      "1 Failed download:\n",
      "['AC5']: Exception('%ticker%: No data found, symbol may be delisted')\n"
     ]
    },
    {
     "name": "stdout",
     "output_type": "stream",
     "text": [
      "\r",
      "4957 di 5220) Caricamento ticker SOF "
     ]
    },
    {
     "name": "stderr",
     "output_type": "stream",
     "text": [
      "\n",
      "1 Failed download:\n",
      "['SOF']: Exception('%ticker%: No price data found, symbol may be delisted (period=1y)')\n"
     ]
    },
    {
     "name": "stdout",
     "output_type": "stream",
     "text": [
      "4959 di 5220) Caricamento ticker AGN "
     ]
    },
    {
     "name": "stderr",
     "output_type": "stream",
     "text": [
      "\n",
      "1 Failed download:\n",
      "['AGN']: Exception('%ticker%: No data found, symbol may be delisted')\n"
     ]
    },
    {
     "name": "stdout",
     "output_type": "stream",
     "text": [
      "\r",
      "4960 di 5220) Caricamento ticker ADB "
     ]
    },
    {
     "name": "stderr",
     "output_type": "stream",
     "text": [
      "\n",
      "1 Failed download:\n",
      "['ADB']: Exception('%ticker%: No price data found, symbol may be delisted (period=1y)')\n"
     ]
    },
    {
     "name": "stdout",
     "output_type": "stream",
     "text": [
      "4962 di 5220) Caricamento ticker AF  "
     ]
    },
    {
     "name": "stderr",
     "output_type": "stream",
     "text": [
      "\n",
      "1 Failed download:\n",
      "['AF']: Exception('%ticker%: No price data found, symbol may be delisted (period=1y)')\n"
     ]
    },
    {
     "name": "stdout",
     "output_type": "stream",
     "text": [
      "4964 di 5220) Caricamento ticker ARN "
     ]
    },
    {
     "name": "stderr",
     "output_type": "stream",
     "text": [
      "\n",
      "1 Failed download:\n",
      "['ARN']: Exception('%ticker%: No price data found, symbol may be delisted (period=1y)')\n"
     ]
    },
    {
     "name": "stdout",
     "output_type": "stream",
     "text": [
      "\r",
      "4965 di 5220) Caricamento ticker ALW "
     ]
    },
    {
     "name": "stderr",
     "output_type": "stream",
     "text": [
      "\n",
      "1 Failed download:\n",
      "['ALW']: Exception('%ticker%: No price data found, symbol may be delisted (period=1y)')\n"
     ]
    },
    {
     "name": "stdout",
     "output_type": "stream",
     "text": [
      "4969 di 5220) Caricamento ticker ANIM "
     ]
    },
    {
     "name": "stderr",
     "output_type": "stream",
     "text": [
      "\n",
      "1 Failed download:\n",
      "['ANIM']: Exception('%ticker%: No data found, symbol may be delisted')\n"
     ]
    },
    {
     "name": "stdout",
     "output_type": "stream",
     "text": [
      "\r",
      "4970 di 5220) Caricamento ticker AV "
     ]
    },
    {
     "name": "stderr",
     "output_type": "stream",
     "text": [
      "\n",
      "1 Failed download:\n",
      "['AV']: Exception('%ticker%: No price data found, symbol may be delisted (period=1y)')\n"
     ]
    },
    {
     "name": "stdout",
     "output_type": "stream",
     "text": [
      "\r",
      "4971 di 5220) Caricamento ticker ECNL "
     ]
    },
    {
     "name": "stderr",
     "output_type": "stream",
     "text": [
      "\n",
      "1 Failed download:\n",
      "['ECNL']: Exception('%ticker%: No data found, symbol may be delisted')\n"
     ]
    },
    {
     "name": "stdout",
     "output_type": "stream",
     "text": [
      "4976 di 5220) Caricamento ticker AUTME "
     ]
    },
    {
     "name": "stderr",
     "output_type": "stream",
     "text": [
      "\n",
      "1 Failed download:\n",
      "['AUTME']: Exception('%ticker%: No data found, symbol may be delisted')\n"
     ]
    },
    {
     "name": "stdout",
     "output_type": "stream",
     "text": [
      "\r",
      "4977 di 5220) Caricamento ticker AVIO "
     ]
    },
    {
     "name": "stderr",
     "output_type": "stream",
     "text": [
      "\n",
      "1 Failed download:\n",
      "['AVIO']: Exception('%ticker%: No data found, symbol may be delisted')\n"
     ]
    },
    {
     "name": "stdout",
     "output_type": "stream",
     "text": [
      "\r",
      "4978 di 5220) Caricamento ticker AXA "
     ]
    },
    {
     "name": "stderr",
     "output_type": "stream",
     "text": [
      "\n",
      "1 Failed download:\n",
      "['AXA']: Exception('%ticker%: No price data found, symbol may be delisted (period=1y)')\n"
     ]
    },
    {
     "name": "stdout",
     "output_type": "stream",
     "text": [
      "\r",
      "4979 di 5220) Caricamento ticker AZM "
     ]
    },
    {
     "name": "stderr",
     "output_type": "stream",
     "text": [
      "\n",
      "1 Failed download:\n",
      "['AZM']: Exception('%ticker%: No price data found, symbol may be delisted (period=1y)')\n"
     ]
    },
    {
     "name": "stdout",
     "output_type": "stream",
     "text": [
      "\r",
      "4980 di 5220) Caricamento ticker BEC "
     ]
    },
    {
     "name": "stderr",
     "output_type": "stream",
     "text": [
      "\n",
      "1 Failed download:\n",
      "['BEC']: Exception('%ticker%: No price data found, symbol may be delisted (period=1y)')\n"
     ]
    },
    {
     "name": "stdout",
     "output_type": "stream",
     "text": [
      "\r",
      "4981 di 5220) Caricamento ticker BGN "
     ]
    },
    {
     "name": "stderr",
     "output_type": "stream",
     "text": [
      "\n",
      "1 Failed download:\n",
      "['BGN']: Exception('%ticker%: No price data found, symbol may be delisted (period=1y)')\n"
     ]
    },
    {
     "name": "stdout",
     "output_type": "stream",
     "text": [
      "\r",
      "4982 di 5220) Caricamento ticker IF "
     ]
    },
    {
     "name": "stderr",
     "output_type": "stream",
     "text": [
      "\n",
      "1 Failed download:\n",
      "['IF']: Exception('%ticker%: No price data found, symbol may be delisted (period=1y)')\n"
     ]
    },
    {
     "name": "stdout",
     "output_type": "stream",
     "text": [
      "4984 di 5220) Caricamento ticker BMPS "
     ]
    },
    {
     "name": "stderr",
     "output_type": "stream",
     "text": [
      "\n",
      "1 Failed download:\n",
      "['BMPS']: Exception('%ticker%: No data found, symbol may be delisted')\n"
     ]
    },
    {
     "name": "stdout",
     "output_type": "stream",
     "text": [
      "\r",
      "4985 di 5220) Caricamento ticker BPSO "
     ]
    },
    {
     "name": "stderr",
     "output_type": "stream",
     "text": [
      "\n",
      "1 Failed download:\n",
      "['BPSO']: Exception('%ticker%: No data found, symbol may be delisted')\n"
     ]
    },
    {
     "name": "stdout",
     "output_type": "stream",
     "text": [
      "4988 di 5220) Caricamento ticker BAMI "
     ]
    },
    {
     "name": "stderr",
     "output_type": "stream",
     "text": [
      "\n",
      "1 Failed download:\n",
      "['BAMI']: Exception('%ticker%: No data found, symbol may be delisted')\n"
     ]
    },
    {
     "name": "stdout",
     "output_type": "stream",
     "text": [
      "\r",
      "4989 di 5220) Caricamento ticker BDB "
     ]
    },
    {
     "name": "stderr",
     "output_type": "stream",
     "text": [
      "\n",
      "1 Failed download:\n",
      "['BDB']: Exception('%ticker%: No price data found, symbol may be delisted (period=1y)')\n"
     ]
    },
    {
     "name": "stdout",
     "output_type": "stream",
     "text": [
      "4991 di 5220) Caricamento ticker BASF "
     ]
    },
    {
     "name": "stderr",
     "output_type": "stream",
     "text": [
      "\n",
      "1 Failed download:\n",
      "['BASF']: Exception('%ticker%: No data found, symbol may be delisted')\n"
     ]
    },
    {
     "name": "stdout",
     "output_type": "stream",
     "text": [
      "\r",
      "4992 di 5220) Caricamento ticker BAN "
     ]
    },
    {
     "name": "stderr",
     "output_type": "stream",
     "text": [
      "\n",
      "1 Failed download:\n",
      "['BAN']: Exception('%ticker%: No price data found, symbol may be delisted (period=1y)')\n"
     ]
    },
    {
     "name": "stdout",
     "output_type": "stream",
     "text": [
      "4994 di 5220) Caricamento ticker BAY "
     ]
    },
    {
     "name": "stderr",
     "output_type": "stream",
     "text": [
      "\n",
      "1 Failed download:\n",
      "['BAY']: Exception('%ticker%: No price data found, symbol may be delisted (period=1y)')\n"
     ]
    },
    {
     "name": "stdout",
     "output_type": "stream",
     "text": [
      "\r",
      "4995 di 5220) Caricamento ticker BMW "
     ]
    },
    {
     "name": "stderr",
     "output_type": "stream",
     "text": [
      "\n",
      "1 Failed download:\n",
      "['BMW']: Exception('%ticker%: No price data found, symbol may be delisted (period=1y)')\n"
     ]
    },
    {
     "name": "stdout",
     "output_type": "stream",
     "text": [
      "4998 di 5220) Caricamento ticker BFG "
     ]
    },
    {
     "name": "stderr",
     "output_type": "stream",
     "text": [
      "\n",
      "1 Failed download:\n",
      "['BFG']: Exception('%ticker%: No price data found, symbol may be delisted (period=1y)')\n"
     ]
    },
    {
     "name": "stdout",
     "output_type": "stream",
     "text": [
      "\r",
      "4999 di 5220) Caricamento ticker BFF "
     ]
    },
    {
     "name": "stderr",
     "output_type": "stream",
     "text": [
      "\n",
      "1 Failed download:\n",
      "['BFF']: Exception('%ticker%: No data found, symbol may be delisted')\n"
     ]
    },
    {
     "name": "stdout",
     "output_type": "stream",
     "text": [
      "\r",
      "5000 di 5220) Caricamento ticker BIA "
     ]
    },
    {
     "name": "stderr",
     "output_type": "stream",
     "text": [
      "\n",
      "1 Failed download:\n",
      "['BIA']: Exception('%ticker%: No price data found, symbol may be delisted (period=1y)')\n"
     ]
    },
    {
     "name": "stdout",
     "output_type": "stream",
     "text": [
      "\r",
      "5001 di 5220) Caricamento ticker BSS "
     ]
    },
    {
     "name": "stderr",
     "output_type": "stream",
     "text": [
      "\n",
      "1 Failed download:\n",
      "['BSS']: Exception('%ticker%: No price data found, symbol may be delisted (period=1y)')\n"
     ]
    },
    {
     "name": "stdout",
     "output_type": "stream",
     "text": [
      "\r",
      "5002 di 5220) Caricamento ticker BIE "
     ]
    },
    {
     "name": "stderr",
     "output_type": "stream",
     "text": [
      "\n",
      "1 Failed download:\n",
      "['BIE']: Exception('%ticker%: No price data found, symbol may be delisted (period=1y)')\n"
     ]
    },
    {
     "name": "stdout",
     "output_type": "stream",
     "text": [
      "\r",
      "5003 di 5220) Caricamento ticker BO "
     ]
    },
    {
     "name": "stderr",
     "output_type": "stream",
     "text": [
      "\n",
      "1 Failed download:\n",
      "['BO']: Exception('%ticker%: No price data found, symbol may be delisted (period=1y)')\n"
     ]
    },
    {
     "name": "stdout",
     "output_type": "stream",
     "text": [
      "\r",
      "5004 di 5220) Caricamento ticker BPE "
     ]
    },
    {
     "name": "stderr",
     "output_type": "stream",
     "text": [
      "\n",
      "1 Failed download:\n",
      "['BPE']: Exception('%ticker%: No price data found, symbol may be delisted (period=1y)')\n"
     ]
    },
    {
     "name": "stdout",
     "output_type": "stream",
     "text": [
      "\r",
      "5005 di 5220) Caricamento ticker BRI "
     ]
    },
    {
     "name": "stderr",
     "output_type": "stream",
     "text": [
      "\n",
      "1 Failed download:\n",
      "['BRI']: Exception('%ticker%: No price data found, symbol may be delisted (period=1y)')\n"
     ]
    },
    {
     "name": "stdout",
     "output_type": "stream",
     "text": [
      "5007 di 5220) Caricamento ticker BZU "
     ]
    },
    {
     "name": "stderr",
     "output_type": "stream",
     "text": [
      "\n",
      "1 Failed download:\n",
      "['BZU']: Exception('%ticker%: No price data found, symbol may be delisted (period=1y)')\n"
     ]
    },
    {
     "name": "stdout",
     "output_type": "stream",
     "text": [
      "\r",
      "5008 di 5220) Caricamento ticker CAI "
     ]
    },
    {
     "name": "stderr",
     "output_type": "stream",
     "text": [
      "\n",
      "1 Failed download:\n",
      "['CAI']: Exception('%ticker%: No data found, symbol may be delisted')\n"
     ]
    },
    {
     "name": "stdout",
     "output_type": "stream",
     "text": [
      "5010 di 5220) Caricamento ticker CED "
     ]
    },
    {
     "name": "stderr",
     "output_type": "stream",
     "text": [
      "\n",
      "1 Failed download:\n",
      "['CED']: Exception('%ticker%: No price data found, symbol may be delisted (period=1y)')\n"
     ]
    },
    {
     "name": "stdout",
     "output_type": "stream",
     "text": [
      "5013 di 5220) Caricamento ticker CRR  "
     ]
    },
    {
     "name": "stderr",
     "output_type": "stream",
     "text": [
      "\n",
      "1 Failed download:\n",
      "['CRR']: Exception('%ticker%: No data found, symbol may be delisted')\n"
     ]
    },
    {
     "name": "stdout",
     "output_type": "stream",
     "text": [
      "5015 di 5220) Caricamento ticker CMB  "
     ]
    },
    {
     "name": "stderr",
     "output_type": "stream",
     "text": [
      "\n",
      "1 Failed download:\n",
      "['CMB']: Exception('%ticker%: No price data found, symbol may be delisted (period=1y)')\n"
     ]
    },
    {
     "name": "stdout",
     "output_type": "stream",
     "text": [
      "5017 di 5220) Caricamento ticker CLI "
     ]
    },
    {
     "name": "stderr",
     "output_type": "stream",
     "text": [
      "\n",
      "1 Failed download:\n",
      "['CLI']: Exception('%ticker%: No data found, symbol may be delisted')\n"
     ]
    },
    {
     "name": "stdout",
     "output_type": "stream",
     "text": [
      "\r",
      "5018 di 5220) Caricamento ticker CHL "
     ]
    },
    {
     "name": "stderr",
     "output_type": "stream",
     "text": [
      "\n",
      "1 Failed download:\n",
      "['CHL']: Exception('%ticker%: No data found, symbol may be delisted')\n"
     ]
    },
    {
     "name": "stdout",
     "output_type": "stream",
     "text": [
      "5020 di 5220) Caricamento ticker CLE "
     ]
    },
    {
     "name": "stderr",
     "output_type": "stream",
     "text": [
      "\n",
      "1 Failed download:\n",
      "['CLE']: Exception('%ticker%: No price data found, symbol may be delisted (period=1y)')\n"
     ]
    },
    {
     "name": "stdout",
     "output_type": "stream",
     "text": [
      "5028 di 5220) Caricamento ticker CSP  "
     ]
    },
    {
     "name": "stderr",
     "output_type": "stream",
     "text": [
      "\n",
      "1 Failed download:\n",
      "['CSP']: Exception('%ticker%: No price data found, symbol may be delisted (period=1y)')\n"
     ]
    },
    {
     "name": "stdout",
     "output_type": "stream",
     "text": [
      "5033 di 5220) Caricamento ticker CPR  "
     ]
    },
    {
     "name": "stderr",
     "output_type": "stream",
     "text": [
      "\n",
      "1 Failed download:\n",
      "['CPR']: Exception('%ticker%: No price data found, symbol may be delisted (period=1y)')\n"
     ]
    },
    {
     "name": "stdout",
     "output_type": "stream",
     "text": [
      "\r",
      "5034 di 5220) Caricamento ticker DLG "
     ]
    },
    {
     "name": "stderr",
     "output_type": "stream",
     "text": [
      "\n",
      "1 Failed download:\n",
      "['DLG']: Exception('%ticker%: No price data found, symbol may be delisted (period=1y)')\n"
     ]
    },
    {
     "name": "stdout",
     "output_type": "stream",
     "text": [
      "\r",
      "5035 di 5220) Caricamento ticker DBK "
     ]
    },
    {
     "name": "stderr",
     "output_type": "stream",
     "text": [
      "\n",
      "1 Failed download:\n",
      "['DBK']: Exception('%ticker%: No price data found, symbol may be delisted (period=1y)')\n"
     ]
    },
    {
     "name": "stdout",
     "output_type": "stream",
     "text": [
      "\r",
      "5036 di 5220) Caricamento ticker LHA "
     ]
    },
    {
     "name": "stderr",
     "output_type": "stream",
     "text": [
      "\n",
      "1 Failed download:\n",
      "['LHA']: Exception('%ticker%: No price data found, symbol may be delisted (period=1y)')\n"
     ]
    },
    {
     "name": "stdout",
     "output_type": "stream",
     "text": [
      "5039 di 5220) Caricamento ticker DIB "
     ]
    },
    {
     "name": "stderr",
     "output_type": "stream",
     "text": [
      "\n",
      "1 Failed download:\n",
      "['DIB']: Exception('%ticker%: No price data found, symbol may be delisted (period=1y)')\n"
     ]
    },
    {
     "name": "stdout",
     "output_type": "stream",
     "text": [
      "\r",
      "5040 di 5220) Caricamento ticker DGV "
     ]
    },
    {
     "name": "stderr",
     "output_type": "stream",
     "text": [
      "\n",
      "1 Failed download:\n",
      "['DGV']: Exception('%ticker%: No price data found, symbol may be delisted (period=1y)')\n"
     ]
    },
    {
     "name": "stdout",
     "output_type": "stream",
     "text": [
      "5042 di 5220) Caricamento ticker EOAN "
     ]
    },
    {
     "name": "stderr",
     "output_type": "stream",
     "text": [
      "\n",
      "1 Failed download:\n",
      "['EOAN']: Exception('%ticker%: No data found, symbol may be delisted')\n"
     ]
    },
    {
     "name": "stdout",
     "output_type": "stream",
     "text": [
      "\r",
      "5043 di 5220) Caricamento ticker EDNR "
     ]
    },
    {
     "name": "stderr",
     "output_type": "stream",
     "text": [
      "\n",
      "1 Failed download:\n",
      "['EDNR']: Exception('%ticker%: No data found, symbol may be delisted')\n"
     ]
    },
    {
     "name": "stdout",
     "output_type": "stream",
     "text": [
      "5045 di 5220) Caricamento ticker ELN  "
     ]
    },
    {
     "name": "stderr",
     "output_type": "stream",
     "text": [
      "\n",
      "1 Failed download:\n",
      "['ELN']: Exception('%ticker%: No price data found, symbol may be delisted (period=1y)')\n"
     ]
    },
    {
     "name": "stdout",
     "output_type": "stream",
     "text": [
      "5049 di 5220) Caricamento ticker ENEL "
     ]
    },
    {
     "name": "stderr",
     "output_type": "stream",
     "text": [
      "\n",
      "1 Failed download:\n",
      "['ENEL']: Exception('%ticker%: No data found, symbol may be delisted')\n"
     ]
    },
    {
     "name": "stdout",
     "output_type": "stream",
     "text": [
      "5051 di 5220) Caricamento ticker ENGI "
     ]
    },
    {
     "name": "stderr",
     "output_type": "stream",
     "text": [
      "\n",
      "1 Failed download:\n",
      "['ENGI']: Exception('%ticker%: No data found, symbol may be delisted')\n"
     ]
    },
    {
     "name": "stdout",
     "output_type": "stream",
     "text": [
      "\r",
      "5052 di 5220) Caricamento ticker ENI "
     ]
    },
    {
     "name": "stderr",
     "output_type": "stream",
     "text": [
      "\n",
      "1 Failed download:\n",
      "['ENI']: Exception('%ticker%: No price data found, symbol may be delisted (period=1y)')\n"
     ]
    },
    {
     "name": "stdout",
     "output_type": "stream",
     "text": [
      "5054 di 5220) Caricamento ticker EQUI "
     ]
    },
    {
     "name": "stderr",
     "output_type": "stream",
     "text": [
      "\n",
      "1 Failed download:\n",
      "['EQUI']: Exception('%ticker%: No data found, symbol may be delisted')\n"
     ]
    },
    {
     "name": "stdout",
     "output_type": "stream",
     "text": [
      "\r",
      "5055 di 5220) Caricamento ticker ERG "
     ]
    },
    {
     "name": "stderr",
     "output_type": "stream",
     "text": [
      "\n",
      "1 Failed download:\n",
      "['ERG']: Exception('%ticker%: No price data found, symbol may be delisted (period=1y)')\n"
     ]
    },
    {
     "name": "stdout",
     "output_type": "stream",
     "text": [
      "5058 di 5220) Caricamento ticker EUK "
     ]
    },
    {
     "name": "stderr",
     "output_type": "stream",
     "text": [
      "\n",
      "1 Failed download:\n",
      "['EUK']: Exception('%ticker%: No price data found, symbol may be delisted (period=1y)')\n"
     ]
    },
    {
     "name": "stdout",
     "output_type": "stream",
     "text": [
      "\r",
      "5059 di 5220) Caricamento ticker EGLA "
     ]
    },
    {
     "name": "stderr",
     "output_type": "stream",
     "text": [
      "\n",
      "1 Failed download:\n",
      "['EGLA']: Exception('%ticker%: No price data found, symbol may be delisted (period=1y)')\n"
     ]
    },
    {
     "name": "stdout",
     "output_type": "stream",
     "text": [
      "\r",
      "5060 di 5220) Caricamento ticker ETH "
     ]
    },
    {
     "name": "stderr",
     "output_type": "stream",
     "text": [
      "\n",
      "1 Failed download:\n",
      "['ETH']: Exception('%ticker%: No data found, symbol may be delisted')\n"
     ]
    },
    {
     "name": "stdout",
     "output_type": "stream",
     "text": [
      "\r",
      "5061 di 5220) Caricamento ticker XPR "
     ]
    },
    {
     "name": "stderr",
     "output_type": "stream",
     "text": [
      "\n",
      "1 Failed download:\n",
      "['XPR']: Exception('%ticker%: No price data found, symbol may be delisted (period=1y)')\n"
     ]
    },
    {
     "name": "stdout",
     "output_type": "stream",
     "text": [
      "5063 di 5220) Caricamento ticker FDA  "
     ]
    },
    {
     "name": "stderr",
     "output_type": "stream",
     "text": [
      "\n",
      "1 Failed download:\n",
      "['FDA']: Exception('%ticker%: No price data found, symbol may be delisted (period=1y)')\n"
     ]
    },
    {
     "name": "stdout",
     "output_type": "stream",
     "text": [
      "5065 di 5220) Caricamento ticker FILA "
     ]
    },
    {
     "name": "stderr",
     "output_type": "stream",
     "text": [
      "\n",
      "1 Failed download:\n",
      "['FILA']: Exception('%ticker%: No data found, symbol may be delisted')\n"
     ]
    },
    {
     "name": "stdout",
     "output_type": "stream",
     "text": [
      "5069 di 5220) Caricamento ticker FNM "
     ]
    },
    {
     "name": "stderr",
     "output_type": "stream",
     "text": [
      "\n",
      "1 Failed download:\n",
      "['FNM']: Exception('%ticker%: No price data found, symbol may be delisted (period=1y)')\n"
     ]
    },
    {
     "name": "stdout",
     "output_type": "stream",
     "text": [
      "\r",
      "5070 di 5220) Caricamento ticker FRVIA "
     ]
    },
    {
     "name": "stderr",
     "output_type": "stream",
     "text": [
      "\n",
      "1 Failed download:\n",
      "['FRVIA']: Exception('%ticker%: No data found, symbol may be delisted')\n"
     ]
    },
    {
     "name": "stdout",
     "output_type": "stream",
     "text": [
      "\r",
      "5071 di 5220) Caricamento ticker BRE "
     ]
    },
    {
     "name": "stderr",
     "output_type": "stream",
     "text": [
      "\n",
      "1 Failed download:\n",
      "['BRE']: Exception('%ticker%: No price data found, symbol may be delisted (period=1y)')\n"
     ]
    },
    {
     "name": "stdout",
     "output_type": "stream",
     "text": [
      "\r",
      "5072 di 5220) Caricamento ticker 1FRE "
     ]
    },
    {
     "name": "stderr",
     "output_type": "stream",
     "text": [
      "\n",
      "1 Failed download:\n",
      "['1FRE']: Exception('%ticker%: No data found, symbol may be delisted')\n"
     ]
    },
    {
     "name": "stdout",
     "output_type": "stream",
     "text": [
      "5080 di 5220) Caricamento ticker GEQ "
     ]
    },
    {
     "name": "stderr",
     "output_type": "stream",
     "text": [
      "\n",
      "1 Failed download:\n",
      "['GEQ']: Exception('%ticker%: No price data found, symbol may be delisted (period=1y)')\n"
     ]
    },
    {
     "name": "stdout",
     "output_type": "stream",
     "text": [
      "\r",
      "5081 di 5220) Caricamento ticker GG "
     ]
    },
    {
     "name": "stderr",
     "output_type": "stream",
     "text": [
      "\n",
      "1 Failed download:\n",
      "['GG']: Exception('%ticker%: No data found, symbol may be delisted')\n"
     ]
    },
    {
     "name": "stdout",
     "output_type": "stream",
     "text": [
      "5084 di 5220) Caricamento ticker MOL "
     ]
    },
    {
     "name": "stderr",
     "output_type": "stream",
     "text": [
      "\n",
      "1 Failed download:\n",
      "['MOL']: Exception('%ticker%: No data found, symbol may be delisted')\n"
     ]
    },
    {
     "name": "stdout",
     "output_type": "stream",
     "text": [
      "\r",
      "5085 di 5220) Caricamento ticker GVS "
     ]
    },
    {
     "name": "stderr",
     "output_type": "stream",
     "text": [
      "\n",
      "1 Failed download:\n",
      "['GVS']: Exception(\"%ticker%: Period '1y' is invalid, must be one of ['1d', '5d']\")\n"
     ]
    },
    {
     "name": "stdout",
     "output_type": "stream",
     "text": [
      "5087 di 5220) Caricamento ticker HER "
     ]
    },
    {
     "name": "stderr",
     "output_type": "stream",
     "text": [
      "\n",
      "1 Failed download:\n",
      "['HER']: Exception('%ticker%: No data found, symbol may be delisted')\n"
     ]
    },
    {
     "name": "stdout",
     "output_type": "stream",
     "text": [
      "5089 di 5220) Caricamento ticker IBE "
     ]
    },
    {
     "name": "stderr",
     "output_type": "stream",
     "text": [
      "\n",
      "1 Failed download:\n",
      "['IBE']: Exception('%ticker%: No price data found, symbol may be delisted (period=1y)')\n"
     ]
    },
    {
     "name": "stdout",
     "output_type": "stream",
     "text": [
      "\r",
      "5090 di 5220) Caricamento ticker S24 "
     ]
    },
    {
     "name": "stderr",
     "output_type": "stream",
     "text": [
      "\n",
      "1 Failed download:\n",
      "['S24']: Exception('%ticker%: No data found, symbol may be delisted')\n"
     ]
    },
    {
     "name": "stdout",
     "output_type": "stream",
     "text": [
      "\r",
      "5091 di 5220) Caricamento ticker ILTY "
     ]
    },
    {
     "name": "stderr",
     "output_type": "stream",
     "text": [
      "\n",
      "1 Failed download:\n",
      "['ILTY']: Exception('%ticker%: No data found, symbol may be delisted')\n"
     ]
    },
    {
     "name": "stdout",
     "output_type": "stream",
     "text": [
      "5093 di 5220) Caricamento ticker IMS "
     ]
    },
    {
     "name": "stderr",
     "output_type": "stream",
     "text": [
      "\n",
      "1 Failed download:\n",
      "['IMS']: Exception('%ticker%: No price data found, symbol may be delisted (period=1y)')\n"
     ]
    },
    {
     "name": "stdout",
     "output_type": "stream",
     "text": [
      "5095 di 5220) Caricamento ticker DNR  "
     ]
    },
    {
     "name": "stderr",
     "output_type": "stream",
     "text": [
      "\n",
      "1 Failed download:\n",
      "['DNR']: Exception('%ticker%: No data found, symbol may be delisted')\n"
     ]
    },
    {
     "name": "stdout",
     "output_type": "stream",
     "text": [
      "\r",
      "5096 di 5220) Caricamento ticker IFX "
     ]
    },
    {
     "name": "stderr",
     "output_type": "stream",
     "text": [
      "\n",
      "1 Failed download:\n",
      "['IFX']: Exception('%ticker%: No price data found, symbol may be delisted (period=1y)')\n"
     ]
    },
    {
     "name": "stdout",
     "output_type": "stream",
     "text": [
      "\r",
      "5097 di 5220) Caricamento ticker INW "
     ]
    },
    {
     "name": "stderr",
     "output_type": "stream",
     "text": [
      "\n",
      "1 Failed download:\n",
      "['INW']: Exception('%ticker%: No price data found, symbol may be delisted (period=1y)')\n"
     ]
    },
    {
     "name": "stdout",
     "output_type": "stream",
     "text": [
      "\r",
      "5098 di 5220) Caricamento ticker INGA "
     ]
    },
    {
     "name": "stderr",
     "output_type": "stream",
     "text": [
      "\n",
      "1 Failed download:\n",
      "['INGA']: Exception('%ticker%: No price data found, symbol may be delisted (period=1y)')\n"
     ]
    },
    {
     "name": "stdout",
     "output_type": "stream",
     "text": [
      "\r",
      "5099 di 5220) Caricamento ticker KME "
     ]
    },
    {
     "name": "stderr",
     "output_type": "stream",
     "text": [
      "\n",
      "1 Failed download:\n",
      "['KME']: Exception('%ticker%: No price data found, symbol may be delisted (period=1y)')\n"
     ]
    },
    {
     "name": "stdout",
     "output_type": "stream",
     "text": [
      "\r",
      "5100 di 5220) Caricamento ticker KMER "
     ]
    },
    {
     "name": "stderr",
     "output_type": "stream",
     "text": [
      "\n",
      "1 Failed download:\n",
      "['KMER']: Exception('%ticker%: No data found, symbol may be delisted')\n"
     ]
    },
    {
     "name": "stdout",
     "output_type": "stream",
     "text": [
      "\r",
      "5101 di 5220) Caricamento ticker ICOS "
     ]
    },
    {
     "name": "stderr",
     "output_type": "stream",
     "text": [
      "\n",
      "1 Failed download:\n",
      "['ICOS']: Exception('%ticker%: No price data found, symbol may be delisted (period=1y)')\n"
     ]
    },
    {
     "name": "stdout",
     "output_type": "stream",
     "text": [
      "5104 di 5220) Caricamento ticker IRC "
     ]
    },
    {
     "name": "stderr",
     "output_type": "stream",
     "text": [
      "\n",
      "1 Failed download:\n",
      "['IRC']: Exception('%ticker%: No price data found, symbol may be delisted (period=1y)')\n"
     ]
    },
    {
     "name": "stdout",
     "output_type": "stream",
     "text": [
      "\r",
      "5105 di 5220) Caricamento ticker IRE "
     ]
    },
    {
     "name": "stderr",
     "output_type": "stream",
     "text": [
      "\n",
      "1 Failed download:\n",
      "['IRE']: Exception('%ticker%: No price data found, symbol may be delisted (period=1y)')\n"
     ]
    },
    {
     "name": "stdout",
     "output_type": "stream",
     "text": [
      "5107 di 5220) Caricamento ticker IEG "
     ]
    },
    {
     "name": "stderr",
     "output_type": "stream",
     "text": [
      "\n",
      "1 Failed download:\n",
      "['IEG']: Exception('%ticker%: No price data found, symbol may be delisted (period=1y)')\n"
     ]
    },
    {
     "name": "stdout",
     "output_type": "stream",
     "text": [
      "5110 di 5220) Caricamento ticker IVG "
     ]
    },
    {
     "name": "stderr",
     "output_type": "stream",
     "text": [
      "\n",
      "1 Failed download:\n",
      "['IVG']: Exception('%ticker%: No price data found, symbol may be delisted (period=1y)')\n"
     ]
    },
    {
     "name": "stdout",
     "output_type": "stream",
     "text": [
      "\r",
      "5111 di 5220) Caricamento ticker IVS "
     ]
    },
    {
     "name": "stderr",
     "output_type": "stream",
     "text": [
      "\n",
      "1 Failed download:\n",
      "['IVS']: Exception('%ticker%: No price data found, symbol may be delisted (period=1y)')\n"
     ]
    },
    {
     "name": "stdout",
     "output_type": "stream",
     "text": [
      "\r",
      "5112 di 5220) Caricamento ticker JUVE "
     ]
    },
    {
     "name": "stderr",
     "output_type": "stream",
     "text": [
      "\n",
      "1 Failed download:\n",
      "['JUVE']: Exception('%ticker%: No data found, symbol may be delisted')\n"
     ]
    },
    {
     "name": "stdout",
     "output_type": "stream",
     "text": [
      "\r",
      "5113 di 5220) Caricamento ticker KER "
     ]
    },
    {
     "name": "stderr",
     "output_type": "stream",
     "text": [
      "\n",
      "1 Failed download:\n",
      "['KER']: Exception('%ticker%: No price data found, symbol may be delisted (period=1y)')\n"
     ]
    },
    {
     "name": "stdout",
     "output_type": "stream",
     "text": [
      "\r",
      "5114 di 5220) Caricamento ticker AD "
     ]
    },
    {
     "name": "stderr",
     "output_type": "stream",
     "text": [
      "\n",
      "1 Failed download:\n",
      "['AD']: Exception('%ticker%: No price data found, symbol may be delisted (period=1y)')\n"
     ]
    },
    {
     "name": "stdout",
     "output_type": "stream",
     "text": [
      "\r",
      "5115 di 5220) Caricamento ticker PHIA "
     ]
    },
    {
     "name": "stderr",
     "output_type": "stream",
     "text": [
      "\n",
      "1 Failed download:\n",
      "['PHIA']: Exception('%ticker%: No data found, symbol may be delisted')\n"
     ]
    },
    {
     "name": "stdout",
     "output_type": "stream",
     "text": [
      "\r",
      "5116 di 5220) Caricamento ticker LR "
     ]
    },
    {
     "name": "stderr",
     "output_type": "stream",
     "text": [
      "\n",
      "1 Failed download:\n",
      "['LR']: Exception('%ticker%: No price data found, symbol may be delisted (period=1y)')\n"
     ]
    },
    {
     "name": "stdout",
     "output_type": "stream",
     "text": [
      "\r",
      "5117 di 5220) Caricamento ticker LDO "
     ]
    },
    {
     "name": "stderr",
     "output_type": "stream",
     "text": [
      "\n",
      "1 Failed download:\n",
      "['LDO']: Exception('%ticker%: No price data found, symbol may be delisted (period=1y)')\n"
     ]
    },
    {
     "name": "stdout",
     "output_type": "stream",
     "text": [
      "\r",
      "5118 di 5220) Caricamento ticker LTMC "
     ]
    },
    {
     "name": "stderr",
     "output_type": "stream",
     "text": [
      "\n",
      "1 Failed download:\n",
      "['LTMC']: Exception('%ticker%: No data found, symbol may be delisted')\n"
     ]
    },
    {
     "name": "stdout",
     "output_type": "stream",
     "text": [
      "\r",
      "5119 di 5220) Caricamento ticker LUVE "
     ]
    },
    {
     "name": "stderr",
     "output_type": "stream",
     "text": [
      "\n",
      "1 Failed download:\n",
      "['LUVE']: Exception('%ticker%: No data found, symbol may be delisted')\n"
     ]
    },
    {
     "name": "stdout",
     "output_type": "stream",
     "text": [
      "\r",
      "5120 di 5220) Caricamento ticker LVEN "
     ]
    },
    {
     "name": "stderr",
     "output_type": "stream",
     "text": [
      "\n",
      "1 Failed download:\n",
      "['LVEN']: Exception('%ticker%: No data found, symbol may be delisted')\n"
     ]
    },
    {
     "name": "stdout",
     "output_type": "stream",
     "text": [
      "\r",
      "5121 di 5220) Caricamento ticker LVMH "
     ]
    },
    {
     "name": "stderr",
     "output_type": "stream",
     "text": [
      "\n",
      "1 Failed download:\n",
      "['LVMH']: Exception('%ticker%: No data found, symbol may be delisted')\n"
     ]
    },
    {
     "name": "stdout",
     "output_type": "stream",
     "text": [
      "5123 di 5220) Caricamento ticker MARR "
     ]
    },
    {
     "name": "stderr",
     "output_type": "stream",
     "text": [
      "\n",
      "1 Failed download:\n",
      "['MARR']: Exception('%ticker%: No data found, symbol may be delisted')\n"
     ]
    },
    {
     "name": "stdout",
     "output_type": "stream",
     "text": [
      "\r",
      "5124 di 5220) Caricamento ticker MB "
     ]
    },
    {
     "name": "stderr",
     "output_type": "stream",
     "text": [
      "\n",
      "1 Failed download:\n",
      "['MB']: Exception('%ticker%: No data found, symbol may be delisted')\n"
     ]
    },
    {
     "name": "stdout",
     "output_type": "stream",
     "text": [
      "5126 di 5220) Caricamento ticker MFEA "
     ]
    },
    {
     "name": "stderr",
     "output_type": "stream",
     "text": [
      "\n",
      "1 Failed download:\n",
      "['MFEA']: Exception('%ticker%: No data found, symbol may be delisted')\n"
     ]
    },
    {
     "name": "stdout",
     "output_type": "stream",
     "text": [
      "\r",
      "5127 di 5220) Caricamento ticker MFEB "
     ]
    },
    {
     "name": "stderr",
     "output_type": "stream",
     "text": [
      "\n",
      "1 Failed download:\n",
      "['MFEB']: Exception('%ticker%: No data found, symbol may be delisted')\n"
     ]
    },
    {
     "name": "stdout",
     "output_type": "stream",
     "text": [
      "\r",
      "5128 di 5220) Caricamento ticker MIT "
     ]
    },
    {
     "name": "stderr",
     "output_type": "stream",
     "text": [
      "\n",
      "1 Failed download:\n",
      "['MIT']: Exception('%ticker%: No data found, symbol may be delisted')\n"
     ]
    },
    {
     "name": "stdout",
     "output_type": "stream",
     "text": [
      "\r",
      "5129 di 5220) Caricamento ticker MONC "
     ]
    },
    {
     "name": "stderr",
     "output_type": "stream",
     "text": [
      "\n",
      "1 Failed download:\n",
      "['MONC']: Exception('%ticker%: No data found, symbol may be delisted')\n"
     ]
    },
    {
     "name": "stdout",
     "output_type": "stream",
     "text": [
      "\r",
      "5130 di 5220) Caricamento ticker MN "
     ]
    },
    {
     "name": "stderr",
     "output_type": "stream",
     "text": [
      "\n",
      "1 Failed download:\n",
      "['MN']: Exception('%ticker%: No data found, symbol may be delisted')\n"
     ]
    },
    {
     "name": "stdout",
     "output_type": "stream",
     "text": [
      "\r",
      "5131 di 5220) Caricamento ticker MTV "
     ]
    },
    {
     "name": "stderr",
     "output_type": "stream",
     "text": [
      "\n",
      "1 Failed download:\n",
      "['MTV']: Exception('%ticker%: No price data found, symbol may be delisted (period=1y)')\n"
     ]
    },
    {
     "name": "stdout",
     "output_type": "stream",
     "text": [
      "\r",
      "5132 di 5220) Caricamento ticker MON "
     ]
    },
    {
     "name": "stderr",
     "output_type": "stream",
     "text": [
      "\n",
      "1 Failed download:\n",
      "['MON']: Exception('%ticker%: No data found, symbol may be delisted')\n"
     ]
    },
    {
     "name": "stdout",
     "output_type": "stream",
     "text": [
      "\r",
      "5133 di 5220) Caricamento ticker MUV2 "
     ]
    },
    {
     "name": "stderr",
     "output_type": "stream",
     "text": [
      "\n",
      "1 Failed download:\n",
      "['MUV2']: Exception('%ticker%: No data found, symbol may be delisted')\n"
     ]
    },
    {
     "name": "stdout",
     "output_type": "stream",
     "text": [
      "\r",
      "5134 di 5220) Caricamento ticker NDT "
     ]
    },
    {
     "name": "stderr",
     "output_type": "stream",
     "text": [
      "\n",
      "1 Failed download:\n",
      "['NDT']: Exception('%ticker%: No price data found, symbol may be delisted (period=1y)')\n"
     ]
    },
    {
     "name": "stdout",
     "output_type": "stream",
     "text": [
      "\r",
      "5135 di 5220) Caricamento ticker NTW "
     ]
    },
    {
     "name": "stderr",
     "output_type": "stream",
     "text": [
      "\n",
      "1 Failed download:\n",
      "['NTW']: Exception('%ticker%: No price data found, symbol may be delisted (period=1y)')\n"
     ]
    },
    {
     "name": "stdout",
     "output_type": "stream",
     "text": [
      "5138 di 5220) Caricamento ticker NOKIA "
     ]
    },
    {
     "name": "stderr",
     "output_type": "stream",
     "text": [
      "\n",
      "1 Failed download:\n",
      "['NOKIA']: Exception('%ticker%: No data found, symbol may be delisted')\n"
     ]
    },
    {
     "name": "stdout",
     "output_type": "stream",
     "text": [
      "5140 di 5220) Caricamento ticker OLI "
     ]
    },
    {
     "name": "stderr",
     "output_type": "stream",
     "text": [
      "\n",
      "1 Failed download:\n",
      "['OLI']: Exception('%ticker%: No price data found, symbol may be delisted (period=1y)')\n"
     ]
    },
    {
     "name": "stdout",
     "output_type": "stream",
     "text": [
      "\r",
      "5141 di 5220) Caricamento ticker OJM "
     ]
    },
    {
     "name": "stderr",
     "output_type": "stream",
     "text": [
      "\n",
      "1 Failed download:\n",
      "['OJM']: Exception('%ticker%: No price data found, symbol may be delisted (period=1y)')\n"
     ]
    },
    {
     "name": "stdout",
     "output_type": "stream",
     "text": [
      "5143 di 5220) Caricamento ticker ORS "
     ]
    },
    {
     "name": "stderr",
     "output_type": "stream",
     "text": [
      "\n",
      "1 Failed download:\n",
      "['ORS']: Exception('%ticker%: No data found, symbol may be delisted')\n"
     ]
    },
    {
     "name": "stdout",
     "output_type": "stream",
     "text": [
      "5145 di 5220) Caricamento ticker PHN "
     ]
    },
    {
     "name": "stderr",
     "output_type": "stream",
     "text": [
      "\n",
      "1 Failed download:\n",
      "['PHN']: Exception('%ticker%: No price data found, symbol may be delisted (period=1y)')\n"
     ]
    },
    {
     "name": "stdout",
     "output_type": "stream",
     "text": [
      "5147 di 5220) Caricamento ticker PIA  "
     ]
    },
    {
     "name": "stderr",
     "output_type": "stream",
     "text": [
      "\n",
      "1 Failed download:\n",
      "['PIA']: Exception('%ticker%: No price data found, symbol may be delisted (period=1y)')\n"
     ]
    },
    {
     "name": "stdout",
     "output_type": "stream",
     "text": [
      "\r",
      "5148 di 5220) Caricamento ticker PRL "
     ]
    },
    {
     "name": "stderr",
     "output_type": "stream",
     "text": [
      "\n",
      "1 Failed download:\n",
      "['PRL']: Exception('%ticker%: No price data found, symbol may be delisted (period=1y)')\n"
     ]
    },
    {
     "name": "stdout",
     "output_type": "stream",
     "text": [
      "\r",
      "5149 di 5220) Caricamento ticker PINF "
     ]
    },
    {
     "name": "stderr",
     "output_type": "stream",
     "text": [
      "\n",
      "1 Failed download:\n",
      "['PINF']: Exception('%ticker%: No data found, symbol may be delisted')\n"
     ]
    },
    {
     "name": "stdout",
     "output_type": "stream",
     "text": [
      "\r",
      "5150 di 5220) Caricamento ticker PVN "
     ]
    },
    {
     "name": "stderr",
     "output_type": "stream",
     "text": [
      "\n",
      "1 Failed download:\n",
      "['PVN']: Exception('%ticker%: No price data found, symbol may be delisted (period=1y)')\n"
     ]
    },
    {
     "name": "stdout",
     "output_type": "stream",
     "text": [
      "\r",
      "5151 di 5220) Caricamento ticker PQ "
     ]
    },
    {
     "name": "stderr",
     "output_type": "stream",
     "text": [
      "\n",
      "1 Failed download:\n",
      "['PQ']: Exception('%ticker%: No price data found, symbol may be delisted (period=1y)')\n"
     ]
    },
    {
     "name": "stdout",
     "output_type": "stream",
     "text": [
      "\r",
      "5152 di 5220) Caricamento ticker PIRC "
     ]
    },
    {
     "name": "stderr",
     "output_type": "stream",
     "text": [
      "\n",
      "1 Failed download:\n",
      "['PIRC']: Exception('%ticker%: No data found, symbol may be delisted')\n"
     ]
    },
    {
     "name": "stdout",
     "output_type": "stream",
     "text": [
      "\r",
      "5153 di 5220) Caricamento ticker PLC "
     ]
    },
    {
     "name": "stderr",
     "output_type": "stream",
     "text": [
      "\n",
      "1 Failed download:\n",
      "['PLC']: Exception('%ticker%: No price data found, symbol may be delisted (period=1y)')\n"
     ]
    },
    {
     "name": "stdout",
     "output_type": "stream",
     "text": [
      "5155 di 5220) Caricamento ticker PRY "
     ]
    },
    {
     "name": "stderr",
     "output_type": "stream",
     "text": [
      "\n",
      "1 Failed download:\n",
      "['PRY']: Exception('%ticker%: No price data found, symbol may be delisted (period=1y)')\n"
     ]
    },
    {
     "name": "stdout",
     "output_type": "stream",
     "text": [
      "\r",
      "5156 di 5220) Caricamento ticker PUM "
     ]
    },
    {
     "name": "stderr",
     "output_type": "stream",
     "text": [
      "\n",
      "1 Failed download:\n",
      "['PUM']: Exception('%ticker%: No price data found, symbol may be delisted (period=1y)')\n"
     ]
    },
    {
     "name": "stdout",
     "output_type": "stream",
     "text": [
      "5158 di 5220) Caricamento ticker RAT  "
     ]
    },
    {
     "name": "stderr",
     "output_type": "stream",
     "text": [
      "\n",
      "1 Failed download:\n",
      "['RAT']: Exception('%ticker%: No price data found, symbol may be delisted (period=1y)')\n"
     ]
    },
    {
     "name": "stdout",
     "output_type": "stream",
     "text": [
      "5160 di 5220) Caricamento ticker RNO "
     ]
    },
    {
     "name": "stderr",
     "output_type": "stream",
     "text": [
      "\n",
      "1 Failed download:\n",
      "['RNO']: Exception('%ticker%: No price data found, symbol may be delisted (period=1y)')\n"
     ]
    },
    {
     "name": "stdout",
     "output_type": "stream",
     "text": [
      "\r",
      "5161 di 5220) Caricamento ticker REY "
     ]
    },
    {
     "name": "stderr",
     "output_type": "stream",
     "text": [
      "\n",
      "1 Failed download:\n",
      "['REY']: Exception('%ticker%: No price data found, symbol may be delisted (period=1y)')\n"
     ]
    },
    {
     "name": "stdout",
     "output_type": "stream",
     "text": [
      "\r",
      "5162 di 5220) Caricamento ticker RST "
     ]
    },
    {
     "name": "stderr",
     "output_type": "stream",
     "text": [
      "\n",
      "1 Failed download:\n",
      "['RST']: Exception('%ticker%: No data found, symbol may be delisted')\n"
     ]
    },
    {
     "name": "stdout",
     "output_type": "stream",
     "text": [
      "\r",
      "5163 di 5220) Caricamento ticker RN "
     ]
    },
    {
     "name": "stderr",
     "output_type": "stream",
     "text": [
      "\n",
      "1 Failed download:\n",
      "['RN']: Exception('%ticker%: No price data found, symbol may be delisted (period=1y)')\n"
     ]
    },
    {
     "name": "stdout",
     "output_type": "stream",
     "text": [
      "5165 di 5220) Caricamento ticker RWE "
     ]
    },
    {
     "name": "stderr",
     "output_type": "stream",
     "text": [
      "\n",
      "1 Failed download:\n",
      "['RWE']: Exception('%ticker%: No price data found, symbol may be delisted (period=1y)')\n"
     ]
    },
    {
     "name": "stdout",
     "output_type": "stream",
     "text": [
      "\r",
      "5166 di 5220) Caricamento ticker SAB "
     ]
    },
    {
     "name": "stderr",
     "output_type": "stream",
     "text": [
      "\n",
      "1 Failed download:\n",
      "['SAB']: Exception('%ticker%: No price data found, symbol may be delisted (period=1y)')\n"
     ]
    },
    {
     "name": "stdout",
     "output_type": "stream",
     "text": [
      "5168 di 5220) Caricamento ticker SGR "
     ]
    },
    {
     "name": "stderr",
     "output_type": "stream",
     "text": [
      "\n",
      "1 Failed download:\n",
      "['SGR']: Exception('%ticker%: No price data found, symbol may be delisted (period=1y)')\n"
     ]
    },
    {
     "name": "stdout",
     "output_type": "stream",
     "text": [
      "5170 di 5220) Caricamento ticker SPM "
     ]
    },
    {
     "name": "stderr",
     "output_type": "stream",
     "text": [
      "\n",
      "1 Failed download:\n",
      "['SPM']: Exception('%ticker%: No price data found, symbol may be delisted (period=1y)')\n"
     ]
    },
    {
     "name": "stdout",
     "output_type": "stream",
     "text": [
      "\r",
      "5171 di 5220) Caricamento ticker SCF "
     ]
    },
    {
     "name": "stderr",
     "output_type": "stream",
     "text": [
      "\n",
      "1 Failed download:\n",
      "['SCF']: Exception('%ticker%: No price data found, symbol may be delisted (period=1y)')\n"
     ]
    },
    {
     "name": "stdout",
     "output_type": "stream",
     "text": [
      "\r",
      "5172 di 5220) Caricamento ticker SFER "
     ]
    },
    {
     "name": "stderr",
     "output_type": "stream",
     "text": [
      "\n",
      "1 Failed download:\n",
      "['SFER']: Exception('%ticker%: No data found, symbol may be delisted')\n"
     ]
    },
    {
     "name": "stdout",
     "output_type": "stream",
     "text": [
      "\r",
      "5173 di 5220) Caricamento ticker SL "
     ]
    },
    {
     "name": "stderr",
     "output_type": "stream",
     "text": [
      "\n",
      "1 Failed download:\n",
      "['SL']: Exception('%ticker%: No price data found, symbol may be delisted (period=1y)')\n"
     ]
    },
    {
     "name": "stdout",
     "output_type": "stream",
     "text": [
      "\r",
      "5174 di 5220) Caricamento ticker SANF "
     ]
    },
    {
     "name": "stderr",
     "output_type": "stream",
     "text": [
      "\n",
      "1 Failed download:\n",
      "['SANF']: Exception('%ticker%: No data found, symbol may be delisted')\n"
     ]
    },
    {
     "name": "stdout",
     "output_type": "stream",
     "text": [
      "5178 di 5220) Caricamento ticker SERI "
     ]
    },
    {
     "name": "stderr",
     "output_type": "stream",
     "text": [
      "\n",
      "1 Failed download:\n",
      "['SERI']: Exception('%ticker%: No data found, symbol may be delisted')\n"
     ]
    },
    {
     "name": "stdout",
     "output_type": "stream",
     "text": [
      "5181 di 5220) Caricamento ticker 1SIE "
     ]
    },
    {
     "name": "stderr",
     "output_type": "stream",
     "text": [
      "\n",
      "1 Failed download:\n",
      "['1SIE']: Exception('%ticker%: No data found, symbol may be delisted')\n"
     ]
    },
    {
     "name": "stdout",
     "output_type": "stream",
     "text": [
      "5183 di 5220) Caricamento ticker SIT "
     ]
    },
    {
     "name": "stderr",
     "output_type": "stream",
     "text": [
      "\n",
      "1 Failed download:\n",
      "['SIT']: Exception('%ticker%: No price data found, symbol may be delisted (period=1y)')\n"
     ]
    },
    {
     "name": "stdout",
     "output_type": "stream",
     "text": [
      "5185 di 5220) Caricamento ticker GLE "
     ]
    },
    {
     "name": "stderr",
     "output_type": "stream",
     "text": [
      "\n",
      "1 Failed download:\n",
      "['GLE']: Exception('%ticker%: No price data found, symbol may be delisted (period=1y)')\n"
     ]
    },
    {
     "name": "stdout",
     "output_type": "stream",
     "text": [
      "5188 di 5220) Caricamento ticker SOM "
     ]
    },
    {
     "name": "stderr",
     "output_type": "stream",
     "text": [
      "\n",
      "1 Failed download:\n",
      "['SOM']: Exception('%ticker%: No price data found, symbol may be delisted (period=1y)')\n"
     ]
    },
    {
     "name": "stdout",
     "output_type": "stream",
     "text": [
      "5190 di 5220) Caricamento ticker STLAM "
     ]
    },
    {
     "name": "stderr",
     "output_type": "stream",
     "text": [
      "\n",
      "1 Failed download:\n",
      "['STLAM']: Exception('%ticker%: No data found, symbol may be delisted')\n"
     ]
    },
    {
     "name": "stdout",
     "output_type": "stream",
     "text": [
      "\r",
      "5191 di 5220) Caricamento ticker STMMI "
     ]
    },
    {
     "name": "stderr",
     "output_type": "stream",
     "text": [
      "\n",
      "1 Failed download:\n",
      "['STMMI']: Exception('%ticker%: No data found, symbol may be delisted')\n"
     ]
    },
    {
     "name": "stdout",
     "output_type": "stream",
     "text": [
      "5193 di 5220) Caricamento ticker TGYM "
     ]
    },
    {
     "name": "stderr",
     "output_type": "stream",
     "text": [
      "\n",
      "1 Failed download:\n",
      "['TGYM']: Exception('%ticker%: No data found, symbol may be delisted')\n"
     ]
    },
    {
     "name": "stdout",
     "output_type": "stream",
     "text": [
      "\r",
      "5194 di 5220) Caricamento ticker TIT "
     ]
    },
    {
     "name": "stderr",
     "output_type": "stream",
     "text": [
      "\n",
      "1 Failed download:\n",
      "['TIT']: Exception('%ticker%: No price data found, symbol may be delisted (period=1y)')\n"
     ]
    },
    {
     "name": "stdout",
     "output_type": "stream",
     "text": [
      "\r",
      "5195 di 5220) Caricamento ticker TITR "
     ]
    },
    {
     "name": "stderr",
     "output_type": "stream",
     "text": [
      "\n",
      "1 Failed download:\n",
      "['TITR']: Exception('%ticker%: No data found, symbol may be delisted')\n"
     ]
    },
    {
     "name": "stdout",
     "output_type": "stream",
     "text": [
      "5197 di 5220) Caricamento ticker TEN "
     ]
    },
    {
     "name": "stderr",
     "output_type": "stream",
     "text": [
      "\n",
      "1 Failed download:\n",
      "['TEN']: Exception('%ticker%: No data found, symbol may be delisted')\n"
     ]
    },
    {
     "name": "stdout",
     "output_type": "stream",
     "text": [
      "5199 di 5220) Caricamento ticker TES "
     ]
    },
    {
     "name": "stderr",
     "output_type": "stream",
     "text": [
      "\n",
      "1 Failed download:\n",
      "['TES']: Exception('%ticker%: No price data found, symbol may be delisted (period=1y)')\n"
     ]
    },
    {
     "name": "stdout",
     "output_type": "stream",
     "text": [
      "\r",
      "5200 di 5220) Caricamento ticker TISG "
     ]
    },
    {
     "name": "stderr",
     "output_type": "stream",
     "text": [
      "\n",
      "1 Failed download:\n",
      "['TISG']: Exception('%ticker%: No data found, symbol may be delisted')\n"
     ]
    },
    {
     "name": "stdout",
     "output_type": "stream",
     "text": [
      "\r",
      "5201 di 5220) Caricamento ticker TNXT "
     ]
    },
    {
     "name": "stderr",
     "output_type": "stream",
     "text": [
      "\n",
      "1 Failed download:\n",
      "['TNXT']: Exception('%ticker%: No price data found, symbol may be delisted (period=1y)')\n"
     ]
    },
    {
     "name": "stdout",
     "output_type": "stream",
     "text": [
      "5203 di 5220) Caricamento ticker TOD "
     ]
    },
    {
     "name": "stderr",
     "output_type": "stream",
     "text": [
      "\n",
      "1 Failed download:\n",
      "['TOD']: Exception('%ticker%: No price data found, symbol may be delisted (period=1y)')\n"
     ]
    },
    {
     "name": "stdout",
     "output_type": "stream",
     "text": [
      "5206 di 5220) Caricamento ticker TB  "
     ]
    },
    {
     "name": "stderr",
     "output_type": "stream",
     "text": [
      "\n",
      "1 Failed download:\n",
      "['TB']: Exception('%ticker%: No price data found, symbol may be delisted (period=1y)')\n"
     ]
    },
    {
     "name": "stdout",
     "output_type": "stream",
     "text": [
      "5208 di 5220) Caricamento ticker UCG "
     ]
    },
    {
     "name": "stderr",
     "output_type": "stream",
     "text": [
      "\n",
      "1 Failed download:\n",
      "['UCG']: Exception('%ticker%: No price data found, symbol may be delisted (period=1y)')\n"
     ]
    },
    {
     "name": "stdout",
     "output_type": "stream",
     "text": [
      "5210 di 5220) Caricamento ticker UNI  "
     ]
    },
    {
     "name": "stderr",
     "output_type": "stream",
     "text": [
      "\n",
      "1 Failed download:\n",
      "['UNI']: Exception('%ticker%: No price data found, symbol may be delisted (period=1y)')\n"
     ]
    },
    {
     "name": "stdout",
     "output_type": "stream",
     "text": [
      "\r",
      "5211 di 5220) Caricamento ticker US "
     ]
    },
    {
     "name": "stderr",
     "output_type": "stream",
     "text": [
      "\n",
      "1 Failed download:\n",
      "['US']: Exception('%ticker%: No price data found, symbol may be delisted (period=1y)')\n"
     ]
    },
    {
     "name": "stdout",
     "output_type": "stream",
     "text": [
      "\r",
      "5212 di 5220) Caricamento ticker VLS "
     ]
    },
    {
     "name": "stderr",
     "output_type": "stream",
     "text": [
      "\n",
      "1 Failed download:\n",
      "['VLS']: Exception('%ticker%: No price data found, symbol may be delisted (period=1y)')\n"
     ]
    },
    {
     "name": "stdout",
     "output_type": "stream",
     "text": [
      "5214 di 5220) Caricamento ticker ZUC "
     ]
    },
    {
     "name": "stderr",
     "output_type": "stream",
     "text": [
      "\n",
      "1 Failed download:\n",
      "['ZUC']: Exception('%ticker%: No price data found, symbol may be delisted (period=1y)')\n"
     ]
    },
    {
     "name": "stdout",
     "output_type": "stream",
     "text": [
      "5216 di 5220) Caricamento ticker VOW3 "
     ]
    },
    {
     "name": "stderr",
     "output_type": "stream",
     "text": [
      "\n",
      "1 Failed download:\n",
      "['VOW3']: Exception('%ticker%: No data found, symbol may be delisted')\n"
     ]
    },
    {
     "name": "stdout",
     "output_type": "stream",
     "text": [
      "5218 di 5220) Caricamento ticker WBDR "
     ]
    },
    {
     "name": "stderr",
     "output_type": "stream",
     "text": [
      "\n",
      "1 Failed download:\n",
      "['WBDR']: Exception('%ticker%: No data found, symbol may be delisted')\n"
     ]
    },
    {
     "name": "stdout",
     "output_type": "stream",
     "text": [
      "\r",
      "5219 di 5220) Caricamento ticker WIIT "
     ]
    },
    {
     "name": "stderr",
     "output_type": "stream",
     "text": [
      "\n",
      "1 Failed download:\n",
      "['WIIT']: Exception('%ticker%: No data found, symbol may be delisted')\n"
     ]
    },
    {
     "name": "stdout",
     "output_type": "stream",
     "text": [
      "\r",
      "5220 di 5220) Caricamento ticker ZV "
     ]
    },
    {
     "name": "stderr",
     "output_type": "stream",
     "text": [
      "\n",
      "1 Failed download:\n",
      "['ZV']: Exception('%ticker%: No price data found, symbol may be delisted (period=1y)')\n"
     ]
    }
   ],
   "source": [
    "screener = pd.DataFrame(columns=[\"Categoria\", \"Ticker\", \"Borsa\", \"USIN\", \"Close\", \"Probabilità\"])\n",
    "tutti = pd.DataFrame(columns=[\"Categoria\", \"Ticker\", \"Borsa\", \"USIN\", \"Close\", \"Probabilità\"])\n",
    "elenco_ticker = fx.tickers_de_giro(\"..\\\\DeGiro con formule.xlsx\")\n",
    "\n",
    "i = 1\n",
    "tot_tickers = len(elenco_ticker)\n",
    "for _, ticker in elenco_ticker.iterrows():\n",
    "    print(f\"\\r{i} di {tot_tickers}) Caricamento ticker {ticker['Ticker']}\", end=' ', flush=True)\n",
    "    try:\n",
    "        df = yf.download(ticker[\"Ticker\"], period=\"1y\", interval=\"1d\", progress=False)\n",
    "        df = fx.crea_indicatori(df)\n",
    "        df = fx.crea_altre_colonne(df)\n",
    "        df = fx.elimina_valori_non_validi(df)\n",
    "        df = fx.scala(df, ticker=ticker[\"Ticker\"], percorso_dati=\"scalati/\")\n",
    "        df = fx.approssima(df)\n",
    "        df.reset_index(inplace=True, drop=False)\n",
    "        df = fx.create_lagged_features(df, lags=10)\n",
    "        df = fx.approssima(df)\n",
    "        df = fx.elimina_valori_non_validi(df)\n",
    "    except Exception as e:\n",
    "        print(e)\n",
    "        continue\n",
    "    if len(df) > 100:\n",
    "        df = fx.definizione_parametri_e_target(df, n_barre_passate=10)\n",
    "        X = df.drop(columns=[\"Target\"])\n",
    "        y = df[\"Target\"]\n",
    "        print(f\"\\r{i} di {tot_tickers}) Previsione ticker {ticker['Ticker']}\", end=' ', flush=True)\n",
    "        if len(X) > 0:\n",
    "            X = X.iloc[-1:, :]\n",
    "            y_proba_true = pd.Series(model.predict_proba(X)[-1, 1])\n",
    "            tutti.loc[len(tutti)] = [ticker[\"Categoria\"], ticker[\"Ticker\"], ticker[\"Borsa\"], ticker[\"USIN\"], df.iloc[-1][\"Close\"], y_proba_true[0]]            \n",
    "            if y_proba_true[0] >= 0.5:\n",
    "                print(f\"\\n{i} di {tot_tickers}) Aggiunta ticker {ticker['Ticker']} allo screener\", end='\\n', flush=True)\n",
    "                screener.loc[len(screener)] = [ticker[\"Categoria\"], ticker[\"Ticker\"], ticker[\"Borsa\"], ticker[\"USIN\"], df.iloc[-1][\"Close\"], y_proba_true[0]]\n",
    "    i += 1"
   ]
  },
  {
   "cell_type": "code",
   "execution_count": 7,
   "id": "e12d53db",
   "metadata": {
    "scrolled": true
   },
   "outputs": [
    {
     "name": "stdout",
     "output_type": "stream",
     "text": [
      "fine\n"
     ]
    }
   ],
   "source": [
    "screener.to_excel(\"screener.xlsx\")\n",
    "tutti.to_excel(\"tutti.xlsx\")\n",
    "print(\"fine\")        "
   ]
  },
  {
   "cell_type": "code",
   "execution_count": null,
   "id": "18529ca9",
   "metadata": {},
   "outputs": [],
   "source": []
  }
 ],
 "metadata": {
  "kernelspec": {
   "display_name": "Python 3 (ipykernel)",
   "language": "python",
   "name": "python3"
  },
  "language_info": {
   "codemirror_mode": {
    "name": "ipython",
    "version": 3
   },
   "file_extension": ".py",
   "mimetype": "text/x-python",
   "name": "python",
   "nbconvert_exporter": "python",
   "pygments_lexer": "ipython3",
   "version": "3.11.3"
  },
  "vp": {
   "vp_config_version": "1.0.0",
   "vp_menu_width": 273,
   "vp_note_display": false,
   "vp_note_width": 0,
   "vp_position": {
    "width": 278
   },
   "vp_section_display": false,
   "vp_signature": "VisualPython"
  }
 },
 "nbformat": 4,
 "nbformat_minor": 5
}
