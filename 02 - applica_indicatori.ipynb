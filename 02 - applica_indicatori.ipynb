{
 "cells": [
  {
   "cell_type": "code",
   "execution_count": 1,
   "id": "2c0947b1",
   "metadata": {},
   "outputs": [
    {
     "name": "stdout",
     "output_type": "stream",
     "text": [
      "4550 di 4550) Salvataggio ticker ZYXI                                        "
     ]
    },
    {
     "ename": "FileNotFoundError",
     "evalue": "[WinError 2] Impossibile trovare il file specificato: 'last_ticker.txt'",
     "output_type": "error",
     "traceback": [
      "\u001b[1;31m---------------------------------------------------------------------------\u001b[0m",
      "\u001b[1;31mFileNotFoundError\u001b[0m                         Traceback (most recent call last)",
      "Cell \u001b[1;32mIn[1], line 41\u001b[0m\n\u001b[0;32m     37\u001b[0m         file_ticker\u001b[38;5;241m.\u001b[39mwrite(f)\n\u001b[0;32m     39\u001b[0m     i \u001b[38;5;241m+\u001b[39m\u001b[38;5;241m=\u001b[39m \u001b[38;5;241m1\u001b[39m\n\u001b[1;32m---> 41\u001b[0m os\u001b[38;5;241m.\u001b[39mremove(\u001b[38;5;124m\"\u001b[39m\u001b[38;5;124mlast_ticker.txt\u001b[39m\u001b[38;5;124m\"\u001b[39m)\n\u001b[0;32m     42\u001b[0m \u001b[38;5;28mprint\u001b[39m(\u001b[38;5;124m\"\u001b[39m\u001b[38;5;130;01m\\n\u001b[39;00m\u001b[38;5;124mFine.\u001b[39m\u001b[38;5;124m\"\u001b[39m)\n",
      "\u001b[1;31mFileNotFoundError\u001b[0m: [WinError 2] Impossibile trovare il file specificato: 'last_ticker.txt'"
     ]
    }
   ],
   "source": [
    "import pandas as pd\n",
    "import os\n",
    "import funzioni as fx\n",
    "\n",
    "\n",
    "if not os.path.exists('C:/Users/932197/Documents/dati_locali/Indicatori'):\n",
    "    os.makedirs('C:/Users/932197/Documents/dati_locali/Indicatori')\n",
    "\n",
    "# Load the last ticker processed if the file exists.\n",
    "last_ticker_processed = None\n",
    "if os.path.exists('C:/Users/932197/Documents/dati_locali/last_ticker.txt'):\n",
    "    with open('C:/Users/932197/Documents/dati_locali/last_ticker.txt', 'r') as f:\n",
    "        last_ticker_processed = f.read().strip()\n",
    "\n",
    "start_from_next_ticker = last_ticker_processed is None\n",
    "elenco_file = os.listdir(\"../Dati_borsa/Tickers\")\n",
    "tot_file = len(elenco_file)\n",
    "i = 1\n",
    "for f in elenco_file:\n",
    "    if not start_from_next_ticker:\n",
    "        if f == last_ticker_processed:\n",
    "            start_from_next_ticker = True\n",
    "        print(f\"\\r{i} di {tot_file}) Caricamento ticker {f}                           \", end=' ', flush=True)\n",
    "        i += 1\n",
    "        continue\n",
    "        \n",
    "    nome_file, estensione = os.path.splitext(f)\n",
    "    print(f\"\\r{i} di {tot_file}) Caricamento ticker {nome_file}                           \", end=' ', flush=True)\n",
    "    df = pd.read_parquet(f\"../Dati_borsa/Tickers/{f}\")\n",
    "    \n",
    "    print(f\"\\r{i} di {tot_file}) Calcolo indicatori ticker {nome_file}                    \", end=' ', flush=True)\n",
    "    df = fx.crea_indicatori(df)\n",
    "    \n",
    "    print(f\"\\r{i} di {tot_file}) Salvataggio ticker {nome_file}                           \", end=' ', flush=True)   \n",
    "    df.to_parquet(f\"C:/Users/932197/Documents/dati_locali/Indicatori/{f}\")\n",
    "\n",
    "    with open('C:/Users/932197/Documents/dati_locali/last_ticker.txt', 'w') as file_ticker:\n",
    "        file_ticker.write(f)\n",
    "\n",
    "    i += 1\n",
    "    \n",
    "os.remove(\"C:/Users/932197/Documents/dati_locali/last_ticker.txt\")\n",
    "print(\"\\nFine.\")"
   ]
  }
 ],
 "metadata": {
  "kernelspec": {
   "display_name": "Python 3 (ipykernel)",
   "language": "python",
   "name": "python3"
  },
  "language_info": {
   "codemirror_mode": {
    "name": "ipython",
    "version": 3
   },
   "file_extension": ".py",
   "mimetype": "text/x-python",
   "name": "python",
   "nbconvert_exporter": "python",
   "pygments_lexer": "ipython3",
   "version": "3.11.3"
  },
  "vp": {
   "vp_config_version": "1.0.0",
   "vp_menu_width": 273,
   "vp_note_display": false,
   "vp_note_width": 0,
   "vp_position": {
    "width": 278
   },
   "vp_section_display": false,
   "vp_signature": "VisualPython"
  }
 },
 "nbformat": 4,
 "nbformat_minor": 5
}
