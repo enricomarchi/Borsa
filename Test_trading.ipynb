{
 "cells": [
  {
   "cell_type": "code",
   "execution_count": 92,
   "id": "a85a9176",
   "metadata": {
    "scrolled": true
   },
   "outputs": [],
   "source": [
    "import pandas as pd\n",
    "import funzioni as fx\n",
    "import numpy as np\n",
    "import yfinance as yf\n",
    "from tensorflow.keras.models import load_model\n",
    "from tensorflow_addons.metrics import F1Score\n",
    "\n",
    "lista_tickers = pd.read_parquet(\"lista_ticker.parquet\")\n",
    "lista_tickers = lista_tickers.sample(frac=1)\n",
    "\n",
    "def test_trading():\n",
    "    bilancio = BILANCIO_INIZIALE\n",
    "    pos_aperta = False\n",
    "    tp = sl = n_azioni = prezzo_acquisto = prezzo_tot = 0\n",
    "    giorni_posizione = 0\n",
    "    posizioni = pd.DataFrame(columns=[\"Bilancio\", \"Direzione\", \"Prezzo_un\", \"n_azioni\", \"Prezzo_tot\", \"TP\", \"SL\", \"Open\", \"High\", \"Low\", \"Esito\", \"P_L\"], index=df_X.index)\n",
    "\n",
    "    for idx, row in df_X.iterrows():\n",
    "        if bilancio <= 0:\n",
    "            break\n",
    "        print(f\"\\r{idx} Bilancio = {bilancio}                \", end=\" \", flush=True)\n",
    "        if pos_aperta == False:\n",
    "            if row[\"prob_True\"] > PROBABILITA_PER_ACQUISTO and bilancio > 0:\n",
    "                #COMPRA\n",
    "                prezzo_acquisto = row[\"Open\"]\n",
    "                n_azioni = bilancio // prezzo_acquisto\n",
    "                prezzo_tot = n_azioni * prezzo_acquisto  \n",
    "                bilancio -= prezzo_tot          \n",
    "                tp = prezzo_acquisto * (1 + TP)\n",
    "                sl = prezzo_acquisto * (1 - SL)\n",
    "                pos_aperta = True\n",
    "                giorni_posizione = 0\n",
    "                posizioni.loc[idx] = {\"Bilancio\": bilancio, \"Direzione\": \"COMPRA\", \"Prezzo_un\": prezzo_acquisto, \"n_azioni\": n_azioni, \"Prezzo_tot\": -prezzo_tot, \"TP\": tp, \"SL\": sl, \"Open\": row[\"Open\"], \"High\": row[\"High\"], \"Low\": row[\"Low\"],}\n",
    "        else:\n",
    "            if giorni_posizione == 20:\n",
    "                prezzo_tot_vendita = row['Close'] * n_azioni\n",
    "                bilancio += prezzo_tot_vendita\n",
    "                pos_aperta = False\n",
    "                if prezzo_tot_vendita > prezzo_tot:\n",
    "                    esito = 'VINCITA'\n",
    "                else:\n",
    "                    esito = 'PERDITA'\n",
    "                pl = round(fx.pct_change(prezzo_tot, prezzo_tot_vendita),0)\n",
    "                posizioni.loc[idx] = {\"Bilancio\": bilancio, \"Direzione\": \"VENDI\", \"Prezzo_un\": row['Close'], \"n_azioni\": n_azioni, \"Prezzo_tot\": prezzo_tot, \"Esito\": esito, \"Open\": row[\"Open\"], \"High\": row[\"High\"], \"Low\": row[\"Low\"], \"P_L\": pl}\n",
    "            if row[\"High\"] >= tp:\n",
    "                prezzo_tot_vendita = tp * n_azioni\n",
    "                bilancio += prezzo_tot_vendita\n",
    "                pos_aperta = False\n",
    "                giorni_posizione = 0\n",
    "                pl = round(fx.pct_change(prezzo_tot, prezzo_tot_vendita),0)\n",
    "                posizioni.loc[idx] = {\"Bilancio\": bilancio, \"Direzione\": \"VENDI\", \"Prezzo_un\": tp, \"n_azioni\": n_azioni, \"Prezzo_tot\": prezzo_tot, \"Esito\": \"VINCITA\", \"Open\": row[\"Open\"], \"High\": row[\"High\"], \"Low\": row[\"Low\"], \"P_L\": pl}\n",
    "            elif row[\"Low\"] <= sl:\n",
    "                prezzo_tot_vendita = sl * n_azioni\n",
    "                bilancio += prezzo_tot_vendita\n",
    "                pos_aperta = False\n",
    "                giorni_posizione = 0\n",
    "                pl = round(fx.pct_change(prezzo_tot, prezzo_tot_vendita),0)\n",
    "                posizioni.loc[idx] = {\"Bilancio\": bilancio, \"Direzione\": \"VENDI\", \"Prezzo_un\": sl, \"n_azioni\": n_azioni, \"Prezzo_tot\": prezzo_tot, \"Esito\": \"PERDITA\", \"Open\": row[\"Open\"], \"High\": row[\"High\"], \"Low\": row[\"Low\"], \"P_L\": pl}\n",
    "            else:\n",
    "                giorni_posizione += 1\n",
    "\n",
    "    if pos_aperta: \n",
    "        bilancio += prezzo_tot\n",
    "        print(f\"\\r{idx} Bilancio = {bilancio}                \", end=\" \", flush=True)\n",
    "    posizioni.to_excel(\"posizioni.xlsx\")\n",
    "    #df_X.to_excel(\"X.xlsx\")\n",
    "    print(f'\\nVincite: {posizioni.loc[posizioni[\"Esito\"] == \"VINCITA\", \"Esito\"].count()}, vincita max: {posizioni.loc[posizioni[\"Esito\"] == \"VINCITA\", \"P_L\"].max()} %')\n",
    "    print(f'Perdite: {posizioni.loc[posizioni[\"Esito\"] == \"PERDITA\", \"Esito\"].count()}, perdita max: {posizioni.loc[posizioni[\"Esito\"] == \"PERDITA\", \"P_L\"].min()} %')\n",
    "\n"
   ]
  },
  {
   "cell_type": "code",
   "execution_count": 93,
   "id": "c5e1218b",
   "metadata": {},
   "outputs": [],
   "source": [
    "TP = 1\n",
    "SL = 0.01\n",
    "PROBABILITA_PER_ACQUISTO = 0.5\n",
    "BILANCIO_INIZIALE = 1000\n",
    "SIMBOLO_TEST = lista_tickers[\"Ticker\"].iloc[0]"
   ]
  },
  {
   "cell_type": "code",
   "execution_count": 94,
   "id": "ce48eaf7",
   "metadata": {},
   "outputs": [
    {
     "name": "stdout",
     "output_type": "stream",
     "text": [
      "\u001b[42mSKYW\u001b[0m\n",
      "[*********************100%%**********************]  1 of 1 completed\n",
      "Calcolo indicatori ticker\n",
      "Definizione features e target\n",
      "Previsione\n",
      "95/95 [==============================] - 1s 4ms/step\n",
      "95/95 [==============================] - 1s 6ms/step - loss: 0.4786 - f1_score: 0.0000e+00 - precision: 0.8599 - recall: 0.1684\n",
      "ticker.shape:(3157, 53)\n",
      "X.shape:(3038, 120, 10)\n",
      "Y.shape:(3038, 1)\n",
      "y_pred.shape:(3038, 1)\n",
      "idx:3038\n",
      "2023-10-09 Bilancio = 3278.453871612548                    \n",
      "Vincite: 10, vincita max: 28.0 %\n",
      "Perdite: 34, perdita max: -1.0 %\n"
     ]
    }
   ],
   "source": [
    "print(\"\\033[42m\" + SIMBOLO_TEST + \"\\033[0m\")\n",
    "ticker = yf.download(SIMBOLO_TEST, start='2010-11-01', end='2023-12-31', progress=True)\n",
    "if ticker[\"Close\"].iloc[-1] >= 1:\n",
    "    ticker.index = ticker.index.date\n",
    "    print(\"Calcolo indicatori ticker\", flush=True)\n",
    "    ticker = fx.crea_indicatori(ticker)\n",
    "    ticker = fx.imposta_target(ticker)\n",
    "    ticker.dropna(axis=0, inplace=True)\n",
    "\n",
    "    print(\"Definizione features e target\", flush=True)\n",
    "    idx, X, Y, scalers_prezzo = fx.to_XY(ticker, fx.features_prezzo, fx.features_da_scalare_singolarmente, fx.features_meno_piu, fx.features_candele, fx.features_no_scala, fx.elenco_targets, fx.n_timesteps, fx.giorni_previsione, bilanciamento=0)\n",
    "print('Previsione')\n",
    "f1_score = F1Score(num_classes=1, average='macro', threshold=PROBABILITA_PER_ACQUISTO)\n",
    "model = load_model(\"model.h5\", custom_objects={'Addons>F1Score': f1_score})\n",
    "y_pred = model.predict(X)\n",
    "result = model.evaluate(X, Y)\n",
    "print(f\"ticker.shape:{ticker.shape}\")\n",
    "print(f\"X.shape:{X.shape}\")\n",
    "print(f\"Y.shape:{Y.shape}\")\n",
    "print(f\"y_pred.shape:{y_pred.shape}\")\n",
    "print(f'idx:{len(idx)}')\n",
    "X = X[:, 59, :len(fx.features_prezzo)]\n",
    "\n",
    "df_X = ticker.loc[ticker.index.intersection(idx)]\n",
    "y_pred = y_pred.reshape(-1,)\n",
    "df_y_pred = pd.DataFrame(y_pred, columns=['prob_True'], index=idx)\n",
    "df_X = pd.concat([df_X, df_y_pred], axis=1)\n",
    "test_trading()"
   ]
  }
 ],
 "metadata": {
  "kernelspec": {
   "display_name": "Python 3 (ipykernel)",
   "language": "python",
   "name": "python3"
  },
  "language_info": {
   "codemirror_mode": {
    "name": "ipython",
    "version": 3
   },
   "file_extension": ".py",
   "mimetype": "text/x-python",
   "name": "python",
   "nbconvert_exporter": "python",
   "pygments_lexer": "ipython3",
   "version": "3.9.16"
  },
  "vp": {
   "vp_config_version": "1.0.0",
   "vp_menu_width": 273,
   "vp_note_display": false,
   "vp_note_width": 0,
   "vp_position": {
    "width": 278
   },
   "vp_section_display": false,
   "vp_signature": "VisualPython"
  }
 },
 "nbformat": 4,
 "nbformat_minor": 5
}
