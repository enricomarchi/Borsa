{
 "cells": [
  {
   "cell_type": "code",
   "execution_count": 1,
   "id": "a85a9176",
   "metadata": {
    "scrolled": true
   },
   "outputs": [
    {
     "ename": "ModuleNotFoundError",
     "evalue": "No module named 'pandas'",
     "output_type": "error",
     "traceback": [
      "\u001b[1;31m---------------------------------------------------------------------------\u001b[0m",
      "\u001b[1;31mModuleNotFoundError\u001b[0m                       Traceback (most recent call last)",
      "\u001b[1;32mc:\\Users\\enric\\Documents\\GitHub\\Borsa\\Test_trading.ipynb Cell 1\u001b[0m line \u001b[0;36m1\n\u001b[1;32m----> <a href='vscode-notebook-cell:/c%3A/Users/enric/Documents/GitHub/Borsa/Test_trading.ipynb#W0sZmlsZQ%3D%3D?line=0'>1</a>\u001b[0m \u001b[39mimport\u001b[39;00m \u001b[39mpandas\u001b[39;00m \u001b[39mas\u001b[39;00m \u001b[39mpd\u001b[39;00m\n\u001b[0;32m      <a href='vscode-notebook-cell:/c%3A/Users/enric/Documents/GitHub/Borsa/Test_trading.ipynb#W0sZmlsZQ%3D%3D?line=1'>2</a>\u001b[0m \u001b[39mimport\u001b[39;00m \u001b[39mfunzioni\u001b[39;00m \u001b[39mas\u001b[39;00m \u001b[39mfx\u001b[39;00m\n\u001b[0;32m      <a href='vscode-notebook-cell:/c%3A/Users/enric/Documents/GitHub/Borsa/Test_trading.ipynb#W0sZmlsZQ%3D%3D?line=2'>3</a>\u001b[0m \u001b[39mimport\u001b[39;00m \u001b[39mnumpy\u001b[39;00m \u001b[39mas\u001b[39;00m \u001b[39mnp\u001b[39;00m\n",
      "\u001b[1;31mModuleNotFoundError\u001b[0m: No module named 'pandas'"
     ]
    }
   ],
   "source": [
    "import pandas as pd\n",
    "import funzioni as fx\n",
    "import numpy as np\n",
    "import yfinance as yf\n",
    "from tensorflow.keras.models import load_model\n",
    "from tensorflow_addons.metrics import F1Score\n",
    "\n",
    "def test_trading():\n",
    "    bilancio = BILANCIO_INIZIALE\n",
    "    pos_aperta = False\n",
    "    tp = sl = n_azioni = prezzo_acquisto = prezzo_tot = 0\n",
    "    giorni_posizione = 0\n",
    "    posizioni = pd.DataFrame(columns=[\"Bilancio\", \"Direzione\", \"Prezzo_un\", \"n_azioni\", \"Prezzo_tot\", \"TP\", \"SL\", \"Open\", \"High\", \"Low\", \"Esito\", \"P_L\"], index=df_X.index)\n",
    "\n",
    "    for idx, row in df_X.iterrows():\n",
    "        if bilancio <= 0:\n",
    "            break\n",
    "        print(f\"\\r{idx} Bilancio = {bilancio}                \", end=\" \", flush=True)\n",
    "        if pos_aperta == False:\n",
    "            if row[\"prob_True\"] > PROBABILITA_PER_ACQUISTO and bilancio > 0:\n",
    "                #COMPRA\n",
    "                prezzo_acquisto = row[\"Open\"]\n",
    "                n_azioni = bilancio // prezzo_acquisto\n",
    "                prezzo_tot = n_azioni * prezzo_acquisto  \n",
    "                bilancio -= prezzo_tot          \n",
    "                tp = prezzo_acquisto * (1 + TP)\n",
    "                sl = prezzo_acquisto * (1 - SL)\n",
    "                pos_aperta = True\n",
    "                giorni_posizione = 0\n",
    "                posizioni.loc[idx] = {\"Bilancio\": bilancio, \"Direzione\": \"COMPRA\", \"Prezzo_un\": prezzo_acquisto, \"n_azioni\": n_azioni, \"Prezzo_tot\": -prezzo_tot, \"TP\": tp, \"SL\": sl, \"Open\": row[\"Open\"], \"High\": row[\"High\"], \"Low\": row[\"Low\"],}\n",
    "        else:\n",
    "            if giorni_posizione == 20:\n",
    "                prezzo_tot_vendita = row['Close'] * n_azioni\n",
    "                bilancio += prezzo_tot_vendita\n",
    "                pos_aperta = False\n",
    "                if prezzo_tot_vendita > prezzo_tot:\n",
    "                    esito = 'VINCITA'\n",
    "                else:\n",
    "                    esito = 'PERDITA'\n",
    "                pl = fx.pct_change(prezzo_tot, prezzo_tot_vendita).round(0)\n",
    "                posizioni.loc[idx] = {\"Bilancio\": bilancio, \"Direzione\": \"VENDI\", \"Prezzo_un\": row['Close'], \"n_azioni\": n_azioni, \"Prezzo_tot\": prezzo_tot, \"Esito\": esito, \"Open\": row[\"Open\"], \"High\": row[\"High\"], \"Low\": row[\"Low\"], \"P_L\": pl}\n",
    "            if row[\"High\"] >= tp:\n",
    "                prezzo_tot_vendita = tp * n_azioni\n",
    "                bilancio += prezzo_tot_vendita\n",
    "                pos_aperta = False\n",
    "                giorni_posizione = 0\n",
    "                pl = fx.pct_change(prezzo_tot, prezzo_tot_vendita).round(0)\n",
    "                posizioni.loc[idx] = {\"Bilancio\": bilancio, \"Direzione\": \"VENDI\", \"Prezzo_un\": tp, \"n_azioni\": n_azioni, \"Prezzo_tot\": prezzo_tot, \"Esito\": \"VINCITA\", \"Open\": row[\"Open\"], \"High\": row[\"High\"], \"Low\": row[\"Low\"], \"P_L\": pl}\n",
    "            elif row[\"Low\"] <= sl:\n",
    "                prezzo_tot_vendita = sl * n_azioni\n",
    "                bilancio += prezzo_tot_vendita\n",
    "                pos_aperta = False\n",
    "                giorni_posizione = 0\n",
    "                pl = fx.pct_change(prezzo_tot, prezzo_tot_vendita).round(0)\n",
    "                posizioni.loc[idx] = {\"Bilancio\": bilancio, \"Direzione\": \"VENDI\", \"Prezzo_un\": sl, \"n_azioni\": n_azioni, \"Prezzo_tot\": prezzo_tot, \"Esito\": \"PERDITA\", \"Open\": row[\"Open\"], \"High\": row[\"High\"], \"Low\": row[\"Low\"], \"P_L\": pl}\n",
    "            else:\n",
    "                giorni_posizione += 1\n",
    "\n",
    "    if pos_aperta: \n",
    "        bilancio += prezzo_tot\n",
    "    posizioni.to_excel(\"posizioni.xlsx\")\n",
    "    #df_X.to_excel(\"X.xlsx\")\n",
    "    print(f'\\nVincite: {posizioni.loc[posizioni[\"Esito\"] == \"VINCITA\", \"Esito\"].count()}, vincita max: {posizioni.loc[posizioni[\"Esito\"] == \"VINCITA\", \"P_L\"].max()}')\n",
    "    print(f'Perdite: {posizioni.loc[posizioni[\"Esito\"] == \"PERDITA\", \"Esito\"].count()}, perdita max: {posizioni.loc[posizioni[\"Esito\"] == \"PERDITA\", \"P_L\"].min()}')\n",
    "\n"
   ]
  },
  {
   "cell_type": "code",
   "execution_count": null,
   "id": "c5e1218b",
   "metadata": {},
   "outputs": [],
   "source": [
    "TP = 0.2\n",
    "SL = 0.05\n",
    "PROBABILITA_PER_ACQUISTO = 0.5\n",
    "BILANCIO_INIZIALE = 1000\n",
    "SIMBOLO_TEST = 'DHT'"
   ]
  },
  {
   "cell_type": "code",
   "execution_count": null,
   "id": "ce48eaf7",
   "metadata": {},
   "outputs": [
    {
     "name": "stdout",
     "output_type": "stream",
     "text": [
      "[*********************100%%**********************]  1 of 1 completed\n",
      "Calcolo indicatori ticker\n",
      "Definizione features e target\n",
      "Previsione\n",
      "102/102 [==============================] - 1s 3ms/step\n",
      "102/102 [==============================] - 1s 5ms/step - loss: 0.3727 - f1_score: 0.0000e+00 - precision: 0.7899 - recall: 0.2654\n",
      "ticker.shape:(3365, 53)\n",
      "X.shape:(3246, 120, 10)\n",
      "Y.shape:(3246, 1)\n",
      "y_pred.shape:(3246, 1)\n",
      "3246\n",
      "2022-09-23 Bilancio = 1000                        "
     ]
    },
    {
     "name": "stderr",
     "output_type": "stream",
     "text": [
      "IOPub message rate exceeded.\n",
      "The Jupyter server will temporarily stop sending output\n",
      "to the client in order to avoid crashing it.\n",
      "To change this limit, set the config variable\n",
      "`--ServerApp.iopub_msg_rate_limit`.\n",
      "\n",
      "Current values:\n",
      "ServerApp.iopub_msg_rate_limit=1000.0 (msgs/sec)\n",
      "ServerApp.rate_limit_window=3.0 (secs)\n",
      "\n"
     ]
    }
   ],
   "source": [
    "ticker = yf.download(SIMBOLO_TEST, start='2010-01-01', end='2023-12-31', progress=True)\n",
    "if ticker[\"Close\"].iloc[-1] >= 1:\n",
    "    ticker.index = ticker.index.date\n",
    "    print(\"Calcolo indicatori ticker\", flush=True)\n",
    "    ticker = fx.crea_indicatori(ticker)\n",
    "    ticker = fx.imposta_target(ticker)\n",
    "    ticker.dropna(axis=0, inplace=True)\n",
    "\n",
    "    print(\"Definizione features e target\", flush=True)\n",
    "    idx, X, Y, scalers_prezzo = fx.to_XY(ticker, fx.features_prezzo, fx.features_da_scalare_singolarmente, fx.features_meno_piu, fx.features_candele, fx.features_no_scala, fx.elenco_targets, fx.n_timesteps, fx.giorni_previsione, bilanciamento=0)\n",
    "print('Previsione')\n",
    "f1_score = F1Score(num_classes=1, average='macro', threshold=PROBABILITA_PER_ACQUISTO)\n",
    "model = load_model(\"model.h5\", custom_objects={'Addons>F1Score': f1_score})\n",
    "y_pred = model.predict(X)\n",
    "result = model.evaluate(X, Y)\n",
    "print(f\"ticker.shape:{ticker.shape}\")\n",
    "print(f\"X.shape:{X.shape}\")\n",
    "print(f\"Y.shape:{Y.shape}\")\n",
    "print(f\"y_pred.shape:{y_pred.shape}\")\n",
    "print(len(idx))\n",
    "X = X[:, 59, :len(fx.features_prezzo)]\n",
    "# for i, y in enumerate(y_pred):\n",
    "#     scaler_corrispondente = scalers_prezzo[i]\n",
    "#     y_inv = scaler_corrispondente.inverse_transform(y_pred.reshape(-1, 1))\n",
    "#     X_inv = scaler_corrispondente.inverse_transform(X)\n",
    "# y_pred_true = pd.Series(y_inv.squeeze())\n",
    "\n",
    "df_X = ticker.loc[ticker.index.intersection(idx)]\n",
    "df_y_pred = pd.DataFrame(y_pred.squeeze(), columns=['prob_True'])\n",
    "df_X = pd.concat([df_X, df_y_pred], axis=1)\n",
    "\n",
    "test_trading()"
   ]
  }
 ],
 "metadata": {
  "kernelspec": {
   "display_name": "Python 3 (ipykernel)",
   "language": "python",
   "name": "python3"
  },
  "language_info": {
   "codemirror_mode": {
    "name": "ipython",
    "version": 3
   },
   "file_extension": ".py",
   "mimetype": "text/x-python",
   "name": "python",
   "nbconvert_exporter": "python",
   "pygments_lexer": "ipython3",
   "version": "3.12.0"
  },
  "vp": {
   "vp_config_version": "1.0.0",
   "vp_menu_width": 273,
   "vp_note_display": false,
   "vp_note_width": 0,
   "vp_position": {
    "width": 278
   },
   "vp_section_display": false,
   "vp_signature": "VisualPython"
  }
 },
 "nbformat": 4,
 "nbformat_minor": 5
}
