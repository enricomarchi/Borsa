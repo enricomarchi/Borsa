{
 "cells": [
  {
   "cell_type": "code",
   "execution_count": 1,
   "id": "4bf99cb4",
   "metadata": {},
   "outputs": [],
   "source": [
    "import pandas as pd\n",
    "import numpy as np\n",
    "import yfinance as yf\n",
    "import funzioni as fx\n",
    "from sklearn.preprocessing import PowerTransformer\n",
    "n_timesteps = 5 # n. barre del periodo passato per la ricerca di pattern, inclusa ultima data disponibile\n",
    "giorni_previsione = 3 # n. barre nel futuro di cui si desidera prevedere il prezzo\n",
    "\n",
    "elenco_features = [\n",
    "    \"Close\",\n",
    "    \"Open\",  \n",
    "    \"High\",\n",
    "    \"Low\",\n",
    "    \"Volume\",\n",
    "]\n",
    "elenco_target = [\n",
    "        \"Close\",\n",
    "        \"Open\", \n",
    "]\n",
    "\n",
    "\n",
    "\n",
    "col_features = {col: idx for idx, col in enumerate(elenco_features)}\n",
    "col_targets = {col: idx for idx, col in enumerate(elenco_target)}\n",
    "n_features = len(col_features)\n",
    "n_targets = len(col_targets)\n",
    "\n",
    "print(\"Download dati ticker per previsione\")\n",
    "dati_previsione = yf.download(\"BTG\", start='2023-09-01', end='2023-12-31', progress=False)\n",
    "#dati_previsione = pd.read_csv(\"BTG.csv\", index_col=0)\n",
    "#dati_previsione = dati_previsione.loc['2020-01-01':'2023-09-10']\n",
    "dati_previsione.index = dati_previsione.index.date\n",
    "#dati_previsione = fx.crea_indicatori(dati_previsione)\n",
    "#dati_previsione.iloc[:100] = dati_previsione.iloc[:100].dropna(axis=0)\n",
    "\n"
   ]
  },
  {
   "cell_type": "code",
   "execution_count": 7,
   "id": "c98fa4c1",
   "metadata": {},
   "outputs": [],
   "source": [
    "dati_previsione.index"
   ]
  },
  {
   "cell_type": "code",
   "execution_count": 2,
   "id": "54be8c89",
   "metadata": {},
   "outputs": [],
   "source": [
    "def to_XY(dati_ticker, n_timesteps, giorni_previsione):\n",
    "    new_dates = pd.bdate_range(start=dati_ticker.index[-1] + pd.Timedelta(days=1), periods=giorni_previsione)\n",
    "    df_new = pd.DataFrame(index=new_dates)\n",
    "    dati_ticker = pd.concat([dati_ticker, df_new])\n",
    "\n",
    "    features = dati_ticker[elenco_features]\n",
    "    targets = dati_ticker[elenco_target]\n",
    "\n",
    "    i_tot = len(features) - n_timesteps \n",
    "    X, Y = [], []\n",
    "    for i in range(i_tot + 1):\n",
    "        X.append(features.iloc[i:i + n_timesteps])\n",
    "        Y.append(targets.iloc[i + n_timesteps:i + n_timesteps + giorni_previsione])\n",
    "        \n",
    "    return np.array(X), np.array(Y)\n",
    "\n",
    "\n",
    "indice_prev, X_prev, Y_prev = to_XY(dati_previsione, n_timesteps, giorni_previsione)\n",
    "\n",
    "X_prev = X_prev.reshape(-1, n_timesteps * n_features)\n",
    "Y_prev = Y_prev.reshape(-1, giorni_previsione * n_targets)\n",
    "X_scaler_prev = PowerTransformer()\n",
    "Y_scaler_prev = PowerTransformer()\n",
    "X_prev = X_scaler_prev.fit_transform(X_prev)\n",
    "Y_prev = Y_scaler_prev.fit_transform(Y_prev)\n",
    "X_prev = X_prev.reshape(-1, n_timesteps, n_features)\n",
    "Y_prev = Y_prev.reshape(-1, giorni_previsione, n_targets)\n",
    "\n",
    "X_prev = X_prev.reshape(-1, n_timesteps * n_features)\n",
    "X_prev = X_scaler_prev.inverse_transform(X_prev)\n",
    "X_prev = X_prev.reshape(-1, n_timesteps, n_features)\n",
    "\n",
    "Y_prev = Y_prev.reshape(-1, giorni_previsione * n_targets)\n",
    "Y_prev = Y_scaler_prev.inverse_transform(Y_prev)\n",
    "Y_prev = Y_prev.reshape(-1, giorni_previsione, n_targets)\n",
    "\n",
    "print(\"fine\")"
   ]
  },
  {
   "cell_type": "code",
   "execution_count": null,
   "id": "c06b4350",
   "metadata": {},
   "outputs": [],
   "source": [
    "dati_previsione"
   ]
  },
  {
   "cell_type": "code",
   "execution_count": null,
   "id": "a3688054",
   "metadata": {},
   "outputs": [],
   "source": [
    "indice_prev[\"X_fine\"]"
   ]
  },
  {
   "cell_type": "code",
   "execution_count": null,
   "id": "980c4225",
   "metadata": {},
   "outputs": [],
   "source": [
    "new_dates = pd.bdate_range(start=dati_previsione.index[-1] + pd.Timedelta(days=1), periods=giorni_previsione)\n",
    "df_new = pd.DataFrame(index=new_dates.date)\n",
    "dati_previsione = pd.concat([dati_previsione, df_new])\n"
   ]
  },
  {
   "cell_type": "code",
   "execution_count": null,
   "id": "0ad7cf6d",
   "metadata": {},
   "outputs": [],
   "source": [
    "dati_previsione.tail(20)"
   ]
  },
  {
   "cell_type": "code",
   "execution_count": null,
   "id": "96b0f1a1",
   "metadata": {},
   "outputs": [],
   "source": []
  }
 ],
 "metadata": {
  "kernelspec": {
   "display_name": "Python 3 (ipykernel)",
   "language": "python",
   "name": "python3"
  },
  "language_info": {
   "codemirror_mode": {
    "name": "ipython",
    "version": 3
   },
   "file_extension": ".py",
   "mimetype": "text/x-python",
   "name": "python",
   "nbconvert_exporter": "python",
   "pygments_lexer": "ipython3",
   "version": "3.11.3"
  }
 },
 "nbformat": 4,
 "nbformat_minor": 5
}
