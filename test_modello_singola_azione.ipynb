{
 "cells": [
  {
   "cell_type": "code",
   "execution_count": 1,
   "id": "e1622f54",
   "metadata": {},
   "outputs": [],
   "source": [
    "look_back = 60\n",
    "file_modello = \"LSTM_singola.keras\"\n",
    "prev_true = 0.5"
   ]
  },
  {
   "cell_type": "code",
   "execution_count": 2,
   "id": "138f6f50",
   "metadata": {},
   "outputs": [],
   "source": [
    "def visualizza_grafico(ticker):\n",
    "    import plotly.graph_objs as go\n",
    "    fig = fx.grafico_base(ticker)\n",
    "    tg = go.Scatter(\n",
    "        x = ticker[ticker['Target'] == True].index,\n",
    "        y = ticker[ticker['Target'] == True]['Close'],\n",
    "        mode = 'markers',\n",
    "        marker = dict(\n",
    "            size = 30,\n",
    "            color = 'rgba(100, 149, 250, .8)'\n",
    "        ),\n",
    "        name = 'target'\n",
    "    )\n",
    "    pred = go.Scatter(\n",
    "        x = ticker[ticker['Pred'] == True].index,\n",
    "        y = ticker[ticker['Pred'] == True]['Close'],\n",
    "        mode = 'markers',\n",
    "        marker = dict(\n",
    "            size = 15,\n",
    "            color = 'rgba(255, 200, 15, .8)'\n",
    "        ),\n",
    "        name = 'pred'\n",
    "    )\n",
    "    fig.add_trace(tg, row=1, col=1)\n",
    "    fig.add_trace(pred, row=1, col=1)\n",
    "    pyo.plot(fig, filename=\"test_modello.html\", auto_open=True)"
   ]
  },
  {
   "cell_type": "code",
   "execution_count": 3,
   "id": "90e55b47",
   "metadata": {},
   "outputs": [],
   "source": [
    "import pandas as pd\n",
    "import yfinance as yf\n",
    "import funzioni as fx\n",
    "import numpy as np\n",
    "from tensorflow.keras.models import load_model\n",
    "from sklearn.preprocessing import StandardScaler\n",
    "from sklearn.metrics import confusion_matrix\n",
    "import plotly.offline as pyo\n",
    "\n",
    "pd.set_option(\"display.max_columns\", None)\n",
    "elenco_usin = pd.read_parquet(\"Tickers_De_Giro.parquet\")\n",
    "elenco_usin = elenco_usin.loc[elenco_usin[\"Ticker\"] == \"BTG\", [\"USIN\", \"Ticker\"]]\n",
    "model = load_model(file_modello)\n",
    "usin = elenco_usin.iloc[0]\n",
    "print(f\"\\rScarico dati ticker {usin['Ticker']}                                             \", end=\" \", flush=True)\n",
    "ticker = yf.download(usin['USIN'], start='2019-08-01', end='2023-08-31', progress=False)\n",
    "print(f\"\\rCalcolo indicatori ticker {usin['Ticker']}                                             \", end=\" \", flush=True)\n",
    "ticker = fx.crea_indicatori(ticker)\n",
    "features, target = fx.features_e_target(ticker)\n",
    "ticker[\"Target\"] = target\n",
    "X, Y = fx.converti_in_XY(features, target, look_back)\n",
    "Y = np.where(Y, 1, 0)\n",
    "\n",
    "print(f\"\\rScalamento dati ticker {usin['Ticker']}                                             \", end=\" \", flush=True)\n",
    "scaler = StandardScaler()\n",
    "n_samples, n_timesteps, n_features = X.shape\n",
    "X_reshape = X.reshape((n_samples, n_timesteps * n_features))\n",
    "X_scaled = scaler.fit_transform(X_reshape)\n",
    "X_scaled_reshape = X_scaled.reshape((-1, n_timesteps, n_features))\n",
    "\n",
    "print(f\"\\rPrevisione {usin['Ticker']}                                             \\n\", end=\" \", flush=True)\n",
    "pred = model.predict(X_scaled_reshape)\n",
    "\n",
    "ticker = ticker.iloc[n_timesteps:]"
   ]
  },
  {
   "cell_type": "code",
   "execution_count": 4,
   "id": "58cf8ac9",
   "metadata": {},
   "outputs": [],
   "source": [
    "ticker[\"Pred\"] = pred > prev_true\n",
    "ticker[\"prob_True\"] = pred\n",
    "cf = pd.DataFrame(confusion_matrix(ticker[\"Target\"], ticker[\"Pred\"]), index=[False, True], columns=[\"Prev.False\", \"Prev.True\"])\n",
    "cf[\"Totale\"] = cf[\"Prev.False\"] + cf[\"Prev.True\"]\n",
    "cf.loc[\"Totale\"] = cf.sum()\n"
   ]
  },
  {
   "cell_type": "code",
   "execution_count": 5,
   "id": "6d515b8b",
   "metadata": {},
   "outputs": [],
   "source": [
    "pos_aperta = False\n",
    "tp = sl = n_azioni = prezzo_acquisto = prezzo_tot = 0\n",
    "bilancio = 1000\n",
    "\n",
    "posizioni = pd.DataFrame(columns=[\"Bilancio\", \"Direzione\", \"Prezzo_un\", \"n_azioni\", \"Prezzo_tot\", \"TP\", \"SL\", \"Open\", \"High\", \"Low\", \"Esito\"], index=ticker.index)\n",
    "\n",
    "for idx, row in ticker.iterrows():\n",
    "    if bilancio <= 0:\n",
    "        break\n",
    "    print(f\"\\r{idx} Bilancio = {bilancio}                \", end=\" \", flush=True)\n",
    "    if pos_aperta == False:\n",
    "        if row[\"Pred\"] and bilancio > 0:\n",
    "            #COMPRA\n",
    "            prezzo_acquisto = row[\"Open\"]\n",
    "            n_azioni = bilancio // prezzo_acquisto\n",
    "            prezzo_tot = n_azioni * prezzo_acquisto  \n",
    "            bilancio -= prezzo_tot          \n",
    "            tp = prezzo_acquisto * 1.3\n",
    "            sl = prezzo_acquisto * 0.1\n",
    "            pos_aperta = True\n",
    "            posizioni.loc[idx] = {\"Bilancio\": bilancio, \"Direzione\": \"COMPRA\", \"Prezzo_un\": prezzo_acquisto, \"n_azioni\": n_azioni, \"Prezzo_tot\": -prezzo_tot, \"TP\": tp, \"SL\": sl, \"Open\": row[\"Open\"], \"High\": row[\"High\"], \"Low\": row[\"Low\"],}\n",
    "    else:\n",
    "        if row[\"High\"] >= tp:\n",
    "            prezzo_tot = tp * n_azioni\n",
    "            bilancio += prezzo_tot\n",
    "            pos_aperta = False\n",
    "            posizioni.loc[idx] = {\"Bilancio\": bilancio, \"Direzione\": \"VENDI\", \"Prezzo_un\": tp, \"n_azioni\": n_azioni, \"Prezzo_tot\": prezzo_tot, \"Esito\": \"Vincita\", \"Open\": row[\"Open\"], \"High\": row[\"High\"], \"Low\": row[\"Low\"]}\n",
    "        elif row[\"Low\"] <= sl:\n",
    "            prezzo_tot = sl * n_azioni\n",
    "            bilancio += prezzo_tot\n",
    "            pos_aperta = False\n",
    "            posizioni.loc[idx] = {\"Bilancio\": bilancio, \"Direzione\": \"VENDI\", \"Prezzo_un\": sl, \"n_azioni\": n_azioni, \"Prezzo_tot\": prezzo_tot, \"Esito\": \"Perdita\", \"Open\": row[\"Open\"], \"High\": row[\"High\"], \"Low\": row[\"Low\"]}\n",
    "    \n",
    "posizioni.to_excel(\"posizioni.xlsx\")\n",
    "ticker.to_excel(\"ticker.xlsx\")\n",
    "print(\"\\nfine\")\n"
   ]
  },
  {
   "cell_type": "code",
   "execution_count": 10,
   "id": "70467041",
   "metadata": {},
   "outputs": [],
   "source": [
    "posizioni.loc[posizioni[\"Direzione\"] == \"VENDI\", :].tail()"
   ]
  },
  {
   "cell_type": "code",
   "execution_count": 11,
   "id": "b0be420d",
   "metadata": {},
   "outputs": [],
   "source": [
    "cf"
   ]
  },
  {
   "cell_type": "code",
   "execution_count": 8,
   "id": "6ec7d916",
   "metadata": {},
   "outputs": [],
   "source": [
    "visualizza_grafico(ticker)"
   ]
  },
  {
   "cell_type": "code",
   "execution_count": 9,
   "id": "8993ffcd",
   "metadata": {},
   "outputs": [],
   "source": [
    "pred"
   ]
  },
  {
   "cell_type": "code",
   "execution_count": null,
   "id": "346b95ab",
   "metadata": {},
   "outputs": [],
   "source": []
  }
 ],
 "metadata": {
  "kernelspec": {
   "display_name": "Python 3 (ipykernel)",
   "language": "python",
   "name": "python3"
  },
  "language_info": {
   "codemirror_mode": {
    "name": "ipython",
    "version": 3
   },
   "file_extension": ".py",
   "mimetype": "text/x-python",
   "name": "python",
   "nbconvert_exporter": "python",
   "pygments_lexer": "ipython3",
   "version": "3.11.3"
  }
 },
 "nbformat": 4,
 "nbformat_minor": 5
}
