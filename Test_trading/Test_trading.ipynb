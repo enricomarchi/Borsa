{
 "cells": [
  {
   "cell_type": "code",
   "execution_count": 1,
   "id": "a85a9176",
   "metadata": {
    "scrolled": true
   },
   "outputs": [],
   "source": [
    "import pandas as pd\n",
    "import funzioni as fx\n",
    "import numpy as np\n",
    "\n",
    "model = fx.importa_modello(\"../Dati_borsa/Dati_addestramento/RF_est1000/Modello_RF_est1000.joblib\")\n"
   ]
  },
  {
   "cell_type": "code",
   "execution_count": 2,
   "id": "ce48eaf7",
   "metadata": {},
   "outputs": [
    {
     "name": "stderr",
     "output_type": "stream",
     "text": [
      "[Parallel(n_jobs=4)]: Using backend ThreadingBackend with 4 concurrent workers.\n",
      "[Parallel(n_jobs=4)]: Done  42 tasks      | elapsed:    0.4s\n",
      "[Parallel(n_jobs=4)]: Done 192 tasks      | elapsed:    2.3s\n",
      "[Parallel(n_jobs=4)]: Done 442 tasks      | elapsed:    5.5s\n",
      "[Parallel(n_jobs=4)]: Done 792 tasks      | elapsed:    6.0s\n",
      "[Parallel(n_jobs=4)]: Done 1000 out of 1000 | elapsed:    6.3s finished\n"
     ]
    }
   ],
   "source": [
    "df = pd.read_parquet(\"../Dati_borsa/Dati_calcolati_scalati_approssimati_lagged/BTG.parquet\")\n",
    "df = fx.definizione_parametri_e_target(df, n_barre_passate=10)\n",
    "X = df.drop(columns=[\"Target\"])\n",
    "y = df[\"Target\"]\n",
    "y_pred = model.predict_proba(X)\n",
    "y_pred_true = y_pred[:, 1]\n",
    "y_pred_true = pd.Series(y_pred_true)"
   ]
  },
  {
   "cell_type": "code",
   "execution_count": 3,
   "id": "ad5e7790",
   "metadata": {},
   "outputs": [],
   "source": [
    "\n",
    "y_pred_true.name = \"prob_True\"\n",
    "y_pred_true.index = X.index\n",
    "X = pd.concat([X, y_pred_true], axis=1)\n"
   ]
  },
  {
   "cell_type": "code",
   "execution_count": 5,
   "id": "ec977126",
   "metadata": {
    "scrolled": true
   },
   "outputs": [
    {
     "name": "stdout",
     "output_type": "stream",
     "text": [
      "3653 Bilancio = 67250.59999999998                                                                                \n",
      "fine\n"
     ]
    }
   ],
   "source": [
    "pos_aperta = False\n",
    "tp = sl = n_azioni = prezzo_acquisto = prezzo_tot = 0\n",
    "bilancio = 1000\n",
    "\n",
    "posizioni = pd.DataFrame(columns=[\"Bilancio\", \"Direzione\", \"Prezzo_un\", \"n_azioni\", \"Prezzo_tot\", \"TP\", \"SL\", \"Open\", \"High\", \"Low\", \"Esito\"], index=X.index)\n",
    "\n",
    "for idx, row in X.iterrows():\n",
    "    if bilancio <= 0:\n",
    "        break\n",
    "    print(f\"\\r{idx} Bilancio = {bilancio}                \", end=\" \", flush=True)\n",
    "    if pos_aperta == False:\n",
    "        if row[\"prob_True\"] > 0.5 and bilancio > 0:\n",
    "            #COMPRA\n",
    "            prezzo_acquisto = row[\"Open\"]\n",
    "            n_azioni = bilancio // prezzo_acquisto\n",
    "            prezzo_tot = n_azioni * prezzo_acquisto  \n",
    "            bilancio -= prezzo_tot          \n",
    "            tp = prezzo_acquisto * 1.2\n",
    "            sl = prezzo_acquisto * 0.95\n",
    "            pos_aperta = True\n",
    "            posizioni.loc[idx] = {\"Bilancio\": bilancio, \"Direzione\": \"COMPRA\", \"Prezzo_un\": prezzo_acquisto, \"n_azioni\": n_azioni, \"Prezzo_tot\": -prezzo_tot, \"TP\": tp, \"SL\": sl, \"Open\": row[\"Open\"], \"High\": row[\"High\"], \"Low\": row[\"Low\"],}\n",
    "    else:\n",
    "        if row[\"High\"] >= tp:\n",
    "            prezzo_tot = tp * n_azioni\n",
    "            bilancio += prezzo_tot\n",
    "            pos_aperta = False\n",
    "            posizioni.loc[idx] = {\"Bilancio\": bilancio, \"Direzione\": \"VENDI\", \"Prezzo_un\": tp, \"n_azioni\": n_azioni, \"Prezzo_tot\": prezzo_tot, \"Esito\": \"Vincita\", \"Open\": row[\"Open\"], \"High\": row[\"High\"], \"Low\": row[\"Low\"]}\n",
    "        elif row[\"Low\"] <= sl:\n",
    "            prezzo_tot = sl * n_azioni\n",
    "            bilancio += prezzo_tot\n",
    "            pos_aperta = False\n",
    "            posizioni.loc[idx] = {\"Bilancio\": bilancio, \"Direzione\": \"VENDI\", \"Prezzo_un\": sl, \"n_azioni\": n_azioni, \"Prezzo_tot\": prezzo_tot, \"Esito\": \"Perdita\", \"Open\": row[\"Open\"], \"High\": row[\"High\"], \"Low\": row[\"Low\"]}\n",
    "    \n",
    "posizioni.to_excel(\"posizioni.xlsx\")\n",
    "X.to_excel(\"X.xlsx\")\n",
    "print(\"\\nfine\")\n"
   ]
  },
  {
   "cell_type": "code",
   "execution_count": null,
   "id": "1b83587b",
   "metadata": {},
   "outputs": [],
   "source": []
  }
 ],
 "metadata": {
  "kernelspec": {
   "display_name": "Python 3 (ipykernel)",
   "language": "python",
   "name": "python3"
  },
  "language_info": {
   "codemirror_mode": {
    "name": "ipython",
    "version": 3
   },
   "file_extension": ".py",
   "mimetype": "text/x-python",
   "name": "python",
   "nbconvert_exporter": "python",
   "pygments_lexer": "ipython3",
   "version": "3.11.3"
  },
  "vp": {
   "vp_config_version": "1.0.0",
   "vp_menu_width": 273,
   "vp_note_display": false,
   "vp_note_width": 0,
   "vp_position": {
    "width": 278
   },
   "vp_section_display": false,
   "vp_signature": "VisualPython"
  }
 },
 "nbformat": 4,
 "nbformat_minor": 5
}
