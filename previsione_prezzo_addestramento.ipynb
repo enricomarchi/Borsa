{
 "cells": [
  {
   "cell_type": "code",
   "execution_count": 1,
   "id": "6d5ca138",
   "metadata": {},
   "outputs": [],
   "source": [
    "import pandas as pd\n",
    "import yfinance as yf\n",
    "import funzioni as fx\n",
    "import plotly.offline as pyo\n",
    "import numpy as np\n",
    "import numpy as np\n",
    "import os\n",
    "\n",
    "from tensorflow.keras.models import load_model\n",
    "from joblib import dump\n",
    "\n",
    "pd.set_option(\"display.max_columns\", None)"
   ]
  },
  {
   "cell_type": "code",
   "execution_count": 2,
   "id": "5dc79228",
   "metadata": {},
   "outputs": [],
   "source": [
    "learning_rate = 0.001\n",
    "batch_size = 32\n",
    "look_back = 60\n",
    "file_modello = \"LSTM_prezzo.keras\""
   ]
  },
  {
   "cell_type": "code",
   "execution_count": 3,
   "id": "a278d9ec",
   "metadata": {
    "scrolled": false
   },
   "outputs": [
    {
     "name": "stdout",
     "output_type": "stream",
     "text": [
      "Nuovo modello\n",
      "1 di 1) Caricamento ticker BTG                           \n",
      "1 di 1) Addestramento ticker BTG                           \n",
      " Epoch 1/50\n",
      "66/66 [==============================] - 13s 82ms/step - loss: 1.4345 - val_loss: 0.9400\n",
      "Epoch 2/50\n",
      "66/66 [==============================] - 3s 51ms/step - loss: 0.8736 - val_loss: 0.9343\n",
      "Epoch 3/50\n",
      "66/66 [==============================] - 3s 52ms/step - loss: 0.8712 - val_loss: 0.9318\n",
      "Epoch 4/50\n",
      "66/66 [==============================] - 3s 50ms/step - loss: 0.8704 - val_loss: 0.9308\n",
      "Epoch 5/50\n",
      "66/66 [==============================] - 3s 51ms/step - loss: 0.8699 - val_loss: 0.9305\n",
      "Epoch 6/50\n",
      "66/66 [==============================] - 3s 52ms/step - loss: 0.8696 - val_loss: 0.9304\n",
      "Epoch 7/50\n",
      "66/66 [==============================] - 3s 52ms/step - loss: 0.8694 - val_loss: 0.9307\n",
      "Epoch 8/50\n",
      "66/66 [==============================] - 3s 51ms/step - loss: 0.8693 - val_loss: 0.9311\n",
      "Epoch 9/50\n",
      "66/66 [==============================] - 4s 53ms/step - loss: 0.8692 - val_loss: 0.9316\n",
      "Epoch 10/50\n",
      "66/66 [==============================] - 3s 52ms/step - loss: 0.8691 - val_loss: 0.9321\n",
      "Epoch 11/50\n",
      "66/66 [==============================] - 4s 54ms/step - loss: 0.8690 - val_loss: 0.9326\n",
      "Epoch 12/50\n",
      "66/66 [==============================] - 3s 52ms/step - loss: 0.8689 - val_loss: 0.9331\n",
      "Epoch 13/50\n",
      "66/66 [==============================] - 3s 51ms/step - loss: 0.8689 - val_loss: 0.9336\n",
      "Epoch 14/50\n",
      "66/66 [==============================] - 3s 51ms/step - loss: 0.8688 - val_loss: 0.9339\n",
      "Epoch 15/50\n",
      "66/66 [==============================] - 3s 51ms/step - loss: 0.8687 - val_loss: 0.9343\n",
      "Epoch 16/50\n",
      "66/66 [==============================] - 3s 52ms/step - loss: 0.8686 - val_loss: 0.9344\n",
      "17/17 [==============================] - 0s 18ms/step - loss: 0.9344\n",
      "\u001b[42mLoss: 0.934449315071106\u001b[0m\n",
      "fine addestramento\n"
     ]
    }
   ],
   "source": [
    "elenco_usin = pd.read_parquet(\"Tickers_De_Giro.parquet\")\n",
    "elenco_usin = elenco_usin.loc[elenco_usin[\"Ticker\"] == \"BTG\", [\"USIN\", \"Ticker\"]]\n",
    "elenco_usin = elenco_usin.sample(frac=1)\n",
    "tot_usin = len(elenco_usin)\n",
    "i = 1\n",
    "if os.path.exists(file_modello):\n",
    "    model = load_model(file_modello)\n",
    "    print(\"Modello esistente\")\n",
    "else:\n",
    "    model = 0\n",
    "    print(\"Nuovo modello\")\n",
    "for index, riga in elenco_usin.iterrows():       \n",
    "    print(f\"\\r{i} di {tot_usin}) Caricamento ticker {riga['Ticker']}                           \\n\", end=' ', flush=True)\n",
    "    ticker = yf.download(riga['USIN'], start='2005-01-01', end='2019-07-31', progress=False)\n",
    "    if len(ticker) < 500:\n",
    "        continue\n",
    "    else:\n",
    "        ticker = fx.crea_indicatori(ticker)\n",
    "        features, target = fx.features_e_target_regressione(ticker)\n",
    "        ticker[\"Target\"] = target\n",
    "        print(f\"\\r{i} di {tot_usin}) Addestramento ticker {riga['Ticker']}                           \\n\", end=' ', flush=True)\n",
    "        try:\n",
    "            model, scaler = fx.addestramento_regressione(model, features=features, target=target, learning_rate=learning_rate, batch_size=batch_size, look_back=look_back) \n",
    "            model.save(file_modello)\n",
    "            #dump(scaler, f'Scalers/{riga[\"Ticker\"]}_scaler.joblib') \n",
    "        except Exception as e:\n",
    "            print(e)\n",
    "            continue\n",
    "        i += 1\n",
    "\n",
    "print(\"fine addestramento\")"
   ]
  },
  {
   "cell_type": "code",
   "execution_count": null,
   "id": "23bd7e3f",
   "metadata": {},
   "outputs": [],
   "source": []
  }
 ],
 "metadata": {
  "kernelspec": {
   "display_name": "Python 3 (ipykernel)",
   "language": "python",
   "name": "python3"
  },
  "language_info": {
   "codemirror_mode": {
    "name": "ipython",
    "version": 3
   },
   "file_extension": ".py",
   "mimetype": "text/x-python",
   "name": "python",
   "nbconvert_exporter": "python",
   "pygments_lexer": "ipython3",
   "version": "3.11.3"
  }
 },
 "nbformat": 4,
 "nbformat_minor": 5
}
