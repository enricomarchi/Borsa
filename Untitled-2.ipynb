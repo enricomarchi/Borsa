{
 "cells": [
  {
   "cell_type": "code",
   "execution_count": null,
   "metadata": {},
   "outputs": [],
   "source": [
    "import pandas as pd\n",
    "import yfinance as yf\n",
    "import funzioni as fx\n",
    "\n",
    "ticker = yf.download(\"MSFT\", start='2003-01-01', end='2023-12-31', progress=True)\n",
    "                \n",
    "ticker.index = ticker.index.date\n",
    "print(\"Calcolo indicatori ticker\", flush=True)\n",
    "ticker = fx.crea_indicatori(ticker)\n",
    "ticker.dropna(axis=0, inplace=True)"
   ]
  },
  {
   "cell_type": "code",
   "execution_count": null,
   "metadata": {},
   "outputs": [],
   "source": [
    "pd.set_option(\"display.max_rows\", None)\n",
    "pd.set_option(\"display.max_columns\", None)\n",
    "df = ticker.iloc[:, 31:93]\n",
    "ticker.describe().loc[['min', 'max'], :]"
   ]
  },
  {
   "cell_type": "code",
   "execution_count": null,
   "metadata": {},
   "outputs": [],
   "source": [
    "lista_ticker = pd.read_parquet(\"lista_ticker.parquet\")\n",
    "X, Y = fx.set_di_tuning(lista_ticker, 500, 'dati', '_500_candele')"
   ]
  },
  {
   "cell_type": "code",
   "execution_count": null,
   "metadata": {},
   "outputs": [],
   "source": [
    "idx, X, Y, _ = fx.to_XY(ticker, fx.features_prezzo, fx.features_da_scalare_singolarmente, fx.features_meno_piu, fx.features_candele, fx.features_no_scala, fx.elenco_targets, fx.n_timesteps, 1, addestramento=False)"
   ]
  },
  {
   "cell_type": "code",
   "execution_count": null,
   "metadata": {},
   "outputs": [],
   "source": [
    "#elenco_features = fx.features_prezzo + fx.features_da_scalare_singolarmente + fx.features_meno_piu + fx.features_no_scala + fx.features_candele\n",
    "df = pd.DataFrame(X[:, 59, :], columns=fx.elenco_features, index=idx)\n",
    "df.describe().loc[['min', 'max'], :]"
   ]
  }
 ],
 "metadata": {
  "kernelspec": {
   "display_name": "Python 3 (ipykernel)",
   "language": "python",
   "name": "python3"
  },
  "language_info": {
   "codemirror_mode": {
    "name": "ipython",
    "version": 3
   },
   "file_extension": ".py",
   "mimetype": "text/x-python",
   "name": "python",
   "nbconvert_exporter": "python",
   "pygments_lexer": "ipython3",
   "version": "3.9.16"
  }
 },
 "nbformat": 4,
 "nbformat_minor": 2
}
