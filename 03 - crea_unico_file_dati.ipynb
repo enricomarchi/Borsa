{
 "cells": [
  {
   "cell_type": "code",
   "execution_count": 1,
   "id": "72173d21",
   "metadata": {},
   "outputs": [
    {
     "name": "stdout",
     "output_type": "stream",
     "text": [
      "Salvataggio su file totale                                                                                                                                                                                                                                                                                                                                                                                                                               \n",
      "Fine.\n"
     ]
    }
   ],
   "source": [
    "import pandas as pd\n",
    "import os\n",
    "import funzioni as fx\n",
    "import gc\n",
    "\n",
    "max_df = 5000\n",
    "\n",
    "lista_file = os.listdir(\"C:/Users/932197/OneDrive/Python/Dati_borsa/Dati_calcolati_scalati_approssimati_lagged\")\n",
    "tot_file = len(lista_file)\n",
    "tickers = fx.tickers_de_giro(\"../DeGiro con formule.xlsx\")\n",
    "\n",
    "vero = [pd.DataFrame() for _ in range(max_df)]\n",
    "falso = [pd.DataFrame() for _ in range(max_df)]\n",
    "i = 0\n",
    "for f in lista_file:\n",
    "    nome_file, estensione = os.path.splitext(f)   \n",
    "    categoria = tickers.loc[tickers[\"Ticker\"] == nome_file, \"Categoria\"].iloc[0]\n",
    "    print(f\"\\r{i} di {tot_file}) Caricamento ticker {nome_file}                                        \", end=' ', flush=True)\n",
    "    df = pd.read_parquet(f\"C:/Users/932197/OneDrive/Python/Dati_borsa/Dati_calcolati_scalati_approssimati_lagged/{f}\")\n",
    "    if (len(df) > 0) and (categoria != \"D\"):\n",
    "        print(f\"\\r{i} di {tot_file}) Def.parametri e target ticker {nome_file}                            \", end=' ', flush=True)\n",
    "        df = df.loc[df[\"Date\"] >= \"2013-01-01\", :]\n",
    "        df = fx.definizione_parametri_e_target(df, n_barre_passate=10)\n",
    "        vero[i] = df.loc[df[\"Target\"] == 1, :]\n",
    "        falso[i] = (df.loc[df[\"Target\"] == 0, :]).sample(n=(len(vero[i])) * 5)\n",
    "        del(df)\n",
    "#        lista_df[i_df][\"Ticker\"] = nome_file\n",
    "#        lista_df[i_df][\"Categoria\"] = tickers.loc[tickers[\"Ticker\"] == nome_file, \"Categoria\"].iloc[0]\n",
    "        gc.collect()\n",
    "    i += 1\n",
    "    \n",
    "print(f\"\\r{i} di {tot_file}) Concatenamento dataframe                                             \", end=' ', flush=True)\n",
    "df_tot = pd.concat([vero[x] for x in range(max_df)] + [falso[x] for x in range(max_df)], axis=0)\n",
    "            \n",
    "print(f\"\\rSalvataggio su file totale                                                               \", end=' ', flush=True)\n",
    "df_tot.to_parquet(f\"C:/Users/932197/Documents/dati_locali/Dati_addestramento.parquet\") \n",
    "\n",
    "del(df_tot)\n",
    "del(vero)\n",
    "del(falso)\n",
    "gc.collect()\n",
    "\n",
    "print(\"\\nFine.\")"
   ]
  }
 ],
 "metadata": {
  "kernelspec": {
   "display_name": "Python 3 (ipykernel)",
   "language": "python",
   "name": "python3"
  },
  "language_info": {
   "codemirror_mode": {
    "name": "ipython",
    "version": 3
   },
   "file_extension": ".py",
   "mimetype": "text/x-python",
   "name": "python",
   "nbconvert_exporter": "python",
   "pygments_lexer": "ipython3",
   "version": "3.11.3"
  },
  "vp": {
   "vp_config_version": "1.0.0",
   "vp_menu_width": 273,
   "vp_note_display": false,
   "vp_note_width": 0,
   "vp_position": {
    "width": 278
   },
   "vp_section_display": false,
   "vp_signature": "VisualPython"
  }
 },
 "nbformat": 4,
 "nbformat_minor": 5
}
