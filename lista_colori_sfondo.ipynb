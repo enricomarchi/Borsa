{
 "cells": [
  {
   "cell_type": "code",
   "execution_count": 1,
   "metadata": {},
   "outputs": [
    {
     "name": "stdout",
     "output_type": "stream",
     "text": [
      "\u001b[40mBlack\u001b[0m\n",
      "\u001b[41mRed\u001b[0m\n",
      "\u001b[42mGreen\u001b[0m\n",
      "\u001b[43mYellow\u001b[0m\n",
      "\u001b[44mBlue\u001b[0m\n",
      "\u001b[45mMagenta\u001b[0m\n",
      "\u001b[46mCyan\u001b[0m\n",
      "\u001b[47mWhite\u001b[0m\n",
      "\u001b[100mBright Black\u001b[0m\n",
      "\u001b[101mBright Red\u001b[0m\n",
      "\u001b[102mBright Green\u001b[0m\n",
      "\u001b[103mBright Yellow\u001b[0m\n",
      "\u001b[104mBright Blue\u001b[0m\n",
      "\u001b[105mBright Magenta\u001b[0m\n",
      "\u001b[106mBright Cyan\u001b[0m\n",
      "\u001b[107mBright White\u001b[0m\n",
      "\u001b[0m"
     ]
    }
   ],
   "source": [
    "# Lista dei codici di sfondo\n",
    "background_colors = {\n",
    "    \"Black\": \"\\033[40m\",\n",
    "    \"Red\": \"\\033[41m\",\n",
    "    \"Green\": \"\\033[42m\",\n",
    "    \"Yellow\": \"\\033[43m\",\n",
    "    \"Blue\": \"\\033[44m\",\n",
    "    \"Magenta\": \"\\033[45m\",\n",
    "    \"Cyan\": \"\\033[46m\",\n",
    "    \"White\": \"\\033[47m\",\n",
    "    \"Bright Black\": \"\\033[100m\",\n",
    "    \"Bright Red\": \"\\033[101m\",\n",
    "    \"Bright Green\": \"\\033[102m\",\n",
    "    \"Bright Yellow\": \"\\033[103m\",\n",
    "    \"Bright Blue\": \"\\033[104m\",\n",
    "    \"Bright Magenta\": \"\\033[105m\",\n",
    "    \"Bright Cyan\": \"\\033[106m\",\n",
    "    \"Bright White\": \"\\033[107m\",\n",
    "}\n",
    "\n",
    "# Stampa i colori con i relativi codici\n",
    "for color_name, color_code in background_colors.items():\n",
    "    print(color_code + color_name + \"\\033[0m\")\n",
    "\n",
    "# Resetta i colori alla fine\n",
    "print(\"\\033[0m\", end=\"\")\n"
   ]
  }
 ],
 "metadata": {
  "kernelspec": {
   "display_name": "Python 3 (ipykernel)",
   "language": "python",
   "name": "python3"
  }
 },
 "nbformat": 4,
 "nbformat_minor": 2
}
