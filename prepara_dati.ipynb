{
 "cells": [
  {
   "cell_type": "code",
   "execution_count": 3,
   "metadata": {},
   "outputs": [
    {
     "name": "stdout",
     "output_type": "stream",
     "text": [
      "inizio=1000, n_simboli_addestramento=1000\n"
     ]
    },
    {
     "name": "stdout",
     "output_type": "stream",
     "text": [
      "Caricamento X e Y\n"
     ]
    },
    {
     "ename": "KeyboardInterrupt",
     "evalue": "",
     "output_type": "error",
     "traceback": [
      "\u001b[0;31m---------------------------------------------------------------------------\u001b[0m",
      "\u001b[0;31mKeyboardInterrupt\u001b[0m                         Traceback (most recent call last)",
      "\u001b[1;32mc:\\Users\\enric\\Documents\\GitHub\\Borsa\\prepara_dati.ipynb Cell 1\u001b[0m line \u001b[0;36m8\n\u001b[1;32m      <a href='vscode-notebook-cell:/c%3A/Users/enric/Documents/GitHub/Borsa/prepara_dati.ipynb#W0sZmlsZQ%3D%3D?line=5'>6</a>\u001b[0m bilanciamento \u001b[39m=\u001b[39m \u001b[39m0.25\u001b[39m\n\u001b[1;32m      <a href='vscode-notebook-cell:/c%3A/Users/enric/Documents/GitHub/Borsa/prepara_dati.ipynb#W0sZmlsZQ%3D%3D?line=6'>7</a>\u001b[0m soglia_memoria \u001b[39m=\u001b[39m \u001b[39m14.5\u001b[39m \u001b[39m#GB\u001b[39;00m\n\u001b[0;32m----> <a href='vscode-notebook-cell:/c%3A/Users/enric/Documents/GitHub/Borsa/prepara_dati.ipynb#W0sZmlsZQ%3D%3D?line=7'>8</a>\u001b[0m X, Y \u001b[39m=\u001b[39m fx\u001b[39m.\u001b[39;49mset_di_tuning_pool(lista_ticker, tot_ticker, \u001b[39m'\u001b[39;49m\u001b[39mdati\u001b[39;49m\u001b[39m'\u001b[39;49m, \u001b[39mf\u001b[39;49m\u001b[39m'\u001b[39;49m\u001b[39m_\u001b[39;49m\u001b[39m{\u001b[39;49;00mtot_ticker\u001b[39m}\u001b[39;49;00m\u001b[39m_\u001b[39;49m\u001b[39m{\u001b[39;49;00mbilanciamento\u001b[39m}\u001b[39;49;00m\u001b[39m'\u001b[39;49m, bilanciamento\u001b[39m=\u001b[39;49mbilanciamento)\n\u001b[1;32m      <a href='vscode-notebook-cell:/c%3A/Users/enric/Documents/GitHub/Borsa/prepara_dati.ipynb#W0sZmlsZQ%3D%3D?line=8'>9</a>\u001b[0m \u001b[39mprint\u001b[39m(X\u001b[39m.\u001b[39mshape)\n\u001b[1;32m     <a href='vscode-notebook-cell:/c%3A/Users/enric/Documents/GitHub/Borsa/prepara_dati.ipynb#W0sZmlsZQ%3D%3D?line=9'>10</a>\u001b[0m \u001b[39mprint\u001b[39m(Y\u001b[39m.\u001b[39mshape)\n",
      "File \u001b[0;32m/notebooks/funzioni.py:18188\u001b[0m, in \u001b[0;36mset_di_tuning_pool\u001b[0;34m(lista_ticker, n_simboli_addestramento, perc_dati, set_file_x_y, bilanciamento)\u001b[0m\n\u001b[1;32m  18184\u001b[0m     \u001b[39mwith\u001b[39;00m \u001b[39mopen\u001b[39m(\u001b[39mf\u001b[39m\u001b[39m\"\u001b[39m\u001b[39m{\u001b[39;00mperc_dati\u001b[39m}\u001b[39;00m\u001b[39m/indice.txt\u001b[39m\u001b[39m\"\u001b[39m, \u001b[39m'\u001b[39m\u001b[39mw\u001b[39m\u001b[39m'\u001b[39m) \u001b[39mas\u001b[39;00m f:\n\u001b[1;32m  18185\u001b[0m         f\u001b[39m.\u001b[39mwrite(\u001b[39mstr\u001b[39m(n_simboli_addestramento))\n\u001b[0;32m> 18188\u001b[0m \u001b[39mreturn\u001b[39;00m \u001b[39mlist\u001b[39;49m(X), \u001b[39mlist\u001b[39m(Y)\n",
      "File \u001b[0;32m<string>:2\u001b[0m, in \u001b[0;36m__getitem__\u001b[0;34m(self, *args, **kwds)\u001b[0m\n",
      "File \u001b[0;32m/usr/lib/python3.9/multiprocessing/managers.py:810\u001b[0m, in \u001b[0;36mBaseProxy._callmethod\u001b[0;34m(self, methodname, args, kwds)\u001b[0m\n\u001b[1;32m    807\u001b[0m     conn \u001b[39m=\u001b[39m \u001b[39mself\u001b[39m\u001b[39m.\u001b[39m_tls\u001b[39m.\u001b[39mconnection\n\u001b[1;32m    809\u001b[0m conn\u001b[39m.\u001b[39msend((\u001b[39mself\u001b[39m\u001b[39m.\u001b[39m_id, methodname, args, kwds))\n\u001b[0;32m--> 810\u001b[0m kind, result \u001b[39m=\u001b[39m conn\u001b[39m.\u001b[39;49mrecv()\n\u001b[1;32m    812\u001b[0m \u001b[39mif\u001b[39;00m kind \u001b[39m==\u001b[39m \u001b[39m'\u001b[39m\u001b[39m#RETURN\u001b[39m\u001b[39m'\u001b[39m:\n\u001b[1;32m    813\u001b[0m     \u001b[39mreturn\u001b[39;00m result\n",
      "File \u001b[0;32m/usr/lib/python3.9/multiprocessing/connection.py:250\u001b[0m, in \u001b[0;36m_ConnectionBase.recv\u001b[0;34m(self)\u001b[0m\n\u001b[1;32m    248\u001b[0m \u001b[39mself\u001b[39m\u001b[39m.\u001b[39m_check_closed()\n\u001b[1;32m    249\u001b[0m \u001b[39mself\u001b[39m\u001b[39m.\u001b[39m_check_readable()\n\u001b[0;32m--> 250\u001b[0m buf \u001b[39m=\u001b[39m \u001b[39mself\u001b[39;49m\u001b[39m.\u001b[39;49m_recv_bytes()\n\u001b[1;32m    251\u001b[0m \u001b[39mreturn\u001b[39;00m _ForkingPickler\u001b[39m.\u001b[39mloads(buf\u001b[39m.\u001b[39mgetbuffer())\n",
      "File \u001b[0;32m/usr/lib/python3.9/multiprocessing/connection.py:414\u001b[0m, in \u001b[0;36mConnection._recv_bytes\u001b[0;34m(self, maxsize)\u001b[0m\n\u001b[1;32m    413\u001b[0m \u001b[39mdef\u001b[39;00m \u001b[39m_recv_bytes\u001b[39m(\u001b[39mself\u001b[39m, maxsize\u001b[39m=\u001b[39m\u001b[39mNone\u001b[39;00m):\n\u001b[0;32m--> 414\u001b[0m     buf \u001b[39m=\u001b[39m \u001b[39mself\u001b[39;49m\u001b[39m.\u001b[39;49m_recv(\u001b[39m4\u001b[39;49m)\n\u001b[1;32m    415\u001b[0m     size, \u001b[39m=\u001b[39m struct\u001b[39m.\u001b[39munpack(\u001b[39m\"\u001b[39m\u001b[39m!i\u001b[39m\u001b[39m\"\u001b[39m, buf\u001b[39m.\u001b[39mgetvalue())\n\u001b[1;32m    416\u001b[0m     \u001b[39mif\u001b[39;00m size \u001b[39m==\u001b[39m \u001b[39m-\u001b[39m\u001b[39m1\u001b[39m:\n",
      "File \u001b[0;32m/usr/lib/python3.9/multiprocessing/connection.py:379\u001b[0m, in \u001b[0;36mConnection._recv\u001b[0;34m(self, size, read)\u001b[0m\n\u001b[1;32m    377\u001b[0m remaining \u001b[39m=\u001b[39m size\n\u001b[1;32m    378\u001b[0m \u001b[39mwhile\u001b[39;00m remaining \u001b[39m>\u001b[39m \u001b[39m0\u001b[39m:\n\u001b[0;32m--> 379\u001b[0m     chunk \u001b[39m=\u001b[39m read(handle, remaining)\n\u001b[1;32m    380\u001b[0m     n \u001b[39m=\u001b[39m \u001b[39mlen\u001b[39m(chunk)\n\u001b[1;32m    381\u001b[0m     \u001b[39mif\u001b[39;00m n \u001b[39m==\u001b[39m \u001b[39m0\u001b[39m:\n",
      "\u001b[0;31mKeyboardInterrupt\u001b[0m: "
     ]
    }
   ],
   "source": [
    "import pandas as pd\n",
    "import funzioni as fx\n",
    "from multiprocessing import Pool, cpu_count, Manager, Value\n",
    "import numpy as np\n",
    "import os\n",
    "\n",
    "def process_ticker(nome_simbolo, features_prezzo, features_da_scalare_singolarmente, features_meno_piu, features_candele, features_no_scala, elenco_targets, n_timesteps, giorni_previsione, bilanciamento):\n",
    "    try:\n",
    "        ticker = pd.read_parquet(f\"tickers/{nome_simbolo}.parquet\")\n",
    "        _, X, Y, _ = fx.to_XY(ticker, features_prezzo, features_da_scalare_singolarmente, features_meno_piu, features_candele, features_no_scala, elenco_targets, n_timesteps, giorni_previsione, bilanciamento)\n",
    "        return nome_simbolo, X, Y\n",
    "    except Exception as e:\n",
    "        return nome_simbolo, str(e)\n",
    "\n",
    "def salva_progressi(X, Y, perc_dati, set_file_x_y, tot):\n",
    "    print(\"Salvataggio su file\")\n",
    "    np.save(f'{perc_dati}/X{set_file_x_y}', X)\n",
    "    np.save(f'{perc_dati}/Y{set_file_x_y}', Y)\n",
    "    with open(f\"{perc_dati}/indice.txt\", 'w') as f:\n",
    "        f.write(str(tot))\n",
    "\n",
    "def callback_result(result, X, Y, perc_dati, set_file_x_y, totale_processati, n_simboli_addestramento):\n",
    "    nome_simbolo, Xt, Yt = result\n",
    "    print(f\"{totale_processati.value}/{n_simboli_addestramento}) Completato ticker {nome_simbolo}\")\n",
    "    if Xt is not None and Yt is not None:\n",
    "        X.extend(Xt)\n",
    "        Y.extend(Yt)\n",
    "        with totale_processati.get_lock(): \n",
    "            totale_processati.value += 1\n",
    "            if (totale_processati.value % 1000 == 0):\n",
    "                salva_progressi(X, Y, perc_dati, set_file_x_y, totale_processati.value)\n",
    "\n",
    "def prepara_dati(lista_ticker, n_simboli_addestramento, perc_dati, set_file_x_y, bilanciamento=0):\n",
    "    try:\n",
    "        with open(f\"{perc_dati}/indice.txt\", 'r') as f:\n",
    "            inizio = int(f.read().strip()) \n",
    "    except FileNotFoundError:\n",
    "        inizio = 0  \n",
    "    print(f'inizio={inizio}, n_simboli_addestramento={n_simboli_addestramento}')\n",
    "\n",
    "    manager = Manager()\n",
    "    X = manager.list()\n",
    "    Y = manager.list()\n",
    "    totale_processati = Value('i', inizio)  \n",
    "\n",
    "    # Controlla se i dati sono già stati salvati e li carica\n",
    "    if os.path.exists(f\"{perc_dati}/X{set_file_x_y}.npy\") and os.path.exists(f\"{perc_dati}/Y{set_file_x_y}.npy\"):\n",
    "        print(\"Caricamento X e Y\")\n",
    "        X.extend(np.load(f'{perc_dati}/X{set_file_x_y}.npy'))\n",
    "        Y.extend(np.load(f'{perc_dati}/Y{set_file_x_y}.npy'))\n",
    "        \n",
    "    if inizio < n_simboli_addestramento:\n",
    "        with Pool(cpu_count()) as p:\n",
    "            for i in range(inizio, n_simboli_addestramento):\n",
    "                nome_simbolo = lista_ticker.iloc[i][\"Ticker\"]\n",
    "                task = (nome_simbolo, fx.features_prezzo, fx.features_da_scalare_singolarmente, fx.features_meno_piu, fx.features_candele, fx.features_no_scala, fx.elenco_targets, fx.n_timesteps, fx.giorni_previsione, bilanciamento)\n",
    "                p.apply_async(process_ticker, args=task, callback=lambda result: callback_result(result, X, Y, perc_dati, set_file_x_y, totale_processati, n_simboli_addestramento))\n",
    "\n",
    "            p.close()\n",
    "            p.join()\n",
    "    \n",
    "    if ((n_simboli_addestramento - totale_processati.value) < 1000):\n",
    "        with open(f\"{perc_dati}/indice.txt\", 'w') as f:\n",
    "            f.write(str(n_simboli_addestramento))\n",
    "\n",
    "    return list(X), list(Y)\n",
    "\n",
    "lista_ticker = pd.read_parquet(\"lista_ticker.parquet\")\n",
    "lista_ticker.sample(frac=1)\n",
    "tot_ticker = 1000\n",
    "bilanciamento = 0.25\n",
    "X, Y = prepara_dati(lista_ticker, tot_ticker, 'dati', f'_{tot_ticker}_{bilanciamento}', bilanciamento=bilanciamento)\n",
    "print(X.shape)\n",
    "print(Y.shape)"
   ]
  }
 ],
 "metadata": {
  "kernelspec": {
   "display_name": "Python 3 (ipykernel)",
   "language": "python",
   "name": "python3"
  },
  "language_info": {
   "codemirror_mode": {
    "name": "ipython",
    "version": 3
   },
   "file_extension": ".py",
   "mimetype": "text/x-python",
   "name": "python",
   "nbconvert_exporter": "python",
   "pygments_lexer": "ipython3",
   "version": "3.9.16"
  }
 },
 "nbformat": 4,
 "nbformat_minor": 2
}
