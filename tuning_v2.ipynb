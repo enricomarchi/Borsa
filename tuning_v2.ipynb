{
 "cells": [
  {
   "cell_type": "code",
   "execution_count": 1,
   "id": "f1ebdd33",
   "metadata": {
    "tags": []
   },
   "outputs": [
    {
     "name": "stdout",
     "output_type": "stream",
     "text": [
      "Importa librerie"
     ]
    },
    {
     "name": "stderr",
     "output_type": "stream",
     "text": [
      "2023-10-30 18:07:46.888715: E tensorflow/compiler/xla/stream_executor/cuda/cuda_dnn.cc:9342] Unable to register cuDNN factory: Attempting to register factory for plugin cuDNN when one has already been registered\n",
      "2023-10-30 18:07:46.888774: E tensorflow/compiler/xla/stream_executor/cuda/cuda_fft.cc:609] Unable to register cuFFT factory: Attempting to register factory for plugin cuFFT when one has already been registered\n",
      "2023-10-30 18:07:46.888856: E tensorflow/compiler/xla/stream_executor/cuda/cuda_blas.cc:1518] Unable to register cuBLAS factory: Attempting to register factory for plugin cuBLAS when one has already been registered\n",
      "2023-10-30 18:07:46.899285: I tensorflow/core/platform/cpu_feature_guard.cc:182] This TensorFlow binary is optimized to use available CPU instructions in performance-critical operations.\n",
      "To enable the following instructions: AVX2 FMA, in other operations, rebuild TensorFlow with the appropriate compiler flags.\n",
      "2023-10-30 18:07:47.996780: W tensorflow/compiler/tf2tensorrt/utils/py_utils.cc:38] TF-TRT Warning: Could not find TensorRT\n"
     ]
    },
    {
     "name": "stdout",
     "output_type": "stream",
     "text": [
      ".Using TensorFlow backend\n",
      "...."
     ]
    },
    {
     "ename": "ImportError",
     "evalue": "cannot import name 'Bidirectional' from 'tensorflow.python.keras.layers' (/home/enrico/Documenti/Borsa/.venv/lib/python3.10/site-packages/tensorflow/python/keras/layers/__init__.py)",
     "output_type": "error",
     "traceback": [
      "\u001b[0;31m---------------------------------------------------------------------------\u001b[0m",
      "\u001b[0;31mImportError\u001b[0m                               Traceback (most recent call last)",
      "\u001b[1;32m/home/enrico/Documenti/Borsa/tuning_v2.ipynb Cell 1\u001b[0m line \u001b[0;36m1\n\u001b[1;32m     <a href='vscode-notebook-cell:/home/enrico/Documenti/Borsa/tuning_v2.ipynb#W0sZmlsZQ%3D%3D?line=9'>10</a>\u001b[0m \u001b[39mimport\u001b[39;00m \u001b[39mnumpy\u001b[39;00m \u001b[39mas\u001b[39;00m \u001b[39mnp\u001b[39;00m\n\u001b[1;32m     <a href='vscode-notebook-cell:/home/enrico/Documenti/Borsa/tuning_v2.ipynb#W0sZmlsZQ%3D%3D?line=10'>11</a>\u001b[0m \u001b[39mprint\u001b[39m(\u001b[39m\"\u001b[39m\u001b[39m.\u001b[39m\u001b[39m\"\u001b[39m, end\u001b[39m=\u001b[39m\u001b[39m\"\u001b[39m\u001b[39m\"\u001b[39m, flush\u001b[39m=\u001b[39m\u001b[39mTrue\u001b[39;00m)\n\u001b[0;32m---> <a href='vscode-notebook-cell:/home/enrico/Documenti/Borsa/tuning_v2.ipynb#W0sZmlsZQ%3D%3D?line=11'>12</a>\u001b[0m \u001b[39mimport\u001b[39;00m \u001b[39mfunzioni\u001b[39;00m \u001b[39mas\u001b[39;00m \u001b[39mfx\u001b[39;00m\n\u001b[1;32m     <a href='vscode-notebook-cell:/home/enrico/Documenti/Borsa/tuning_v2.ipynb#W0sZmlsZQ%3D%3D?line=12'>13</a>\u001b[0m \u001b[39mprint\u001b[39m(\u001b[39m\"\u001b[39m\u001b[39m.\u001b[39m\u001b[39m\"\u001b[39m, end\u001b[39m=\u001b[39m\u001b[39m\"\u001b[39m\u001b[39m\"\u001b[39m, flush\u001b[39m=\u001b[39m\u001b[39mTrue\u001b[39;00m)\n\u001b[1;32m     <a href='vscode-notebook-cell:/home/enrico/Documenti/Borsa/tuning_v2.ipynb#W0sZmlsZQ%3D%3D?line=13'>14</a>\u001b[0m \u001b[39mimport\u001b[39;00m \u001b[39mpickle\u001b[39;00m\n",
      "File \u001b[0;32m~/Documenti/Borsa/funzioni.py:13\u001b[0m\n\u001b[1;32m     11\u001b[0m \u001b[39mimport\u001b[39;00m \u001b[39mtensorflow\u001b[39;00m \u001b[39mas\u001b[39;00m \u001b[39mtf\u001b[39;00m\n\u001b[1;32m     12\u001b[0m \u001b[39mfrom\u001b[39;00m \u001b[39mtensorflow\u001b[39;00m\u001b[39m.\u001b[39;00m\u001b[39mpython\u001b[39;00m\u001b[39m.\u001b[39;00m\u001b[39mkeras\u001b[39;00m\u001b[39m.\u001b[39;00m\u001b[39mmodels\u001b[39;00m \u001b[39mimport\u001b[39;00m load_model, Sequential\n\u001b[0;32m---> 13\u001b[0m \u001b[39mfrom\u001b[39;00m \u001b[39mtensorflow\u001b[39;00m\u001b[39m.\u001b[39;00m\u001b[39mpython\u001b[39;00m\u001b[39m.\u001b[39;00m\u001b[39mkeras\u001b[39;00m\u001b[39m.\u001b[39;00m\u001b[39mlayers\u001b[39;00m \u001b[39mimport\u001b[39;00m LSTM, Dropout, Dense, Bidirectional, BatchNormalization\n\u001b[1;32m     14\u001b[0m \u001b[39mfrom\u001b[39;00m \u001b[39mtensorflow\u001b[39;00m\u001b[39m.\u001b[39;00m\u001b[39mpython\u001b[39;00m\u001b[39m.\u001b[39;00m\u001b[39mkeras\u001b[39;00m\u001b[39m.\u001b[39;00m\u001b[39mregularizers\u001b[39;00m \u001b[39mimport\u001b[39;00m l2\n\u001b[1;32m     15\u001b[0m \u001b[39mimport\u001b[39;00m \u001b[39mkerastuner\u001b[39;00m \u001b[39mas\u001b[39;00m \u001b[39mkt\u001b[39;00m\n",
      "\u001b[0;31mImportError\u001b[0m: cannot import name 'Bidirectional' from 'tensorflow.python.keras.layers' (/home/enrico/Documenti/Borsa/.venv/lib/python3.10/site-packages/tensorflow/python/keras/layers/__init__.py)"
     ]
    }
   ],
   "source": [
    "print(\"Importa librerie\", end=\"\", flush=True)\n",
    "import tensorflow as tf\n",
    "print(\".\", end=\"\", flush=True)\n",
    "import keras_tuner as kt\n",
    "print(\".\", end=\"\", flush=True)\n",
    "import pandas as pd\n",
    "print(\".\", end=\"\", flush=True)\n",
    "import yfinance as yf\n",
    "print(\".\", end=\"\", flush=True)\n",
    "import numpy as np\n",
    "print(\".\", end=\"\", flush=True)\n",
    "import funzioni as fx\n",
    "print(\".\", end=\"\", flush=True)\n",
    "import pickle\n",
    "print(\".\", end=\"\", flush=True)\n",
    "from sklearn.model_selection import train_test_split\n",
    "print(\".\", end=\"\", flush=True)\n",
    "from kerastuner.engine.hypermodel import HyperModel\n",
    "print(\".\", end=\"\", flush=True)\n",
    "import os\n",
    "print(\"=\", end=\"\\n\", flush=True)\n",
    "print(\"ok\")"
   ]
  },
  {
   "cell_type": "code",
   "execution_count": null,
   "id": "a669b3bd",
   "metadata": {
    "tags": []
   },
   "outputs": [],
   "source": [
    "print(\"Versione TensorFlow:\", tf.__version__)\n",
    "print(\"Versione CUDA:\", tf.sysconfig.get_build_info()['cuda_version'])\n",
    "print(\"Versione cuDNN:\", tf.sysconfig.get_build_info()['cudnn_version'])\n",
    "import psutil\n",
    "\n",
    "def print_memory_usage():\n",
    "    print(f\"Memory usage: {psutil.virtual_memory().percent}%\")\n",
    "\n",
    "gpus = tf.config.experimental.list_physical_devices('GPU')\n",
    "if gpus:\n",
    "    try:\n",
    "        for gpu in gpus:\n",
    "            tf.config.experimental.set_memory_growth(gpu, True)\n",
    "            tf.config.experimental.set_visible_devices(gpu, 'GPU')\n",
    "        logical_gpus = tf.config.experimental.list_logical_devices('GPU')\n",
    "        print(len(gpus), \"Physical GPUs,\", len(logical_gpus), \"Logical GPUs\")\n",
    "    except RuntimeError as e:\n",
    "        print(e)\n",
    "        "
   ]
  },
  {
   "cell_type": "code",
   "execution_count": null,
   "id": "07d842bf",
   "metadata": {
    "tags": []
   },
   "outputs": [],
   "source": [
    "n_simboli_addestramento = 500\n",
    "epochs=50\n",
    "batch_size=32\n",
    "perc_dati = \"dati\"\n",
    "set_file_x_y = f\"_{n_simboli_addestramento}\"\n",
    "initial_lr = 0.001\n",
    "\n",
    "if not os.path.exists('dati'):\n",
    "    os.makedirs('dati')\n",
    "\n",
    "if os.path.exists(\"lista_ticker.parquet\"):\n",
    "    print(\"Caricamento lista_ticker esistente\", flush=True)\n",
    "    lista_ticker = pd.read_parquet(\"lista_ticker.parquet\")\n",
    "else:\n",
    "    print(\"Download lista ticker\", flush=True)\n",
    "    lista_ticker = pd.read_parquet(\"Tickers_De_Giro.parquet\")\n",
    "    lista_ticker = lista_ticker.sample(frac=1).reset_index(drop=True)\n",
    "    lista_ticker = lista_ticker.loc[(lista_ticker[\"Categoria\"] != \"D\"), :]\n",
    "    lista_ticker.to_parquet(\"lista_ticker.parquet\")\n",
    "\n",
    "if n_simboli_addestramento == 'Tutti': \n",
    "    n_simboli_addestramento = len(lista_ticker)\n",
    "\n",
    "# Impostazioni\n",
    "objective = kt.Objective(\"val_f1\", direction=\"max\")\n",
    "reduce_lr = tf.keras.callbacks.ReduceLROnPlateau(monitor='val_f1', factor=0.5, patience=5, min_lr=0.0001, mode='max')\n",
    "early_stopping = tf.keras.callbacks.EarlyStopping(monitor='val_f1', patience=10, restore_best_weights=True, mode='max')\n",
    "callbacks = [early_stopping, reduce_lr]\n",
    "\n",
    "X, Y = fx.set_di_tuning(lista_ticker)\n",
    "\n",
    "X_train, X_val, Y_train, Y_val = train_test_split(X, Y, test_size=0.2, random_state=42)\n",
    "\n",
    "print_memory_usage()\n",
    "input_shape = (fx.n_timesteps, fx.n_features)\n",
    "hypermodel = MixedHyperModel(fx.n_timesteps, fx.n_features)"
   ]
  },
  {
   "cell_type": "code",
   "execution_count": null,
   "id": "ef8dfdcd-98d2-4f94-854f-b4604b988329",
   "metadata": {},
   "outputs": [],
   "source": [
    "print(\"Tuning\")\n",
    "\n",
    "print_memory_usage()\n",
    "model, par, bayesian_search = bay(hypermodel, objective, X_train, Y_train, X_val, Y_val)\n",
    "print_memory_usage()\n",
    "\n",
    "trials = bayesian_search.oracle.trials\n",
    "\n",
    "results = []\n",
    "\n",
    "for trial in trials.values():\n",
    "    trial_metrics = trial['metrics']\n",
    "    val_f1 = trial_metrics['val_f1']['observations'][0]['value'] \n",
    "    results.append({\n",
    "        'trial_id': trial['trial_id'],\n",
    "        'val_f1': val_f1,  \n",
    "        'hyperparameters': trial['hyperparameters'].values\n",
    "    })\n",
    "\n",
    "results_df = pd.DataFrame(results)\n",
    "results_df.to_excel('results_df.xlsx')\n",
    "    \n",
    "model.save(\"tuning\")\n",
    "with open('hyperparameters.pkl', 'wb') as f:\n",
    "    pickle.dump(par, f)\n",
    "\n",
    "#addestramento(lista_ticker)\n",
    "#    \n",
    "print(\"ok\")\n",
    "\n",
    "\n"
   ]
  },
  {
   "cell_type": "code",
   "execution_count": null,
   "id": "2815b02f-10ad-431c-967d-83a2d76b8056",
   "metadata": {},
   "outputs": [],
   "source": [
    "from tensorflow.python.client import device_lib\n",
    "print(device_lib.list_local_devices())\n"
   ]
  },
  {
   "cell_type": "code",
   "execution_count": null,
   "id": "9783d728-e8cf-4538-aa8d-56348d3412c8",
   "metadata": {},
   "outputs": [],
   "source": []
  }
 ],
 "metadata": {
  "kernelspec": {
   "display_name": "Python 3 (ipykernel)",
   "language": "python",
   "name": "python3"
  },
  "language_info": {
   "codemirror_mode": {
    "name": "ipython",
    "version": 3
   },
   "file_extension": ".py",
   "mimetype": "text/x-python",
   "name": "python",
   "nbconvert_exporter": "python",
   "pygments_lexer": "ipython3",
   "version": "3.10.12"
  },
  "vp": {
   "vp_config_version": "1.0.0",
   "vp_menu_width": 273,
   "vp_note_display": false,
   "vp_note_width": 0,
   "vp_position": {
    "width": 278
   },
   "vp_section_display": false,
   "vp_signature": "VisualPython"
  }
 },
 "nbformat": 4,
 "nbformat_minor": 5
}
