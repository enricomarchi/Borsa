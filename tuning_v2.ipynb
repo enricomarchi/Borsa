{
 "cells": [
  {
   "cell_type": "code",
   "execution_count": 1,
   "id": "f1ebdd33",
   "metadata": {
    "tags": []
   },
   "outputs": [
    {
     "name": "stdout",
     "output_type": "stream",
     "text": [
      "Importa librerie.Using TensorFlow backend\n",
      "........=\n",
      "ok\n"
     ]
    }
   ],
   "source": [
    "print(\"Importa librerie\", end=\"\", flush=True)\n",
    "import tensorflow as tf\n",
    "print(\".\", end=\"\", flush=True)\n",
    "import keras_tuner as kt\n",
    "print(\".\", end=\"\", flush=True)\n",
    "import pandas as pd\n",
    "print(\".\", end=\"\", flush=True)\n",
    "import yfinance as yf\n",
    "print(\".\", end=\"\", flush=True)\n",
    "import numpy as np\n",
    "print(\".\", end=\"\", flush=True)\n",
    "import funzioni as fx\n",
    "print(\".\", end=\"\", flush=True)\n",
    "import pickle\n",
    "print(\".\", end=\"\", flush=True)\n",
    "from sklearn.model_selection import train_test_split\n",
    "print(\".\", end=\"\", flush=True)\n",
    "from kerastuner.engine.hypermodel import HyperModel\n",
    "print(\".\", end=\"\", flush=True)\n",
    "import os\n",
    "print(\"=\", end=\"\\n\", flush=True)\n",
    "print(\"ok\")"
   ]
  },
  {
   "cell_type": "code",
   "execution_count": 5,
   "id": "a669b3bd",
   "metadata": {
    "tags": []
   },
   "outputs": [
    {
     "name": "stdout",
     "output_type": "stream",
     "text": [
      "nessuna GPU\n"
     ]
    }
   ],
   "source": [
    "# print(\"Versione TensorFlow:\", tf.__version__)\n",
    "# print(\"Versione CUDA:\", tf.sysconfig.get_build_info()['cuda_version'])\n",
    "# print(\"Versione cuDNN:\", tf.sysconfig.get_build_info()['cudnn_version'])\n",
    "import psutil\n",
    "\n",
    "def print_memory_usage():\n",
    "    print(f\"Memory usage: {psutil.virtual_memory().percent}%\")\n",
    "\n",
    "gpus = tf.config.experimental.list_physical_devices('GPU')\n",
    "if gpus:\n",
    "    try:\n",
    "        for gpu in gpus:\n",
    "            tf.config.experimental.set_memory_growth(gpu, True)\n",
    "            tf.config.experimental.set_visible_devices(gpu, 'GPU')\n",
    "        logical_gpus = tf.config.experimental.list_logical_devices('GPU')\n",
    "        print(len(gpus), \"Physical GPUs,\", len(logical_gpus), \"Logical GPUs\")\n",
    "    except RuntimeError as e:\n",
    "        print(e)\n",
    "else:\n",
    "    print(\"nessuna GPU\")"
   ]
  },
  {
   "cell_type": "code",
   "execution_count": 6,
   "id": "07d842bf",
   "metadata": {
    "tags": []
   },
   "outputs": [
    {
     "name": "stdout",
     "output_type": "stream",
     "text": [
      "Caricamento lista_ticker esistente\n"
     ]
    },
    {
     "name": "stdout",
     "output_type": "stream",
     "text": [
      "\u001b[48;5;42m1 di 500: Ticker OOMA\u001b[0m\n",
      "Download dati ticker\n",
      "Calcolo indicatori ticker\n",
      "Definizione features e target\n",
      "Aggiunta dati a liste X e Y\n",
      "(68, 60, 19)\n",
      "(68, 1)\n",
      "\u001b[48;5;42m2 di 500: Ticker CE\u001b[0m\n",
      "Download dati ticker\n",
      "Calcolo indicatori ticker\n",
      "Definizione features e target\n"
     ]
    },
    {
     "ename": "KeyboardInterrupt",
     "evalue": "",
     "output_type": "error",
     "traceback": [
      "\u001b[1;31m---------------------------------------------------------------------------\u001b[0m",
      "\u001b[1;31mKeyboardInterrupt\u001b[0m                         Traceback (most recent call last)",
      "\u001b[1;32mc:\\Users\\932197\\Documents\\dati_locali\\git-hub\\Borsa\\tuning_v2.ipynb Cell 3\u001b[0m line \u001b[0;36m3\n\u001b[0;32m     <a href='vscode-notebook-cell:/c%3A/Users/932197/Documents/dati_locali/git-hub/Borsa/tuning_v2.ipynb#W2sZmlsZQ%3D%3D?line=26'>27</a>\u001b[0m early_stopping \u001b[39m=\u001b[39m tf\u001b[39m.\u001b[39mkeras\u001b[39m.\u001b[39mcallbacks\u001b[39m.\u001b[39mEarlyStopping(monitor\u001b[39m=\u001b[39m\u001b[39m'\u001b[39m\u001b[39mval_f1\u001b[39m\u001b[39m'\u001b[39m, patience\u001b[39m=\u001b[39m\u001b[39m10\u001b[39m, restore_best_weights\u001b[39m=\u001b[39m\u001b[39mTrue\u001b[39;00m, mode\u001b[39m=\u001b[39m\u001b[39m'\u001b[39m\u001b[39mmax\u001b[39m\u001b[39m'\u001b[39m)\n\u001b[0;32m     <a href='vscode-notebook-cell:/c%3A/Users/932197/Documents/dati_locali/git-hub/Borsa/tuning_v2.ipynb#W2sZmlsZQ%3D%3D?line=27'>28</a>\u001b[0m callbacks \u001b[39m=\u001b[39m [early_stopping, reduce_lr]\n\u001b[1;32m---> <a href='vscode-notebook-cell:/c%3A/Users/932197/Documents/dati_locali/git-hub/Borsa/tuning_v2.ipynb#W2sZmlsZQ%3D%3D?line=29'>30</a>\u001b[0m X, Y \u001b[39m=\u001b[39m fx\u001b[39m.\u001b[39;49mset_di_tuning(lista_ticker, n_simboli_addestramento, perc_dati, set_file_x_y)\n\u001b[0;32m     <a href='vscode-notebook-cell:/c%3A/Users/932197/Documents/dati_locali/git-hub/Borsa/tuning_v2.ipynb#W2sZmlsZQ%3D%3D?line=31'>32</a>\u001b[0m X_train, X_val, Y_train, Y_val \u001b[39m=\u001b[39m train_test_split(X, Y, test_size\u001b[39m=\u001b[39m\u001b[39m0.2\u001b[39m, random_state\u001b[39m=\u001b[39m\u001b[39m42\u001b[39m)\n\u001b[0;32m     <a href='vscode-notebook-cell:/c%3A/Users/932197/Documents/dati_locali/git-hub/Borsa/tuning_v2.ipynb#W2sZmlsZQ%3D%3D?line=33'>34</a>\u001b[0m print_memory_usage()\n",
      "File \u001b[1;32mc:\\Users\\932197\\Documents\\dati_locali\\git-hub\\Borsa\\funzioni.py:213\u001b[0m, in \u001b[0;36mset_di_tuning\u001b[1;34m(lista_ticker, n_simboli_addestramento, perc_dati, set_file_x_y)\u001b[0m\n\u001b[0;32m    210\u001b[0m ticker\u001b[39m.\u001b[39mdropna(axis\u001b[39m=\u001b[39m\u001b[39m0\u001b[39m, inplace\u001b[39m=\u001b[39m\u001b[39mTrue\u001b[39;00m)\n\u001b[0;32m    212\u001b[0m \u001b[39mprint\u001b[39m(\u001b[39m\"\u001b[39m\u001b[39mDefinizione features e target\u001b[39m\u001b[39m\"\u001b[39m, flush\u001b[39m=\u001b[39m\u001b[39mTrue\u001b[39;00m)\n\u001b[1;32m--> 213\u001b[0m _, X_train, Y_train, _ \u001b[39m=\u001b[39m to_XY(ticker, features_prezzo, features_da_scalare_singolarmente, features_meno_piu, features_candele, features_no_scala, elenco_targets, n_timesteps, giorni_previsione, addestramento\u001b[39m=\u001b[39;49m\u001b[39mTrue\u001b[39;49;00m)\n\u001b[0;32m    215\u001b[0m \u001b[39mprint\u001b[39m(\u001b[39m\"\u001b[39m\u001b[39mAggiunta dati a liste X e Y\u001b[39m\u001b[39m\"\u001b[39m, flush\u001b[39m=\u001b[39m\u001b[39mTrue\u001b[39;00m)\n\u001b[0;32m    216\u001b[0m lista_x\u001b[39m.\u001b[39mappend(X_train)  \n",
      "File \u001b[1;32mc:\\Users\\932197\\Documents\\dati_locali\\git-hub\\Borsa\\funzioni.py:337\u001b[0m, in \u001b[0;36mto_XY\u001b[1;34m(dati_ticker, features_prezzo, features_da_scalare_singolarmente, features_meno_piu, features_candele, features_no_scala, elenco_targets, n_timesteps, giorni_previsione, addestramento)\u001b[0m\n\u001b[0;32m    335\u001b[0m \u001b[39mfor\u001b[39;00m i \u001b[39min\u001b[39;00m \u001b[39mrange\u001b[39m(n_timesteps \u001b[39m-\u001b[39m \u001b[39m1\u001b[39m, i_tot):\n\u001b[0;32m    336\u001b[0m     \u001b[39mif\u001b[39;00m \u001b[39mlen\u001b[39m(features_prezzo) \u001b[39m>\u001b[39m \u001b[39m0\u001b[39m:\n\u001b[1;32m--> 337\u001b[0m         arr_x \u001b[39m=\u001b[39m np\u001b[39m.\u001b[39marray(ft_prezzo\u001b[39m.\u001b[39miloc[i \u001b[39m-\u001b[39m (n_timesteps \u001b[39m-\u001b[39m \u001b[39m1\u001b[39m):i \u001b[39m+\u001b[39m \u001b[39m1\u001b[39m])\n\u001b[0;32m    338\u001b[0m         arr_res \u001b[39m=\u001b[39m arr_x\u001b[39m.\u001b[39mreshape(\u001b[39m-\u001b[39m\u001b[39m1\u001b[39m, \u001b[39m1\u001b[39m)\n\u001b[0;32m    339\u001b[0m         scaler_prezzo \u001b[39m=\u001b[39m MinMaxScaler()\n",
      "File \u001b[1;32mc:\\Users\\932197\\Documents\\dati_locali\\git-hub\\Borsa\\.venv\\Lib\\site-packages\\pandas\\core\\generic.py:2083\u001b[0m, in \u001b[0;36mNDFrame.__array__\u001b[1;34m(self, dtype)\u001b[0m\n\u001b[0;32m   2082\u001b[0m \u001b[39mdef\u001b[39;00m \u001b[39m__array__\u001b[39m(\u001b[39mself\u001b[39m, dtype: npt\u001b[39m.\u001b[39mDTypeLike \u001b[39m|\u001b[39m \u001b[39mNone\u001b[39;00m \u001b[39m=\u001b[39m \u001b[39mNone\u001b[39;00m) \u001b[39m-\u001b[39m\u001b[39m>\u001b[39m np\u001b[39m.\u001b[39mndarray:\n\u001b[1;32m-> 2083\u001b[0m     values \u001b[39m=\u001b[39m \u001b[39mself\u001b[39;49m\u001b[39m.\u001b[39;49m_values\n\u001b[0;32m   2084\u001b[0m     arr \u001b[39m=\u001b[39m np\u001b[39m.\u001b[39masarray(values, dtype\u001b[39m=\u001b[39mdtype)\n\u001b[0;32m   2085\u001b[0m     \u001b[39mif\u001b[39;00m (\n\u001b[0;32m   2086\u001b[0m         astype_is_view(values\u001b[39m.\u001b[39mdtype, arr\u001b[39m.\u001b[39mdtype)\n\u001b[0;32m   2087\u001b[0m         \u001b[39mand\u001b[39;00m using_copy_on_write()\n\u001b[0;32m   2088\u001b[0m         \u001b[39mand\u001b[39;00m \u001b[39mself\u001b[39m\u001b[39m.\u001b[39m_mgr\u001b[39m.\u001b[39mis_single_block\n\u001b[0;32m   2089\u001b[0m     ):\n\u001b[0;32m   2090\u001b[0m         \u001b[39m# Check if both conversions can be done without a copy\u001b[39;00m\n",
      "File \u001b[1;32mc:\\Users\\932197\\Documents\\dati_locali\\git-hub\\Borsa\\.venv\\Lib\\site-packages\\pandas\\core\\frame.py:1046\u001b[0m, in \u001b[0;36mDataFrame._values\u001b[1;34m(self)\u001b[0m\n\u001b[0;32m   1044\u001b[0m blocks \u001b[39m=\u001b[39m mgr\u001b[39m.\u001b[39mblocks\n\u001b[0;32m   1045\u001b[0m \u001b[39mif\u001b[39;00m \u001b[39mlen\u001b[39m(blocks) \u001b[39m!=\u001b[39m \u001b[39m1\u001b[39m:\n\u001b[1;32m-> 1046\u001b[0m     \u001b[39mreturn\u001b[39;00m ensure_wrapped_if_datetimelike(\u001b[39mself\u001b[39;49m\u001b[39m.\u001b[39;49mvalues)\n\u001b[0;32m   1048\u001b[0m arr \u001b[39m=\u001b[39m blocks[\u001b[39m0\u001b[39m]\u001b[39m.\u001b[39mvalues\n\u001b[0;32m   1049\u001b[0m \u001b[39mif\u001b[39;00m arr\u001b[39m.\u001b[39mndim \u001b[39m==\u001b[39m \u001b[39m1\u001b[39m:\n\u001b[0;32m   1050\u001b[0m     \u001b[39m# non-2D ExtensionArray\u001b[39;00m\n",
      "File \u001b[1;32mc:\\Users\\932197\\Documents\\dati_locali\\git-hub\\Borsa\\.venv\\Lib\\site-packages\\pandas\\core\\frame.py:12281\u001b[0m, in \u001b[0;36mDataFrame.values\u001b[1;34m(self)\u001b[0m\n\u001b[0;32m  12207\u001b[0m \u001b[39m@property\u001b[39m\n\u001b[0;32m  12208\u001b[0m \u001b[39mdef\u001b[39;00m \u001b[39mvalues\u001b[39m(\u001b[39mself\u001b[39m) \u001b[39m-\u001b[39m\u001b[39m>\u001b[39m np\u001b[39m.\u001b[39mndarray:\n\u001b[0;32m  12209\u001b[0m \u001b[39m    \u001b[39m\u001b[39m\"\"\"\u001b[39;00m\n\u001b[0;32m  12210\u001b[0m \u001b[39m    Return a Numpy representation of the DataFrame.\u001b[39;00m\n\u001b[0;32m  12211\u001b[0m \n\u001b[1;32m   (...)\u001b[0m\n\u001b[0;32m  12279\u001b[0m \u001b[39m           ['monkey', nan, None]], dtype=object)\u001b[39;00m\n\u001b[0;32m  12280\u001b[0m \u001b[39m    \"\"\"\u001b[39;00m\n\u001b[1;32m> 12281\u001b[0m     \u001b[39mreturn\u001b[39;00m \u001b[39mself\u001b[39;49m\u001b[39m.\u001b[39;49m_mgr\u001b[39m.\u001b[39;49mas_array()\n",
      "File \u001b[1;32mc:\\Users\\932197\\Documents\\dati_locali\\git-hub\\Borsa\\.venv\\Lib\\site-packages\\pandas\\core\\internals\\managers.py:1656\u001b[0m, in \u001b[0;36mBlockManager.as_array\u001b[1;34m(self, dtype, copy, na_value)\u001b[0m\n\u001b[0;32m   1654\u001b[0m         arr\u001b[39m.\u001b[39mflags\u001b[39m.\u001b[39mwriteable \u001b[39m=\u001b[39m \u001b[39mFalse\u001b[39;00m\n\u001b[0;32m   1655\u001b[0m \u001b[39melse\u001b[39;00m:\n\u001b[1;32m-> 1656\u001b[0m     arr \u001b[39m=\u001b[39m \u001b[39mself\u001b[39;49m\u001b[39m.\u001b[39;49m_interleave(dtype\u001b[39m=\u001b[39;49mdtype, na_value\u001b[39m=\u001b[39;49mna_value)\n\u001b[0;32m   1657\u001b[0m     \u001b[39m# The underlying data was copied within _interleave, so no need\u001b[39;00m\n\u001b[0;32m   1658\u001b[0m     \u001b[39m# to further copy if copy=True or setting na_value\u001b[39;00m\n\u001b[0;32m   1660\u001b[0m \u001b[39mif\u001b[39;00m na_value \u001b[39mis\u001b[39;00m lib\u001b[39m.\u001b[39mno_default:\n",
      "File \u001b[1;32mc:\\Users\\932197\\Documents\\dati_locali\\git-hub\\Borsa\\.venv\\Lib\\site-packages\\pandas\\core\\internals\\managers.py:1716\u001b[0m, in \u001b[0;36mBlockManager._interleave\u001b[1;34m(self, dtype, na_value)\u001b[0m\n\u001b[0;32m   1714\u001b[0m         arr \u001b[39m=\u001b[39m blk\u001b[39m.\u001b[39mget_values(dtype)\n\u001b[0;32m   1715\u001b[0m     result[rl\u001b[39m.\u001b[39mindexer] \u001b[39m=\u001b[39m arr\n\u001b[1;32m-> 1716\u001b[0m     itemmask[rl\u001b[39m.\u001b[39mindexer] \u001b[39m=\u001b[39m \u001b[39m1\u001b[39m\n\u001b[0;32m   1718\u001b[0m \u001b[39mif\u001b[39;00m \u001b[39mnot\u001b[39;00m itemmask\u001b[39m.\u001b[39mall():\n\u001b[0;32m   1719\u001b[0m     \u001b[39mraise\u001b[39;00m \u001b[39mAssertionError\u001b[39;00m(\u001b[39m\"\u001b[39m\u001b[39mSome items were not contained in blocks\u001b[39m\u001b[39m\"\u001b[39m)\n",
      "\u001b[1;31mKeyboardInterrupt\u001b[0m: "
     ]
    }
   ],
   "source": [
    "n_simboli_addestramento = 500\n",
    "epochs=50\n",
    "batch_size=32\n",
    "perc_dati = \"dati\"\n",
    "set_file_x_y = f\"_{n_simboli_addestramento}\"\n",
    "initial_lr = 0.001\n",
    "\n",
    "if not os.path.exists('dati'):\n",
    "    os.makedirs('dati')\n",
    "\n",
    "if os.path.exists(\"lista_ticker.parquet\"):\n",
    "    print(\"Caricamento lista_ticker esistente\", flush=True)\n",
    "    lista_ticker = pd.read_parquet(\"lista_ticker.parquet\")\n",
    "else:\n",
    "    print(\"Download lista ticker\", flush=True)\n",
    "    lista_ticker = pd.read_parquet(\"Tickers_De_Giro.parquet\")\n",
    "    lista_ticker = lista_ticker.sample(frac=1).reset_index(drop=True)\n",
    "    lista_ticker = lista_ticker.loc[(lista_ticker[\"Categoria\"] != \"D\"), :]\n",
    "    lista_ticker.to_parquet(\"lista_ticker.parquet\")\n",
    "\n",
    "if n_simboli_addestramento == 'Tutti': \n",
    "    n_simboli_addestramento = len(lista_ticker)\n",
    "\n",
    "# Impostazioni\n",
    "objective = kt.Objective(\"val_f1\", direction=\"max\")\n",
    "reduce_lr = tf.keras.callbacks.ReduceLROnPlateau(monitor='val_f1', factor=0.5, patience=5, min_lr=0.0001, mode='max')\n",
    "early_stopping = tf.keras.callbacks.EarlyStopping(monitor='val_f1', patience=10, restore_best_weights=True, mode='max')\n",
    "callbacks = [early_stopping, reduce_lr]\n",
    "\n",
    "X, Y = fx.set_di_tuning(lista_ticker, n_simboli_addestramento, perc_dati, set_file_x_y)\n",
    "\n",
    "X_train, X_val, Y_train, Y_val = train_test_split(X, Y, test_size=0.2, random_state=42)\n",
    "\n",
    "print_memory_usage()\n",
    "input_shape = (fx.n_timesteps, fx.n_features)\n",
    "hypermodel = MixedHyperModel(fx.n_timesteps, fx.n_features)"
   ]
  },
  {
   "cell_type": "code",
   "execution_count": null,
   "id": "ef8dfdcd-98d2-4f94-854f-b4604b988329",
   "metadata": {},
   "outputs": [],
   "source": [
    "print(\"Tuning\")\n",
    "\n",
    "print_memory_usage()\n",
    "model, par, bayesian_search = bay(hypermodel, objective, X_train, Y_train, X_val, Y_val)\n",
    "print_memory_usage()\n",
    "\n",
    "trials = bayesian_search.oracle.trials\n",
    "\n",
    "results = []\n",
    "\n",
    "for trial in trials.values():\n",
    "    trial_metrics = trial['metrics']\n",
    "    val_f1 = trial_metrics['val_f1']['observations'][0]['value'] \n",
    "    results.append({\n",
    "        'trial_id': trial['trial_id'],\n",
    "        'val_f1': val_f1,  \n",
    "        'hyperparameters': trial['hyperparameters'].values\n",
    "    })\n",
    "\n",
    "results_df = pd.DataFrame(results)\n",
    "results_df.to_excel('results_df.xlsx')\n",
    "    \n",
    "model.save(\"tuning\")\n",
    "with open('hyperparameters.pkl', 'wb') as f:\n",
    "    pickle.dump(par, f)\n",
    "\n",
    "#addestramento(lista_ticker)\n",
    "#    \n",
    "print(\"ok\")\n",
    "\n",
    "\n"
   ]
  },
  {
   "cell_type": "code",
   "execution_count": null,
   "id": "2815b02f-10ad-431c-967d-83a2d76b8056",
   "metadata": {},
   "outputs": [],
   "source": [
    "from tensorflow.python.client import device_lib\n",
    "print(device_lib.list_local_devices())\n"
   ]
  },
  {
   "cell_type": "code",
   "execution_count": null,
   "id": "9783d728-e8cf-4538-aa8d-56348d3412c8",
   "metadata": {},
   "outputs": [],
   "source": []
  }
 ],
 "metadata": {
  "kernelspec": {
   "display_name": "Python 3 (ipykernel)",
   "language": "python",
   "name": "python3"
  },
  "language_info": {
   "codemirror_mode": {
    "name": "ipython",
    "version": 3
   },
   "file_extension": ".py",
   "mimetype": "text/x-python",
   "name": "python",
   "nbconvert_exporter": "python",
   "pygments_lexer": "ipython3",
   "version": "3.11.6"
  },
  "vp": {
   "vp_config_version": "1.0.0",
   "vp_menu_width": 273,
   "vp_note_display": false,
   "vp_note_width": 0,
   "vp_position": {
    "width": 278
   },
   "vp_section_display": false,
   "vp_signature": "VisualPython"
  }
 },
 "nbformat": 4,
 "nbformat_minor": 5
}
