{
 "cells": [
  {
   "cell_type": "code",
   "execution_count": 2,
   "metadata": {},
   "outputs": [
    {
     "ename": "KeyError",
     "evalue": "'No object named screener in the file'",
     "output_type": "error",
     "traceback": [
      "\u001b[0;31m---------------------------------------------------------------------------\u001b[0m",
      "\u001b[0;31mKeyError\u001b[0m                                  Traceback (most recent call last)",
      "\u001b[1;32mc:\\Users\\enric\\Documents\\GitHub\\Borsa\\Untitled-1.ipynb Cell 1\u001b[0m line \u001b[0;36m3\n\u001b[1;32m      <a href='vscode-notebook-cell:/c%3A/Users/enric/Documents/GitHub/Borsa/Untitled-1.ipynb#W0sZmlsZQ%3D%3D?line=0'>1</a>\u001b[0m \u001b[39mimport\u001b[39;00m \u001b[39mpandas\u001b[39;00m \u001b[39mas\u001b[39;00m \u001b[39mpd\u001b[39;00m\n\u001b[0;32m----> <a href='vscode-notebook-cell:/c%3A/Users/enric/Documents/GitHub/Borsa/Untitled-1.ipynb#W0sZmlsZQ%3D%3D?line=2'>3</a>\u001b[0m df \u001b[39m=\u001b[39m pd\u001b[39m.\u001b[39;49mread_hdf(\u001b[39m'\u001b[39;49m\u001b[39mscreeners/BTG.h5\u001b[39;49m\u001b[39m'\u001b[39;49m, \u001b[39m'\u001b[39;49m\u001b[39mscreener\u001b[39;49m\u001b[39m'\u001b[39;49m)\n\u001b[1;32m      <a href='vscode-notebook-cell:/c%3A/Users/enric/Documents/GitHub/Borsa/Untitled-1.ipynb#W0sZmlsZQ%3D%3D?line=3'>4</a>\u001b[0m df\n",
      "File \u001b[0;32m/usr/local/lib/python3.9/dist-packages/pandas/io/pytables.py:442\u001b[0m, in \u001b[0;36mread_hdf\u001b[0;34m(path_or_buf, key, mode, errors, where, start, stop, columns, iterator, chunksize, **kwargs)\u001b[0m\n\u001b[1;32m    437\u001b[0m                 \u001b[39mraise\u001b[39;00m \u001b[39mValueError\u001b[39;00m(\n\u001b[1;32m    438\u001b[0m                     \u001b[39m\"\u001b[39m\u001b[39mkey must be provided when HDF5 \u001b[39m\u001b[39m\"\u001b[39m\n\u001b[1;32m    439\u001b[0m                     \u001b[39m\"\u001b[39m\u001b[39mfile contains multiple datasets.\u001b[39m\u001b[39m\"\u001b[39m\n\u001b[1;32m    440\u001b[0m                 )\n\u001b[1;32m    441\u001b[0m         key \u001b[39m=\u001b[39m candidate_only_group\u001b[39m.\u001b[39m_v_pathname\n\u001b[0;32m--> 442\u001b[0m     \u001b[39mreturn\u001b[39;00m store\u001b[39m.\u001b[39;49mselect(\n\u001b[1;32m    443\u001b[0m         key,\n\u001b[1;32m    444\u001b[0m         where\u001b[39m=\u001b[39;49mwhere,\n\u001b[1;32m    445\u001b[0m         start\u001b[39m=\u001b[39;49mstart,\n\u001b[1;32m    446\u001b[0m         stop\u001b[39m=\u001b[39;49mstop,\n\u001b[1;32m    447\u001b[0m         columns\u001b[39m=\u001b[39;49mcolumns,\n\u001b[1;32m    448\u001b[0m         iterator\u001b[39m=\u001b[39;49miterator,\n\u001b[1;32m    449\u001b[0m         chunksize\u001b[39m=\u001b[39;49mchunksize,\n\u001b[1;32m    450\u001b[0m         auto_close\u001b[39m=\u001b[39;49mauto_close,\n\u001b[1;32m    451\u001b[0m     )\n\u001b[1;32m    452\u001b[0m \u001b[39mexcept\u001b[39;00m (\u001b[39mValueError\u001b[39;00m, \u001b[39mTypeError\u001b[39;00m, \u001b[39mKeyError\u001b[39;00m):\n\u001b[1;32m    453\u001b[0m     \u001b[39mif\u001b[39;00m \u001b[39mnot\u001b[39;00m \u001b[39misinstance\u001b[39m(path_or_buf, HDFStore):\n\u001b[1;32m    454\u001b[0m         \u001b[39m# if there is an error, close the store if we opened it.\u001b[39;00m\n",
      "File \u001b[0;32m/usr/local/lib/python3.9/dist-packages/pandas/io/pytables.py:847\u001b[0m, in \u001b[0;36mHDFStore.select\u001b[0;34m(self, key, where, start, stop, columns, iterator, chunksize, auto_close)\u001b[0m\n\u001b[1;32m    845\u001b[0m group \u001b[39m=\u001b[39m \u001b[39mself\u001b[39m\u001b[39m.\u001b[39mget_node(key)\n\u001b[1;32m    846\u001b[0m \u001b[39mif\u001b[39;00m group \u001b[39mis\u001b[39;00m \u001b[39mNone\u001b[39;00m:\n\u001b[0;32m--> 847\u001b[0m     \u001b[39mraise\u001b[39;00m \u001b[39mKeyError\u001b[39;00m(\u001b[39mf\u001b[39m\u001b[39m\"\u001b[39m\u001b[39mNo object named \u001b[39m\u001b[39m{\u001b[39;00mkey\u001b[39m}\u001b[39;00m\u001b[39m in the file\u001b[39m\u001b[39m\"\u001b[39m)\n\u001b[1;32m    849\u001b[0m \u001b[39m# create the storer and axes\u001b[39;00m\n\u001b[1;32m    850\u001b[0m where \u001b[39m=\u001b[39m _ensure_term(where, scope_level\u001b[39m=\u001b[39m\u001b[39m1\u001b[39m)\n",
      "\u001b[0;31mKeyError\u001b[0m: 'No object named screener in the file'"
     ]
    }
   ],
   "source": [
    "import pandas as pd\n",
    "\n",
    "df = pd.read_hdf('screeners/BTG.h5', 'screener')\n",
    "df\n"
   ]
  }
 ],
 "metadata": {
  "kernelspec": {
   "display_name": "Python 3 (ipykernel)",
   "language": "python",
   "name": "python3"
  },
  "language_info": {
   "codemirror_mode": {
    "name": "ipython",
    "version": 3
   },
   "file_extension": ".py",
   "mimetype": "text/x-python",
   "name": "python",
   "nbconvert_exporter": "python",
   "pygments_lexer": "ipython3",
   "version": "3.9.16"
  }
 },
 "nbformat": 4,
 "nbformat_minor": 2
}
