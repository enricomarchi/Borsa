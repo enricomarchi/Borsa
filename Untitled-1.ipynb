{
 "cells": [
  {
   "cell_type": "code",
   "execution_count": 6,
   "metadata": {},
   "outputs": [
    {
     "name": "stdout",
     "output_type": "stream",
     "text": [
      "<class 'pandas.core.frame.DataFrame'>\n",
      "DatetimeIndex: 3791 entries, 2008-11-12 to 2023-12-05\n",
      "Data columns (total 67 columns):\n",
      " #   Column                     Non-Null Count  Dtype  \n",
      "---  ------                     --------------  -----  \n",
      " 0   Open                       3791 non-null   float64\n",
      " 1   High                       3791 non-null   float64\n",
      " 2   Low                        3791 non-null   float64\n",
      " 3   Close                      3791 non-null   float64\n",
      " 4   Adj Close                  3791 non-null   float64\n",
      " 5   Volume                     3791 non-null   int64  \n",
      " 6   EMA_5                      3791 non-null   float64\n",
      " 7   EMA_20                     3791 non-null   float64\n",
      " 8   EMA_50                     3791 non-null   float64\n",
      " 9   EMA_100                    3791 non-null   float64\n",
      " 10  PSARaf                     3791 non-null   float64\n",
      " 11  PSARr                      3791 non-null   int64  \n",
      " 12  PSAR                       3791 non-null   float64\n",
      " 13  MACD                       3791 non-null   float64\n",
      " 14  MACDh                      3791 non-null   float64\n",
      " 15  MACDs                      3791 non-null   float64\n",
      " 16  TSI                        3791 non-null   float64\n",
      " 17  TSIs                       3791 non-null   float64\n",
      " 18  SUPERT                     3791 non-null   float64\n",
      " 19  SUPERTd                    3791 non-null   int64  \n",
      " 20  ADX                        3791 non-null   float64\n",
      " 21  TRIX                       3791 non-null   float64\n",
      " 22  TRIXs                      3791 non-null   float64\n",
      " 23  AROONOSC                   3791 non-null   float64\n",
      " 24  ATR                        3791 non-null   float64\n",
      " 25  CMF                        3791 non-null   float64\n",
      " 26  ROC_10                     3791 non-null   float64\n",
      " 27  KVO                        3791 non-null   float64\n",
      " 28  KVOs                       3791 non-null   float64\n",
      " 29  VHF                        3791 non-null   float64\n",
      " 30  OBV                        3791 non-null   float64\n",
      " 31  Perc_Max_High_Futuro_20d   3771 non-null   float64\n",
      " 32  Perc_Drawdown_20d          3791 non-null   float64\n",
      " 33  Perc_Max_High_Futuro_50d   3741 non-null   float64\n",
      " 34  Perc_Drawdown_50d          3791 non-null   float64\n",
      " 35  Perc_Max_High_Futuro_100d  3691 non-null   float64\n",
      " 36  Perc_Drawdown_100d         3791 non-null   float64\n",
      " 37  max_gain                   3771 non-null   float64\n",
      " 38  max_drawdown               3791 non-null   float64\n",
      " 39  EMA_20_5d                  3786 non-null   float64\n",
      " 40  EMA_20_10d                 3781 non-null   float64\n",
      " 41  EMA_20_15d                 3776 non-null   float64\n",
      " 42  EMA_20_20d                 3771 non-null   float64\n",
      " 43  EMA_50_5d                  3786 non-null   float64\n",
      " 44  EMA_50_10d                 3781 non-null   float64\n",
      " 45  EMA_50_15d                 3776 non-null   float64\n",
      " 46  EMA_50_20d                 3771 non-null   float64\n",
      " 47  Close_5d                   3786 non-null   float64\n",
      " 48  Close_10d                  3781 non-null   float64\n",
      " 49  Close_15d                  3776 non-null   float64\n",
      " 50  Close_20d                  3771 non-null   float64\n",
      " 51  EMA_5_5d                   3786 non-null   float64\n",
      " 52  EMA_5_10d                  3781 non-null   float64\n",
      " 53  EMA_5_15d                  3776 non-null   float64\n",
      " 54  EMA_5_20d                  3771 non-null   float64\n",
      " 55  DM_OSC                     3791 non-null   float64\n",
      " 56  VTX_OSC                    3791 non-null   float64\n",
      " 57  VI_OSC                     3791 non-null   float64\n",
      " 58  MaxMinRel                  3791 non-null   int64  \n",
      " 59  pct_change                 3630 non-null   float64\n",
      " 60  pct_change_5d              3633 non-null   float64\n",
      " 61  pct_change_10d             3633 non-null   float64\n",
      " 62  pct_change_20d             3790 non-null   float64\n",
      " 63  Min_Close_5d               3635 non-null   float64\n",
      " 64  pct_change_5d_uscita       3635 non-null   float64\n",
      " 65  Target_ingresso            3791 non-null   bool   \n",
      " 66  Target_uscita              3791 non-null   bool   \n",
      "dtypes: bool(2), float64(61), int64(4)\n",
      "memory usage: 1.9 MB\n"
     ]
    }
   ],
   "source": [
    "import pandas as pd\n",
    "\n",
    "df = pd.read_hdf('tickers/BTG.h5', 'ticker')\n",
    "df.info()"
   ]
  }
 ],
 "metadata": {
  "kernelspec": {
   "display_name": "Python 3 (ipykernel)",
   "language": "python",
   "name": "python3"
  },
  "language_info": {
   "codemirror_mode": {
    "name": "ipython",
    "version": 3
   },
   "file_extension": ".py",
   "mimetype": "text/x-python",
   "name": "python",
   "nbconvert_exporter": "python",
   "pygments_lexer": "ipython3",
   "version": "3.9.16"
  }
 },
 "nbformat": 4,
 "nbformat_minor": 2
}
