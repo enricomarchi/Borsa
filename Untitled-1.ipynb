{
 "cells": [
  {
   "cell_type": "code",
   "execution_count": null,
   "metadata": {},
   "outputs": [],
   "source": [
    "import pandas as pd\n",
    "#pd.set_option(\"display.max_rows\", None)\n",
    "#pd.set_option(\"display.max_columns\", None)\n",
    "import funzioni as fx\n"
   ]
  },
  {
   "cell_type": "code",
   "execution_count": null,
   "metadata": {},
   "outputs": [],
   "source": [
    "lista = pd.read_parquet('lista_ticker.parquet')\n",
    "lista_scr = []\n",
    "for ticker in lista[\"Ticker\"]:\n",
    "    print(ticker)\n",
    "    try:\n",
    "        df = pd.read_hdf(f'screeners/{ticker}.h5', 'screener')\n",
    "        df.index.set_names(['Data'], inplace=True)\n",
    "        df['Ticker'] = ticker\n",
    "        df.set_index('Ticker', append=True, inplace=True)\n",
    "        df = df[df['Previsione'] > 0.5]\n",
    "        lista_scr.append(df)\n",
    "    except Exception as e:\n",
    "        print(str(e))\n",
    "\n",
    "df_tot = pd.concat(lista_scr, axis=0, ignore_index=False)\n"
   ]
  },
  {
   "cell_type": "code",
   "execution_count": null,
   "metadata": {},
   "outputs": [],
   "source": [
    "df_tot = df_tot.sort_values(by=['Data', 'Previsione'], ascending=[True, False])\n",
    "\n",
    "df_tot"
   ]
  }
 ],
 "metadata": {
  "kernelspec": {
   "display_name": "Python 3 (ipykernel)",
   "language": "python",
   "name": "python3"
  },
  "language_info": {
   "codemirror_mode": {
    "name": "ipython",
    "version": 3
   },
   "file_extension": ".py",
   "mimetype": "text/x-python",
   "name": "python",
   "nbconvert_exporter": "python",
   "pygments_lexer": "ipython3",
   "version": "3.9.16"
  }
 },
 "nbformat": 4,
 "nbformat_minor": 2
}
