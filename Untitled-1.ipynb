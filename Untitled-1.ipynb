{
 "cells": [
  {
   "cell_type": "code",
   "execution_count": 9,
   "metadata": {},
   "outputs": [
    {
     "name": "stderr",
     "output_type": "stream",
     "text": [
      "c:\\Users\\enric\\Documents\\GitHub\\Borsa\\.venv\\Lib\\site-packages\\tensorflow_addons\\utils\\tfa_eol_msg.py:23: UserWarning:\n",
      "\n",
      "\n",
      "\n",
      "TensorFlow Addons (TFA) has ended development and introduction of new features.\n",
      "TFA has entered a minimal maintenance and release mode until a planned end of life in May 2024.\n",
      "Please modify downstream libraries to take dependencies from other repositories in our TensorFlow community (e.g. Keras, Keras-CV, and Keras-NLP). \n",
      "\n",
      "For more information see: https://github.com/tensorflow/addons/issues/2807 \n",
      "\n",
      "\n"
     ]
    }
   ],
   "source": [
    "import pandas as pd\n",
    "#pd.set_option(\"display.max_rows\", None)\n",
    "#pd.set_option(\"display.max_columns\", None)\n",
    "import funzioni as fx\n",
    "from tensorflow.keras.models import load_model\n",
    "from tensorflow_addons.metrics import F1Score"
   ]
  },
  {
   "cell_type": "code",
   "execution_count": 10,
   "metadata": {},
   "outputs": [
    {
     "name": "stdout",
     "output_type": "stream",
     "text": [
      "[*********************100%%**********************]  1 of 1 completed\n",
      "102/102 [==============================] - 9s 76ms/step\n"
     ]
    }
   ],
   "source": [
    "\n",
    "f1_score = F1Score(num_classes=1, average='macro', threshold=0.5)\n",
    "model = load_model(\"model.h5\", custom_objects={'Addons>F1Score': f1_score})\n",
    "\n",
    "ticker = fx.analizza_ticker(\"AAPL\", pd.Timestamp(2010, 1, 1), pd.Timestamp(2023, 11, 1), True, True, True)\n",
    "idx, X, Y, _ = fx.to_XY(ticker, bilanciamento=0)\n",
    "pred = model.predict(X)\n",
    "\n",
    "\n"
   ]
  },
  {
   "cell_type": "code",
   "execution_count": 11,
   "metadata": {},
   "outputs": [
    {
     "ename": "IndexError",
     "evalue": "list index out of range",
     "output_type": "error",
     "traceback": [
      "\u001b[1;31m---------------------------------------------------------------------------\u001b[0m",
      "\u001b[1;31mIndexError\u001b[0m                                Traceback (most recent call last)",
      "\u001b[1;32mc:\\Users\\enric\\Documents\\GitHub\\Borsa\\Untitled-1.ipynb Cell 3\u001b[0m line \u001b[0;36m6\n\u001b[0;32m      <a href='vscode-notebook-cell:/c%3A/Users/enric/Documents/GitHub/Borsa/Untitled-1.ipynb#W2sZmlsZQ%3D%3D?line=1'>2</a>\u001b[0m lista\u001b[39m.\u001b[39mappend([\u001b[39m\"\u001b[39m\u001b[39mAAPL\u001b[39m\u001b[39m\"\u001b[39m, idx, pred, Y])  \n\u001b[0;32m      <a href='vscode-notebook-cell:/c%3A/Users/enric/Documents/GitHub/Borsa/Untitled-1.ipynb#W2sZmlsZQ%3D%3D?line=2'>3</a>\u001b[0m lista\u001b[39m.\u001b[39mappend([\u001b[39m\"\u001b[39m\u001b[39mBTG\u001b[39m\u001b[39m\"\u001b[39m, idx, pred, Y])  \n\u001b[0;32m      <a href='vscode-notebook-cell:/c%3A/Users/enric/Documents/GitHub/Borsa/Untitled-1.ipynb#W2sZmlsZQ%3D%3D?line=3'>4</a>\u001b[0m df \u001b[39m=\u001b[39m pd\u001b[39m.\u001b[39mDataFrame({\n\u001b[0;32m      <a href='vscode-notebook-cell:/c%3A/Users/enric/Documents/GitHub/Borsa/Untitled-1.ipynb#W2sZmlsZQ%3D%3D?line=4'>5</a>\u001b[0m     \u001b[39m\"\u001b[39m\u001b[39mTicker\u001b[39m\u001b[39m\"\u001b[39m: lista[:][\u001b[39m0\u001b[39m],  \u001b[39m# Tutti i valori saranno \"AAPL\"\u001b[39;00m\n\u001b[1;32m----> <a href='vscode-notebook-cell:/c%3A/Users/enric/Documents/GitHub/Borsa/Untitled-1.ipynb#W2sZmlsZQ%3D%3D?line=5'>6</a>\u001b[0m     \u001b[39m\"\u001b[39m\u001b[39mPrevisione\u001b[39m\u001b[39m\"\u001b[39m: lista[:][\u001b[39m2\u001b[39;49m]\u001b[39m.\u001b[39mflatten()\u001b[39m.\u001b[39mround(\u001b[39m2\u001b[39m),  \u001b[39m# Converte i dati in un array 1D se sono in un array 2D\u001b[39;00m\n\u001b[0;32m      <a href='vscode-notebook-cell:/c%3A/Users/enric/Documents/GitHub/Borsa/Untitled-1.ipynb#W2sZmlsZQ%3D%3D?line=6'>7</a>\u001b[0m     \u001b[39m\"\u001b[39m\u001b[39mReale\u001b[39m\u001b[39m\"\u001b[39m: lista[:][\u001b[39m3\u001b[39m]\u001b[39m.\u001b[39mflatten()\u001b[39m.\u001b[39mround(\u001b[39m2\u001b[39m)  \u001b[39m# Converte i dati in un array 1D se sono in un array 2D\u001b[39;00m\n\u001b[0;32m      <a href='vscode-notebook-cell:/c%3A/Users/enric/Documents/GitHub/Borsa/Untitled-1.ipynb#W2sZmlsZQ%3D%3D?line=7'>8</a>\u001b[0m }, index\u001b[39m=\u001b[39mlista[:][\u001b[39m1\u001b[39m])  \u001b[39m# Imposta l'indice del DataFrame\u001b[39;00m\n\u001b[0;32m      <a href='vscode-notebook-cell:/c%3A/Users/enric/Documents/GitHub/Borsa/Untitled-1.ipynb#W2sZmlsZQ%3D%3D?line=8'>9</a>\u001b[0m df\n",
      "\u001b[1;31mIndexError\u001b[0m: list index out of range"
     ]
    }
   ],
   "source": [
    "lista =[]\n",
    "lista.append([\"AAPL\", idx, pred, Y])  \n",
    "lista.append([\"BTG\", idx, pred, Y])  \n",
    "df = pd.DataFrame({\n",
    "    \"Ticker\": lista[:][0],  # Tutti i valori saranno \"AAPL\"\n",
    "    \"Previsione\": lista[:][2].flatten().round(2),  # Converte i dati in un array 1D se sono in un array 2D\n",
    "    \"Reale\": lista[:][3].flatten().round(2)  # Converte i dati in un array 1D se sono in un array 2D\n",
    "}, index=lista[:][1])  # Imposta l'indice del DataFrame\n",
    "df"
   ]
  },
  {
   "cell_type": "code",
   "execution_count": 13,
   "metadata": {},
   "outputs": [
    {
     "data": {
      "text/plain": [
       "[['AAPL',\n",
       "  DatetimeIndex(['2010-11-12', '2010-11-15', '2010-11-16', '2010-11-17',\n",
       "                 '2010-11-18', '2010-11-19', '2010-11-22', '2010-11-23',\n",
       "                 '2010-11-24', '2010-11-26',\n",
       "                 ...\n",
       "                 '2023-09-20', '2023-09-21', '2023-09-22', '2023-09-25',\n",
       "                 '2023-09-26', '2023-09-27', '2023-09-28', '2023-09-29',\n",
       "                 '2023-10-02', '2023-10-03'],\n",
       "                dtype='datetime64[ns]', length=3243, freq=None),\n",
       "  array([[0.26575622],\n",
       "         [0.2555957 ],\n",
       "         [0.18562865],\n",
       "         ...,\n",
       "         [0.02251892],\n",
       "         [0.02529114],\n",
       "         [0.01994191]], dtype=float32),\n",
       "  array([[0.],\n",
       "         [0.],\n",
       "         [0.],\n",
       "         ...,\n",
       "         [0.],\n",
       "         [0.],\n",
       "         [0.]])],\n",
       " ['BTG',\n",
       "  DatetimeIndex(['2010-11-12', '2010-11-15', '2010-11-16', '2010-11-17',\n",
       "                 '2010-11-18', '2010-11-19', '2010-11-22', '2010-11-23',\n",
       "                 '2010-11-24', '2010-11-26',\n",
       "                 ...\n",
       "                 '2023-09-20', '2023-09-21', '2023-09-22', '2023-09-25',\n",
       "                 '2023-09-26', '2023-09-27', '2023-09-28', '2023-09-29',\n",
       "                 '2023-10-02', '2023-10-03'],\n",
       "                dtype='datetime64[ns]', length=3243, freq=None),\n",
       "  array([[0.26575622],\n",
       "         [0.2555957 ],\n",
       "         [0.18562865],\n",
       "         ...,\n",
       "         [0.02251892],\n",
       "         [0.02529114],\n",
       "         [0.01994191]], dtype=float32),\n",
       "  array([[0.],\n",
       "         [0.],\n",
       "         [0.],\n",
       "         ...,\n",
       "         [0.],\n",
       "         [0.],\n",
       "         [0.]])]]"
      ]
     },
     "execution_count": 13,
     "metadata": {},
     "output_type": "execute_result"
    }
   ],
   "source": [
    "lista"
   ]
  }
 ],
 "metadata": {
  "kernelspec": {
   "display_name": "Python 3 (ipykernel)",
   "language": "python",
   "name": "python3"
  },
  "language_info": {
   "codemirror_mode": {
    "name": "ipython",
    "version": 3
   },
   "file_extension": ".py",
   "mimetype": "text/x-python",
   "name": "python",
   "nbconvert_exporter": "python",
   "pygments_lexer": "ipython3",
   "version": "3.11.6"
  }
 },
 "nbformat": 4,
 "nbformat_minor": 2
}
