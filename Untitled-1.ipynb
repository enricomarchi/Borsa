{
 "cells": [
  {
   "cell_type": "code",
   "execution_count": 5,
   "metadata": {},
   "outputs": [
    {
     "data": {
      "text/plain": [
       "Timestamp('2013-01-02 00:00:00')"
      ]
     },
     "execution_count": 5,
     "metadata": {},
     "output_type": "execute_result"
    }
   ],
   "source": [
    "import pandas as pd\n",
    "\n",
    "df = pd.read_hdf('screeners/_screener.h5', 'screener')\n",
    "screener = df.loc[(df.index.get_level_values(0) >= pd.Timestamp(2013, 1, 1), slice(None)), :]\n",
    "data_corrente = screener.index.get_level_values(0)[0]\n",
    "data_corrente"
   ]
  },
  {
   "cell_type": "code",
   "execution_count": 6,
   "metadata": {},
   "outputs": [],
   "source": [
    "scr = screener.loc[data_corrente]\n",
    "simbolo = scr.index[0]"
   ]
  },
  {
   "cell_type": "code",
   "execution_count": 7,
   "metadata": {},
   "outputs": [
    {
     "data": {
      "text/plain": [
       "Timestamp('2013-01-02 00:00:00')"
      ]
     },
     "execution_count": 7,
     "metadata": {},
     "output_type": "execute_result"
    }
   ],
   "source": [
    "data_corrente"
   ]
  },
  {
   "cell_type": "code",
   "execution_count": 8,
   "metadata": {},
   "outputs": [
    {
     "data": {
      "text/plain": [
       "Open                      4.18\n",
       "High                      4.18\n",
       "Low                       4.03\n",
       "Close                     4.15\n",
       "Adj Close             2.022838\n",
       "Volume                   48800\n",
       "EMA_5                 4.099849\n",
       "EMA_20                4.008026\n",
       "EMA_50                4.282579\n",
       "PSARaf                    0.06\n",
       "PSARr                        0\n",
       "PSAR                  3.860594\n",
       "MACD                 -0.274552\n",
       "MACDh                 0.087838\n",
       "MACDs                 -0.36239\n",
       "TSI                   4.504123\n",
       "TSIs                -11.529399\n",
       "SUPERT                3.606854\n",
       "SUPERTd                      1\n",
       "ADX                  25.475304\n",
       "TRIX                 -0.313044\n",
       "TRIXs                 -0.55191\n",
       "AROONOSC                  70.0\n",
       "ATR                   0.183703\n",
       "CMF                   0.243004\n",
       "ROC_10                2.977664\n",
       "KVO                9961.572404\n",
       "KVOs               9454.669651\n",
       "VHF                   0.391566\n",
       "OBV                 -5453620.0\n",
       "DM_OSC                3.365581\n",
       "VTX_OSC               0.252125\n",
       "VI_OSC              -19.065609\n",
       "EMA_100               5.129709\n",
       "EMA_20_5d             4.203107\n",
       "EMA_20_10d            4.306624\n",
       "EMA_20_15d            4.433372\n",
       "EMA_20_20d             4.51303\n",
       "EMA_50_5d             4.322697\n",
       "EMA_50_10d            4.349121\n",
       "EMA_50_15d            4.399095\n",
       "EMA_50_20d            4.442044\n",
       "Close_5d                  4.48\n",
       "Close_10d                 4.41\n",
       "Close_15d                 4.58\n",
       "Close_20d                 4.56\n",
       "EMA_5_5d              4.446729\n",
       "EMA_5_10d             4.452038\n",
       "EMA_5_15d             4.614754\n",
       "EMA_5_20d              4.62721\n",
       "Target_ingresso          False\n",
       "Target_uscita            False\n",
       "Name: 2013-01-02 00:00:00, dtype: object"
      ]
     },
     "execution_count": 8,
     "metadata": {},
     "output_type": "execute_result"
    }
   ],
   "source": [
    "ticker = pd.read_hdf(f'tickers/{simbolo}.h5', 'ticker')    \n",
    "prezzi_del_giorno = ticker.loc[data_corrente]\n",
    "prezzi_del_giorno"
   ]
  }
 ],
 "metadata": {
  "kernelspec": {
   "display_name": "Python 3 (ipykernel)",
   "language": "python",
   "name": "python3"
  },
  "language_info": {
   "codemirror_mode": {
    "name": "ipython",
    "version": 3
   },
   "file_extension": ".py",
   "mimetype": "text/x-python",
   "name": "python",
   "nbconvert_exporter": "python",
   "pygments_lexer": "ipython3",
   "version": "3.9.16"
  }
 },
 "nbformat": 4,
 "nbformat_minor": 2
}
