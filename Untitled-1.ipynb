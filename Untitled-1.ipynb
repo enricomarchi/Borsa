{
 "cells": [
  {
   "cell_type": "code",
   "execution_count": 1,
   "metadata": {},
   "outputs": [],
   "source": [
    "import pandas as pd\n",
    "#pd.set_option(\"display.max_rows\", None)\n",
    "#pd.set_option(\"display.max_columns\", None)\n",
    "import funzioni as fx\n"
   ]
  },
  {
   "cell_type": "code",
   "execution_count": 5,
   "metadata": {},
   "outputs": [],
   "source": [
    "ticker = pd.read_hdf(f'tickers/AAPL.h5', 'ticker')\n",
    "ticker = ticker[ticker.index >= '2023-10-14']\n"
   ]
  },
  {
   "cell_type": "code",
   "execution_count": 7,
   "metadata": {},
   "outputs": [
    {
     "data": {
      "text/plain": [
       "Open                                176.75\n",
       "High                            179.080002\n",
       "Low                             176.509995\n",
       "Close                           178.720001\n",
       "Adj Close                       178.484863\n",
       "Volume                            52517000\n",
       "EMA_5                           178.802487\n",
       "EMA_20                          177.106964\n",
       "EMA_50                          178.480337\n",
       "EMA_100                         177.322478\n",
       "PSARaf                                 0.1\n",
       "PSARr                                    0\n",
       "PSAR                            172.210049\n",
       "MACD                             -1.373373\n",
       "MACDh                             0.718668\n",
       "MACDs                            -2.092042\n",
       "TSI                               1.389249\n",
       "TSIs                              -7.13845\n",
       "SUPERT                          170.627658\n",
       "SUPERTd                                  1\n",
       "ADX                              17.086896\n",
       "TRIX                             -0.098154\n",
       "TRIXs                            -0.143652\n",
       "AROONOSC                              50.0\n",
       "ATR                               3.294682\n",
       "CMF                                0.37151\n",
       "ROC_10                            2.860432\n",
       "KVO                          1990174.71814\n",
       "KVOs                        1187501.816897\n",
       "VHF                               0.340284\n",
       "OBV                            968502200.0\n",
       "Perc_Max_High_Futuro_20d          5.555874\n",
       "Perc_Drawdown_20d                 6.268742\n",
       "EMA_20_5d                       176.136576\n",
       "EMA_20_10d                      173.649376\n",
       "EMA_20_15d                      174.583936\n",
       "EMA_20_20d                      178.232866\n",
       "EMA_50_5d                       177.808788\n",
       "EMA_50_10d                       176.37806\n",
       "EMA_50_15d                      176.272139\n",
       "EMA_50_20d                      177.625918\n",
       "Close_5d                             173.0\n",
       "Close_10d                       170.289993\n",
       "Close_15d                       179.229996\n",
       "Close_20d                       184.800003\n",
       "EMA_5_5d                        174.655637\n",
       "EMA_5_10d                       170.188601\n",
       "EMA_5_15d                       176.143559\n",
       "EMA_5_20d                       183.276683\n",
       "DM_OSC                           -1.310639\n",
       "VTX_OSC                           0.000617\n",
       "VI_OSC                           16.394155\n",
       "Target                               False\n",
       "Name: 2023-10-16 00:00:00, dtype: object"
      ]
     },
     "execution_count": 7,
     "metadata": {},
     "output_type": "execute_result"
    }
   ],
   "source": [
    "\n",
    "ticker.iloc[0]"
   ]
  }
 ],
 "metadata": {
  "kernelspec": {
   "display_name": "Python 3 (ipykernel)",
   "language": "python",
   "name": "python3"
  },
  "language_info": {
   "codemirror_mode": {
    "name": "ipython",
    "version": 3
   },
   "file_extension": ".py",
   "mimetype": "text/x-python",
   "name": "python",
   "nbconvert_exporter": "python",
   "pygments_lexer": "ipython3",
   "version": "3.9.16"
  }
 },
 "nbformat": 4,
 "nbformat_minor": 2
}
