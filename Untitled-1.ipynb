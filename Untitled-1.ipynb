{
 "cells": [
  {
   "cell_type": "code",
   "execution_count": 2,
   "metadata": {},
   "outputs": [],
   "source": [
    "import pandas as pd\n",
    "#pd.set_option(\"display.max_rows\", None)\n",
    "#pd.set_option(\"display.max_columns\", None)\n",
    "import funzioni as fx\n"
   ]
  },
  {
   "cell_type": "code",
   "execution_count": null,
   "metadata": {},
   "outputs": [],
   "source": [
    "lista = pd.read_parquet('lista_ticker.parquet')\n",
    "lista_scr = []\n",
    "for ticker in lista[\"Ticker\"]:\n",
    "    print(ticker)\n",
    "    try:\n",
    "        df = pd.read_hdf(f'screeners/{ticker}.h5', 'screener')\n",
    "        df.index.set_names(['Data'], inplace=True)\n",
    "        df['Ticker'] = ticker\n",
    "        df.set_index('Ticker', append=True, inplace=True)\n",
    "        df = df[df['Previsione'] > 0.5]\n",
    "        lista_scr.append(df)\n",
    "    except Exception as e:\n",
    "        print(str(e))\n",
    "\n",
    "df_tot = pd.concat(lista_scr, axis=0, ignore_index=False)\n"
   ]
  },
  {
   "cell_type": "code",
   "execution_count": null,
   "metadata": {},
   "outputs": [],
   "source": [
    "df_tot = df_tot.sort_values(by=['Data', 'Previsione'], ascending=[True, False])\n",
    "\n",
    "df_tot"
   ]
  },
  {
   "cell_type": "code",
   "execution_count": 3,
   "metadata": {},
   "outputs": [
    {
     "data": {
      "text/plain": [
       "Open                            187.699997\n",
       "High                            188.110001\n",
       "Low                             186.300003\n",
       "Close                           187.440002\n",
       "Adj Close                       187.440002\n",
       "Volume                            60059700\n",
       "EMA_5                           184.664456\n",
       "EMA_20                          179.109736\n",
       "EMA_50                          178.010784\n",
       "EMA_100                         177.246552\n",
       "PSARaf                                0.14\n",
       "PSARr                                    0\n",
       "PSAR                            174.059567\n",
       "MACD                              1.098953\n",
       "MACDh                             1.500799\n",
       "MACDs                            -0.401847\n",
       "TSI                               20.50724\n",
       "TSIs                              4.408376\n",
       "SUPERT                          177.486924\n",
       "SUPERTd                                  1\n",
       "ADX                               16.86852\n",
       "TRIX                              0.021224\n",
       "TRIXs                            -0.051689\n",
       "AROONOSC                              65.0\n",
       "ATR                               3.201915\n",
       "CMF                               0.545666\n",
       "ROC_10                            9.761666\n",
       "KVO                          5105208.24825\n",
       "KVOs                        2344671.864779\n",
       "VHF                               0.541788\n",
       "OBV                           1126206400.0\n",
       "Perc_Max_High_Futuro_20d               NaN\n",
       "Perc_Drawdown_20d                      0.0\n",
       "EMA_20_5d                              NaN\n",
       "EMA_20_10d                             NaN\n",
       "EMA_20_15d                             NaN\n",
       "EMA_20_20d                             NaN\n",
       "EMA_50_5d                              NaN\n",
       "EMA_50_10d                             NaN\n",
       "EMA_50_15d                             NaN\n",
       "EMA_50_20d                             NaN\n",
       "Close_5d                               NaN\n",
       "Close_10d                              NaN\n",
       "Close_15d                              NaN\n",
       "Close_20d                              NaN\n",
       "EMA_5_5d                               NaN\n",
       "EMA_5_10d                              NaN\n",
       "EMA_5_15d                              NaN\n",
       "EMA_5_20d                              NaN\n",
       "DM_OSC                           11.699106\n",
       "VTX_OSC                           0.286547\n",
       "VI_OSC                           15.158847\n",
       "Target                               False\n",
       "Name: 2023-11-14 00:00:00, dtype: object"
      ]
     },
     "execution_count": 3,
     "metadata": {},
     "output_type": "execute_result"
    }
   ],
   "source": [
    "ticker = pd.read_hdf(f'tickers/AAPL.h5', 'ticker')\n",
    "ticker = ticker.loc['2023-11-14']\n"
   ]
  },
  {
   "cell_type": "code",
   "execution_count": 4,
   "metadata": {},
   "outputs": [
    {
     "name": "stdout",
     "output_type": "stream",
     "text": [
      "<class 'pandas.core.series.Series'>\n",
      "Index: 53 entries, Open to Target\n",
      "Series name: 2023-11-14 00:00:00\n",
      "Non-Null Count  Dtype \n",
      "--------------  ----- \n",
      "36 non-null     object\n",
      "dtypes: object(1)\n",
      "memory usage: 2.9+ KB\n"
     ]
    }
   ],
   "source": [
    "\n",
    "ticker.info()"
   ]
  }
 ],
 "metadata": {
  "kernelspec": {
   "display_name": "Python 3 (ipykernel)",
   "language": "python",
   "name": "python3"
  },
  "language_info": {
   "codemirror_mode": {
    "name": "ipython",
    "version": 3
   },
   "file_extension": ".py",
   "mimetype": "text/x-python",
   "name": "python",
   "nbconvert_exporter": "python",
   "pygments_lexer": "ipython3",
   "version": "3.9.16"
  }
 },
 "nbformat": 4,
 "nbformat_minor": 2
}
