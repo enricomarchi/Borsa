{
 "cells": [
  {
   "cell_type": "code",
   "execution_count": null,
   "metadata": {},
   "outputs": [],
   "source": [
    "import pandas as pd\n",
    "#pd.set_option(\"display.max_rows\", None)\n",
    "#pd.set_option(\"display.max_columns\", None)\n",
    "import funzioni as fx\n",
    "from tensorflow.keras.models import load_model\n",
    "from tensorflow_addons.metrics import F1Score"
   ]
  },
  {
   "cell_type": "code",
   "execution_count": null,
   "metadata": {},
   "outputs": [],
   "source": [
    "\n",
    "f1_score = F1Score(num_classes=1, average='macro', threshold=0.5)\n",
    "model = load_model(\"model.h5\", custom_objects={'Addons>F1Score': f1_score})\n",
    "\n",
    "ticker = fx.analizza_ticker(\"AAPL\", pd.Timestamp(2010, 1, 1), pd.Timestamp(2023, 11, 1), True, True, True)\n",
    "idx, X, Y, _ = fx.to_XY(ticker, bilanciamento=0)\n",
    "pred = model.predict(X)\n",
    "\n",
    "\n"
   ]
  },
  {
   "cell_type": "code",
   "execution_count": 30,
   "metadata": {},
   "outputs": [
    {
     "data": {
      "text/html": [
       "<div>\n",
       "<style scoped>\n",
       "    .dataframe tbody tr th:only-of-type {\n",
       "        vertical-align: middle;\n",
       "    }\n",
       "\n",
       "    .dataframe tbody tr th {\n",
       "        vertical-align: top;\n",
       "    }\n",
       "\n",
       "    .dataframe thead th {\n",
       "        text-align: right;\n",
       "    }\n",
       "</style>\n",
       "<table border=\"1\" class=\"dataframe\">\n",
       "  <thead>\n",
       "    <tr style=\"text-align: right;\">\n",
       "      <th></th>\n",
       "      <th>Ticker</th>\n",
       "      <th>Previsione</th>\n",
       "      <th>Reale</th>\n",
       "    </tr>\n",
       "  </thead>\n",
       "  <tbody>\n",
       "    <tr>\n",
       "      <th>2010-11-12</th>\n",
       "      <td>AAPL</td>\n",
       "      <td>0.265780</td>\n",
       "      <td>0.0</td>\n",
       "    </tr>\n",
       "    <tr>\n",
       "      <th>2010-11-15</th>\n",
       "      <td>AAPL</td>\n",
       "      <td>0.255598</td>\n",
       "      <td>0.0</td>\n",
       "    </tr>\n",
       "    <tr>\n",
       "      <th>2010-11-16</th>\n",
       "      <td>AAPL</td>\n",
       "      <td>0.185628</td>\n",
       "      <td>0.0</td>\n",
       "    </tr>\n",
       "    <tr>\n",
       "      <th>2010-11-17</th>\n",
       "      <td>AAPL</td>\n",
       "      <td>0.183674</td>\n",
       "      <td>1.0</td>\n",
       "    </tr>\n",
       "    <tr>\n",
       "      <th>2010-11-18</th>\n",
       "      <td>AAPL</td>\n",
       "      <td>0.281845</td>\n",
       "      <td>1.0</td>\n",
       "    </tr>\n",
       "    <tr>\n",
       "      <th>...</th>\n",
       "      <td>...</td>\n",
       "      <td>...</td>\n",
       "      <td>...</td>\n",
       "    </tr>\n",
       "    <tr>\n",
       "      <th>2023-09-27</th>\n",
       "      <td>AAPL</td>\n",
       "      <td>0.026752</td>\n",
       "      <td>0.0</td>\n",
       "    </tr>\n",
       "    <tr>\n",
       "      <th>2023-09-28</th>\n",
       "      <td>AAPL</td>\n",
       "      <td>0.020172</td>\n",
       "      <td>0.0</td>\n",
       "    </tr>\n",
       "    <tr>\n",
       "      <th>2023-09-29</th>\n",
       "      <td>AAPL</td>\n",
       "      <td>0.022519</td>\n",
       "      <td>0.0</td>\n",
       "    </tr>\n",
       "    <tr>\n",
       "      <th>2023-10-02</th>\n",
       "      <td>AAPL</td>\n",
       "      <td>0.025291</td>\n",
       "      <td>0.0</td>\n",
       "    </tr>\n",
       "    <tr>\n",
       "      <th>2023-10-03</th>\n",
       "      <td>AAPL</td>\n",
       "      <td>0.019942</td>\n",
       "      <td>0.0</td>\n",
       "    </tr>\n",
       "  </tbody>\n",
       "</table>\n",
       "<p>3243 rows × 3 columns</p>\n",
       "</div>"
      ],
      "text/plain": [
       "           Ticker  Previsione  Reale\n",
       "2010-11-12   AAPL    0.265780    0.0\n",
       "2010-11-15   AAPL    0.255598    0.0\n",
       "2010-11-16   AAPL    0.185628    0.0\n",
       "2010-11-17   AAPL    0.183674    1.0\n",
       "2010-11-18   AAPL    0.281845    1.0\n",
       "...           ...         ...    ...\n",
       "2023-09-27   AAPL    0.026752    0.0\n",
       "2023-09-28   AAPL    0.020172    0.0\n",
       "2023-09-29   AAPL    0.022519    0.0\n",
       "2023-10-02   AAPL    0.025291    0.0\n",
       "2023-10-03   AAPL    0.019942    0.0\n",
       "\n",
       "[3243 rows x 3 columns]"
      ]
     },
     "execution_count": 30,
     "metadata": {},
     "output_type": "execute_result"
    }
   ],
   "source": [
    "lista =[]\n",
    "lista.append([\"AAPL\", idx, pred, Y])  \n",
    "df = pd.DataFrame({\n",
    "    \"Ticker\": lista[0][0],  # Tutti i valori saranno \"AAPL\"\n",
    "    \"Previsione\": lista[0][2].flatten(),  # Converte i dati in un array 1D se sono in un array 2D\n",
    "    \"Reale\": lista[0][3].flatten()  # Converte i dati in un array 1D se sono in un array 2D\n",
    "}, index=lista[0][1])  # Imposta l'indice del DataFrame\n",
    "df"
   ]
  },
  {
   "cell_type": "code",
   "execution_count": 28,
   "metadata": {},
   "outputs": [
    {
     "data": {
      "text/plain": [
       "(3243, 1)"
      ]
     },
     "execution_count": 28,
     "metadata": {},
     "output_type": "execute_result"
    }
   ],
   "source": [
    "pred.shape"
   ]
  }
 ],
 "metadata": {
  "kernelspec": {
   "display_name": "Python 3 (ipykernel)",
   "language": "python",
   "name": "python3"
  },
  "language_info": {
   "codemirror_mode": {
    "name": "ipython",
    "version": 3
   },
   "file_extension": ".py",
   "mimetype": "text/x-python",
   "name": "python",
   "nbconvert_exporter": "python",
   "pygments_lexer": "ipython3",
   "version": "3.10.12"
  }
 },
 "nbformat": 4,
 "nbformat_minor": 2
}
