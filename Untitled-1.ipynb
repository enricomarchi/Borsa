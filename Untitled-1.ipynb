{
 "cells": [
  {
   "cell_type": "code",
   "execution_count": 2,
   "metadata": {},
   "outputs": [],
   "source": [
    "import pandas as pd\n",
    "#pd.set_option(\"display.max_rows\", None)\n",
    "#pd.set_option(\"display.max_columns\", None)\n",
    "import funzioni as fx\n",
    "\n",
    "import json\n",
    "\n",
    "# Definizione delle liste\n",
    "features_prezzo = [\"EMA_20\", \"EMA_50\", \"EMA_100\"]\n",
    "features_da_scalare_singolarmente = [\"Volume\"]\n",
    "features_meno_piu = [\"MACDh\", \"AROONOSC\", \"TRIX\", \"DM_OSC\", \"TSI\", \"KVO\"]\n",
    "features_no_scala = []\n",
    "features_candele = []\n",
    "elenco_targets = [\"Target\"]\n",
    "\n",
    "# Creazione di un dizionario con le liste\n",
    "configurazione = {\n",
    "    \"features_prezzo\": features_prezzo,\n",
    "    \"features_da_scalare_singolarmente\": features_da_scalare_singolarmente,\n",
    "    \"features_meno_piu\": features_meno_piu,\n",
    "    \"features_no_scala\": features_no_scala,\n",
    "    \"features_candele\": features_candele,\n",
    "    \"elenco_targets\": elenco_targets\n",
    "}\n",
    "\n",
    "# Conversione del dizionario in una stringa JSON\n",
    "configurazione_json = json.dumps(configurazione, indent=4)\n",
    "\n",
    "# Salvataggio del JSON in un file\n",
    "with open(\"configurazione.json\", \"w\") as file:\n",
    "    file.write(configurazione_json)\n"
   ]
  },
  {
   "cell_type": "code",
   "execution_count": 4,
   "metadata": {},
   "outputs": [
    {
     "name": "stdout",
     "output_type": "stream",
     "text": [
      "Configurazione caricata con successo.\n",
      "Features Prezzo: ['EMA_20', 'EMA_50', 'EMA_100']\n",
      "Features da Scalare Singolarmente: ['Volume']\n",
      "Features Meno Più: ['MACDh', 'AROONOSC', 'TRIX', 'DM_OSC', 'TSI', 'KVO']\n",
      "Features No Scala: []\n",
      "Features Candele: []\n",
      "Elenco Targets: ['Target']\n"
     ]
    }
   ],
   "source": [
    "import json\n",
    "\n",
    "# Percorso del file JSON da caricare\n",
    "percorso_file = \"configurazione.json\"\n",
    "\n",
    "# Caricamento del file JSON\n",
    "try:\n",
    "    with open(percorso_file, \"r\") as file:\n",
    "        configurazione = json.load(file)\n",
    "    print(\"Configurazione caricata con successo.\")\n",
    "except FileNotFoundError:\n",
    "    print(f\"Il file {percorso_file} non è stato trovato.\")\n",
    "    configurazione = {}  # Creazione di un dizionario vuoto in caso di errore\n",
    "except json.JSONDecodeError:\n",
    "    print(\"Errore nel parsing del JSON.\")\n",
    "    configurazione = {}  # Creazione di un dizionario vuoto in caso di errore\n",
    "except Exception as e:\n",
    "    print(f\"Errore durante il caricamento del file: {e}\")\n",
    "    configurazione = {}  # Creazione di un dizionario vuoto in caso di errore\n",
    "\n",
    "# Ricreazione delle liste\n",
    "features_prezzo = configurazione.get(\"features_prezzo\", [])\n",
    "features_da_scalare_singolarmente = configurazione.get(\"features_da_scalare_singolarmente\", [])\n",
    "features_meno_piu = configurazione.get(\"features_meno_piu\", [])\n",
    "features_no_scala = configurazione.get(\"features_no_scala\", [])\n",
    "features_candele = configurazione.get(\"features_candele\", [])\n",
    "elenco_targets = configurazione.get(\"elenco_targets\", [])\n",
    "\n",
    "# Stampa delle liste per conferma\n",
    "print(\"Features Prezzo:\", features_prezzo)\n",
    "print(\"Features da Scalare Singolarmente:\", features_da_scalare_singolarmente)\n",
    "print(\"Features Meno Più:\", features_meno_piu)\n",
    "print(\"Features No Scala:\", features_no_scala)\n",
    "print(\"Features Candele:\", features_candele)\n",
    "print(\"Elenco Targets:\", elenco_targets)\n"
   ]
  }
 ],
 "metadata": {
  "kernelspec": {
   "display_name": "Python 3 (ipykernel)",
   "language": "python",
   "name": "python3"
  },
  "language_info": {
   "codemirror_mode": {
    "name": "ipython",
    "version": 3
   },
   "file_extension": ".py",
   "mimetype": "text/x-python",
   "name": "python",
   "nbconvert_exporter": "python",
   "pygments_lexer": "ipython3",
   "version": "3.11.6"
  }
 },
 "nbformat": 4,
 "nbformat_minor": 2
}
