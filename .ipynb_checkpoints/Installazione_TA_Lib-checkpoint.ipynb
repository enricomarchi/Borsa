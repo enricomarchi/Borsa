{
 "cells": [
  {
   "cell_type": "code",
   "execution_count": null,
   "id": "340fec24",
   "metadata": {},
   "outputs": [],
   "source": [
    "percorso_base = \"/home/studio-lab-user/sagemaker-studiolab-notebooks\"\n",
    "#sostituire il percorso base nel codice sotto con quello relativo al progetto in corso\n",
    "\n",
    "!wget http://prdownloads.sourceforge.net/ta-lib/ta-lib-0.4.0-src.tar.gz\n",
    "!tar -xzf ta-lib-0.4.0-src.tar.gz\n",
    "!cd ta-lib && ./configure --prefix=/home/studio-lab-user/sagemaker-studiolab-notebooks/ta-lib-installation\n",
    "!cd ta-lib && make\n",
    "!cd ta-lib && make install\n",
    "\n",
    "# Imposta le variabili d'ambiente per la libreria Python\n",
    "import os\n",
    "os.environ[\"TA_INCLUDE_PATH\"] = os.path.join(os.getcwd(), \"/home/studio-lab-user/sagemaker-studiolab-notebooks/ta-lib-installation/include\")\n",
    "os.environ[\"TA_LIBRARY_PATH\"] = os.path.join(os.getcwd(), \"/home/studio-lab-user/sagemaker-studiolab-notebooks/ta-lib-installation/lib\")\n",
    "\n",
    "# Ora puoi installare la libreria Python TA-Lib\n",
    "!pip install TA-Lib\n"
   ]
  }
 ],
 "metadata": {
  "kernelspec": {
   "display_name": "Python 3 (ipykernel)",
   "language": "python",
   "name": "python3"
  },
  "language_info": {
   "codemirror_mode": {
    "name": "ipython",
    "version": 3
   },
   "file_extension": ".py",
   "mimetype": "text/x-python",
   "name": "python",
   "nbconvert_exporter": "python",
   "pygments_lexer": "ipython3",
   "version": "3.11.3"
  }
 },
 "nbformat": 4,
 "nbformat_minor": 5
}
