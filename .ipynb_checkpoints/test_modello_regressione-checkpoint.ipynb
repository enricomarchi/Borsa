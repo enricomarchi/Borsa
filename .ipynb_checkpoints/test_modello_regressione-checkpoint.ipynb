{
 "cells": [
  {
   "cell_type": "code",
   "execution_count": 1,
   "id": "e1622f54",
   "metadata": {},
   "outputs": [],
   "source": [
    "look_back = 60\n",
    "file_modello = \"LSTM_prezzo.keras\""
   ]
  },
  {
   "cell_type": "code",
   "execution_count": 2,
   "id": "90e55b47",
   "metadata": {},
   "outputs": [],
   "source": [
    "import pandas as pd\n",
    "import yfinance as yf\n",
    "import funzioni as fx\n",
    "import numpy as np\n",
    "from tensorflow.keras.models import load_model\n",
    "from sklearn.preprocessing import StandardScaler\n",
    "from sklearn.preprocessing import MinMaxScaler\n",
    "from joblib import load\n",
    "\n",
    "pd.set_option(\"display.max_columns\", None)\n",
    "elenco_usin = pd.read_parquet(\"Tickers_De_Giro.parquet\")\n",
    "elenco_usin = elenco_usin.loc[elenco_usin[\"Ticker\"] == \"BTG\", [\"USIN\", \"Ticker\"]]\n",
    "model = load_model(file_modello)\n",
    "usin = elenco_usin.iloc[0]\n",
    "print(f\"\\rScarico dati ticker {usin['Ticker']}                                             \", end=\" \", flush=True)\n",
    "ticker = yf.download(usin['USIN'], start='2019-08-01', end='2023-08-31', progress=False)\n",
    "print(f\"\\rCalcolo indicatori ticker {usin['Ticker']}                                             \", end=\" \", flush=True)\n",
    "ticker = fx.crea_indicatori(ticker)\n",
    "features, target = fx.features_e_target_regressione(ticker)\n",
    "ticker[\"Target\"] = target\n",
    "X, Y = fx.converti_in_XY(features, target, look_back)\n",
    "X_scaler = load(\"Scalers/BTG_X_scaler.joblib\")\n",
    "Y_scaler = load(\"Scalers/BTG_Y_scaler.joblib\")\n",
    "n_samples, n_timesteps, n_features = X.shape\n",
    "X = X.reshape((n_samples, n_timesteps * n_features))\n",
    "X_scaled = X_scaler.transform(X)\n",
    "X_scaled = X_scaled.reshape((-1, n_timesteps, n_features))\n",
    "print(f\"\\rPrevisione {usin['Ticker']}                                             \\n\", end=\" \", flush=True)\n",
    "pred = model.predict(X_scaled)\n",
    "pred = Y_scaler.inverse_transform(pred.reshape(-1, 1))\n"
   ]
  },
  {
   "cell_type": "code",
   "execution_count": 5,
   "id": "b592ffac",
   "metadata": {},
   "outputs": [],
   "source": [
    "ticker = ticker.iloc[look_back:]\n",
    "ticker[\"Pred\"] = pred\n",
    "pred"
   ]
  },
  {
   "cell_type": "code",
   "execution_count": 4,
   "id": "346b95ab",
   "metadata": {},
   "outputs": [],
   "source": [
    "import plotly.graph_objs as go\n",
    "import plotly.offline as pyo\n",
    "import plotly.subplots as sp\n",
    "\n",
    "close = go.Scatter(\n",
    "    x = ticker.index,\n",
    "    y = ticker['Close'],\n",
    "    mode = 'lines',\n",
    "    line = dict(color='rgba(0, 0, 0, .9)'),\n",
    "    name = 'Close'\n",
    ")\n",
    "previsione = go.Scatter(\n",
    "    x = ticker.index,\n",
    "    y = ticker[\"Pred\"],\n",
    "    mode = 'lines',\n",
    "    line = dict(color='red'),\n",
    "    name = 'Previsione'\n",
    ")\n",
    "layout = dict(xaxis = dict(autorange=True),\n",
    "              yaxis = dict(title = 'Close', autorange=True),\n",
    "              autosize = True,\n",
    "              margin = go.layout.Margin(\n",
    "                  l=0,  # Sinistra\n",
    "                  r=0,  # Destra\n",
    "                  b=0,  # Basso\n",
    "                  t=50,  # Alto\n",
    "                  pad=0  # Padding\n",
    "              ),\n",
    "              legend = dict(traceorder = 'normal', bordercolor = 'black')\n",
    ")\n",
    "\n",
    "fig = sp.make_subplots(rows=1, cols=1, shared_xaxes=True)\n",
    "fig.update_layout(layout)\n",
    "fig.add_trace(close, row=1, col=1)\n",
    "fig.add_trace(previsione, row=1, col=1)\n",
    "\n",
    "pyo.plot(fig, filename=\"test_modello_regressione.html\", auto_open=True)"
   ]
  },
  {
   "cell_type": "code",
   "execution_count": null,
   "id": "364bd069",
   "metadata": {},
   "outputs": [],
   "source": []
  }
 ],
 "metadata": {
  "kernelspec": {
   "display_name": "Python 3 (ipykernel)",
   "language": "python",
   "name": "python3"
  },
  "language_info": {
   "codemirror_mode": {
    "name": "ipython",
    "version": 3
   },
   "file_extension": ".py",
   "mimetype": "text/x-python",
   "name": "python",
   "nbconvert_exporter": "python",
   "pygments_lexer": "ipython3",
   "version": "3.11.3"
  }
 },
 "nbformat": 4,
 "nbformat_minor": 5
}
