{
 "cells": [
  {
   "cell_type": "code",
   "execution_count": 1,
   "id": "5dc79228",
   "metadata": {},
   "outputs": [],
   "source": [
    "learning_rate = 0.001\n",
    "batch_size = \"max\"\n",
    "look_back = 20\n",
    "file_modello = \"LSTM.keras\""
   ]
  },
  {
   "cell_type": "code",
   "execution_count": 2,
   "id": "6d5ca138",
   "metadata": {},
   "outputs": [],
   "source": [
    "import pandas as pd\n",
    "import yfinance as yf\n",
    "import funzioni as fx\n",
    "import plotly.offline as pyo\n",
    "import numpy as np\n",
    "import numpy as np\n",
    "import os\n",
    "\n",
    "from tensorflow.keras.models import load_model\n",
    "\n",
    "pd.set_option(\"display.max_columns\", None)\n",
    "\n",
    "def visualizza_grafico(ticker):\n",
    "    import plotly.graph_objs as go\n",
    "    fig = fx.grafico_base(ticker)\n",
    "    tg = go.Scatter(\n",
    "        x = ticker[ticker['Target'] == True].index,\n",
    "        y = ticker[ticker['Target'] == True]['Close'],\n",
    "        mode = 'markers',\n",
    "        marker = dict(\n",
    "            size = 15,\n",
    "            color = 'rgba(0, 250, 0, .9)'\n",
    "        ),\n",
    "        name = 'target'\n",
    "    )\n",
    "    fig.add_trace(tg, row=1, col=1)\n",
    "    pyo.plot(fig, filename=\"prova.html\", auto_open=True)\n",
    "\n"
   ]
  },
  {
   "cell_type": "code",
   "execution_count": 3,
   "id": "a278d9ec",
   "metadata": {
    "scrolled": false
   },
   "outputs": [
    {
     "ename": "NameError",
     "evalue": "name 'load_model' is not defined",
     "output_type": "error",
     "traceback": [
      "\u001b[1;31m---------------------------------------------------------------------------\u001b[0m",
      "\u001b[1;31mNameError\u001b[0m                                 Traceback (most recent call last)",
      "Cell \u001b[1;32mIn[3], line 7\u001b[0m\n\u001b[0;32m      5\u001b[0m i \u001b[38;5;241m=\u001b[39m \u001b[38;5;241m1\u001b[39m\n\u001b[0;32m      6\u001b[0m \u001b[38;5;28;01mif\u001b[39;00m os\u001b[38;5;241m.\u001b[39mpath\u001b[38;5;241m.\u001b[39mexists(file_modello):\n\u001b[1;32m----> 7\u001b[0m     model \u001b[38;5;241m=\u001b[39m load_model(file_modello)\n\u001b[0;32m      8\u001b[0m     \u001b[38;5;28mprint\u001b[39m(\u001b[38;5;124m\"\u001b[39m\u001b[38;5;124mModello esistente\u001b[39m\u001b[38;5;124m\"\u001b[39m)\n\u001b[0;32m      9\u001b[0m \u001b[38;5;28;01melse\u001b[39;00m:\n",
      "\u001b[1;31mNameError\u001b[0m: name 'load_model' is not defined"
     ]
    }
   ],
   "source": [
    "elenco_usin = pd.read_excel(\"DeGiro con formule.xlsx\")\n",
    "elenco_usin = elenco_usin.loc[elenco_usin[\"Categoria\"] != \"D\", [\"USIN\", \"Ticker\"]]\n",
    "elenco_usin = elenco_usin.sample(frac=1)\n",
    "tot_usin = len(elenco_usin)\n",
    "i = 1\n",
    "if os.path.exists(file_modello):\n",
    "    model = load_model(file_modello)\n",
    "    print(\"Modello esistente\")\n",
    "else:\n",
    "    model = 0\n",
    "    print(\"Nuovo modello\")\n",
    "for index, usin in elenco_usin.iterrows():       \n",
    "    print(f\"\\r{i} di {tot_usin}) Caricamento ticker {usin['Ticker']}                           \\n\", end=' ', flush=True)\n",
    "    ticker = yf.download(usin[\"USIN\"], start='2005-01-01', end='2023-07-31', progress=False)\n",
    "    if len(ticker) < 500:\n",
    "        continue\n",
    "    else:\n",
    "        ticker = fx.crea_indicatori(ticker)\n",
    "        features, target = fx.features_e_target(ticker)\n",
    "        ticker[\"Target\"] = target\n",
    "        print(f\"\\r{i} di {tot_usin}) Addestramento ticker {usin['Ticker']}                           \\n\", end=' ', flush=True)\n",
    "        model = fx.addestramento(model, features=features, target=target, learning_rate=learning_rate, batch_size=batch_size, look_back=look_back) \n",
    "        model.save(file_modello)\n",
    "        i += 1\n",
    "\n",
    "print(\"fine addestramento\")"
   ]
  }
 ],
 "metadata": {
  "kernelspec": {
   "display_name": "Python 3 (ipykernel)",
   "language": "python",
   "name": "python3"
  },
  "language_info": {
   "codemirror_mode": {
    "name": "ipython",
    "version": 3
   },
   "file_extension": ".py",
   "mimetype": "text/x-python",
   "name": "python",
   "nbconvert_exporter": "python",
   "pygments_lexer": "ipython3",
   "version": "3.11.3"
  }
 },
 "nbformat": 4,
 "nbformat_minor": 5
}
