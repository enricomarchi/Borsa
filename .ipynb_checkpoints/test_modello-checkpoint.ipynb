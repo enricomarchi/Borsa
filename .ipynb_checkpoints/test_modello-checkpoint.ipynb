{
 "cells": [
  {
   "cell_type": "code",
   "execution_count": null,
   "id": "90e55b47",
   "metadata": {},
   "outputs": [],
   "source": [
    "import pandas as pd\n",
    "import yfinance as yf\n",
    "import funzioni as fx\n",
    "import numpy as np\n",
    "from tensorflow.keras.models import load_model\n",
    "from sklearn.preprocessing import StandardScaler\n",
    "from sklearn.metrics import confusion_matrix\n",
    "\n",
    "pd.set_option(\"display.max_columns\", None)\n",
    "elenco_usin = pd.read_excel(\"DeGiro con formule.xlsx\")\n",
    "elenco_usin = elenco_usin.loc[elenco_usin[\"Categoria\"] != \"D\", [\"USIN\", \"Ticker\"]]\n",
    "elenco_usin = elenco_usin.sample(frac=1)\n",
    "model = load_model(\"C:/Users/932197/Documents/dati_locali/LSTM.keras\")\n",
    "usin = elenco_usin.iloc[0]\n",
    "print(f\"\\rScarico dati ticker {usin['Ticker']}                                             \", end=\" \", flush=True)\n",
    "ticker = yf.download(usin[\"USIN\"], start='2015-01-01', end='2023-07-31', progress=False)\n",
    "print(f\"\\rCalcolo indicatori ticker {usin['Ticker']}                                             \", end=\" \", flush=True)\n",
    "ticker = fx.crea_indicatori(ticker)\n",
    "features, target = fx.features_e_target(ticker)\n",
    "ticker[\"Target\"] = target\n",
    "X, Y = fx.converti_in_XY(features, target)\n",
    "Y = np.where(Y, 1, 0)\n",
    "\n",
    "print(f\"\\rScalamento dati ticker {usin['Ticker']}                                             \", end=\" \", flush=True)\n",
    "scaler = StandardScaler()\n",
    "n_samples, n_timesteps, n_features = X.shape\n",
    "X_reshape = X.reshape((n_samples, n_timesteps * n_features))\n",
    "X_scaled = scaler.fit_transform(X_reshape)\n",
    "X_scaled_reshape = X_scaled.reshape((-1, n_timesteps, n_features))\n",
    "\n",
    "print(f\"\\rPrevisione {usin['Ticker']}                                             \\n\", end=\" \", flush=True)\n",
    "pred = model.predict(X_scaled_reshape)\n",
    "\n",
    "ticker = ticker.iloc[n_timesteps:]\n",
    "ticker[\"Pred\"] = pred > 0.5\n",
    "#ticker.to_excel(\"prova.xlsx\")\n"
   ]
  },
  {
   "cell_type": "code",
   "execution_count": null,
   "id": "b61f24d4",
   "metadata": {},
   "outputs": [],
   "source": [
    "cf = pd.DataFrame(confusion_matrix(ticker[\"Target\"], ticker[\"Pred\"]), index=[False, True], columns=[\"Prev.False\", \"Prev.True\"])\n",
    "cf"
   ]
  },
  {
   "cell_type": "code",
   "execution_count": null,
   "id": "a08090e1",
   "metadata": {},
   "outputs": [],
   "source": []
  }
 ],
 "metadata": {
  "kernelspec": {
   "display_name": "Python 3 (ipykernel)",
   "language": "python",
   "name": "python3"
  },
  "language_info": {
   "codemirror_mode": {
    "name": "ipython",
    "version": 3
   },
   "file_extension": ".py",
   "mimetype": "text/x-python",
   "name": "python",
   "nbconvert_exporter": "python",
   "pygments_lexer": "ipython3",
   "version": "3.11.3"
  }
 },
 "nbformat": 4,
 "nbformat_minor": 5
}
