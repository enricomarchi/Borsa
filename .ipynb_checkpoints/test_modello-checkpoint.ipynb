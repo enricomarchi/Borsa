{
 "cells": [
  {
   "cell_type": "code",
   "execution_count": 1,
   "id": "e1622f54",
   "metadata": {},
   "outputs": [],
   "source": [
    "look_back = 10\n",
    "file_modello = \"LSTM.keras\"\n",
    "prev_true = 0.5"
   ]
  },
  {
   "cell_type": "code",
   "execution_count": 2,
   "id": "138f6f50",
   "metadata": {},
   "outputs": [],
   "source": [
    "def visualizza_grafico(ticker):\n",
    "    import plotly.graph_objs as go\n",
    "    fig = fx.grafico_base(ticker)\n",
    "    tg = go.Scatter(\n",
    "        x = ticker[ticker['Target'] == True].index,\n",
    "        y = ticker[ticker['Target'] == True]['Close'],\n",
    "        mode = 'markers',\n",
    "        marker = dict(\n",
    "            size = 30,\n",
    "            color = 'rgba(100, 149, 250, .8)'\n",
    "        ),\n",
    "        name = 'target'\n",
    "    )\n",
    "    pred = go.Scatter(\n",
    "        x = ticker[ticker['Pred'] == True].index,\n",
    "        y = ticker[ticker['Pred'] == True]['Close'],\n",
    "        mode = 'markers',\n",
    "        marker = dict(\n",
    "            size = 15,\n",
    "            color = 'rgba(255, 200, 15, .8)'\n",
    "        ),\n",
    "        name = 'pred'\n",
    "    )\n",
    "    fig.add_trace(tg, row=1, col=1)\n",
    "    fig.add_trace(pred, row=1, col=1)\n",
    "    pyo.plot(fig, filename=\"test_modello.html\", auto_open=True)"
   ]
  },
  {
   "cell_type": "code",
   "execution_count": 3,
   "id": "90e55b47",
   "metadata": {},
   "outputs": [
    {
     "name": "stdout",
     "output_type": "stream",
     "text": [
      "\r",
      "Scarico dati ticker IDT                                              "
     ]
    },
    {
     "name": "stderr",
     "output_type": "stream",
     "text": [
      "\n",
      "2 Failed downloads:\n",
      "[\"INDEX(['TICKER']\", \"DTYPE='OBJECT')\"]: Exception(\"%ticker%: No timezone found, symbol may be delisted\")\n"
     ]
    },
    {
     "name": "stdout",
     "output_type": "stream",
     "text": [
      "\r",
      "Calcolo indicatori ticker IDT                                              "
     ]
    },
    {
     "ename": "AttributeError",
     "evalue": "'NoneType' object has no attribute 'iloc'",
     "output_type": "error",
     "traceback": [
      "\u001b[1;31m---------------------------------------------------------------------------\u001b[0m",
      "\u001b[1;31mAttributeError\u001b[0m                            Traceback (most recent call last)",
      "Cell \u001b[1;32mIn[3], line 19\u001b[0m\n\u001b[0;32m     17\u001b[0m ticker \u001b[38;5;241m=\u001b[39m yf\u001b[38;5;241m.\u001b[39mdownload(\u001b[38;5;28mstr\u001b[39m(usin\u001b[38;5;241m.\u001b[39mindex), start\u001b[38;5;241m=\u001b[39m\u001b[38;5;124m'\u001b[39m\u001b[38;5;124m2015-01-01\u001b[39m\u001b[38;5;124m'\u001b[39m, end\u001b[38;5;241m=\u001b[39m\u001b[38;5;124m'\u001b[39m\u001b[38;5;124m2023-07-31\u001b[39m\u001b[38;5;124m'\u001b[39m, progress\u001b[38;5;241m=\u001b[39m\u001b[38;5;28;01mFalse\u001b[39;00m)\n\u001b[0;32m     18\u001b[0m \u001b[38;5;28mprint\u001b[39m(\u001b[38;5;124mf\u001b[39m\u001b[38;5;124m\"\u001b[39m\u001b[38;5;130;01m\\r\u001b[39;00m\u001b[38;5;124mCalcolo indicatori ticker \u001b[39m\u001b[38;5;132;01m{\u001b[39;00musin[\u001b[38;5;124m'\u001b[39m\u001b[38;5;124mTicker\u001b[39m\u001b[38;5;124m'\u001b[39m]\u001b[38;5;132;01m}\u001b[39;00m\u001b[38;5;124m                                             \u001b[39m\u001b[38;5;124m\"\u001b[39m, end\u001b[38;5;241m=\u001b[39m\u001b[38;5;124m\"\u001b[39m\u001b[38;5;124m \u001b[39m\u001b[38;5;124m\"\u001b[39m, flush\u001b[38;5;241m=\u001b[39m\u001b[38;5;28;01mTrue\u001b[39;00m)\n\u001b[1;32m---> 19\u001b[0m ticker \u001b[38;5;241m=\u001b[39m fx\u001b[38;5;241m.\u001b[39mcrea_indicatori(ticker)\n\u001b[0;32m     20\u001b[0m features, target \u001b[38;5;241m=\u001b[39m fx\u001b[38;5;241m.\u001b[39mfeatures_e_target(ticker)\n\u001b[0;32m     21\u001b[0m ticker[\u001b[38;5;124m\"\u001b[39m\u001b[38;5;124mTarget\u001b[39m\u001b[38;5;124m\"\u001b[39m] \u001b[38;5;241m=\u001b[39m target\n",
      "File \u001b[1;32m~\\Documents\\dati_locali\\git-hub\\Borsa\\funzioni.py:134\u001b[0m, in \u001b[0;36mcrea_indicatori\u001b[1;34m(df)\u001b[0m\n\u001b[0;32m    133\u001b[0m \u001b[38;5;28;01mdef\u001b[39;00m \u001b[38;5;21mcrea_indicatori\u001b[39m(df):\n\u001b[1;32m--> 134\u001b[0m     psar \u001b[38;5;241m=\u001b[39m ta\u001b[38;5;241m.\u001b[39mpsar(high\u001b[38;5;241m=\u001b[39mdf[\u001b[38;5;124m\"\u001b[39m\u001b[38;5;124mHigh\u001b[39m\u001b[38;5;124m\"\u001b[39m], low\u001b[38;5;241m=\u001b[39mdf[\u001b[38;5;124m\"\u001b[39m\u001b[38;5;124mLow\u001b[39m\u001b[38;5;124m\"\u001b[39m], close\u001b[38;5;241m=\u001b[39mdf[\u001b[38;5;124m\"\u001b[39m\u001b[38;5;124mClose\u001b[39m\u001b[38;5;124m\"\u001b[39m], af0\u001b[38;5;241m=\u001b[39m\u001b[38;5;241m0.02\u001b[39m, af\u001b[38;5;241m=\u001b[39m\u001b[38;5;241m0.02\u001b[39m, max_af\u001b[38;5;241m=\u001b[39m\u001b[38;5;241m0.2\u001b[39m)\n\u001b[0;32m    135\u001b[0m     psar[\u001b[38;5;124m\"\u001b[39m\u001b[38;5;124mPSAR\u001b[39m\u001b[38;5;124m\"\u001b[39m] \u001b[38;5;241m=\u001b[39m psar[\u001b[38;5;124m\"\u001b[39m\u001b[38;5;124mPSARl_0.02_0.2\u001b[39m\u001b[38;5;124m\"\u001b[39m]\u001b[38;5;241m.\u001b[39mcombine_first(psar[\u001b[38;5;124m\"\u001b[39m\u001b[38;5;124mPSARs_0.02_0.2\u001b[39m\u001b[38;5;124m\"\u001b[39m])\n\u001b[0;32m    136\u001b[0m     psar\u001b[38;5;241m.\u001b[39mdrop([\u001b[38;5;124m\"\u001b[39m\u001b[38;5;124mPSARl_0.02_0.2\u001b[39m\u001b[38;5;124m\"\u001b[39m, \u001b[38;5;124m\"\u001b[39m\u001b[38;5;124mPSARs_0.02_0.2\u001b[39m\u001b[38;5;124m\"\u001b[39m], axis\u001b[38;5;241m=\u001b[39m\u001b[38;5;241m1\u001b[39m, inplace\u001b[38;5;241m=\u001b[39m\u001b[38;5;28;01mTrue\u001b[39;00m)\n",
      "File \u001b[1;32m~\\AppData\\Local\\anaconda3\\Lib\\site-packages\\pandas_ta\\trend\\psar.py:26\u001b[0m, in \u001b[0;36mpsar\u001b[1;34m(high, low, close, af0, af, max_af, offset, **kwargs)\u001b[0m\n\u001b[0;32m     23\u001b[0m     \u001b[38;5;28;01mreturn\u001b[39;00m _dmn \u001b[38;5;241m>\u001b[39m \u001b[38;5;241m0\u001b[39m\n\u001b[0;32m     25\u001b[0m \u001b[38;5;66;03m# Falling if the first NaN -DM is positive\u001b[39;00m\n\u001b[1;32m---> 26\u001b[0m falling \u001b[38;5;241m=\u001b[39m _falling(high\u001b[38;5;241m.\u001b[39miloc[:\u001b[38;5;241m2\u001b[39m], low\u001b[38;5;241m.\u001b[39miloc[:\u001b[38;5;241m2\u001b[39m])\n\u001b[0;32m     27\u001b[0m \u001b[38;5;28;01mif\u001b[39;00m falling:\n\u001b[0;32m     28\u001b[0m     sar \u001b[38;5;241m=\u001b[39m high\u001b[38;5;241m.\u001b[39miloc[\u001b[38;5;241m0\u001b[39m]\n",
      "\u001b[1;31mAttributeError\u001b[0m: 'NoneType' object has no attribute 'iloc'"
     ]
    }
   ],
   "source": [
    "import pandas as pd\n",
    "import yfinance as yf\n",
    "import funzioni as fx\n",
    "import numpy as np\n",
    "from tensorflow.keras.models import load_model\n",
    "from sklearn.preprocessing import StandardScaler\n",
    "from sklearn.metrics import confusion_matrix\n",
    "import plotly.offline as pyo\n",
    "\n",
    "pd.set_option(\"display.max_columns\", None)\n",
    "elenco_usin = pd.read_parquet(\"Tickers_De_Giro.parquet\")\n",
    "elenco_usin = elenco_usin.loc[elenco_usin[\"Categoria\"] != \"D\", [\"USIN\", \"Ticker\"]]\n",
    "elenco_usin = elenco_usin.sample(frac=1)\n",
    "model = load_model(file_modello)\n",
    "usin = elenco_usin.iloc[0]\n",
    "print(f\"\\rScarico dati ticker {usin['Ticker']}                                             \", end=\" \", flush=True)\n",
    "ticker = yf.download(usin['USIN'], start='2015-01-01', end='2023-07-31', progress=False)\n",
    "print(f\"\\rCalcolo indicatori ticker {usin['Ticker']}                                             \", end=\" \", flush=True)\n",
    "ticker = fx.crea_indicatori(ticker)\n",
    "features, target = fx.features_e_target(ticker)\n",
    "ticker[\"Target\"] = target\n",
    "X, Y = fx.converti_in_XY(features, target, look_back)\n",
    "Y = np.where(Y, 1, 0)\n",
    "\n",
    "print(f\"\\rScalamento dati ticker {usin['Ticker']}                                             \", end=\" \", flush=True)\n",
    "scaler = StandardScaler()\n",
    "n_samples, n_timesteps, n_features = X.shape\n",
    "X_reshape = X.reshape((n_samples, n_timesteps * n_features))\n",
    "X_scaled = scaler.fit_transform(X_reshape)\n",
    "X_scaled_reshape = X_scaled.reshape((-1, n_timesteps, n_features))\n",
    "\n",
    "print(f\"\\rPrevisione {usin['Ticker']}                                             \\n\", end=\" \", flush=True)\n",
    "pred = model.predict(X_scaled_reshape)\n",
    "\n",
    "ticker = ticker.iloc[n_timesteps:]"
   ]
  },
  {
   "cell_type": "code",
   "execution_count": null,
   "id": "58cf8ac9",
   "metadata": {},
   "outputs": [],
   "source": [
    "ticker[\"Pred\"] = pred > prev_true\n",
    "ticker[\"prob_True\"] = pred\n",
    "cf = pd.DataFrame(confusion_matrix(ticker[\"Target\"], ticker[\"Pred\"]), index=[False, True], columns=[\"Prev.False\", \"Prev.True\"])\n",
    "cf[\"Totale\"] = cf[\"Prev.False\"] + cf[\"Prev.True\"]\n",
    "cf.loc[\"Totale\"] = cf.sum()\n"
   ]
  },
  {
   "cell_type": "code",
   "execution_count": null,
   "id": "6d515b8b",
   "metadata": {},
   "outputs": [],
   "source": [
    "pos_aperta = False\n",
    "tp = sl = n_azioni = prezzo_acquisto = prezzo_tot = 0\n",
    "bilancio = 1000\n",
    "\n",
    "posizioni = pd.DataFrame(columns=[\"Bilancio\", \"Direzione\", \"Prezzo_un\", \"n_azioni\", \"Prezzo_tot\", \"TP\", \"SL\", \"Open\", \"High\", \"Low\", \"Esito\"], index=ticker.index)\n",
    "\n",
    "for idx, row in ticker.iterrows():\n",
    "    if bilancio <= 0:\n",
    "        break\n",
    "    print(f\"\\r{idx} Bilancio = {bilancio}                \", end=\" \", flush=True)\n",
    "    if pos_aperta == False:\n",
    "        if row[\"Pred\"] and bilancio > 0:\n",
    "            #COMPRA\n",
    "            prezzo_acquisto = row[\"Open\"]\n",
    "            n_azioni = bilancio // prezzo_acquisto\n",
    "            prezzo_tot = n_azioni * prezzo_acquisto  \n",
    "            bilancio -= prezzo_tot          \n",
    "            tp = prezzo_acquisto * 1.2\n",
    "            sl = prezzo_acquisto * 0.95\n",
    "            pos_aperta = True\n",
    "            posizioni.loc[idx] = {\"Bilancio\": bilancio, \"Direzione\": \"COMPRA\", \"Prezzo_un\": prezzo_acquisto, \"n_azioni\": n_azioni, \"Prezzo_tot\": -prezzo_tot, \"TP\": tp, \"SL\": sl, \"Open\": row[\"Open\"], \"High\": row[\"High\"], \"Low\": row[\"Low\"],}\n",
    "    else:\n",
    "        if row[\"High\"] >= tp:\n",
    "            prezzo_tot = tp * n_azioni\n",
    "            bilancio += prezzo_tot\n",
    "            pos_aperta = False\n",
    "            posizioni.loc[idx] = {\"Bilancio\": bilancio, \"Direzione\": \"VENDI\", \"Prezzo_un\": tp, \"n_azioni\": n_azioni, \"Prezzo_tot\": prezzo_tot, \"Esito\": \"Vincita\", \"Open\": row[\"Open\"], \"High\": row[\"High\"], \"Low\": row[\"Low\"]}\n",
    "        elif row[\"Low\"] <= sl:\n",
    "            prezzo_tot = sl * n_azioni\n",
    "            bilancio += prezzo_tot\n",
    "            pos_aperta = False\n",
    "            posizioni.loc[idx] = {\"Bilancio\": bilancio, \"Direzione\": \"VENDI\", \"Prezzo_un\": sl, \"n_azioni\": n_azioni, \"Prezzo_tot\": prezzo_tot, \"Esito\": \"Perdita\", \"Open\": row[\"Open\"], \"High\": row[\"High\"], \"Low\": row[\"Low\"]}\n",
    "    \n",
    "posizioni.to_excel(\"posizioni.xlsx\")\n",
    "ticker.to_excel(\"ticker.xlsx\")\n",
    "print(\"\\nfine\")\n"
   ]
  },
  {
   "cell_type": "code",
   "execution_count": null,
   "id": "70467041",
   "metadata": {},
   "outputs": [],
   "source": [
    "posizioni.loc[posizioni[\"Direzione\"] == \"VENDI\", :].tail()"
   ]
  },
  {
   "cell_type": "code",
   "execution_count": null,
   "id": "b0be420d",
   "metadata": {},
   "outputs": [],
   "source": [
    "cf"
   ]
  },
  {
   "cell_type": "code",
   "execution_count": null,
   "id": "6ec7d916",
   "metadata": {},
   "outputs": [],
   "source": [
    "#visualizza_grafico(ticker)"
   ]
  },
  {
   "cell_type": "code",
   "execution_count": null,
   "id": "8993ffcd",
   "metadata": {},
   "outputs": [],
   "source": []
  }
 ],
 "metadata": {
  "kernelspec": {
   "display_name": "Python 3 (ipykernel)",
   "language": "python",
   "name": "python3"
  },
  "language_info": {
   "codemirror_mode": {
    "name": "ipython",
    "version": 3
   },
   "file_extension": ".py",
   "mimetype": "text/x-python",
   "name": "python",
   "nbconvert_exporter": "python",
   "pygments_lexer": "ipython3",
   "version": "3.11.3"
  }
 },
 "nbformat": 4,
 "nbformat_minor": 5
}
