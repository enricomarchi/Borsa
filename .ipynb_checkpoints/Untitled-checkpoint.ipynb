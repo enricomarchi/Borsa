{
 "cells": [
  {
   "cell_type": "code",
   "execution_count": 1,
   "id": "4bf99cb4",
   "metadata": {},
   "outputs": [
    {
     "name": "stdout",
     "output_type": "stream",
     "text": [
      "Download dati ticker per previsione\n",
      "[*********************100%%**********************]  1 of 1 completed\n"
     ]
    }
   ],
   "source": [
    "import pandas as pd\n",
    "import numpy as np\n",
    "import yfinance as yf\n",
    "import funzioni as fx\n",
    "import pandas_ta as ta\n",
    "from sklearn.preprocessing import PowerTransformer\n",
    "n_timesteps = 5 # n. barre del periodo passato per la ricerca di pattern, inclusa ultima data disponibile\n",
    "giorni_previsione = 3 # n. barre nel futuro di cui si desidera prevedere il prezzo\n",
    "\n",
    "elenco_features = [\n",
    "    \"Close\",\n",
    "    \"Open\",  \n",
    "    \"High\",\n",
    "    \"Low\",\n",
    "    \"Volume\",\n",
    "]\n",
    "elenco_target = [\n",
    "        \"Close\",\n",
    "        \"Open\", \n",
    "]\n",
    "\n",
    "\n",
    "\n",
    "col_features = {col: idx for idx, col in enumerate(elenco_features)}\n",
    "col_targets = {col: idx for idx, col in enumerate(elenco_target)}\n",
    "n_features = len(col_features)\n",
    "n_targets = len(col_targets)\n",
    "\n",
    "print(\"Download dati ticker per previsione\")\n",
    "dati_previsione = yf.download(\"BTG\", start='2022-01-01', end='2023-12-31', progress=True)\n",
    "dati_previsione.index = dati_previsione.index.date\n",
    "#dati_previsione = fx.crea_indicatori(dati_previsione)\n",
    "#dati_previsione.iloc[:100] = dati_previsione.iloc[:100].dropna(axis=0)\n",
    "\n"
   ]
  },
  {
   "cell_type": "code",
   "execution_count": 8,
   "id": "19ddf386",
   "metadata": {},
   "outputs": [],
   "source": [
    "candele = ta.cdl_pattern(open_=dati_previsione[\"Open\"], high=dati_previsione[\"High\"], low=dati_previsione[\"Low\"], close=dati_previsione[\"Close\"])\n"
   ]
  },
  {
   "cell_type": "code",
   "execution_count": 9,
   "id": "4e85570c",
   "metadata": {},
   "outputs": [
    {
     "name": "stdout",
     "output_type": "stream",
     "text": [
      "<class 'pandas.core.frame.DataFrame'>\n",
      "Index: 428 entries, 2022-01-03 to 2023-09-15\n",
      "Data columns (total 62 columns):\n",
      " #   Column                Non-Null Count  Dtype  \n",
      "---  ------                --------------  -----  \n",
      " 0   CDL_2CROWS            428 non-null    float64\n",
      " 1   CDL_3BLACKCROWS       428 non-null    float64\n",
      " 2   CDL_3INSIDE           428 non-null    float64\n",
      " 3   CDL_3LINESTRIKE       428 non-null    float64\n",
      " 4   CDL_3OUTSIDE          428 non-null    float64\n",
      " 5   CDL_3STARSINSOUTH     428 non-null    float64\n",
      " 6   CDL_3WHITESOLDIERS    428 non-null    float64\n",
      " 7   CDL_ABANDONEDBABY     428 non-null    float64\n",
      " 8   CDL_ADVANCEBLOCK      428 non-null    float64\n",
      " 9   CDL_BELTHOLD          428 non-null    float64\n",
      " 10  CDL_BREAKAWAY         428 non-null    float64\n",
      " 11  CDL_CLOSINGMARUBOZU   428 non-null    float64\n",
      " 12  CDL_CONCEALBABYSWALL  428 non-null    float64\n",
      " 13  CDL_COUNTERATTACK     428 non-null    float64\n",
      " 14  CDL_DARKCLOUDCOVER    428 non-null    float64\n",
      " 15  CDL_DOJI_10_0.1       428 non-null    float64\n",
      " 16  CDL_DOJISTAR          428 non-null    float64\n",
      " 17  CDL_DRAGONFLYDOJI     428 non-null    float64\n",
      " 18  CDL_ENGULFING         428 non-null    float64\n",
      " 19  CDL_EVENINGDOJISTAR   428 non-null    float64\n",
      " 20  CDL_EVENINGSTAR       428 non-null    float64\n",
      " 21  CDL_GAPSIDESIDEWHITE  428 non-null    float64\n",
      " 22  CDL_GRAVESTONEDOJI    428 non-null    float64\n",
      " 23  CDL_HAMMER            428 non-null    float64\n",
      " 24  CDL_HANGINGMAN        428 non-null    float64\n",
      " 25  CDL_HARAMI            428 non-null    float64\n",
      " 26  CDL_HARAMICROSS       428 non-null    float64\n",
      " 27  CDL_HIGHWAVE          428 non-null    float64\n",
      " 28  CDL_HIKKAKE           428 non-null    float64\n",
      " 29  CDL_HIKKAKEMOD        428 non-null    float64\n",
      " 30  CDL_HOMINGPIGEON      428 non-null    float64\n",
      " 31  CDL_IDENTICAL3CROWS   428 non-null    float64\n",
      " 32  CDL_INNECK            428 non-null    float64\n",
      " 33  CDL_INSIDE            428 non-null    int32  \n",
      " 34  CDL_INVERTEDHAMMER    428 non-null    float64\n",
      " 35  CDL_KICKING           428 non-null    float64\n",
      " 36  CDL_KICKINGBYLENGTH   428 non-null    float64\n",
      " 37  CDL_LADDERBOTTOM      428 non-null    float64\n",
      " 38  CDL_LONGLEGGEDDOJI    428 non-null    float64\n",
      " 39  CDL_LONGLINE          428 non-null    float64\n",
      " 40  CDL_MARUBOZU          428 non-null    float64\n",
      " 41  CDL_MATCHINGLOW       428 non-null    float64\n",
      " 42  CDL_MATHOLD           428 non-null    float64\n",
      " 43  CDL_MORNINGDOJISTAR   428 non-null    float64\n",
      " 44  CDL_MORNINGSTAR       428 non-null    float64\n",
      " 45  CDL_ONNECK            428 non-null    float64\n",
      " 46  CDL_PIERCING          428 non-null    float64\n",
      " 47  CDL_RICKSHAWMAN       428 non-null    float64\n",
      " 48  CDL_RISEFALL3METHODS  428 non-null    float64\n",
      " 49  CDL_SEPARATINGLINES   428 non-null    float64\n",
      " 50  CDL_SHOOTINGSTAR      428 non-null    float64\n",
      " 51  CDL_SHORTLINE         428 non-null    float64\n",
      " 52  CDL_SPINNINGTOP       428 non-null    float64\n",
      " 53  CDL_STALLEDPATTERN    428 non-null    float64\n",
      " 54  CDL_STICKSANDWICH     428 non-null    float64\n",
      " 55  CDL_TAKURI            428 non-null    float64\n",
      " 56  CDL_TASUKIGAP         428 non-null    float64\n",
      " 57  CDL_THRUSTING         428 non-null    float64\n",
      " 58  CDL_TRISTAR           428 non-null    float64\n",
      " 59  CDL_UNIQUE3RIVER      428 non-null    float64\n",
      " 60  CDL_UPSIDEGAP2CROWS   428 non-null    float64\n",
      " 61  CDL_XSIDEGAP3METHODS  428 non-null    float64\n",
      "dtypes: float64(61), int32(1)\n",
      "memory usage: 225.1+ KB\n"
     ]
    }
   ],
   "source": [
    "pd.set_option(\"display.max_columns\", None)\n",
    "candele.info()"
   ]
  },
  {
   "cell_type": "code",
   "execution_count": null,
   "id": "0c581871",
   "metadata": {},
   "outputs": [],
   "source": []
  }
 ],
 "metadata": {
  "kernelspec": {
   "display_name": "Python 3 (ipykernel)",
   "language": "python",
   "name": "python3"
  },
  "language_info": {
   "codemirror_mode": {
    "name": "ipython",
    "version": 3
   },
   "file_extension": ".py",
   "mimetype": "text/x-python",
   "name": "python",
   "nbconvert_exporter": "python",
   "pygments_lexer": "ipython3",
   "version": "3.11.3"
  },
  "vp": {
   "vp_config_version": "1.0.0",
   "vp_menu_width": 273,
   "vp_note_display": false,
   "vp_note_width": 0,
   "vp_position": {
    "width": 278
   },
   "vp_section_display": false,
   "vp_signature": "VisualPython"
  }
 },
 "nbformat": 4,
 "nbformat_minor": 5
}
