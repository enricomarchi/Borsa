{
 "cells": [
  {
   "cell_type": "code",
   "execution_count": 1,
   "id": "23e17788",
   "metadata": {},
   "outputs": [],
   "source": [
    "import pandas as pd\n",
    "import yfinance as yf\n",
    "import funzioni as fx\n",
    "ticker = yf.download(\"US02319V1035\", start='2015-01-01', end='2023-07-31', progress=False)\n",
    "ticker = fx.crea_indicatori(ticker)"
   ]
  },
  {
   "cell_type": "raw",
   "id": "0f85ac51",
   "metadata": {
    "scrolled": false
   },
   "source": [
    "pd.set_option(\"display.max_columns\", None)\n",
    "pd.set_option(\"display.max_rows\", None)\n",
    "ticker.tail()"
   ]
  },
  {
   "cell_type": "code",
   "execution_count": 2,
   "id": "19d27cd9",
   "metadata": {},
   "outputs": [],
   "source": [
    "import plotly.offline as pyo\n",
    "def visualizza_grafico(ticker):\n",
    "    import plotly.graph_objs as go\n",
    "    fig = fx.grafico_base(ticker)\n",
    "    tg = go.Scatter(\n",
    "        x = ticker[ticker['Target'] == True].index,\n",
    "        y = ticker[ticker['Target'] == True]['Close'],\n",
    "        mode = 'markers',\n",
    "        marker = dict(\n",
    "            size = 30,\n",
    "            color = 'rgba(100, 149, 250, .8)'\n",
    "        ),\n",
    "        name = 'target'\n",
    "    )\n",
    "    fig.add_trace(tg, row=1, col=1)\n",
    "    pyo.plot(fig, filename=\"test_modello.html\", auto_open=True)\n",
    "\n",
    "#features, target = fx.features_e_target(ticker)\n",
    "\n",
    "visualizza_grafico(ticker)"
   ]
  },
  {
   "cell_type": "code",
   "execution_count": null,
   "id": "1708cac4",
   "metadata": {},
   "outputs": [],
   "source": []
  }
 ],
 "metadata": {
  "kernelspec": {
   "display_name": "Python 3 (ipykernel)",
   "language": "python",
   "name": "python3"
  },
  "language_info": {
   "codemirror_mode": {
    "name": "ipython",
    "version": 3
   },
   "file_extension": ".py",
   "mimetype": "text/x-python",
   "name": "python",
   "nbconvert_exporter": "python",
   "pygments_lexer": "ipython3",
   "version": "3.11.3"
  }
 },
 "nbformat": 4,
 "nbformat_minor": 5
}
