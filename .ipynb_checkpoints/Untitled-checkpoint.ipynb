{
 "cells": [
  {
   "cell_type": "code",
   "execution_count": 1,
   "id": "25570dc8",
   "metadata": {},
   "outputs": [],
   "source": [
    "import pandas as pd\n",
    "import yfinance as yf\n",
    "import numpy as np\n",
    "pd.set_option(\"display.max_columns\", None)\n",
    "\n",
    "ticker = yf.download(\"BTG\", start='2010-01-01', end='2019-12-31', progress=False)\n",
    "#ticker = fx.crea_indicatori(ticker)\n"
   ]
  },
  {
   "cell_type": "code",
   "execution_count": 2,
   "id": "378cab3c",
   "metadata": {},
   "outputs": [
    {
     "name": "stdout",
     "output_type": "stream",
     "text": [
      "<class 'pandas.core.frame.DataFrame'>\n",
      "DatetimeIndex: 2515 entries, 2010-01-04 to 2019-12-30\n",
      "Data columns (total 6 columns):\n",
      " #   Column     Non-Null Count  Dtype  \n",
      "---  ------     --------------  -----  \n",
      " 0   Open       2515 non-null   float64\n",
      " 1   High       2515 non-null   float64\n",
      " 2   Low        2515 non-null   float64\n",
      " 3   Close      2515 non-null   float64\n",
      " 4   Adj Close  2515 non-null   float64\n",
      " 5   Volume     2515 non-null   int64  \n",
      "dtypes: float64(5), int64(1)\n",
      "memory usage: 137.5 KB\n"
     ]
    }
   ],
   "source": [
    "ticker.info()"
   ]
  },
  {
   "cell_type": "code",
   "execution_count": 3,
   "id": "36720c76",
   "metadata": {},
   "outputs": [],
   "source": [
    "features = ticker[\"Close\"]\n",
    "n_features = 1\n",
    "target = ticker[\"Close\"].shift(-1)"
   ]
  },
  {
   "cell_type": "code",
   "execution_count": 4,
   "id": "a3785887",
   "metadata": {},
   "outputs": [],
   "source": [
    "n_timesteps = 30\n",
    "X, Y = [], []\n",
    "for i in range(n_timesteps, len(features)):\n",
    "    X.append(features.iloc[i - n_timesteps:i].values)\n",
    "    Y.append(target[i])\n",
    "X, Y = np.array(X), np.array(Y)\n",
    "\n",
    "\n",
    "n_samples = X.shape[0]"
   ]
  },
  {
   "cell_type": "code",
   "execution_count": 8,
   "id": "cb4c3773",
   "metadata": {},
   "outputs": [
    {
     "name": "stdout",
     "output_type": "stream",
     "text": [
      "Epoch 1/50\n",
      "63/63 [==============================] - 13s 69ms/step - loss: nan - mae: nan - val_loss: nan - val_mae: nan\n",
      "Epoch 2/50\n",
      "63/63 [==============================] - 2s 30ms/step - loss: nan - mae: nan - val_loss: nan - val_mae: nan\n",
      "Epoch 3/50\n",
      "63/63 [==============================] - 2s 30ms/step - loss: nan - mae: nan - val_loss: nan - val_mae: nan\n",
      "Epoch 4/50\n",
      "63/63 [==============================] - 2s 31ms/step - loss: nan - mae: nan - val_loss: nan - val_mae: nan\n",
      "Epoch 5/50\n",
      "63/63 [==============================] - 2s 29ms/step - loss: nan - mae: nan - val_loss: nan - val_mae: nan\n",
      "Epoch 6/50\n",
      "29/63 [============>.................] - ETA: 0s - loss: nan - mae: nan"
     ]
    },
    {
     "name": "stderr",
     "output_type": "stream",
     "text": [
      "\n",
      "KeyboardInterrupt\n",
      "\n"
     ]
    }
   ],
   "source": [
    "from tensorflow.keras import Sequential\n",
    "from tensorflow.keras.layers import LSTM, Dense, BatchNormalization\n",
    "\n",
    "model = Sequential([\n",
    "    BatchNormalization(input_shape=(n_timesteps, n_features)),\n",
    "    LSTM(50, return_sequences=True),\n",
    "    LSTM(50),\n",
    "    Dense(64, activation='relu'),\n",
    "    Dense(1, activation='linear')\n",
    "])\n",
    "\n",
    "from tensorflow.keras.optimizers import Adam\n",
    "model.compile(optimizer=Adam(learning_rate=0.001), loss='mean_squared_error', metrics=['mae'])\n",
    "\n",
    "from sklearn.model_selection import train_test_split\n",
    "X_train, X_test, Y_train, Y_test = train_test_split(X, Y, test_size=0.2, random_state=42)\n",
    "\n",
    "model.fit(X_train, Y_train, epochs=50, batch_size=32, validation_data=(X_test, Y_test))\n"
   ]
  },
  {
   "cell_type": "code",
   "execution_count": null,
   "id": "dc881fdb",
   "metadata": {},
   "outputs": [],
   "source": []
  }
 ],
 "metadata": {
  "kernelspec": {
   "display_name": "Python 3 (ipykernel)",
   "language": "python",
   "name": "python3"
  },
  "language_info": {
   "codemirror_mode": {
    "name": "ipython",
    "version": 3
   },
   "file_extension": ".py",
   "mimetype": "text/x-python",
   "name": "python",
   "nbconvert_exporter": "python",
   "pygments_lexer": "ipython3",
   "version": "3.11.3"
  }
 },
 "nbformat": 4,
 "nbformat_minor": 5
}
