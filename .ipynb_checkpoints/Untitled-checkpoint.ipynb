{
 "cells": [
  {
   "cell_type": "code",
   "execution_count": 1,
   "id": "6d5ca138",
   "metadata": {},
   "outputs": [],
   "source": [
    "import pandas as pd\n",
    "import yfinance as yf\n",
    "import funzioni as fx\n",
    "import plotly.offline as pyo\n",
    "import numpy as np\n",
    "from tensorflow.keras.metrics import Precision, Recall, AUC\n",
    "import tensorflow as tf\n",
    "from sklearn.metrics import confusion_matrix\n",
    "from sklearn.utils.class_weight import compute_class_weight\n",
    "\n",
    "pd.set_option(\"display.max_columns\", None)\n",
    "\n",
    "ticker = yf.download('CA11777Q2099', start='2005-01-01', end='2023-07-31', progress=False)\n",
    "ticker = fx.crea_indicatori(ticker)\n",
    "features = ticker.drop(columns=[\"Adj Close\", \"Max_High_Futuro_20d\", \"Min_Low_Futuro_20d\", \"Drawdown_20d\", \"Perc_Max_High_Futuro_20d\", \n",
    "                    \"Perc_Drawdown_20d\", \"HLC3\", \"MaxMinRel\", \"guadagno_max_perc\"\n",
    "                    ])\n",
    "moda = ticker.loc[ticker[\"guadagno_max_perc\"] != 0, \"guadagno_max_perc\"].mode()\n",
    "target = ticker[\"guadagno_max_perc\"] >= moda[0]\n",
    "ticker[\"Target\"] = target\n"
   ]
  },
  {
   "cell_type": "code",
   "execution_count": 2,
   "id": "7d5c1da0",
   "metadata": {},
   "outputs": [],
   "source": [
    "def visualizza_grafico(ticker):\n",
    "    import plotly.graph_objs as go\n",
    "    fig = fx.grafico_base(ticker)\n",
    "    tg = go.Scatter(\n",
    "        x = ticker[ticker['Target'] == True].index,\n",
    "        y = ticker[ticker['Target'] == True]['Close'],\n",
    "        mode = 'markers',\n",
    "        marker = dict(\n",
    "            size = 15,\n",
    "            color = 'rgba(0, 250, 0, .9)'\n",
    "        ),\n",
    "        name = 'target'\n",
    "    )\n",
    "    fig.add_trace(tg, row=1, col=1)\n",
    "    pyo.plot(fig, filename=\"prova.html\", auto_open=True)\n",
    "\n",
    "#visualizza_grafico(ticker)"
   ]
  },
  {
   "cell_type": "code",
   "execution_count": 3,
   "id": "0ee15a70",
   "metadata": {},
   "outputs": [
    {
     "name": "stdout",
     "output_type": "stream",
     "text": [
      "Epoch 1/100\n"
     ]
    },
    {
     "ename": "ValueError",
     "evalue": "in user code:\n\n    File \"C:\\Users\\932197\\AppData\\Local\\anaconda3\\Lib\\site-packages\\keras\\src\\engine\\training.py\", line 1338, in train_function  *\n        return step_function(self, iterator)\n    File \"C:\\Users\\932197\\AppData\\Local\\Temp\\ipykernel_11988\\18324896.py\", line 27, in F1_Score  *\n        precision = Precision()\n    File \"C:\\Users\\932197\\AppData\\Local\\anaconda3\\Lib\\site-packages\\keras\\src\\dtensor\\utils.py\", line 144, in _wrap_function  **\n        init_method(instance, *args, **kwargs)\n    File \"C:\\Users\\932197\\AppData\\Local\\anaconda3\\Lib\\site-packages\\keras\\src\\metrics\\confusion_metrics.py\", line 446, in __init__\n        self.true_positives = self.add_weight(\n    File \"C:\\Users\\932197\\AppData\\Local\\anaconda3\\Lib\\site-packages\\keras\\src\\metrics\\base_metric.py\", line 398, in add_weight\n        return super().add_weight(\n    File \"C:\\Users\\932197\\AppData\\Local\\anaconda3\\Lib\\site-packages\\keras\\src\\engine\\base_layer.py\", line 712, in add_weight\n        variable = self._add_variable_with_custom_getter(\n    File \"C:\\Users\\932197\\AppData\\Local\\anaconda3\\Lib\\site-packages\\keras\\src\\engine\\base_layer_utils.py\", line 137, in make_variable\n        return tf1.Variable(\n\n    ValueError: tf.function only supports singleton tf.Variables created on the first call. Make sure the tf.Variable is only created once or created outside tf.function. See https://www.tensorflow.org/guide/function#creating_tfvariables for more information.\n",
     "output_type": "error",
     "traceback": [
      "\u001b[1;31m---------------------------------------------------------------------------\u001b[0m",
      "\u001b[1;31mValueError\u001b[0m                                Traceback (most recent call last)",
      "Cell \u001b[1;32mIn[3], line 80\u001b[0m\n\u001b[0;32m     76\u001b[0m     \u001b[38;5;28mprint\u001b[39m(\u001b[38;5;124mf\u001b[39m\u001b[38;5;124m\"\u001b[39m\u001b[38;5;130;01m\\033\u001b[39;00m\u001b[38;5;124m[42mBalanced Accuracy: \u001b[39m\u001b[38;5;132;01m{\u001b[39;00mbalanced_accuracy\u001b[38;5;132;01m}\u001b[39;00m\u001b[38;5;130;01m\\033\u001b[39;00m\u001b[38;5;124m[0m\u001b[39m\u001b[38;5;124m\"\u001b[39m)\n\u001b[0;32m     78\u001b[0m     \u001b[38;5;28;01mreturn\u001b[39;00m model\n\u001b[1;32m---> 80\u001b[0m model \u001b[38;5;241m=\u001b[39m addestramento(model\u001b[38;5;241m=\u001b[39m\u001b[38;5;241m0\u001b[39m, features\u001b[38;5;241m=\u001b[39mfeatures, target\u001b[38;5;241m=\u001b[39mtarget)\n",
      "Cell \u001b[1;32mIn[3], line 65\u001b[0m, in \u001b[0;36maddestramento\u001b[1;34m(model, features, target)\u001b[0m\n\u001b[0;32m     52\u001b[0m \u001b[38;5;66;03m# 4. Allenamento del Modello\u001b[39;00m\n\u001b[0;32m     53\u001b[0m model\u001b[38;5;241m.\u001b[39mcompile(\n\u001b[0;32m     54\u001b[0m     optimizer\u001b[38;5;241m=\u001b[39m\u001b[38;5;124m'\u001b[39m\u001b[38;5;124madam\u001b[39m\u001b[38;5;124m'\u001b[39m,\n\u001b[0;32m     55\u001b[0m     loss\u001b[38;5;241m=\u001b[39m\u001b[38;5;124m'\u001b[39m\u001b[38;5;124mbinary_crossentropy\u001b[39m\u001b[38;5;124m'\u001b[39m,\n\u001b[1;32m   (...)\u001b[0m\n\u001b[0;32m     63\u001b[0m     ]\n\u001b[0;32m     64\u001b[0m )\n\u001b[1;32m---> 65\u001b[0m model\u001b[38;5;241m.\u001b[39mfit(X, Y, epochs\u001b[38;5;241m=\u001b[39m\u001b[38;5;241m100\u001b[39m, batch_size\u001b[38;5;241m=\u001b[39m\u001b[38;5;241m32\u001b[39m, validation_split\u001b[38;5;241m=\u001b[39m\u001b[38;5;241m0.2\u001b[39m, class_weight\u001b[38;5;241m=\u001b[39mclass_weight_dict)\n\u001b[0;32m     67\u001b[0m \u001b[38;5;66;03m# 5. Valutazione e Test\u001b[39;00m\n\u001b[0;32m     68\u001b[0m loss, precision, recall, auc, accuracy, f1_score, balanced_accuracy \u001b[38;5;241m=\u001b[39m model\u001b[38;5;241m.\u001b[39mevaluate(X, Y)\n",
      "File \u001b[1;32m~\\AppData\\Local\\anaconda3\\Lib\\site-packages\\keras\\src\\utils\\traceback_utils.py:70\u001b[0m, in \u001b[0;36mfilter_traceback.<locals>.error_handler\u001b[1;34m(*args, **kwargs)\u001b[0m\n\u001b[0;32m     67\u001b[0m     filtered_tb \u001b[38;5;241m=\u001b[39m _process_traceback_frames(e\u001b[38;5;241m.\u001b[39m__traceback__)\n\u001b[0;32m     68\u001b[0m     \u001b[38;5;66;03m# To get the full stack trace, call:\u001b[39;00m\n\u001b[0;32m     69\u001b[0m     \u001b[38;5;66;03m# `tf.debugging.disable_traceback_filtering()`\u001b[39;00m\n\u001b[1;32m---> 70\u001b[0m     \u001b[38;5;28;01mraise\u001b[39;00m e\u001b[38;5;241m.\u001b[39mwith_traceback(filtered_tb) \u001b[38;5;28;01mfrom\u001b[39;00m \u001b[38;5;28;01mNone\u001b[39;00m\n\u001b[0;32m     71\u001b[0m \u001b[38;5;28;01mfinally\u001b[39;00m:\n\u001b[0;32m     72\u001b[0m     \u001b[38;5;28;01mdel\u001b[39;00m filtered_tb\n",
      "File \u001b[1;32m~\\AppData\\Local\\Temp\\__autograph_generated_file7e8nkfg0.py:15\u001b[0m, in \u001b[0;36mouter_factory.<locals>.inner_factory.<locals>.tf__train_function\u001b[1;34m(iterator)\u001b[0m\n\u001b[0;32m     13\u001b[0m \u001b[38;5;28;01mtry\u001b[39;00m:\n\u001b[0;32m     14\u001b[0m     do_return \u001b[38;5;241m=\u001b[39m \u001b[38;5;28;01mTrue\u001b[39;00m\n\u001b[1;32m---> 15\u001b[0m     retval_ \u001b[38;5;241m=\u001b[39m ag__\u001b[38;5;241m.\u001b[39mconverted_call(ag__\u001b[38;5;241m.\u001b[39mld(step_function), (ag__\u001b[38;5;241m.\u001b[39mld(\u001b[38;5;28mself\u001b[39m), ag__\u001b[38;5;241m.\u001b[39mld(iterator)), \u001b[38;5;28;01mNone\u001b[39;00m, fscope)\n\u001b[0;32m     16\u001b[0m \u001b[38;5;28;01mexcept\u001b[39;00m:\n\u001b[0;32m     17\u001b[0m     do_return \u001b[38;5;241m=\u001b[39m \u001b[38;5;28;01mFalse\u001b[39;00m\n",
      "File \u001b[1;32m~\\AppData\\Local\\Temp\\__autograph_generated_file30mhil8b.py:10\u001b[0m, in \u001b[0;36mouter_factory.<locals>.inner_factory.<locals>.tf__F1_Score\u001b[1;34m(y_true, y_pred)\u001b[0m\n\u001b[0;32m      8\u001b[0m do_return \u001b[38;5;241m=\u001b[39m \u001b[38;5;28;01mFalse\u001b[39;00m\n\u001b[0;32m      9\u001b[0m retval_ \u001b[38;5;241m=\u001b[39m ag__\u001b[38;5;241m.\u001b[39mUndefinedReturnValue()\n\u001b[1;32m---> 10\u001b[0m precision \u001b[38;5;241m=\u001b[39m ag__\u001b[38;5;241m.\u001b[39mconverted_call(ag__\u001b[38;5;241m.\u001b[39mld(Precision), (), \u001b[38;5;28;01mNone\u001b[39;00m, fscope)\n\u001b[0;32m     11\u001b[0m recall \u001b[38;5;241m=\u001b[39m ag__\u001b[38;5;241m.\u001b[39mconverted_call(ag__\u001b[38;5;241m.\u001b[39mld(Recall), (), \u001b[38;5;28;01mNone\u001b[39;00m, fscope)\n\u001b[0;32m     12\u001b[0m p \u001b[38;5;241m=\u001b[39m ag__\u001b[38;5;241m.\u001b[39mconverted_call(ag__\u001b[38;5;241m.\u001b[39mld(precision), (ag__\u001b[38;5;241m.\u001b[39mld(y_true), ag__\u001b[38;5;241m.\u001b[39mld(y_pred)), \u001b[38;5;28;01mNone\u001b[39;00m, fscope)\n",
      "\u001b[1;31mValueError\u001b[0m: in user code:\n\n    File \"C:\\Users\\932197\\AppData\\Local\\anaconda3\\Lib\\site-packages\\keras\\src\\engine\\training.py\", line 1338, in train_function  *\n        return step_function(self, iterator)\n    File \"C:\\Users\\932197\\AppData\\Local\\Temp\\ipykernel_11988\\18324896.py\", line 27, in F1_Score  *\n        precision = Precision()\n    File \"C:\\Users\\932197\\AppData\\Local\\anaconda3\\Lib\\site-packages\\keras\\src\\dtensor\\utils.py\", line 144, in _wrap_function  **\n        init_method(instance, *args, **kwargs)\n    File \"C:\\Users\\932197\\AppData\\Local\\anaconda3\\Lib\\site-packages\\keras\\src\\metrics\\confusion_metrics.py\", line 446, in __init__\n        self.true_positives = self.add_weight(\n    File \"C:\\Users\\932197\\AppData\\Local\\anaconda3\\Lib\\site-packages\\keras\\src\\metrics\\base_metric.py\", line 398, in add_weight\n        return super().add_weight(\n    File \"C:\\Users\\932197\\AppData\\Local\\anaconda3\\Lib\\site-packages\\keras\\src\\engine\\base_layer.py\", line 712, in add_weight\n        variable = self._add_variable_with_custom_getter(\n    File \"C:\\Users\\932197\\AppData\\Local\\anaconda3\\Lib\\site-packages\\keras\\src\\engine\\base_layer_utils.py\", line 137, in make_variable\n        return tf1.Variable(\n\n    ValueError: tf.function only supports singleton tf.Variables created on the first call. Make sure the tf.Variable is only created once or created outside tf.function. See https://www.tensorflow.org/guide/function#creating_tfvariables for more information.\n"
     ]
    }
   ],
   "source": [
    "def converti_in_XY(features, target):\n",
    "    look_back = 30\n",
    "    X, Y = [], []\n",
    "    for i in range(look_back, len(features)):\n",
    "        X.append(features.iloc[i - look_back:i].values)\n",
    "        Y.append(target[i])\n",
    "    X, Y = np.array(X), np.array(Y)\n",
    "    return X, Y\n",
    "\n",
    "def addestramento(model, features, target):\n",
    "    from tensorflow import keras\n",
    "    from tensorflow.keras import layers\n",
    "    from tensorflow.keras.metrics import Precision    \n",
    "\n",
    "    X, Y = converti_in_XY(features, target)\n",
    "\n",
    "    # 3. Creazione del Modello\n",
    "    if model == 0:\n",
    "        model = keras.Sequential([\n",
    "            layers.LSTM(200, input_shape=(X.shape[1], X.shape[2]), return_sequences=True),\n",
    "            layers.LSTM(200),\n",
    "            layers.Dense(1)\n",
    "        ])\n",
    "\n",
    "    Y = np.where(Y, 1, 0)\n",
    "    class_weights = compute_class_weight('balanced', classes=[0, 1], y=Y)\n",
    "    class_weight_dict = {0: class_weights[0], 1: class_weights[1]}\n",
    "    \n",
    "    # 4. Allenamento del Modello\n",
    "    model.compile(\n",
    "        optimizer='adam',\n",
    "        loss='binary_crossentropy',\n",
    "        metrics=[\n",
    "            Precision(name='precision'),\n",
    "            Recall(name='recall'),\n",
    "            AUC(name='auc'),\n",
    "            'accuracy',\n",
    "        ]\n",
    "    )\n",
    "    model.fit(X, Y, epochs=100, batch_size=32, validation_split=0.2, class_weight=class_weight_dict)\n",
    "\n",
    "    # 5. Valutazione e Test\n",
    "    loss, precision, recall, auc, accuracy = model.evaluate(X, Y)\n",
    "\n",
    "    print(f\"\\033[42mLoss: {loss}\\033[0m\")\n",
    "    print(f\"\\033[42mPrecision: {precision}\\033[0m\")\n",
    "    print(f\"\\033[42mRecall: {recall}\\033[0m\")\n",
    "    print(f\"\\033[42mAUC: {auc}\\033[0m\")\n",
    "    print(f\"\\033[42mAccuracy: {accuracy}\\033[0m\")\n",
    " \n",
    "    return model\n",
    "\n",
    "model = addestramento(model=0, features=features, target=target)\n"
   ]
  },
  {
   "cell_type": "code",
   "execution_count": null,
   "id": "063bcea7",
   "metadata": {},
   "outputs": [],
   "source": [
    "ticker_prev = yf.download('CA11777Q2099', period='1y', interval='1d', progress=False)\n",
    "ticker_prev = fx.crea_indicatori(ticker_prev)\n",
    "features_prev = ticker_prev.drop(columns=[\"Adj Close\", \"Max_High_Futuro_20d\", \"Min_Low_Futuro_20d\", \"Drawdown_20d\", \"Perc_Max_High_Futuro_20d\", \n",
    "                    \"Perc_Drawdown_20d\", \"HLC3\", \"MaxMinRel\", \"guadagno_max_perc\"\n",
    "                    ])\n",
    "\n",
    "target_prev = ticker_prev[\"guadagno_max_perc\"] > 0.2\n",
    "X_prev, Y_prev = converti_in_XY(features_prev, target_prev)\n",
    "previsioni = model.predict(X_prev)"
   ]
  },
  {
   "cell_type": "code",
   "execution_count": null,
   "id": "4bb140f2",
   "metadata": {},
   "outputs": [],
   "source": [
    "previsioni = np.round(previsioni).astype(int)\n",
    "cm = confusion_matrix(Y_prev, previsioni)\n",
    "df_cm = pd.DataFrame(cm, index=[\"True\", \"False\"], columns=[\"Predicted True\", \"Predicted False\"])\n",
    "df_cm\n"
   ]
  },
  {
   "cell_type": "code",
   "execution_count": null,
   "id": "5208e19c",
   "metadata": {},
   "outputs": [],
   "source": []
  }
 ],
 "metadata": {
  "kernelspec": {
   "display_name": "Python 3 (ipykernel)",
   "language": "python",
   "name": "python3"
  },
  "language_info": {
   "codemirror_mode": {
    "name": "ipython",
    "version": 3
   },
   "file_extension": ".py",
   "mimetype": "text/x-python",
   "name": "python",
   "nbconvert_exporter": "python",
   "pygments_lexer": "ipython3",
   "version": "3.11.3"
  }
 },
 "nbformat": 4,
 "nbformat_minor": 5
}
