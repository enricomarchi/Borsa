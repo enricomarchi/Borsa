{
 "cells": [
  {
   "cell_type": "code",
   "execution_count": 1,
   "id": "e170abd9",
   "metadata": {
    "scrolled": true
   },
   "outputs": [
    {
     "name": "stdout",
     "output_type": "stream",
     "text": [
      "Download dati ticker\n"
     ]
    }
   ],
   "source": [
    "import pandas as pd\n",
    "import yfinance as yf\n",
    "import numpy as np\n",
    "\n",
    "pd.set_option(\"display.max_columns\", None)\n",
    "\n",
    "print(\"Download dati ticker\")\n",
    "ticker = yf.download(\"BTG\", start='2010-01-01', end='2010-01-31', progress=False)\n",
    "ticker.index = ticker.index.date\n",
    "\n"
   ]
  },
  {
   "cell_type": "code",
   "execution_count": 16,
   "id": "67fb552b",
   "metadata": {},
   "outputs": [
    {
     "name": "stdout",
     "output_type": "stream",
     "text": [
      "Definizione features e target\n"
     ]
    }
   ],
   "source": [
    "print(\"Definizione features e target\")\n",
    "def to_XY(dati_ticker, n_timesteps, giorni_previsione):\n",
    "    features = dati_ticker[[\n",
    "        \"Close\",\n",
    "        \"Volume\",\n",
    "        \"Open\",  \n",
    "        \"High\",\n",
    "        \"Low\"\n",
    "    ]]\n",
    "    target = dati_ticker[[\n",
    "        \"Close\", \n",
    "        \"Open\", \n",
    "        \"High\", \n",
    "        \"Low\"\n",
    "    ]]\n",
    "    \n",
    "    i_tot = len(features) - n_timesteps - giorni_previsione + 1\n",
    "    idx, X, Y = [], [], []  \n",
    "    for i in range(i_tot):\n",
    "        idx.append(features.index[i + n_timesteps - 1])\n",
    "        X.append(features.iloc[i:i + n_timesteps])\n",
    "        Y.append(target.iloc[i + n_timesteps:i + n_timesteps + giorni_previsione])\n",
    "    return idx, np.array(X), np.array(Y)\n",
    "    \n"
   ]
  },
  {
   "cell_type": "code",
   "execution_count": 25,
   "id": "cccb23e6",
   "metadata": {},
   "outputs": [
    {
     "name": "stdout",
     "output_type": "stream",
     "text": [
      "Preparazione array X e Y\n"
     ]
    }
   ],
   "source": [
    "print(\"Preparazione array X e Y\")\n",
    "\n",
    "n_timesteps = 2\n",
    "giorni_previsione = 5\n",
    "idx, X, Y = to_XY(ticker, n_timesteps, giorni_previsione)\n",
    "\n",
    "n_features = X.shape[2]\n",
    "n_target = Y.shape[2]"
   ]
  },
  {
   "cell_type": "code",
   "execution_count": 19,
   "id": "26ba6b88",
   "metadata": {},
   "outputs": [
    {
     "data": {
      "text/plain": [
       "(13, 2, 5)"
      ]
     },
     "execution_count": 19,
     "metadata": {},
     "output_type": "execute_result"
    }
   ],
   "source": [
    "X.shape"
   ]
  },
  {
   "cell_type": "code",
   "execution_count": 20,
   "id": "ab69866a",
   "metadata": {},
   "outputs": [
    {
     "data": {
      "text/plain": [
       "(13, 5, 4)"
      ]
     },
     "execution_count": 20,
     "metadata": {},
     "output_type": "execute_result"
    }
   ],
   "source": [
    "Y.shape"
   ]
  },
  {
   "cell_type": "code",
   "execution_count": 21,
   "id": "dbaabdfa",
   "metadata": {},
   "outputs": [
    {
     "data": {
      "text/html": [
       "<div>\n",
       "<style scoped>\n",
       "    .dataframe tbody tr th:only-of-type {\n",
       "        vertical-align: middle;\n",
       "    }\n",
       "\n",
       "    .dataframe tbody tr th {\n",
       "        vertical-align: top;\n",
       "    }\n",
       "\n",
       "    .dataframe thead th {\n",
       "        text-align: right;\n",
       "    }\n",
       "</style>\n",
       "<table border=\"1\" class=\"dataframe\">\n",
       "  <thead>\n",
       "    <tr style=\"text-align: right;\">\n",
       "      <th></th>\n",
       "      <th>Open</th>\n",
       "      <th>High</th>\n",
       "      <th>Low</th>\n",
       "      <th>Close</th>\n",
       "      <th>Adj Close</th>\n",
       "      <th>Volume</th>\n",
       "    </tr>\n",
       "  </thead>\n",
       "  <tbody>\n",
       "    <tr>\n",
       "      <th>2010-01-04</th>\n",
       "      <td>1.18</td>\n",
       "      <td>1.21</td>\n",
       "      <td>1.18</td>\n",
       "      <td>1.21</td>\n",
       "      <td>1.064783</td>\n",
       "      <td>11800</td>\n",
       "    </tr>\n",
       "    <tr>\n",
       "      <th>2010-01-05</th>\n",
       "      <td>1.23</td>\n",
       "      <td>1.26</td>\n",
       "      <td>1.21</td>\n",
       "      <td>1.25</td>\n",
       "      <td>1.099983</td>\n",
       "      <td>14400</td>\n",
       "    </tr>\n",
       "    <tr>\n",
       "      <th>2010-01-06</th>\n",
       "      <td>1.36</td>\n",
       "      <td>1.36</td>\n",
       "      <td>1.31</td>\n",
       "      <td>1.33</td>\n",
       "      <td>1.170382</td>\n",
       "      <td>40000</td>\n",
       "    </tr>\n",
       "    <tr>\n",
       "      <th>2010-01-07</th>\n",
       "      <td>1.36</td>\n",
       "      <td>1.37</td>\n",
       "      <td>1.33</td>\n",
       "      <td>1.34</td>\n",
       "      <td>1.179181</td>\n",
       "      <td>37800</td>\n",
       "    </tr>\n",
       "    <tr>\n",
       "      <th>2010-01-08</th>\n",
       "      <td>1.36</td>\n",
       "      <td>1.46</td>\n",
       "      <td>1.36</td>\n",
       "      <td>1.42</td>\n",
       "      <td>1.249580</td>\n",
       "      <td>75800</td>\n",
       "    </tr>\n",
       "    <tr>\n",
       "      <th>2010-01-11</th>\n",
       "      <td>1.47</td>\n",
       "      <td>1.47</td>\n",
       "      <td>1.40</td>\n",
       "      <td>1.42</td>\n",
       "      <td>1.249580</td>\n",
       "      <td>36800</td>\n",
       "    </tr>\n",
       "    <tr>\n",
       "      <th>2010-01-12</th>\n",
       "      <td>1.40</td>\n",
       "      <td>1.40</td>\n",
       "      <td>1.31</td>\n",
       "      <td>1.35</td>\n",
       "      <td>1.187981</td>\n",
       "      <td>4900</td>\n",
       "    </tr>\n",
       "    <tr>\n",
       "      <th>2010-01-13</th>\n",
       "      <td>1.36</td>\n",
       "      <td>1.41</td>\n",
       "      <td>1.35</td>\n",
       "      <td>1.41</td>\n",
       "      <td>1.240780</td>\n",
       "      <td>22500</td>\n",
       "    </tr>\n",
       "    <tr>\n",
       "      <th>2010-01-14</th>\n",
       "      <td>1.40</td>\n",
       "      <td>1.43</td>\n",
       "      <td>1.38</td>\n",
       "      <td>1.39</td>\n",
       "      <td>1.223181</td>\n",
       "      <td>23200</td>\n",
       "    </tr>\n",
       "    <tr>\n",
       "      <th>2010-01-15</th>\n",
       "      <td>1.39</td>\n",
       "      <td>1.40</td>\n",
       "      <td>1.37</td>\n",
       "      <td>1.37</td>\n",
       "      <td>1.205581</td>\n",
       "      <td>44900</td>\n",
       "    </tr>\n",
       "  </tbody>\n",
       "</table>\n",
       "</div>"
      ],
      "text/plain": [
       "            Open  High   Low  Close  Adj Close  Volume\n",
       "2010-01-04  1.18  1.21  1.18   1.21   1.064783   11800\n",
       "2010-01-05  1.23  1.26  1.21   1.25   1.099983   14400\n",
       "2010-01-06  1.36  1.36  1.31   1.33   1.170382   40000\n",
       "2010-01-07  1.36  1.37  1.33   1.34   1.179181   37800\n",
       "2010-01-08  1.36  1.46  1.36   1.42   1.249580   75800\n",
       "2010-01-11  1.47  1.47  1.40   1.42   1.249580   36800\n",
       "2010-01-12  1.40  1.40  1.31   1.35   1.187981    4900\n",
       "2010-01-13  1.36  1.41  1.35   1.41   1.240780   22500\n",
       "2010-01-14  1.40  1.43  1.38   1.39   1.223181   23200\n",
       "2010-01-15  1.39  1.40  1.37   1.37   1.205581   44900"
      ]
     },
     "execution_count": 21,
     "metadata": {},
     "output_type": "execute_result"
    }
   ],
   "source": [
    "ticker.head(10)"
   ]
  },
  {
   "cell_type": "code",
   "execution_count": 22,
   "id": "af5cc7ac",
   "metadata": {},
   "outputs": [
    {
     "data": {
      "text/plain": [
       "1.25"
      ]
     },
     "execution_count": 22,
     "metadata": {},
     "output_type": "execute_result"
    }
   ],
   "source": [
    "X[0, n_timesteps-1, 0]"
   ]
  },
  {
   "cell_type": "code",
   "execution_count": 28,
   "id": "5cfe285f",
   "metadata": {},
   "outputs": [
    {
     "data": {
      "text/plain": [
       "1.35"
      ]
     },
     "execution_count": 28,
     "metadata": {},
     "output_type": "execute_result"
    }
   ],
   "source": [
    "Y[0, 4, 0].round(2)"
   ]
  },
  {
   "cell_type": "code",
   "execution_count": null,
   "id": "ee9b73f4",
   "metadata": {},
   "outputs": [],
   "source": []
  }
 ],
 "metadata": {
  "kernelspec": {
   "display_name": "Python 3 (ipykernel)",
   "language": "python",
   "name": "python3"
  },
  "language_info": {
   "codemirror_mode": {
    "name": "ipython",
    "version": 3
   },
   "file_extension": ".py",
   "mimetype": "text/x-python",
   "name": "python",
   "nbconvert_exporter": "python",
   "pygments_lexer": "ipython3",
   "version": "3.11.3"
  }
 },
 "nbformat": 4,
 "nbformat_minor": 5
}
