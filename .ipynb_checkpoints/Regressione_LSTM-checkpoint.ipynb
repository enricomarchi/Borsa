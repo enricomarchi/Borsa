{
 "cells": [
  {
   "cell_type": "code",
   "execution_count": 1,
   "id": "6d5ca138",
   "metadata": {},
   "outputs": [],
   "source": [
    "import pandas as pd\n",
    "import yfinance as yf\n",
    "import funzioni as fx\n",
    "import plotly.offline as pyo\n",
    "import numpy as np\n",
    "import numpy as np\n",
    "import os\n",
    "\n",
    "from tensorflow.keras.models import load_model\n",
    "from joblib import dump\n",
    "\n",
    "pd.set_option(\"display.max_columns\", None)"
   ]
  },
  {
   "cell_type": "code",
   "execution_count": 2,
   "id": "5dc79228",
   "metadata": {},
   "outputs": [],
   "source": [
    "learning_rate = 0.001\n",
    "batch_size = 1\n",
    "look_back = 60\n",
    "file_modello = \"LSTM_prezzo.keras\""
   ]
  },
  {
   "cell_type": "code",
   "execution_count": 3,
   "id": "a278d9ec",
   "metadata": {
    "scrolled": false
   },
   "outputs": [
    {
     "name": "stdout",
     "output_type": "stream",
     "text": [
      "Nuovo modello\n",
      "1 di 1) Caricamento ticker BTG                           \n",
      "1 di 1) Addestramento ticker BTG                           \n",
      " Epoch 1/5\n",
      "2093/2093 [==============================] - 66s 29ms/step - loss: 0.0364 - val_loss: 0.0181\n",
      "Epoch 2/5\n",
      "2093/2093 [==============================] - 59s 28ms/step - loss: 0.0212 - val_loss: 0.0169\n",
      "Epoch 3/5\n",
      "2093/2093 [==============================] - 59s 28ms/step - loss: 0.0191 - val_loss: 0.0161\n",
      "Epoch 4/5\n",
      "2093/2093 [==============================] - 60s 29ms/step - loss: 0.0183 - val_loss: 0.0160\n",
      "Epoch 5/5\n",
      "2093/2093 [==============================] - 60s 28ms/step - loss: 0.0178 - val_loss: 0.0161\n",
      "17/17 [==============================] - 2s 19ms/step - loss: 0.0161\n",
      "\u001b[42mLoss: 0.016097819432616234\u001b[0m\n",
      "fine addestramento\n"
     ]
    }
   ],
   "source": [
    "elenco_usin = pd.read_parquet(\"Tickers_De_Giro.parquet\")\n",
    "elenco_usin = elenco_usin.loc[elenco_usin[\"Ticker\"] == \"BTG\", [\"USIN\", \"Ticker\"]]\n",
    "elenco_usin = elenco_usin.sample(frac=1)\n",
    "tot_usin = len(elenco_usin)\n",
    "i = 1\n",
    "if os.path.exists(file_modello):\n",
    "    model = load_model(file_modello)\n",
    "    print(\"Modello esistente\")\n",
    "else:\n",
    "    model = 0\n",
    "    print(\"Nuovo modello\")\n",
    "for index, riga in elenco_usin.iterrows():       \n",
    "    print(f\"\\r{i} di {tot_usin}) Caricamento ticker {riga['Ticker']}                           \\n\", end=' ', flush=True)\n",
    "    ticker = yf.download(riga['USIN'], start='2005-01-01', end='2019-07-31', progress=False)\n",
    "    if len(ticker) < 500:\n",
    "        continue\n",
    "    else:\n",
    "        ticker = fx.crea_indicatori(ticker)\n",
    "        features, target = fx.features_e_target_regressione(ticker)\n",
    "        ticker[\"Target\"] = target\n",
    "        print(f\"\\r{i} di {tot_usin}) Addestramento ticker {riga['Ticker']}                           \\n\", end=' ', flush=True)\n",
    "        try:\n",
    "            model, X_scaler, Y_scaler = fx.addestramento_regressione(model, features=features, target=target, learning_rate=learning_rate, batch_size=batch_size, look_back=look_back) \n",
    "            model.save(file_modello)\n",
    "            dump(X_scaler, f'Scalers/{riga[\"Ticker\"]}_X_scaler.joblib') \n",
    "            dump(Y_scaler, f'Scalers/{riga[\"Ticker\"]}_Y_scaler.joblib') \n",
    "        except Exception as e:\n",
    "            print(e)\n",
    "            continue\n",
    "        i += 1\n",
    "\n",
    "print(\"fine addestramento\")"
   ]
  },
  {
   "cell_type": "code",
   "execution_count": null,
   "id": "23bd7e3f",
   "metadata": {},
   "outputs": [],
   "source": []
  }
 ],
 "metadata": {
  "kernelspec": {
   "display_name": "Python 3 (ipykernel)",
   "language": "python",
   "name": "python3"
  },
  "language_info": {
   "codemirror_mode": {
    "name": "ipython",
    "version": 3
   },
   "file_extension": ".py",
   "mimetype": "text/x-python",
   "name": "python",
   "nbconvert_exporter": "python",
   "pygments_lexer": "ipython3",
   "version": "3.11.3"
  }
 },
 "nbformat": 4,
 "nbformat_minor": 5
}
