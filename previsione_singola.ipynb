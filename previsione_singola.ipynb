{
 "cells": [
  {
   "cell_type": "code",
   "execution_count": 18,
   "metadata": {},
   "outputs": [
    {
     "name": "stdout",
     "output_type": "stream",
     "text": [
      "102/102 [==============================] - 1s 4ms/step\n"
     ]
    }
   ],
   "source": [
    "import pandas as pd\n",
    "import funzioni as fx\n",
    "from tensorflow.keras.models import load_model\n",
    "from tensorflow_addons.metrics import F1Score\n",
    "import yfinance as yf\n",
    "\n",
    "simbolo='IDT'\n",
    "\n",
    "f1_score = F1Score(num_classes=1, average='macro', threshold=0.5)\n",
    "model = load_model(\"model.h5\", custom_objects={'Addons>F1Score': f1_score})\n",
    "ticker = yf.download(simbolo, start='2010-01-01', end='2023-12-31', progress=False)\n",
    "\n",
    "ticker.index = ticker.index.date\n",
    "ticker = fx.crea_indicatori(ticker)\n",
    "ticker = fx.imposta_target(ticker)\n",
    "ticker.dropna(axis=0, inplace=True)\n",
    "idx, X, Y, _ = fx.to_XY(ticker, fx.features_prezzo, fx.features_da_scalare_singolarmente, fx.features_meno_piu, fx.features_candele, fx.features_no_scala, fx.elenco_targets, fx.n_timesteps, fx.giorni_previsione, 0)\n",
    "pred = model.predict(X)\n",
    "pred = pred.reshape(-1,)\n",
    "Y = Y.reshape(-1,)\n",
    "df = pd.DataFrame({\"Pred\": pred, \"Real\": Y}, index=idx)\n",
    "df.to_excel(f\"previsioni/{simbolo}.xlsx\")"
   ]
  }
 ],
 "metadata": {
  "kernelspec": {
   "display_name": "Python 3 (ipykernel)",
   "language": "python",
   "name": "python3"
  },
  "language_info": {
   "codemirror_mode": {
    "name": "ipython",
    "version": 3
   },
   "file_extension": ".py",
   "mimetype": "text/x-python",
   "name": "python",
   "nbconvert_exporter": "python",
   "pygments_lexer": "ipython3",
   "version": "3.9.16"
  }
 },
 "nbformat": 4,
 "nbformat_minor": 2
}
