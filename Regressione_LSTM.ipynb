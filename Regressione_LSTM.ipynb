{
 "cells": [
  {
   "cell_type": "code",
   "execution_count": 1,
   "id": "6d5ca138",
   "metadata": {},
   "outputs": [],
   "source": [
    "import pandas as pd\n",
    "import yfinance as yf\n",
    "import funzioni as fx\n",
    "import plotly.offline as pyo\n",
    "import numpy as np\n",
    "import os\n",
    "\n",
    "from tensorflow.keras.models import load_model\n",
    "from joblib import dump\n",
    "\n",
    "pd.set_option(\"display.max_columns\", None)"
   ]
  },
  {
   "cell_type": "code",
   "execution_count": 2,
   "id": "5dc79228",
   "metadata": {},
   "outputs": [],
   "source": [
    "learning_rate = 0.001\n",
    "batch_size = 1\n",
    "look_back = 60\n",
    "file_modello = \"LSTM_prezzo.keras\""
   ]
  },
  {
   "cell_type": "code",
   "execution_count": 3,
   "id": "a278d9ec",
   "metadata": {
    "scrolled": false
   },
   "outputs": [
    {
     "name": "stdout",
     "output_type": "stream",
     "text": [
      "Nuovo modello\n",
      "1 di 1) Caricamento ticker BTG                           \n",
      "1 di 1) Addestramento ticker BTG                           \n",
      " Epoch 1/5\n",
      "2093/2093 [==============================] - 67s 29ms/step - loss: 0.0709 - val_loss: 0.0177\n",
      "Epoch 2/5\n",
      "2093/2093 [==============================] - 59s 28ms/step - loss: 0.0300 - val_loss: 0.0261\n",
      "Epoch 3/5\n",
      "2093/2093 [==============================] - 61s 29ms/step - loss: 0.0283 - val_loss: 0.0250\n",
      "Epoch 4/5\n",
      "2093/2093 [==============================] - 59s 28ms/step - loss: 0.0270 - val_loss: 0.0204\n",
      "Epoch 5/5\n",
      "2093/2093 [==============================] - 61s 29ms/step - loss: 0.0258 - val_loss: 0.0172\n",
      "17/17 [==============================] - 2s 18ms/step - loss: 0.0172\n",
      "\u001b[42mLoss: 0.01722344011068344\u001b[0m\n",
      "fine addestramento\n"
     ]
    }
   ],
   "source": [
    "elenco_usin = pd.read_parquet(\"Tickers_De_Giro.parquet\")\n",
    "elenco_usin = elenco_usin.loc[elenco_usin[\"Ticker\"] == \"BTG\", [\"USIN\", \"Ticker\"]]\n",
    "elenco_usin = elenco_usin.sample(frac=1)\n",
    "tot_usin = len(elenco_usin)\n",
    "i = 1\n",
    "if os.path.exists(file_modello):\n",
    "    model = load_model(file_modello)\n",
    "    print(\"Modello esistente\")\n",
    "else:\n",
    "    model = 0\n",
    "    print(\"Nuovo modello\")\n",
    "for index, riga in elenco_usin.iterrows():       \n",
    "    print(f\"\\r{i} di {tot_usin}) Caricamento ticker {riga['Ticker']}                           \\n\", end=' ', flush=True)\n",
    "    ticker = yf.download(riga['USIN'], start='2005-01-01', end='2019-07-31', progress=False)\n",
    "    if len(ticker) < 500:\n",
    "        continue\n",
    "    else:\n",
    "        ticker = fx.crea_indicatori(ticker)\n",
    "        features, target = fx.features_e_target_regressione(ticker)\n",
    "        ticker[\"Target\"] = target\n",
    "        print(f\"\\r{i} di {tot_usin}) Addestramento ticker {riga['Ticker']}                           \\n\", end=' ', flush=True)\n",
    "        try:\n",
    "            model, X_scaler, Y_scaler = fx.addestramento_regressione(model, features=features, target=target, learning_rate=learning_rate, batch_size=batch_size, look_back=look_back) \n",
    "            model.save(file_modello)\n",
    "            dump(X_scaler, f'Scalers/{riga[\"Ticker\"]}_X_scaler.joblib') \n",
    "            dump(Y_scaler, f'Scalers/{riga[\"Ticker\"]}_Y_scaler.joblib') \n",
    "        except Exception as e:\n",
    "            print(e)\n",
    "            continue\n",
    "        i += 1\n",
    "\n",
    "print(\"fine addestramento\")"
   ]
  },
  {
   "cell_type": "code",
   "execution_count": null,
   "id": "23bd7e3f",
   "metadata": {},
   "outputs": [],
   "source": []
  }
 ],
 "metadata": {
  "kernelspec": {
   "display_name": "Python 3 (ipykernel)",
   "language": "python",
   "name": "python3"
  },
  "language_info": {
   "codemirror_mode": {
    "name": "ipython",
    "version": 3
   },
   "file_extension": ".py",
   "mimetype": "text/x-python",
   "name": "python",
   "nbconvert_exporter": "python",
   "pygments_lexer": "ipython3",
   "version": "3.11.3"
  }
 },
 "nbformat": 4,
 "nbformat_minor": 5
}
