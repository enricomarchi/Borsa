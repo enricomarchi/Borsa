{
 "cells": [
  {
   "cell_type": "code",
   "execution_count": 1,
   "id": "6d5ca138",
   "metadata": {},
   "outputs": [],
   "source": [
    "import pandas as pd\n",
    "import yfinance as yf\n",
    "import funzioni as fx\n",
    "import plotly.offline as pyo\n",
    "import numpy as np\n",
    "import numpy as np\n",
    "import os\n",
    "\n",
    "from tensorflow.keras.models import load_model\n",
    "\n",
    "pd.set_option(\"display.max_columns\", None)\n",
    "\n",
    "def visualizza_grafico(ticker):\n",
    "    import plotly.graph_objs as go\n",
    "    fig = fx.grafico_base(ticker)\n",
    "    tg = go.Scatter(\n",
    "        x = ticker[ticker['Target'] == True].index,\n",
    "        y = ticker[ticker['Target'] == True]['Close'],\n",
    "        mode = 'markers',\n",
    "        marker = dict(\n",
    "            size = 15,\n",
    "            color = 'rgba(0, 250, 0, .9)'\n",
    "        ),\n",
    "        name = 'target'\n",
    "    )\n",
    "    fig.add_trace(tg, row=1, col=1)\n",
    "    pyo.plot(fig, filename=\"prova.html\", auto_open=True)\n",
    "\n"
   ]
  },
  {
   "cell_type": "code",
   "execution_count": 2,
   "id": "5dc79228",
   "metadata": {},
   "outputs": [],
   "source": [
    "learning_rate = 0.0001\n",
    "batch_size = \"max\"\n",
    "look_back = 60\n",
    "file_modello = \"LSTM_singola.keras\""
   ]
  },
  {
   "cell_type": "code",
   "execution_count": 3,
   "id": "a278d9ec",
   "metadata": {
    "scrolled": false
   },
   "outputs": [
    {
     "name": "stdout",
     "output_type": "stream",
     "text": [
      "Modello esistente\n",
      "1 di 1) Caricamento ticker BTG                           \n",
      "1 di 1) Addestramento ticker BTG                           \n",
      " [ 0.52048528 12.7038835 ]\n",
      "Epoch 1/100\n",
      "1/1 [==============================] - 17s 17s/step - loss: 5.5862 - precision: 0.0000e+00 - recall: 0.0000e+00 - auc: 0.4871 - accuracy: 0.9470 - val_loss: 3.1759 - val_precision: 0.0000e+00 - val_recall: 0.0000e+00 - val_auc: 0.6731 - val_accuracy: 0.9389\n",
      "Epoch 2/100\n",
      "1/1 [==============================] - 7s 7s/step - loss: 5.3950 - precision: 0.0571 - recall: 0.0506 - auc: 0.5295 - accuracy: 0.9326 - val_loss: 3.1774 - val_precision: 0.1429 - val_recall: 0.1667 - val_auc: 0.6950 - val_accuracy: 0.9160\n",
      "Epoch 3/100\n",
      "1/1 [==============================] - 8s 8s/step - loss: 4.9623 - precision: 0.0896 - recall: 0.1519 - auc: 0.6395 - accuracy: 0.9097 - val_loss: 3.2217 - val_precision: 0.2174 - val_recall: 0.4167 - val_auc: 0.7665 - val_accuracy: 0.9046\n",
      "Epoch 4/100\n",
      "1/1 [==============================] - 8s 8s/step - loss: 4.7472 - precision: 0.1063 - recall: 0.2785 - auc: 0.6663 - accuracy: 0.8844 - val_loss: 3.2874 - val_precision: 0.2188 - val_recall: 0.5833 - val_auc: 0.8354 - val_accuracy: 0.8855\n",
      "Epoch 5/100\n",
      "1/1 [==============================] - 8s 8s/step - loss: 4.4801 - precision: 0.1132 - recall: 0.3797 - auc: 0.7047 - accuracy: 0.8643 - val_loss: 3.3661 - val_precision: 0.1818 - val_recall: 0.5833 - val_auc: 0.8430 - val_accuracy: 0.8607\n",
      "Epoch 6/100\n",
      "1/1 [==============================] - 8s 8s/step - loss: 4.1951 - precision: 0.1303 - recall: 0.5063 - auc: 0.7498 - accuracy: 0.8538 - val_loss: 3.4045 - val_precision: 0.1707 - val_recall: 0.5833 - val_auc: 0.8034 - val_accuracy: 0.8511\n",
      "Epoch 7/100\n",
      "1/1 [==============================] - 8s 8s/step - loss: 4.1850 - precision: 0.1291 - recall: 0.5443 - auc: 0.7157 - accuracy: 0.8442 - val_loss: 3.4200 - val_precision: 0.1954 - val_recall: 0.7083 - val_auc: 0.7651 - val_accuracy: 0.8531\n",
      "Epoch 8/100\n",
      "1/1 [==============================] - 8s 8s/step - loss: 4.0784 - precision: 0.1274 - recall: 0.5823 - auc: 0.7395 - accuracy: 0.8337 - val_loss: 3.4372 - val_precision: 0.1848 - val_recall: 0.7083 - val_auc: 0.7990 - val_accuracy: 0.8435\n",
      "Epoch 9/100\n",
      "1/1 [==============================] - 8s 8s/step - loss: 4.0233 - precision: 0.1230 - recall: 0.5949 - auc: 0.7790 - accuracy: 0.8247 - val_loss: 3.4553 - val_precision: 0.1771 - val_recall: 0.7083 - val_auc: 0.8391 - val_accuracy: 0.8359\n",
      "Epoch 10/100\n",
      "1/1 [==============================] - 8s 8s/step - loss: 4.0151 - precision: 0.1193 - recall: 0.5949 - auc: 0.7622 - accuracy: 0.8189 - val_loss: 3.4641 - val_precision: 0.1717 - val_recall: 0.7083 - val_auc: 0.8298 - val_accuracy: 0.8302\n",
      "Epoch 11/100\n",
      "1/1 [==============================] - 8s 8s/step - loss: 4.0221 - precision: 0.1160 - recall: 0.5949 - auc: 0.7397 - accuracy: 0.8137 - val_loss: 3.4651 - val_precision: 0.1700 - val_recall: 0.7083 - val_auc: 0.8560 - val_accuracy: 0.8282\n",
      "17/17 [==============================] - 2s 100ms/step - loss: 3.4651 - precision: 0.1700 - recall: 0.7083 - auc: 0.8560 - accuracy: 0.8282\n",
      "\u001b[42mLoss: 3.465108633041382, Precision: 0.17000000178813934, Recall: 0.7083333134651184, AUC: 0.8559583425521851, Accuracy: 0.8282442688941956\u001b[0m\n",
      "fine addestramento\n"
     ]
    }
   ],
   "source": [
    "elenco_usin = pd.read_parquet(\"Tickers_De_Giro.parquet\")\n",
    "elenco_usin = elenco_usin.loc[elenco_usin[\"Ticker\"] == \"BTG\", [\"USIN\", \"Ticker\"]]\n",
    "elenco_usin = elenco_usin.sample(frac=1)\n",
    "tot_usin = len(elenco_usin)\n",
    "i = 1\n",
    "if os.path.exists(file_modello):\n",
    "    model = load_model(file_modello)\n",
    "    print(\"Modello esistente\")\n",
    "else:\n",
    "    model = 0\n",
    "    print(\"Nuovo modello\")\n",
    "for index, riga in elenco_usin.iterrows():       \n",
    "    print(f\"\\r{i} di {tot_usin}) Caricamento ticker {riga['Ticker']}                           \\n\", end=' ', flush=True)\n",
    "    ticker = yf.download(riga['USIN'], start='2005-01-01', end='2019-07-31', progress=False)\n",
    "    if len(ticker) < 500:\n",
    "        continue\n",
    "    else:\n",
    "        ticker = fx.crea_indicatori(ticker)\n",
    "        features, target = fx.features_e_target(ticker)\n",
    "        ticker[\"Target\"] = target\n",
    "        print(f\"\\r{i} di {tot_usin}) Addestramento ticker {riga['Ticker']}                           \\n\", end=' ', flush=True)\n",
    "        try:\n",
    "            model = fx.addestramento(model, features=features, target=target, learning_rate=learning_rate, batch_size=batch_size, look_back=look_back) \n",
    "            model.save(file_modello)\n",
    "        except Exception as e:\n",
    "            print(e)\n",
    "            continue\n",
    "        i += 1\n",
    "\n",
    "print(\"fine addestramento\")"
   ]
  },
  {
   "cell_type": "code",
   "execution_count": null,
   "id": "d5925bad",
   "metadata": {},
   "outputs": [],
   "source": []
  }
 ],
 "metadata": {
  "kernelspec": {
   "display_name": "Python 3 (ipykernel)",
   "language": "python",
   "name": "python3"
  },
  "language_info": {
   "codemirror_mode": {
    "name": "ipython",
    "version": 3
   },
   "file_extension": ".py",
   "mimetype": "text/x-python",
   "name": "python",
   "nbconvert_exporter": "python",
   "pygments_lexer": "ipython3",
   "version": "3.11.3"
  }
 },
 "nbformat": 4,
 "nbformat_minor": 5
}
